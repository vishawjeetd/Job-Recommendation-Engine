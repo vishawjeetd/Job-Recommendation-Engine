{
 "cells": [
  {
   "cell_type": "code",
   "execution_count": null,
   "metadata": {
    "collapsed": true
   },
   "outputs": [],
   "source": [
    "\"\"\"\n",
    "Job Recommendation Engine\n",
    "\n",
    "Authors:\n",
    "Vishawjeet A. Deshmukh\n",
    "Ganesh Shinde\n",
    "\"\"\""
   ]
  },
  {
   "cell_type": "code",
   "execution_count": 1,
   "metadata": {
    "collapsed": false
   },
   "outputs": [
    {
     "name": "stdout",
     "output_type": "stream",
     "text": [
      "Data Loaded Successfully.\n"
     ]
    }
   ],
   "source": [
    "# Loading Data\n",
    "\n",
    "import pandas as pd\n",
    "\n",
    "users=pd.read_csv(filepath_or_buffer=\"Data/users.tsv\",sep=\"\\t\")\n",
    "user_history=pd.read_csv(filepath_or_buffer=\"Data/user_history.tsv\",sep=\"\\t\")\n",
    "jobs=pd.read_csv(filepath_or_buffer=\"Data/jobs.csv\",encoding = \"ISO-8859-1\",error_bad_lines=False)\n",
    "jobs_applied=pd.read_csv(filepath_or_buffer=\"Data/apps.tsv\",sep=\"\\t\")\n",
    "print(\"Data Loaded Successfully.\")"
   ]
  },
  {
   "cell_type": "code",
   "execution_count": 12,
   "metadata": {
    "collapsed": false
   },
   "outputs": [
    {
     "data": {
      "text/plain": [
       "Chicago         7675\n",
       "Houston         6013\n",
       "Indianapolis    4871\n",
       "Miami           4750\n",
       "Philadelphia    4710\n",
       "Charlotte       4108\n",
       "Orlando         3898\n",
       "Dallas          3898\n",
       "Phoenix         3647\n",
       "Kansas City     2947\n",
       "Name: City, dtype: int64"
      ]
     },
     "execution_count": 12,
     "metadata": {},
     "output_type": "execute_result"
    }
   ],
   "source": [
    "# Visualization \n",
    "\n",
    "top10_city=users.City.value_counts()[0:10]\n",
    "top10_city"
   ]
  },
  {
   "cell_type": "code",
   "execution_count": 48,
   "metadata": {
    "collapsed": false
   },
   "outputs": [
    {
     "data": {
      "image/png": "[encoded data removed]",
      "text/plain": [
       "<matplotlib.figure.Figure at 0x8b033bde10>"
      ]
     },
     "metadata": {},
     "output_type": "display_data"
    }
   ],
   "source": [
    "import matplotlib.pyplot as plt\n",
    "\n",
    "%matplotlib inline\n",
    "\n",
    "ax=users.DegreeType.value_counts().plot(kind=\"bar\")\n",
    "\n",
    "rects = ax.patches\n",
    "labels = users.DegreeType.value_counts()\n",
    "\n",
    "for rect, label in zip(rects, labels):\n",
    "    height = rect.get_height()\n",
    "    ax.text(rect.get_x() + rect.get_width()/2, height, label,ha='center', va='bottom')\n",
    "\n",
    "plt.show(ax)"
   ]
  },
  {
   "cell_type": "code",
   "execution_count": 4,
   "metadata": {
    "collapsed": false
   },
   "outputs": [
    {
     "name": "stdout",
     "output_type": "stream",
     "text": [
      "(389708, 15)\n"
     ]
    },
    {
     "data": {
      "text/html": [
       "<div>\n",
       "<table border=\"1\" class=\"dataframe\">\n",
       "  <thead>\n",
       "    <tr style=\"text-align: right;\">\n",
       "      <th></th>\n",
       "      <th>UserID</th>\n",
       "      <th>WindowID</th>\n",
       "      <th>Split</th>\n",
       "      <th>City</th>\n",
       "      <th>State</th>\n",
       "      <th>Country</th>\n",
       "      <th>ZipCode</th>\n",
       "      <th>DegreeType</th>\n",
       "      <th>Major</th>\n",
       "      <th>GraduationDate</th>\n",
       "      <th>WorkHistoryCount</th>\n",
       "      <th>TotalYearsExperience</th>\n",
       "      <th>CurrentlyEmployed</th>\n",
       "      <th>ManagedOthers</th>\n",
       "      <th>ManagedHowMany</th>\n",
       "    </tr>\n",
       "  </thead>\n",
       "  <tbody>\n",
       "    <tr>\n",
       "      <th>0</th>\n",
       "      <td>47</td>\n",
       "      <td>1</td>\n",
       "      <td>Train</td>\n",
       "      <td>Paramount</td>\n",
       "      <td>CA</td>\n",
       "      <td>US</td>\n",
       "      <td>90723</td>\n",
       "      <td>High School</td>\n",
       "      <td>NaN</td>\n",
       "      <td>1999-06-01 00:00:00</td>\n",
       "      <td>3</td>\n",
       "      <td>10.0</td>\n",
       "      <td>Yes</td>\n",
       "      <td>No</td>\n",
       "      <td>0</td>\n",
       "    </tr>\n",
       "    <tr>\n",
       "      <th>1</th>\n",
       "      <td>72</td>\n",
       "      <td>1</td>\n",
       "      <td>Train</td>\n",
       "      <td>La Mesa</td>\n",
       "      <td>CA</td>\n",
       "      <td>US</td>\n",
       "      <td>91941</td>\n",
       "      <td>Master's</td>\n",
       "      <td>Anthropology</td>\n",
       "      <td>2011-01-01 00:00:00</td>\n",
       "      <td>10</td>\n",
       "      <td>8.0</td>\n",
       "      <td>Yes</td>\n",
       "      <td>No</td>\n",
       "      <td>0</td>\n",
       "    </tr>\n",
       "    <tr>\n",
       "      <th>2</th>\n",
       "      <td>80</td>\n",
       "      <td>1</td>\n",
       "      <td>Train</td>\n",
       "      <td>Williamstown</td>\n",
       "      <td>NJ</td>\n",
       "      <td>US</td>\n",
       "      <td>08094</td>\n",
       "      <td>High School</td>\n",
       "      <td>Not Applicable</td>\n",
       "      <td>1985-06-01 00:00:00</td>\n",
       "      <td>5</td>\n",
       "      <td>11.0</td>\n",
       "      <td>Yes</td>\n",
       "      <td>Yes</td>\n",
       "      <td>5</td>\n",
       "    </tr>\n",
       "    <tr>\n",
       "      <th>3</th>\n",
       "      <td>98</td>\n",
       "      <td>1</td>\n",
       "      <td>Train</td>\n",
       "      <td>Astoria</td>\n",
       "      <td>NY</td>\n",
       "      <td>US</td>\n",
       "      <td>11105</td>\n",
       "      <td>Master's</td>\n",
       "      <td>Journalism</td>\n",
       "      <td>2007-05-01 00:00:00</td>\n",
       "      <td>3</td>\n",
       "      <td>3.0</td>\n",
       "      <td>Yes</td>\n",
       "      <td>No</td>\n",
       "      <td>0</td>\n",
       "    </tr>\n",
       "    <tr>\n",
       "      <th>4</th>\n",
       "      <td>123</td>\n",
       "      <td>1</td>\n",
       "      <td>Train</td>\n",
       "      <td>Baton Rouge</td>\n",
       "      <td>LA</td>\n",
       "      <td>US</td>\n",
       "      <td>70808</td>\n",
       "      <td>Bachelor's</td>\n",
       "      <td>Agricultural Business</td>\n",
       "      <td>2011-05-01 00:00:00</td>\n",
       "      <td>1</td>\n",
       "      <td>9.0</td>\n",
       "      <td>Yes</td>\n",
       "      <td>No</td>\n",
       "      <td>0</td>\n",
       "    </tr>\n",
       "  </tbody>\n",
       "</table>\n",
       "</div>"
      ],
      "text/plain": [
       "   UserID  WindowID  Split          City State Country ZipCode   DegreeType  \\\n",
       "0      47         1  Train     Paramount    CA      US   90723  High School   \n",
       "1      72         1  Train       La Mesa    CA      US   91941     Master's   \n",
       "2      80         1  Train  Williamstown    NJ      US   08094  High School   \n",
       "3      98         1  Train       Astoria    NY      US   11105     Master's   \n",
       "4     123         1  Train   Baton Rouge    LA      US   70808   Bachelor's   \n",
       "\n",
       "                   Major       GraduationDate  WorkHistoryCount  \\\n",
       "0                    NaN  1999-06-01 00:00:00                 3   \n",
       "1           Anthropology  2011-01-01 00:00:00                10   \n",
       "2         Not Applicable  1985-06-01 00:00:00                 5   \n",
       "3             Journalism  2007-05-01 00:00:00                 3   \n",
       "4  Agricultural Business  2011-05-01 00:00:00                 1   \n",
       "\n",
       "   TotalYearsExperience CurrentlyEmployed ManagedOthers  ManagedHowMany  \n",
       "0                  10.0               Yes            No               0  \n",
       "1                   8.0               Yes            No               0  \n",
       "2                  11.0               Yes           Yes               5  \n",
       "3                   3.0               Yes            No               0  \n",
       "4                   9.0               Yes            No               0  "
      ]
     },
     "execution_count": 4,
     "metadata": {},
     "output_type": "execute_result"
    }
   ],
   "source": [
    "print(users.shape)\n",
    "users.head()"
   ]
  },
  {
   "cell_type": "code",
   "execution_count": 84,
   "metadata": {
    "collapsed": false
   },
   "outputs": [
    {
     "name": "stdout",
     "output_type": "stream",
     "text": [
      "(1092096, 11)\n"
     ]
    },
    {
     "data": {
      "text/html": [
       "<div>\n",
       "<table border=\"1\" class=\"dataframe\">\n",
       "  <thead>\n",
       "    <tr style=\"text-align: right;\">\n",
       "      <th></th>\n",
       "      <th>JobID</th>\n",
       "      <th>WindowID</th>\n",
       "      <th>Title</th>\n",
       "      <th>Description</th>\n",
       "      <th>Requirements</th>\n",
       "      <th>City</th>\n",
       "      <th>State</th>\n",
       "      <th>Country</th>\n",
       "      <th>Zip5</th>\n",
       "      <th>StartDate</th>\n",
       "      <th>EndDate</th>\n",
       "    </tr>\n",
       "  </thead>\n",
       "  <tbody>\n",
       "    <tr>\n",
       "      <th>0</th>\n",
       "      <td>1</td>\n",
       "      <td>1</td>\n",
       "      <td>Security Engineer/Technical Lead</td>\n",
       "      <td>&lt;p&gt;Security Clearance Required:&amp;nbsp; Top Secr...</td>\n",
       "      <td>&lt;p&gt;SKILL SET&lt;/p&gt;\\r&lt;p&gt;&amp;nbsp;&lt;/p&gt;\\r&lt;p&gt;Network Se...</td>\n",
       "      <td>Washington</td>\n",
       "      <td>DC</td>\n",
       "      <td>US</td>\n",
       "      <td>20531</td>\n",
       "      <td>2012-03-07 13:17:01.643</td>\n",
       "      <td>2012-04-06 23:59:59</td>\n",
       "    </tr>\n",
       "    <tr>\n",
       "      <th>1</th>\n",
       "      <td>2</td>\n",
       "      <td>3</td>\n",
       "      <td>IT Analyst SME</td>\n",
       "      <td>&lt;span&gt;\\r&lt;p&gt;Security Clearance Required:Â</td>\n",
       "      <td>Develop and implement measures, controls, inpu...</td>\n",
       "      <td>Washington</td>\n",
       "      <td>DC</td>\n",
       "      <td>US</td>\n",
       "      <td></td>\n",
       "      <td>2012-03-29 21:11:23.42</td>\n",
       "      <td>2012-04-28 23:59:59</td>\n",
       "    </tr>\n",
       "    <tr>\n",
       "      <th>2</th>\n",
       "      <td>3</td>\n",
       "      <td>7</td>\n",
       "      <td>Proposal Manager</td>\n",
       "      <td>&lt;div&gt;\\r&lt;p&gt;&lt;span&gt;Security Clearance Required:  ...</td>\n",
       "      <td>&lt;p&gt;&lt;span&gt;&lt;strong&gt;&lt;span style=\"text-decoration:...</td>\n",
       "      <td>Fairfax</td>\n",
       "      <td>VA</td>\n",
       "      <td>US</td>\n",
       "      <td>22032</td>\n",
       "      <td>2012-05-28 11:55:33.827</td>\n",
       "      <td>2012-06-27 23:59:00</td>\n",
       "    </tr>\n",
       "    <tr>\n",
       "      <th>3</th>\n",
       "      <td>4</td>\n",
       "      <td>1</td>\n",
       "      <td>SAP Business Analyst / WM</td>\n",
       "      <td>&lt;strong&gt;NO Corp. to Corp resumes&amp;nbsp;are bein...</td>\n",
       "      <td>&lt;p&gt;&lt;b&gt;WHAT YOU NEED: &lt;/b&gt;&lt;/p&gt;\\r&lt;p&gt;Four year co...</td>\n",
       "      <td>Charlotte</td>\n",
       "      <td>NC</td>\n",
       "      <td>US</td>\n",
       "      <td>28217</td>\n",
       "      <td>2012-03-21 02:03:44.137</td>\n",
       "      <td>2012-04-20 23:59:59</td>\n",
       "    </tr>\n",
       "    <tr>\n",
       "      <th>4</th>\n",
       "      <td>5</td>\n",
       "      <td>3</td>\n",
       "      <td>Business Analyst / Business Process Owner</td>\n",
       "      <td>&lt;p&gt;&lt;b&gt;&lt;span&gt;Business Process Owner âHiring i...</td>\n",
       "      <td>&lt;p&gt;&lt;b&gt;&lt;span&gt;What you need:&lt;/span&gt;&lt;/b&gt; &lt;/p&gt;\\r&lt;u...</td>\n",
       "      <td>Columbia</td>\n",
       "      <td>SC</td>\n",
       "      <td>US</td>\n",
       "      <td>29210</td>\n",
       "      <td>2012-04-16 11:16:45.127</td>\n",
       "      <td>2012-05-15 23:59:59</td>\n",
       "    </tr>\n",
       "  </tbody>\n",
       "</table>\n",
       "</div>"
      ],
      "text/plain": [
       "   JobID  WindowID                                      Title  \\\n",
       "0      1         1           Security Engineer/Technical Lead   \n",
       "1      2         3                             IT Analyst SME   \n",
       "2      3         7                           Proposal Manager   \n",
       "3      4         1                  SAP Business Analyst / WM   \n",
       "4      5         3  Business Analyst / Business Process Owner   \n",
       "\n",
       "                                         Description  \\\n",
       "0  <p>Security Clearance Required:&nbsp; Top Secr...   \n",
       "1           <span>\\r<p>Security Clearance Required:Â   \n",
       "2  <div>\\r<p><span>Security Clearance Required:  ...   \n",
       "3  <strong>NO Corp. to Corp resumes&nbsp;are bein...   \n",
       "4  <p><b><span>Business Process Owner âHiring i...   \n",
       "\n",
       "                                        Requirements        City State  \\\n",
       "0  <p>SKILL SET</p>\\r<p>&nbsp;</p>\\r<p>Network Se...  Washington    DC   \n",
       "1  Develop and implement measures, controls, inpu...  Washington    DC   \n",
       "2  <p><span><strong><span style=\"text-decoration:...     Fairfax    VA   \n",
       "3  <p><b>WHAT YOU NEED: </b></p>\\r<p>Four year co...   Charlotte    NC   \n",
       "4  <p><b><span>What you need:</span></b> </p>\\r<u...    Columbia    SC   \n",
       "\n",
       "  Country   Zip5                StartDate              EndDate  \n",
       "0      US  20531  2012-03-07 13:17:01.643  2012-04-06 23:59:59  \n",
       "1      US          2012-03-29 21:11:23.42  2012-04-28 23:59:59  \n",
       "2      US  22032  2012-05-28 11:55:33.827  2012-06-27 23:59:00  \n",
       "3      US  28217  2012-03-21 02:03:44.137  2012-04-20 23:59:59  \n",
       "4      US  29210  2012-04-16 11:16:45.127  2012-05-15 23:59:59  "
      ]
     },
     "execution_count": 84,
     "metadata": {},
     "output_type": "execute_result"
    }
   ],
   "source": [
    "print(jobs.shape)\n",
    "jobs.head()"
   ]
  },
  {
   "cell_type": "code",
   "execution_count": 3,
   "metadata": {
    "collapsed": false
   },
   "outputs": [
    {
     "name": "stdout",
     "output_type": "stream",
     "text": [
      "(1603111, 5)\n"
     ]
    },
    {
     "data": {
      "text/html": [
       "<div>\n",
       "<table border=\"1\" class=\"dataframe\">\n",
       "  <thead>\n",
       "    <tr style=\"text-align: right;\">\n",
       "      <th></th>\n",
       "      <th>UserID</th>\n",
       "      <th>WindowID</th>\n",
       "      <th>Split</th>\n",
       "      <th>ApplicationDate</th>\n",
       "      <th>JobID</th>\n",
       "    </tr>\n",
       "  </thead>\n",
       "  <tbody>\n",
       "    <tr>\n",
       "      <th>0</th>\n",
       "      <td>47</td>\n",
       "      <td>1</td>\n",
       "      <td>Train</td>\n",
       "      <td>2012-04-04 15:56:23.537</td>\n",
       "      <td>169528</td>\n",
       "    </tr>\n",
       "    <tr>\n",
       "      <th>1</th>\n",
       "      <td>47</td>\n",
       "      <td>1</td>\n",
       "      <td>Train</td>\n",
       "      <td>2012-04-06 01:03:00.003</td>\n",
       "      <td>284009</td>\n",
       "    </tr>\n",
       "    <tr>\n",
       "      <th>2</th>\n",
       "      <td>47</td>\n",
       "      <td>1</td>\n",
       "      <td>Train</td>\n",
       "      <td>2012-04-05 02:40:27.753</td>\n",
       "      <td>2121</td>\n",
       "    </tr>\n",
       "    <tr>\n",
       "      <th>3</th>\n",
       "      <td>47</td>\n",
       "      <td>1</td>\n",
       "      <td>Train</td>\n",
       "      <td>2012-04-05 02:37:02.673</td>\n",
       "      <td>848187</td>\n",
       "    </tr>\n",
       "    <tr>\n",
       "      <th>4</th>\n",
       "      <td>47</td>\n",
       "      <td>1</td>\n",
       "      <td>Train</td>\n",
       "      <td>2012-04-05 22:44:06.653</td>\n",
       "      <td>733748</td>\n",
       "    </tr>\n",
       "  </tbody>\n",
       "</table>\n",
       "</div>"
      ],
      "text/plain": [
       "   UserID  WindowID  Split          ApplicationDate   JobID\n",
       "0      47         1  Train  2012-04-04 15:56:23.537  169528\n",
       "1      47         1  Train  2012-04-06 01:03:00.003  284009\n",
       "2      47         1  Train  2012-04-05 02:40:27.753    2121\n",
       "3      47         1  Train  2012-04-05 02:37:02.673  848187\n",
       "4      47         1  Train  2012-04-05 22:44:06.653  733748"
      ]
     },
     "execution_count": 3,
     "metadata": {},
     "output_type": "execute_result"
    }
   ],
   "source": [
    "print(jobs_applied.shape)\n",
    "jobs_applied.head()"
   ]
  },
  {
   "cell_type": "code",
   "execution_count": 71,
   "metadata": {
    "collapsed": false
   },
   "outputs": [
    {
     "name": "stdout",
     "output_type": "stream",
     "text": [
      "(1753901, 5)\n"
     ]
    },
    {
     "data": {
      "text/html": [
       "<div>\n",
       "<table border=\"1\" class=\"dataframe\">\n",
       "  <thead>\n",
       "    <tr style=\"text-align: right;\">\n",
       "      <th></th>\n",
       "      <th>UserID</th>\n",
       "      <th>WindowID</th>\n",
       "      <th>Split</th>\n",
       "      <th>Sequence</th>\n",
       "      <th>JobTitle</th>\n",
       "    </tr>\n",
       "  </thead>\n",
       "  <tbody>\n",
       "    <tr>\n",
       "      <th>0</th>\n",
       "      <td>47</td>\n",
       "      <td>1</td>\n",
       "      <td>Train</td>\n",
       "      <td>1</td>\n",
       "      <td>National Space Communication Programs-Special ...</td>\n",
       "    </tr>\n",
       "    <tr>\n",
       "      <th>1</th>\n",
       "      <td>47</td>\n",
       "      <td>1</td>\n",
       "      <td>Train</td>\n",
       "      <td>2</td>\n",
       "      <td>Detention Officer</td>\n",
       "    </tr>\n",
       "    <tr>\n",
       "      <th>2</th>\n",
       "      <td>47</td>\n",
       "      <td>1</td>\n",
       "      <td>Train</td>\n",
       "      <td>3</td>\n",
       "      <td>Passenger Screener, TSA</td>\n",
       "    </tr>\n",
       "    <tr>\n",
       "      <th>3</th>\n",
       "      <td>72</td>\n",
       "      <td>1</td>\n",
       "      <td>Train</td>\n",
       "      <td>1</td>\n",
       "      <td>Lecturer, Department of Anthropology</td>\n",
       "    </tr>\n",
       "    <tr>\n",
       "      <th>4</th>\n",
       "      <td>72</td>\n",
       "      <td>1</td>\n",
       "      <td>Train</td>\n",
       "      <td>2</td>\n",
       "      <td>Student Assistant</td>\n",
       "    </tr>\n",
       "  </tbody>\n",
       "</table>\n",
       "</div>"
      ],
      "text/plain": [
       "   UserID  WindowID  Split  Sequence  \\\n",
       "0      47         1  Train         1   \n",
       "1      47         1  Train         2   \n",
       "2      47         1  Train         3   \n",
       "3      72         1  Train         1   \n",
       "4      72         1  Train         2   \n",
       "\n",
       "                                            JobTitle  \n",
       "0  National Space Communication Programs-Special ...  \n",
       "1                                  Detention Officer  \n",
       "2                            Passenger Screener, TSA  \n",
       "3               Lecturer, Department of Anthropology  \n",
       "4                                  Student Assistant  "
      ]
     },
     "execution_count": 71,
     "metadata": {},
     "output_type": "execute_result"
    }
   ],
   "source": [
    "print(user_history.shape)\n",
    "user_history.head()"
   ]
  },
  {
   "cell_type": "code",
   "execution_count": 2,
   "metadata": {
    "collapsed": false
   },
   "outputs": [
    {
     "name": "stdout",
     "output_type": "stream",
     "text": [
      "('Train shape :', (961870, 5))\n",
      "('Test shape :', (641241, 5))\n"
     ]
    }
   ],
   "source": [
    "# Preparing Data set for Recommendations:\n",
    "# We are dividing data of applied jobs in test and train\n",
    "\n",
    "#from sklearn.cross_validation import train_test_split\n",
    "#train_jobs_applied,test_jobs_applied=train_test_split(jobs_applied,test_size = 0.4)\n",
    "\n",
    "jobs_applied=jobs_applied.sort_values(\"UserID\",ascending=1)\n",
    "train_jobs_applied=jobs_applied[0:961870]\n",
    "test_jobs_applied=jobs_applied[961870:]\n",
    "print(\"Train shape :\",train_jobs_applied.shape)\n",
    "print(\"Test shape :\",test_jobs_applied.shape)"
   ]
  },
  {
   "cell_type": "code",
   "execution_count": 3,
   "metadata": {
    "collapsed": false
   },
   "outputs": [
    {
     "name": "stdout",
     "output_type": "stream",
     "text": [
      "Done\n"
     ]
    }
   ],
   "source": [
    "#Converting data in numeric\n",
    "\n",
    "##Users\n",
    "for col in ['Split','City','State','Country','ZipCode','DegreeType','Major','WorkHistoryCount','TotalYearsExperience','CurrentlyEmployed','ManagedOthers','ManagedHowMany']:\n",
    "    users[col]=pd.Categorical(users[col])\n",
    "    users[col]=users[col].cat.codes\n",
    "\n",
    "users['GraduationDate']=pd.to_numeric(pd.to_datetime(users['GraduationDate']))\n",
    "\n",
    "###Users_history\n",
    "for col in ['Split','JobTitle']:\n",
    "    user_history[col]=pd.Categorical(user_history[col])\n",
    "    user_history[col]=user_history[col].cat.codes\n",
    "\n",
    "###Merging User History with User\n",
    "user_history_flt=user_history[user_history[\"Sequence\"]==1]\n",
    "users=pd.merge(users,user_history_flt[[\"UserID\",\"JobTitle\"]],on='UserID',how='left')\n",
    "\n",
    "###Jobs\n",
    "for col in ['Title','City','State','Country','Zip5','StartDate','EndDate']:\n",
    "    jobs[col]=pd.Categorical(jobs[col])\n",
    "    jobs[col]=jobs[col].cat.codes\n",
    "\n",
    "jobs['StartDate']=pd.to_numeric(pd.to_datetime(jobs['StartDate']))\n",
    "jobs['GraduationDate']=pd.to_numeric(pd.to_datetime(jobs['EndDate']))\n",
    "\n",
    "\n",
    "print(\"Done\")"
   ]
  },
  {
   "cell_type": "code",
   "execution_count": 4,
   "metadata": {
    "collapsed": false
   },
   "outputs": [
    {
     "name": "stdout",
     "output_type": "stream",
     "text": [
      "This non-commercial license of GraphLab Create for academic use is assigned to vishawjeet.bdapm02160252@spjain.org and will expire on June 03, 2018.\n"
     ]
    },
    {
     "name": "stderr",
     "output_type": "stream",
     "text": [
      "[INFO] graphlab.cython.cy_server: GraphLab Create v2.1 started. Logging: C:\\Users\\HP\\AppData\\Local\\Temp\\graphlab_server_1497100716.log.0\n"
     ]
    },
    {
     "name": "stdout",
     "output_type": "stream",
     "text": [
      "Done\n"
     ]
    }
   ],
   "source": [
    "# Since we’ll be using GraphLab, we have to convert dataframe into SFrames.\n",
    "import graphlab\n",
    "\n",
    "train_data=graphlab.SFrame(train_jobs_applied)\n",
    "test_data=graphlab.SFrame(test_jobs_applied)\n",
    "\n",
    "users_sframe=graphlab.SFrame(users)\n",
    "user_history_sframe=graphlab.SFrame(user_history)\n",
    "jobs_sframe=graphlab.SFrame(jobs[['JobID','WindowID','Title','City','State','Country','Zip5','StartDate','EndDate']])\n",
    "print(\"Done\")"
   ]
  },
  {
   "cell_type": "code",
   "execution_count": 5,
   "metadata": {
    "collapsed": false
   },
   "outputs": [
    {
     "data": {
      "text/html": [
       "<pre>Recsys training: model = item_similarity</pre>"
      ],
      "text/plain": [
       "Recsys training: model = item_similarity"
      ]
     },
     "metadata": {},
     "output_type": "display_data"
    },
    {
     "data": {
      "text/html": [
       "<pre>Warning: Ignoring columns WindowID, Split, ApplicationDate;</pre>"
      ],
      "text/plain": [
       "Warning: Ignoring columns WindowID, Split, ApplicationDate;"
      ]
     },
     "metadata": {},
     "output_type": "display_data"
    },
    {
     "data": {
      "text/html": [
       "<pre>    To use one of these as a target column, set target = <column_name></pre>"
      ],
      "text/plain": [
       "    To use one of these as a target column, set target = <column_name>"
      ]
     },
     "metadata": {},
     "output_type": "display_data"
    },
    {
     "data": {
      "text/html": [
       "<pre>    and use a method that allows the use of a target.</pre>"
      ],
      "text/plain": [
       "    and use a method that allows the use of a target."
      ]
     },
     "metadata": {},
     "output_type": "display_data"
    },
    {
     "data": {
      "text/html": [
       "<pre>Preparing data set.</pre>"
      ],
      "text/plain": [
       "Preparing data set."
      ]
     },
     "metadata": {},
     "output_type": "display_data"
    },
    {
     "data": {
      "text/html": [
       "<pre>    Data has 961870 observations with 1092096 users and 389708 items.</pre>"
      ],
      "text/plain": [
       "    Data has 961870 observations with 1092096 users and 389708 items."
      ]
     },
     "metadata": {},
     "output_type": "display_data"
    },
    {
     "data": {
      "text/html": [
       "<pre>    Data prepared in: 3.58343s</pre>"
      ],
      "text/plain": [
       "    Data prepared in: 3.58343s"
      ]
     },
     "metadata": {},
     "output_type": "display_data"
    },
    {
     "data": {
      "text/html": [
       "<pre>Training model from provided data.</pre>"
      ],
      "text/plain": [
       "Training model from provided data."
      ]
     },
     "metadata": {},
     "output_type": "display_data"
    },
    {
     "data": {
      "text/html": [
       "<pre>Gathering per-item and per-user statistics.</pre>"
      ],
      "text/plain": [
       "Gathering per-item and per-user statistics."
      ]
     },
     "metadata": {},
     "output_type": "display_data"
    },
    {
     "data": {
      "text/html": [
       "<pre>+--------------------------------+------------+</pre>"
      ],
      "text/plain": [
       "+--------------------------------+------------+"
      ]
     },
     "metadata": {},
     "output_type": "display_data"
    },
    {
     "data": {
      "text/html": [
       "<pre>| Elapsed Time (Item Statistics) | % Complete |</pre>"
      ],
      "text/plain": [
       "| Elapsed Time (Item Statistics) | % Complete |"
      ]
     },
     "metadata": {},
     "output_type": "display_data"
    },
    {
     "data": {
      "text/html": [
       "<pre>+--------------------------------+------------+</pre>"
      ],
      "text/plain": [
       "+--------------------------------+------------+"
      ]
     },
     "metadata": {},
     "output_type": "display_data"
    },
    {
     "data": {
      "text/html": [
       "<pre>| 84.499ms                       | 0.5        |</pre>"
      ],
      "text/plain": [
       "| 84.499ms                       | 0.5        |"
      ]
     },
     "metadata": {},
     "output_type": "display_data"
    },
    {
     "data": {
      "text/html": [
       "<pre>| 179.254ms                      | 100        |</pre>"
      ],
      "text/plain": [
       "| 179.254ms                      | 100        |"
      ]
     },
     "metadata": {},
     "output_type": "display_data"
    },
    {
     "data": {
      "text/html": [
       "<pre>+--------------------------------+------------+</pre>"
      ],
      "text/plain": [
       "+--------------------------------+------------+"
      ]
     },
     "metadata": {},
     "output_type": "display_data"
    },
    {
     "data": {
      "text/html": [
       "<pre>Setting up lookup tables.</pre>"
      ],
      "text/plain": [
       "Setting up lookup tables."
      ]
     },
     "metadata": {},
     "output_type": "display_data"
    },
    {
     "data": {
      "text/html": [
       "<pre>Processing data in one pass using sparse lookup tables.</pre>"
      ],
      "text/plain": [
       "Processing data in one pass using sparse lookup tables."
      ]
     },
     "metadata": {},
     "output_type": "display_data"
    },
    {
     "data": {
      "text/html": [
       "<pre>+-------------------------------------+------------------+-----------------+</pre>"
      ],
      "text/plain": [
       "+-------------------------------------+------------------+-----------------+"
      ]
     },
     "metadata": {},
     "output_type": "display_data"
    },
    {
     "data": {
      "text/html": [
       "<pre>| Elapsed Time (Constructing Lookups) | Total % Complete | Items Processed |</pre>"
      ],
      "text/plain": [
       "| Elapsed Time (Constructing Lookups) | Total % Complete | Items Processed |"
      ]
     },
     "metadata": {},
     "output_type": "display_data"
    },
    {
     "data": {
      "text/html": [
       "<pre>+-------------------------------------+------------------+-----------------+</pre>"
      ],
      "text/plain": [
       "+-------------------------------------+------------------+-----------------+"
      ]
     },
     "metadata": {},
     "output_type": "display_data"
    },
    {
     "data": {
      "text/html": [
       "<pre>| 3.72s                               | 10               | 39170           |</pre>"
      ],
      "text/plain": [
       "| 3.72s                               | 10               | 39170           |"
      ]
     },
     "metadata": {},
     "output_type": "display_data"
    },
    {
     "data": {
      "text/html": [
       "<pre>| 5.59s                               | 100              | 389708          |</pre>"
      ],
      "text/plain": [
       "| 5.59s                               | 100              | 389708          |"
      ]
     },
     "metadata": {},
     "output_type": "display_data"
    },
    {
     "data": {
      "text/html": [
       "<pre>+-------------------------------------+------------------+-----------------+</pre>"
      ],
      "text/plain": [
       "+-------------------------------------+------------------+-----------------+"
      ]
     },
     "metadata": {},
     "output_type": "display_data"
    },
    {
     "data": {
      "text/html": [
       "<pre>Finalizing lookup tables.</pre>"
      ],
      "text/plain": [
       "Finalizing lookup tables."
      ]
     },
     "metadata": {},
     "output_type": "display_data"
    },
    {
     "data": {
      "text/html": [
       "<pre>Generating candidate set for working with new users.</pre>"
      ],
      "text/plain": [
       "Generating candidate set for working with new users."
      ]
     },
     "metadata": {},
     "output_type": "display_data"
    },
    {
     "data": {
      "text/html": [
       "<pre>Finished training in 7.37406s</pre>"
      ],
      "text/plain": [
       "Finished training in 7.37406s"
      ]
     },
     "metadata": {},
     "output_type": "display_data"
    },
    {
     "name": "stdout",
     "output_type": "stream",
     "text": [
      "Done\n"
     ]
    }
   ],
   "source": [
    "#Training Model\n",
    "#item_sim_model=graphlab.item_similarity_recommender.create(train_data,user_id=\"UserID\",user_data=users_sframe,item_id=\"JobID\",item_data=jobs_sframe,similarity_type=\"jaccard\")\n",
    "item_sim_model=graphlab.item_similarity_recommender.create(train_data,user_id=\"JobID\",user_data=jobs_sframe,\n",
    "                                                           item_id=\"UserID\",item_data=users_sframe,similarity_type=\"jaccard\")\n",
    "print(\"Done\")"
   ]
  },
  {
   "cell_type": "code",
   "execution_count": 6,
   "metadata": {
    "collapsed": false,
    "scrolled": true
   },
   "outputs": [
    {
     "data": {
      "text/html": [
       "<pre>recommendations finished on 1000/1092096 queries. users per second: 1330.71</pre>"
      ],
      "text/plain": [
       "recommendations finished on 1000/1092096 queries. users per second: 1330.71"
      ]
     },
     "metadata": {},
     "output_type": "display_data"
    },
    {
     "data": {
      "text/html": [
       "<pre>recommendations finished on 2000/1092096 queries. users per second: 1443.6</pre>"
      ],
      "text/plain": [
       "recommendations finished on 2000/1092096 queries. users per second: 1443.6"
      ]
     },
     "metadata": {},
     "output_type": "display_data"
    },
    {
     "data": {
      "text/html": [
       "<pre>recommendations finished on 3000/1092096 queries. users per second: 1480.84</pre>"
      ],
      "text/plain": [
       "recommendations finished on 3000/1092096 queries. users per second: 1480.84"
      ]
     },
     "metadata": {},
     "output_type": "display_data"
    },
    {
     "data": {
      "text/html": [
       "<pre>recommendations finished on 4000/1092096 queries. users per second: 1498.5</pre>"
      ],
      "text/plain": [
       "recommendations finished on 4000/1092096 queries. users per second: 1498.5"
      ]
     },
     "metadata": {},
     "output_type": "display_data"
    },
    {
     "data": {
      "text/html": [
       "<pre>recommendations finished on 5000/1092096 queries. users per second: 1511.81</pre>"
      ],
      "text/plain": [
       "recommendations finished on 5000/1092096 queries. users per second: 1511.81"
      ]
     },
     "metadata": {},
     "output_type": "display_data"
    },
    {
     "data": {
      "text/html": [
       "<pre>recommendations finished on 6000/1092096 queries. users per second: 1522.36</pre>"
      ],
      "text/plain": [
       "recommendations finished on 6000/1092096 queries. users per second: 1522.36"
      ]
     },
     "metadata": {},
     "output_type": "display_data"
    },
    {
     "data": {
      "text/html": [
       "<pre>recommendations finished on 7000/1092096 queries. users per second: 1522.33</pre>"
      ],
      "text/plain": [
       "recommendations finished on 7000/1092096 queries. users per second: 1522.33"
      ]
     },
     "metadata": {},
     "output_type": "display_data"
    },
    {
     "data": {
      "text/html": [
       "<pre>recommendations finished on 8000/1092096 queries. users per second: 1525.07</pre>"
      ],
      "text/plain": [
       "recommendations finished on 8000/1092096 queries. users per second: 1525.07"
      ]
     },
     "metadata": {},
     "output_type": "display_data"
    },
    {
     "data": {
      "text/html": [
       "<pre>recommendations finished on 9000/1092096 queries. users per second: 1531.62</pre>"
      ],
      "text/plain": [
       "recommendations finished on 9000/1092096 queries. users per second: 1531.62"
      ]
     },
     "metadata": {},
     "output_type": "display_data"
    },
    {
     "data": {
      "text/html": [
       "<pre>recommendations finished on 10000/1092096 queries. users per second: 1532.31</pre>"
      ],
      "text/plain": [
       "recommendations finished on 10000/1092096 queries. users per second: 1532.31"
      ]
     },
     "metadata": {},
     "output_type": "display_data"
    },
    {
     "data": {
      "text/html": [
       "<pre>recommendations finished on 11000/1092096 queries. users per second: 1536.3</pre>"
      ],
      "text/plain": [
       "recommendations finished on 11000/1092096 queries. users per second: 1536.3"
      ]
     },
     "metadata": {},
     "output_type": "display_data"
    },
    {
     "data": {
      "text/html": [
       "<pre>recommendations finished on 12000/1092096 queries. users per second: 1534.82</pre>"
      ],
      "text/plain": [
       "recommendations finished on 12000/1092096 queries. users per second: 1534.82"
      ]
     },
     "metadata": {},
     "output_type": "display_data"
    },
    {
     "data": {
      "text/html": [
       "<pre>recommendations finished on 13000/1092096 queries. users per second: 1536.2</pre>"
      ],
      "text/plain": [
       "recommendations finished on 13000/1092096 queries. users per second: 1536.2"
      ]
     },
     "metadata": {},
     "output_type": "display_data"
    },
    {
     "data": {
      "text/html": [
       "<pre>recommendations finished on 14000/1092096 queries. users per second: 1539.66</pre>"
      ],
      "text/plain": [
       "recommendations finished on 14000/1092096 queries. users per second: 1539.66"
      ]
     },
     "metadata": {},
     "output_type": "display_data"
    },
    {
     "data": {
      "text/html": [
       "<pre>recommendations finished on 15000/1092096 queries. users per second: 1540.22</pre>"
      ],
      "text/plain": [
       "recommendations finished on 15000/1092096 queries. users per second: 1540.22"
      ]
     },
     "metadata": {},
     "output_type": "display_data"
    },
    {
     "data": {
      "text/html": [
       "<pre>recommendations finished on 16000/1092096 queries. users per second: 1543.16</pre>"
      ],
      "text/plain": [
       "recommendations finished on 16000/1092096 queries. users per second: 1543.16"
      ]
     },
     "metadata": {},
     "output_type": "display_data"
    },
    {
     "data": {
      "text/html": [
       "<pre>recommendations finished on 17000/1092096 queries. users per second: 1543.8</pre>"
      ],
      "text/plain": [
       "recommendations finished on 17000/1092096 queries. users per second: 1543.8"
      ]
     },
     "metadata": {},
     "output_type": "display_data"
    },
    {
     "data": {
      "text/html": [
       "<pre>recommendations finished on 18000/1092096 queries. users per second: 1544.77</pre>"
      ],
      "text/plain": [
       "recommendations finished on 18000/1092096 queries. users per second: 1544.77"
      ]
     },
     "metadata": {},
     "output_type": "display_data"
    },
    {
     "data": {
      "text/html": [
       "<pre>recommendations finished on 19000/1092096 queries. users per second: 1545.26</pre>"
      ],
      "text/plain": [
       "recommendations finished on 19000/1092096 queries. users per second: 1545.26"
      ]
     },
     "metadata": {},
     "output_type": "display_data"
    },
    {
     "data": {
      "text/html": [
       "<pre>recommendations finished on 20000/1092096 queries. users per second: 1547.07</pre>"
      ],
      "text/plain": [
       "recommendations finished on 20000/1092096 queries. users per second: 1547.07"
      ]
     },
     "metadata": {},
     "output_type": "display_data"
    },
    {
     "data": {
      "text/html": [
       "<pre>recommendations finished on 21000/1092096 queries. users per second: 1548.55</pre>"
      ],
      "text/plain": [
       "recommendations finished on 21000/1092096 queries. users per second: 1548.55"
      ]
     },
     "metadata": {},
     "output_type": "display_data"
    },
    {
     "data": {
      "text/html": [
       "<pre>recommendations finished on 22000/1092096 queries. users per second: 1547.76</pre>"
      ],
      "text/plain": [
       "recommendations finished on 22000/1092096 queries. users per second: 1547.76"
      ]
     },
     "metadata": {},
     "output_type": "display_data"
    },
    {
     "data": {
      "text/html": [
       "<pre>recommendations finished on 23000/1092096 queries. users per second: 1547.26</pre>"
      ],
      "text/plain": [
       "recommendations finished on 23000/1092096 queries. users per second: 1547.26"
      ]
     },
     "metadata": {},
     "output_type": "display_data"
    },
    {
     "data": {
      "text/html": [
       "<pre>recommendations finished on 24000/1092096 queries. users per second: 1546.89</pre>"
      ],
      "text/plain": [
       "recommendations finished on 24000/1092096 queries. users per second: 1546.89"
      ]
     },
     "metadata": {},
     "output_type": "display_data"
    },
    {
     "data": {
      "text/html": [
       "<pre>recommendations finished on 25000/1092096 queries. users per second: 1546.75</pre>"
      ],
      "text/plain": [
       "recommendations finished on 25000/1092096 queries. users per second: 1546.75"
      ]
     },
     "metadata": {},
     "output_type": "display_data"
    },
    {
     "data": {
      "text/html": [
       "<pre>recommendations finished on 26000/1092096 queries. users per second: 1546.52</pre>"
      ],
      "text/plain": [
       "recommendations finished on 26000/1092096 queries. users per second: 1546.52"
      ]
     },
     "metadata": {},
     "output_type": "display_data"
    },
    {
     "data": {
      "text/html": [
       "<pre>recommendations finished on 27000/1092096 queries. users per second: 1546.89</pre>"
      ],
      "text/plain": [
       "recommendations finished on 27000/1092096 queries. users per second: 1546.89"
      ]
     },
     "metadata": {},
     "output_type": "display_data"
    },
    {
     "data": {
      "text/html": [
       "<pre>recommendations finished on 28000/1092096 queries. users per second: 1546.85</pre>"
      ],
      "text/plain": [
       "recommendations finished on 28000/1092096 queries. users per second: 1546.85"
      ]
     },
     "metadata": {},
     "output_type": "display_data"
    },
    {
     "data": {
      "text/html": [
       "<pre>recommendations finished on 29000/1092096 queries. users per second: 1546.56</pre>"
      ],
      "text/plain": [
       "recommendations finished on 29000/1092096 queries. users per second: 1546.56"
      ]
     },
     "metadata": {},
     "output_type": "display_data"
    },
    {
     "data": {
      "text/html": [
       "<pre>recommendations finished on 30000/1092096 queries. users per second: 1546.37</pre>"
      ],
      "text/plain": [
       "recommendations finished on 30000/1092096 queries. users per second: 1546.37"
      ]
     },
     "metadata": {},
     "output_type": "display_data"
    },
    {
     "data": {
      "text/html": [
       "<pre>recommendations finished on 31000/1092096 queries. users per second: 1546</pre>"
      ],
      "text/plain": [
       "recommendations finished on 31000/1092096 queries. users per second: 1546"
      ]
     },
     "metadata": {},
     "output_type": "display_data"
    },
    {
     "data": {
      "text/html": [
       "<pre>recommendations finished on 32000/1092096 queries. users per second: 1546.55</pre>"
      ],
      "text/plain": [
       "recommendations finished on 32000/1092096 queries. users per second: 1546.55"
      ]
     },
     "metadata": {},
     "output_type": "display_data"
    },
    {
     "data": {
      "text/html": [
       "<pre>recommendations finished on 33000/1092096 queries. users per second: 1546.89</pre>"
      ],
      "text/plain": [
       "recommendations finished on 33000/1092096 queries. users per second: 1546.89"
      ]
     },
     "metadata": {},
     "output_type": "display_data"
    },
    {
     "data": {
      "text/html": [
       "<pre>recommendations finished on 34000/1092096 queries. users per second: 1546.75</pre>"
      ],
      "text/plain": [
       "recommendations finished on 34000/1092096 queries. users per second: 1546.75"
      ]
     },
     "metadata": {},
     "output_type": "display_data"
    },
    {
     "data": {
      "text/html": [
       "<pre>recommendations finished on 35000/1092096 queries. users per second: 1546.38</pre>"
      ],
      "text/plain": [
       "recommendations finished on 35000/1092096 queries. users per second: 1546.38"
      ]
     },
     "metadata": {},
     "output_type": "display_data"
    },
    {
     "data": {
      "text/html": [
       "<pre>recommendations finished on 36000/1092096 queries. users per second: 1546.82</pre>"
      ],
      "text/plain": [
       "recommendations finished on 36000/1092096 queries. users per second: 1546.82"
      ]
     },
     "metadata": {},
     "output_type": "display_data"
    },
    {
     "data": {
      "text/html": [
       "<pre>recommendations finished on 37000/1092096 queries. users per second: 1547.34</pre>"
      ],
      "text/plain": [
       "recommendations finished on 37000/1092096 queries. users per second: 1547.34"
      ]
     },
     "metadata": {},
     "output_type": "display_data"
    },
    {
     "data": {
      "text/html": [
       "<pre>recommendations finished on 38000/1092096 queries. users per second: 1546.42</pre>"
      ],
      "text/plain": [
       "recommendations finished on 38000/1092096 queries. users per second: 1546.42"
      ]
     },
     "metadata": {},
     "output_type": "display_data"
    },
    {
     "data": {
      "text/html": [
       "<pre>recommendations finished on 39000/1092096 queries. users per second: 1534.41</pre>"
      ],
      "text/plain": [
       "recommendations finished on 39000/1092096 queries. users per second: 1534.41"
      ]
     },
     "metadata": {},
     "output_type": "display_data"
    },
    {
     "data": {
      "text/html": [
       "<pre>recommendations finished on 40000/1092096 queries. users per second: 1521.54</pre>"
      ],
      "text/plain": [
       "recommendations finished on 40000/1092096 queries. users per second: 1521.54"
      ]
     },
     "metadata": {},
     "output_type": "display_data"
    },
    {
     "data": {
      "text/html": [
       "<pre>recommendations finished on 41000/1092096 queries. users per second: 1511.68</pre>"
      ],
      "text/plain": [
       "recommendations finished on 41000/1092096 queries. users per second: 1511.68"
      ]
     },
     "metadata": {},
     "output_type": "display_data"
    },
    {
     "data": {
      "text/html": [
       "<pre>recommendations finished on 42000/1092096 queries. users per second: 1504.42</pre>"
      ],
      "text/plain": [
       "recommendations finished on 42000/1092096 queries. users per second: 1504.42"
      ]
     },
     "metadata": {},
     "output_type": "display_data"
    },
    {
     "data": {
      "text/html": [
       "<pre>recommendations finished on 43000/1092096 queries. users per second: 1504.27</pre>"
      ],
      "text/plain": [
       "recommendations finished on 43000/1092096 queries. users per second: 1504.27"
      ]
     },
     "metadata": {},
     "output_type": "display_data"
    },
    {
     "data": {
      "text/html": [
       "<pre>recommendations finished on 44000/1092096 queries. users per second: 1503.03</pre>"
      ],
      "text/plain": [
       "recommendations finished on 44000/1092096 queries. users per second: 1503.03"
      ]
     },
     "metadata": {},
     "output_type": "display_data"
    },
    {
     "data": {
      "text/html": [
       "<pre>recommendations finished on 45000/1092096 queries. users per second: 1503.65</pre>"
      ],
      "text/plain": [
       "recommendations finished on 45000/1092096 queries. users per second: 1503.65"
      ]
     },
     "metadata": {},
     "output_type": "display_data"
    },
    {
     "data": {
      "text/html": [
       "<pre>recommendations finished on 46000/1092096 queries. users per second: 1504.88</pre>"
      ],
      "text/plain": [
       "recommendations finished on 46000/1092096 queries. users per second: 1504.88"
      ]
     },
     "metadata": {},
     "output_type": "display_data"
    },
    {
     "data": {
      "text/html": [
       "<pre>recommendations finished on 47000/1092096 queries. users per second: 1502.65</pre>"
      ],
      "text/plain": [
       "recommendations finished on 47000/1092096 queries. users per second: 1502.65"
      ]
     },
     "metadata": {},
     "output_type": "display_data"
    },
    {
     "data": {
      "text/html": [
       "<pre>recommendations finished on 48000/1092096 queries. users per second: 1495.78</pre>"
      ],
      "text/plain": [
       "recommendations finished on 48000/1092096 queries. users per second: 1495.78"
      ]
     },
     "metadata": {},
     "output_type": "display_data"
    },
    {
     "data": {
      "text/html": [
       "<pre>recommendations finished on 49000/1092096 queries. users per second: 1493.07</pre>"
      ],
      "text/plain": [
       "recommendations finished on 49000/1092096 queries. users per second: 1493.07"
      ]
     },
     "metadata": {},
     "output_type": "display_data"
    },
    {
     "data": {
      "text/html": [
       "<pre>recommendations finished on 50000/1092096 queries. users per second: 1491.63</pre>"
      ],
      "text/plain": [
       "recommendations finished on 50000/1092096 queries. users per second: 1491.63"
      ]
     },
     "metadata": {},
     "output_type": "display_data"
    },
    {
     "data": {
      "text/html": [
       "<pre>recommendations finished on 51000/1092096 queries. users per second: 1492.86</pre>"
      ],
      "text/plain": [
       "recommendations finished on 51000/1092096 queries. users per second: 1492.86"
      ]
     },
     "metadata": {},
     "output_type": "display_data"
    },
    {
     "data": {
      "text/html": [
       "<pre>recommendations finished on 52000/1092096 queries. users per second: 1493.3</pre>"
      ],
      "text/plain": [
       "recommendations finished on 52000/1092096 queries. users per second: 1493.3"
      ]
     },
     "metadata": {},
     "output_type": "display_data"
    },
    {
     "data": {
      "text/html": [
       "<pre>recommendations finished on 53000/1092096 queries. users per second: 1494.4</pre>"
      ],
      "text/plain": [
       "recommendations finished on 53000/1092096 queries. users per second: 1494.4"
      ]
     },
     "metadata": {},
     "output_type": "display_data"
    },
    {
     "data": {
      "text/html": [
       "<pre>recommendations finished on 54000/1092096 queries. users per second: 1493.58</pre>"
      ],
      "text/plain": [
       "recommendations finished on 54000/1092096 queries. users per second: 1493.58"
      ]
     },
     "metadata": {},
     "output_type": "display_data"
    },
    {
     "data": {
      "text/html": [
       "<pre>recommendations finished on 55000/1092096 queries. users per second: 1492.39</pre>"
      ],
      "text/plain": [
       "recommendations finished on 55000/1092096 queries. users per second: 1492.39"
      ]
     },
     "metadata": {},
     "output_type": "display_data"
    },
    {
     "data": {
      "text/html": [
       "<pre>recommendations finished on 56000/1092096 queries. users per second: 1491.42</pre>"
      ],
      "text/plain": [
       "recommendations finished on 56000/1092096 queries. users per second: 1491.42"
      ]
     },
     "metadata": {},
     "output_type": "display_data"
    },
    {
     "data": {
      "text/html": [
       "<pre>recommendations finished on 57000/1092096 queries. users per second: 1490.23</pre>"
      ],
      "text/plain": [
       "recommendations finished on 57000/1092096 queries. users per second: 1490.23"
      ]
     },
     "metadata": {},
     "output_type": "display_data"
    },
    {
     "data": {
      "text/html": [
       "<pre>recommendations finished on 58000/1092096 queries. users per second: 1488.89</pre>"
      ],
      "text/plain": [
       "recommendations finished on 58000/1092096 queries. users per second: 1488.89"
      ]
     },
     "metadata": {},
     "output_type": "display_data"
    },
    {
     "data": {
      "text/html": [
       "<pre>recommendations finished on 59000/1092096 queries. users per second: 1488.67</pre>"
      ],
      "text/plain": [
       "recommendations finished on 59000/1092096 queries. users per second: 1488.67"
      ]
     },
     "metadata": {},
     "output_type": "display_data"
    },
    {
     "data": {
      "text/html": [
       "<pre>recommendations finished on 60000/1092096 queries. users per second: 1489.5</pre>"
      ],
      "text/plain": [
       "recommendations finished on 60000/1092096 queries. users per second: 1489.5"
      ]
     },
     "metadata": {},
     "output_type": "display_data"
    },
    {
     "data": {
      "text/html": [
       "<pre>recommendations finished on 61000/1092096 queries. users per second: 1489.49</pre>"
      ],
      "text/plain": [
       "recommendations finished on 61000/1092096 queries. users per second: 1489.49"
      ]
     },
     "metadata": {},
     "output_type": "display_data"
    },
    {
     "data": {
      "text/html": [
       "<pre>recommendations finished on 62000/1092096 queries. users per second: 1490.49</pre>"
      ],
      "text/plain": [
       "recommendations finished on 62000/1092096 queries. users per second: 1490.49"
      ]
     },
     "metadata": {},
     "output_type": "display_data"
    },
    {
     "data": {
      "text/html": [
       "<pre>recommendations finished on 63000/1092096 queries. users per second: 1491.21</pre>"
      ],
      "text/plain": [
       "recommendations finished on 63000/1092096 queries. users per second: 1491.21"
      ]
     },
     "metadata": {},
     "output_type": "display_data"
    },
    {
     "data": {
      "text/html": [
       "<pre>recommendations finished on 64000/1092096 queries. users per second: 1490.64</pre>"
      ],
      "text/plain": [
       "recommendations finished on 64000/1092096 queries. users per second: 1490.64"
      ]
     },
     "metadata": {},
     "output_type": "display_data"
    },
    {
     "data": {
      "text/html": [
       "<pre>recommendations finished on 65000/1092096 queries. users per second: 1488.18</pre>"
      ],
      "text/plain": [
       "recommendations finished on 65000/1092096 queries. users per second: 1488.18"
      ]
     },
     "metadata": {},
     "output_type": "display_data"
    },
    {
     "data": {
      "text/html": [
       "<pre>recommendations finished on 66000/1092096 queries. users per second: 1483.89</pre>"
      ],
      "text/plain": [
       "recommendations finished on 66000/1092096 queries. users per second: 1483.89"
      ]
     },
     "metadata": {},
     "output_type": "display_data"
    },
    {
     "data": {
      "text/html": [
       "<pre>recommendations finished on 67000/1092096 queries. users per second: 1479.3</pre>"
      ],
      "text/plain": [
       "recommendations finished on 67000/1092096 queries. users per second: 1479.3"
      ]
     },
     "metadata": {},
     "output_type": "display_data"
    },
    {
     "data": {
      "text/html": [
       "<pre>recommendations finished on 68000/1092096 queries. users per second: 1471.44</pre>"
      ],
      "text/plain": [
       "recommendations finished on 68000/1092096 queries. users per second: 1471.44"
      ]
     },
     "metadata": {},
     "output_type": "display_data"
    },
    {
     "data": {
      "text/html": [
       "<pre>recommendations finished on 69000/1092096 queries. users per second: 1464.69</pre>"
      ],
      "text/plain": [
       "recommendations finished on 69000/1092096 queries. users per second: 1464.69"
      ]
     },
     "metadata": {},
     "output_type": "display_data"
    },
    {
     "data": {
      "text/html": [
       "<pre>recommendations finished on 70000/1092096 queries. users per second: 1459.82</pre>"
      ],
      "text/plain": [
       "recommendations finished on 70000/1092096 queries. users per second: 1459.82"
      ]
     },
     "metadata": {},
     "output_type": "display_data"
    },
    {
     "data": {
      "text/html": [
       "<pre>recommendations finished on 71000/1092096 queries. users per second: 1456.42</pre>"
      ],
      "text/plain": [
       "recommendations finished on 71000/1092096 queries. users per second: 1456.42"
      ]
     },
     "metadata": {},
     "output_type": "display_data"
    },
    {
     "data": {
      "text/html": [
       "<pre>recommendations finished on 72000/1092096 queries. users per second: 1454.56</pre>"
      ],
      "text/plain": [
       "recommendations finished on 72000/1092096 queries. users per second: 1454.56"
      ]
     },
     "metadata": {},
     "output_type": "display_data"
    },
    {
     "data": {
      "text/html": [
       "<pre>recommendations finished on 73000/1092096 queries. users per second: 1452.89</pre>"
      ],
      "text/plain": [
       "recommendations finished on 73000/1092096 queries. users per second: 1452.89"
      ]
     },
     "metadata": {},
     "output_type": "display_data"
    },
    {
     "data": {
      "text/html": [
       "<pre>recommendations finished on 74000/1092096 queries. users per second: 1451.39</pre>"
      ],
      "text/plain": [
       "recommendations finished on 74000/1092096 queries. users per second: 1451.39"
      ]
     },
     "metadata": {},
     "output_type": "display_data"
    },
    {
     "data": {
      "text/html": [
       "<pre>recommendations finished on 75000/1092096 queries. users per second: 1450.71</pre>"
      ],
      "text/plain": [
       "recommendations finished on 75000/1092096 queries. users per second: 1450.71"
      ]
     },
     "metadata": {},
     "output_type": "display_data"
    },
    {
     "data": {
      "text/html": [
       "<pre>recommendations finished on 76000/1092096 queries. users per second: 1447.69</pre>"
      ],
      "text/plain": [
       "recommendations finished on 76000/1092096 queries. users per second: 1447.69"
      ]
     },
     "metadata": {},
     "output_type": "display_data"
    },
    {
     "data": {
      "text/html": [
       "<pre>recommendations finished on 77000/1092096 queries. users per second: 1447.24</pre>"
      ],
      "text/plain": [
       "recommendations finished on 77000/1092096 queries. users per second: 1447.24"
      ]
     },
     "metadata": {},
     "output_type": "display_data"
    },
    {
     "data": {
      "text/html": [
       "<pre>recommendations finished on 78000/1092096 queries. users per second: 1445.63</pre>"
      ],
      "text/plain": [
       "recommendations finished on 78000/1092096 queries. users per second: 1445.63"
      ]
     },
     "metadata": {},
     "output_type": "display_data"
    },
    {
     "data": {
      "text/html": [
       "<pre>recommendations finished on 79000/1092096 queries. users per second: 1444.64</pre>"
      ],
      "text/plain": [
       "recommendations finished on 79000/1092096 queries. users per second: 1444.64"
      ]
     },
     "metadata": {},
     "output_type": "display_data"
    },
    {
     "data": {
      "text/html": [
       "<pre>recommendations finished on 80000/1092096 queries. users per second: 1444.9</pre>"
      ],
      "text/plain": [
       "recommendations finished on 80000/1092096 queries. users per second: 1444.9"
      ]
     },
     "metadata": {},
     "output_type": "display_data"
    },
    {
     "data": {
      "text/html": [
       "<pre>recommendations finished on 81000/1092096 queries. users per second: 1444</pre>"
      ],
      "text/plain": [
       "recommendations finished on 81000/1092096 queries. users per second: 1444"
      ]
     },
     "metadata": {},
     "output_type": "display_data"
    },
    {
     "data": {
      "text/html": [
       "<pre>recommendations finished on 82000/1092096 queries. users per second: 1443.64</pre>"
      ],
      "text/plain": [
       "recommendations finished on 82000/1092096 queries. users per second: 1443.64"
      ]
     },
     "metadata": {},
     "output_type": "display_data"
    },
    {
     "data": {
      "text/html": [
       "<pre>recommendations finished on 83000/1092096 queries. users per second: 1442.09</pre>"
      ],
      "text/plain": [
       "recommendations finished on 83000/1092096 queries. users per second: 1442.09"
      ]
     },
     "metadata": {},
     "output_type": "display_data"
    },
    {
     "data": {
      "text/html": [
       "<pre>recommendations finished on 84000/1092096 queries. users per second: 1441.67</pre>"
      ],
      "text/plain": [
       "recommendations finished on 84000/1092096 queries. users per second: 1441.67"
      ]
     },
     "metadata": {},
     "output_type": "display_data"
    },
    {
     "data": {
      "text/html": [
       "<pre>recommendations finished on 85000/1092096 queries. users per second: 1439.5</pre>"
      ],
      "text/plain": [
       "recommendations finished on 85000/1092096 queries. users per second: 1439.5"
      ]
     },
     "metadata": {},
     "output_type": "display_data"
    },
    {
     "data": {
      "text/html": [
       "<pre>recommendations finished on 86000/1092096 queries. users per second: 1436.6</pre>"
      ],
      "text/plain": [
       "recommendations finished on 86000/1092096 queries. users per second: 1436.6"
      ]
     },
     "metadata": {},
     "output_type": "display_data"
    },
    {
     "data": {
      "text/html": [
       "<pre>recommendations finished on 87000/1092096 queries. users per second: 1435.06</pre>"
      ],
      "text/plain": [
       "recommendations finished on 87000/1092096 queries. users per second: 1435.06"
      ]
     },
     "metadata": {},
     "output_type": "display_data"
    },
    {
     "data": {
      "text/html": [
       "<pre>recommendations finished on 88000/1092096 queries. users per second: 1433.69</pre>"
      ],
      "text/plain": [
       "recommendations finished on 88000/1092096 queries. users per second: 1433.69"
      ]
     },
     "metadata": {},
     "output_type": "display_data"
    },
    {
     "data": {
      "text/html": [
       "<pre>recommendations finished on 89000/1092096 queries. users per second: 1430.15</pre>"
      ],
      "text/plain": [
       "recommendations finished on 89000/1092096 queries. users per second: 1430.15"
      ]
     },
     "metadata": {},
     "output_type": "display_data"
    },
    {
     "data": {
      "text/html": [
       "<pre>recommendations finished on 90000/1092096 queries. users per second: 1428.36</pre>"
      ],
      "text/plain": [
       "recommendations finished on 90000/1092096 queries. users per second: 1428.36"
      ]
     },
     "metadata": {},
     "output_type": "display_data"
    },
    {
     "data": {
      "text/html": [
       "<pre>recommendations finished on 91000/1092096 queries. users per second: 1428.12</pre>"
      ],
      "text/plain": [
       "recommendations finished on 91000/1092096 queries. users per second: 1428.12"
      ]
     },
     "metadata": {},
     "output_type": "display_data"
    },
    {
     "data": {
      "text/html": [
       "<pre>recommendations finished on 92000/1092096 queries. users per second: 1425.95</pre>"
      ],
      "text/plain": [
       "recommendations finished on 92000/1092096 queries. users per second: 1425.95"
      ]
     },
     "metadata": {},
     "output_type": "display_data"
    },
    {
     "data": {
      "text/html": [
       "<pre>recommendations finished on 93000/1092096 queries. users per second: 1423.23</pre>"
      ],
      "text/plain": [
       "recommendations finished on 93000/1092096 queries. users per second: 1423.23"
      ]
     },
     "metadata": {},
     "output_type": "display_data"
    },
    {
     "data": {
      "text/html": [
       "<pre>recommendations finished on 94000/1092096 queries. users per second: 1422.61</pre>"
      ],
      "text/plain": [
       "recommendations finished on 94000/1092096 queries. users per second: 1422.61"
      ]
     },
     "metadata": {},
     "output_type": "display_data"
    },
    {
     "data": {
      "text/html": [
       "<pre>recommendations finished on 95000/1092096 queries. users per second: 1422.21</pre>"
      ],
      "text/plain": [
       "recommendations finished on 95000/1092096 queries. users per second: 1422.21"
      ]
     },
     "metadata": {},
     "output_type": "display_data"
    },
    {
     "data": {
      "text/html": [
       "<pre>recommendations finished on 96000/1092096 queries. users per second: 1421.01</pre>"
      ],
      "text/plain": [
       "recommendations finished on 96000/1092096 queries. users per second: 1421.01"
      ]
     },
     "metadata": {},
     "output_type": "display_data"
    },
    {
     "data": {
      "text/html": [
       "<pre>recommendations finished on 97000/1092096 queries. users per second: 1420.22</pre>"
      ],
      "text/plain": [
       "recommendations finished on 97000/1092096 queries. users per second: 1420.22"
      ]
     },
     "metadata": {},
     "output_type": "display_data"
    },
    {
     "data": {
      "text/html": [
       "<pre>recommendations finished on 98000/1092096 queries. users per second: 1419.16</pre>"
      ],
      "text/plain": [
       "recommendations finished on 98000/1092096 queries. users per second: 1419.16"
      ]
     },
     "metadata": {},
     "output_type": "display_data"
    },
    {
     "data": {
      "text/html": [
       "<pre>recommendations finished on 99000/1092096 queries. users per second: 1417.43</pre>"
      ],
      "text/plain": [
       "recommendations finished on 99000/1092096 queries. users per second: 1417.43"
      ]
     },
     "metadata": {},
     "output_type": "display_data"
    },
    {
     "data": {
      "text/html": [
       "<pre>recommendations finished on 100000/1092096 queries. users per second: 1414.35</pre>"
      ],
      "text/plain": [
       "recommendations finished on 100000/1092096 queries. users per second: 1414.35"
      ]
     },
     "metadata": {},
     "output_type": "display_data"
    },
    {
     "data": {
      "text/html": [
       "<pre>recommendations finished on 101000/1092096 queries. users per second: 1412.87</pre>"
      ],
      "text/plain": [
       "recommendations finished on 101000/1092096 queries. users per second: 1412.87"
      ]
     },
     "metadata": {},
     "output_type": "display_data"
    },
    {
     "data": {
      "text/html": [
       "<pre>recommendations finished on 102000/1092096 queries. users per second: 1412.93</pre>"
      ],
      "text/plain": [
       "recommendations finished on 102000/1092096 queries. users per second: 1412.93"
      ]
     },
     "metadata": {},
     "output_type": "display_data"
    },
    {
     "data": {
      "text/html": [
       "<pre>recommendations finished on 103000/1092096 queries. users per second: 1412.26</pre>"
      ],
      "text/plain": [
       "recommendations finished on 103000/1092096 queries. users per second: 1412.26"
      ]
     },
     "metadata": {},
     "output_type": "display_data"
    },
    {
     "data": {
      "text/html": [
       "<pre>recommendations finished on 104000/1092096 queries. users per second: 1411.29</pre>"
      ],
      "text/plain": [
       "recommendations finished on 104000/1092096 queries. users per second: 1411.29"
      ]
     },
     "metadata": {},
     "output_type": "display_data"
    },
    {
     "data": {
      "text/html": [
       "<pre>recommendations finished on 105000/1092096 queries. users per second: 1411.17</pre>"
      ],
      "text/plain": [
       "recommendations finished on 105000/1092096 queries. users per second: 1411.17"
      ]
     },
     "metadata": {},
     "output_type": "display_data"
    },
    {
     "data": {
      "text/html": [
       "<pre>recommendations finished on 106000/1092096 queries. users per second: 1410</pre>"
      ],
      "text/plain": [
       "recommendations finished on 106000/1092096 queries. users per second: 1410"
      ]
     },
     "metadata": {},
     "output_type": "display_data"
    },
    {
     "data": {
      "text/html": [
       "<pre>recommendations finished on 107000/1092096 queries. users per second: 1406.82</pre>"
      ],
      "text/plain": [
       "recommendations finished on 107000/1092096 queries. users per second: 1406.82"
      ]
     },
     "metadata": {},
     "output_type": "display_data"
    },
    {
     "data": {
      "text/html": [
       "<pre>recommendations finished on 108000/1092096 queries. users per second: 1405.06</pre>"
      ],
      "text/plain": [
       "recommendations finished on 108000/1092096 queries. users per second: 1405.06"
      ]
     },
     "metadata": {},
     "output_type": "display_data"
    },
    {
     "data": {
      "text/html": [
       "<pre>recommendations finished on 109000/1092096 queries. users per second: 1402.94</pre>"
      ],
      "text/plain": [
       "recommendations finished on 109000/1092096 queries. users per second: 1402.94"
      ]
     },
     "metadata": {},
     "output_type": "display_data"
    },
    {
     "data": {
      "text/html": [
       "<pre>recommendations finished on 110000/1092096 queries. users per second: 1401.41</pre>"
      ],
      "text/plain": [
       "recommendations finished on 110000/1092096 queries. users per second: 1401.41"
      ]
     },
     "metadata": {},
     "output_type": "display_data"
    },
    {
     "data": {
      "text/html": [
       "<pre>recommendations finished on 111000/1092096 queries. users per second: 1399.88</pre>"
      ],
      "text/plain": [
       "recommendations finished on 111000/1092096 queries. users per second: 1399.88"
      ]
     },
     "metadata": {},
     "output_type": "display_data"
    },
    {
     "data": {
      "text/html": [
       "<pre>recommendations finished on 112000/1092096 queries. users per second: 1398.59</pre>"
      ],
      "text/plain": [
       "recommendations finished on 112000/1092096 queries. users per second: 1398.59"
      ]
     },
     "metadata": {},
     "output_type": "display_data"
    },
    {
     "data": {
      "text/html": [
       "<pre>recommendations finished on 113000/1092096 queries. users per second: 1395.61</pre>"
      ],
      "text/plain": [
       "recommendations finished on 113000/1092096 queries. users per second: 1395.61"
      ]
     },
     "metadata": {},
     "output_type": "display_data"
    },
    {
     "data": {
      "text/html": [
       "<pre>recommendations finished on 114000/1092096 queries. users per second: 1393.73</pre>"
      ],
      "text/plain": [
       "recommendations finished on 114000/1092096 queries. users per second: 1393.73"
      ]
     },
     "metadata": {},
     "output_type": "display_data"
    },
    {
     "data": {
      "text/html": [
       "<pre>recommendations finished on 115000/1092096 queries. users per second: 1392.09</pre>"
      ],
      "text/plain": [
       "recommendations finished on 115000/1092096 queries. users per second: 1392.09"
      ]
     },
     "metadata": {},
     "output_type": "display_data"
    },
    {
     "data": {
      "text/html": [
       "<pre>recommendations finished on 116000/1092096 queries. users per second: 1390.44</pre>"
      ],
      "text/plain": [
       "recommendations finished on 116000/1092096 queries. users per second: 1390.44"
      ]
     },
     "metadata": {},
     "output_type": "display_data"
    },
    {
     "data": {
      "text/html": [
       "<pre>recommendations finished on 117000/1092096 queries. users per second: 1389.47</pre>"
      ],
      "text/plain": [
       "recommendations finished on 117000/1092096 queries. users per second: 1389.47"
      ]
     },
     "metadata": {},
     "output_type": "display_data"
    },
    {
     "data": {
      "text/html": [
       "<pre>recommendations finished on 118000/1092096 queries. users per second: 1388.07</pre>"
      ],
      "text/plain": [
       "recommendations finished on 118000/1092096 queries. users per second: 1388.07"
      ]
     },
     "metadata": {},
     "output_type": "display_data"
    },
    {
     "data": {
      "text/html": [
       "<pre>recommendations finished on 119000/1092096 queries. users per second: 1386.48</pre>"
      ],
      "text/plain": [
       "recommendations finished on 119000/1092096 queries. users per second: 1386.48"
      ]
     },
     "metadata": {},
     "output_type": "display_data"
    },
    {
     "data": {
      "text/html": [
       "<pre>recommendations finished on 120000/1092096 queries. users per second: 1384.8</pre>"
      ],
      "text/plain": [
       "recommendations finished on 120000/1092096 queries. users per second: 1384.8"
      ]
     },
     "metadata": {},
     "output_type": "display_data"
    },
    {
     "data": {
      "text/html": [
       "<pre>recommendations finished on 121000/1092096 queries. users per second: 1383.27</pre>"
      ],
      "text/plain": [
       "recommendations finished on 121000/1092096 queries. users per second: 1383.27"
      ]
     },
     "metadata": {},
     "output_type": "display_data"
    },
    {
     "data": {
      "text/html": [
       "<pre>recommendations finished on 122000/1092096 queries. users per second: 1381.82</pre>"
      ],
      "text/plain": [
       "recommendations finished on 122000/1092096 queries. users per second: 1381.82"
      ]
     },
     "metadata": {},
     "output_type": "display_data"
    },
    {
     "data": {
      "text/html": [
       "<pre>recommendations finished on 123000/1092096 queries. users per second: 1380.82</pre>"
      ],
      "text/plain": [
       "recommendations finished on 123000/1092096 queries. users per second: 1380.82"
      ]
     },
     "metadata": {},
     "output_type": "display_data"
    },
    {
     "data": {
      "text/html": [
       "<pre>recommendations finished on 124000/1092096 queries. users per second: 1379.66</pre>"
      ],
      "text/plain": [
       "recommendations finished on 124000/1092096 queries. users per second: 1379.66"
      ]
     },
     "metadata": {},
     "output_type": "display_data"
    },
    {
     "data": {
      "text/html": [
       "<pre>recommendations finished on 125000/1092096 queries. users per second: 1378.63</pre>"
      ],
      "text/plain": [
       "recommendations finished on 125000/1092096 queries. users per second: 1378.63"
      ]
     },
     "metadata": {},
     "output_type": "display_data"
    },
    {
     "data": {
      "text/html": [
       "<pre>recommendations finished on 126000/1092096 queries. users per second: 1377.58</pre>"
      ],
      "text/plain": [
       "recommendations finished on 126000/1092096 queries. users per second: 1377.58"
      ]
     },
     "metadata": {},
     "output_type": "display_data"
    },
    {
     "data": {
      "text/html": [
       "<pre>recommendations finished on 127000/1092096 queries. users per second: 1375.4</pre>"
      ],
      "text/plain": [
       "recommendations finished on 127000/1092096 queries. users per second: 1375.4"
      ]
     },
     "metadata": {},
     "output_type": "display_data"
    },
    {
     "data": {
      "text/html": [
       "<pre>recommendations finished on 128000/1092096 queries. users per second: 1375.05</pre>"
      ],
      "text/plain": [
       "recommendations finished on 128000/1092096 queries. users per second: 1375.05"
      ]
     },
     "metadata": {},
     "output_type": "display_data"
    },
    {
     "data": {
      "text/html": [
       "<pre>recommendations finished on 129000/1092096 queries. users per second: 1374.27</pre>"
      ],
      "text/plain": [
       "recommendations finished on 129000/1092096 queries. users per second: 1374.27"
      ]
     },
     "metadata": {},
     "output_type": "display_data"
    },
    {
     "data": {
      "text/html": [
       "<pre>recommendations finished on 130000/1092096 queries. users per second: 1374.18</pre>"
      ],
      "text/plain": [
       "recommendations finished on 130000/1092096 queries. users per second: 1374.18"
      ]
     },
     "metadata": {},
     "output_type": "display_data"
    },
    {
     "data": {
      "text/html": [
       "<pre>recommendations finished on 131000/1092096 queries. users per second: 1372.65</pre>"
      ],
      "text/plain": [
       "recommendations finished on 131000/1092096 queries. users per second: 1372.65"
      ]
     },
     "metadata": {},
     "output_type": "display_data"
    },
    {
     "data": {
      "text/html": [
       "<pre>recommendations finished on 132000/1092096 queries. users per second: 1372.09</pre>"
      ],
      "text/plain": [
       "recommendations finished on 132000/1092096 queries. users per second: 1372.09"
      ]
     },
     "metadata": {},
     "output_type": "display_data"
    },
    {
     "data": {
      "text/html": [
       "<pre>recommendations finished on 133000/1092096 queries. users per second: 1367.95</pre>"
      ],
      "text/plain": [
       "recommendations finished on 133000/1092096 queries. users per second: 1367.95"
      ]
     },
     "metadata": {},
     "output_type": "display_data"
    },
    {
     "data": {
      "text/html": [
       "<pre>recommendations finished on 134000/1092096 queries. users per second: 1364.18</pre>"
      ],
      "text/plain": [
       "recommendations finished on 134000/1092096 queries. users per second: 1364.18"
      ]
     },
     "metadata": {},
     "output_type": "display_data"
    },
    {
     "data": {
      "text/html": [
       "<pre>recommendations finished on 135000/1092096 queries. users per second: 1363.25</pre>"
      ],
      "text/plain": [
       "recommendations finished on 135000/1092096 queries. users per second: 1363.25"
      ]
     },
     "metadata": {},
     "output_type": "display_data"
    },
    {
     "data": {
      "text/html": [
       "<pre>recommendations finished on 136000/1092096 queries. users per second: 1359.5</pre>"
      ],
      "text/plain": [
       "recommendations finished on 136000/1092096 queries. users per second: 1359.5"
      ]
     },
     "metadata": {},
     "output_type": "display_data"
    },
    {
     "data": {
      "text/html": [
       "<pre>recommendations finished on 137000/1092096 queries. users per second: 1356.67</pre>"
      ],
      "text/plain": [
       "recommendations finished on 137000/1092096 queries. users per second: 1356.67"
      ]
     },
     "metadata": {},
     "output_type": "display_data"
    },
    {
     "data": {
      "text/html": [
       "<pre>recommendations finished on 138000/1092096 queries. users per second: 1354.1</pre>"
      ],
      "text/plain": [
       "recommendations finished on 138000/1092096 queries. users per second: 1354.1"
      ]
     },
     "metadata": {},
     "output_type": "display_data"
    },
    {
     "data": {
      "text/html": [
       "<pre>recommendations finished on 139000/1092096 queries. users per second: 1351.2</pre>"
      ],
      "text/plain": [
       "recommendations finished on 139000/1092096 queries. users per second: 1351.2"
      ]
     },
     "metadata": {},
     "output_type": "display_data"
    },
    {
     "data": {
      "text/html": [
       "<pre>recommendations finished on 140000/1092096 queries. users per second: 1351.57</pre>"
      ],
      "text/plain": [
       "recommendations finished on 140000/1092096 queries. users per second: 1351.57"
      ]
     },
     "metadata": {},
     "output_type": "display_data"
    },
    {
     "data": {
      "text/html": [
       "<pre>recommendations finished on 141000/1092096 queries. users per second: 1352.09</pre>"
      ],
      "text/plain": [
       "recommendations finished on 141000/1092096 queries. users per second: 1352.09"
      ]
     },
     "metadata": {},
     "output_type": "display_data"
    },
    {
     "data": {
      "text/html": [
       "<pre>recommendations finished on 142000/1092096 queries. users per second: 1352.59</pre>"
      ],
      "text/plain": [
       "recommendations finished on 142000/1092096 queries. users per second: 1352.59"
      ]
     },
     "metadata": {},
     "output_type": "display_data"
    },
    {
     "data": {
      "text/html": [
       "<pre>recommendations finished on 143000/1092096 queries. users per second: 1352.69</pre>"
      ],
      "text/plain": [
       "recommendations finished on 143000/1092096 queries. users per second: 1352.69"
      ]
     },
     "metadata": {},
     "output_type": "display_data"
    },
    {
     "data": {
      "text/html": [
       "<pre>recommendations finished on 144000/1092096 queries. users per second: 1353.14</pre>"
      ],
      "text/plain": [
       "recommendations finished on 144000/1092096 queries. users per second: 1353.14"
      ]
     },
     "metadata": {},
     "output_type": "display_data"
    },
    {
     "data": {
      "text/html": [
       "<pre>recommendations finished on 145000/1092096 queries. users per second: 1353.66</pre>"
      ],
      "text/plain": [
       "recommendations finished on 145000/1092096 queries. users per second: 1353.66"
      ]
     },
     "metadata": {},
     "output_type": "display_data"
    },
    {
     "data": {
      "text/html": [
       "<pre>recommendations finished on 146000/1092096 queries. users per second: 1354.27</pre>"
      ],
      "text/plain": [
       "recommendations finished on 146000/1092096 queries. users per second: 1354.27"
      ]
     },
     "metadata": {},
     "output_type": "display_data"
    },
    {
     "data": {
      "text/html": [
       "<pre>recommendations finished on 147000/1092096 queries. users per second: 1353.53</pre>"
      ],
      "text/plain": [
       "recommendations finished on 147000/1092096 queries. users per second: 1353.53"
      ]
     },
     "metadata": {},
     "output_type": "display_data"
    },
    {
     "data": {
      "text/html": [
       "<pre>recommendations finished on 148000/1092096 queries. users per second: 1352.84</pre>"
      ],
      "text/plain": [
       "recommendations finished on 148000/1092096 queries. users per second: 1352.84"
      ]
     },
     "metadata": {},
     "output_type": "display_data"
    },
    {
     "data": {
      "text/html": [
       "<pre>recommendations finished on 149000/1092096 queries. users per second: 1352.52</pre>"
      ],
      "text/plain": [
       "recommendations finished on 149000/1092096 queries. users per second: 1352.52"
      ]
     },
     "metadata": {},
     "output_type": "display_data"
    },
    {
     "data": {
      "text/html": [
       "<pre>recommendations finished on 150000/1092096 queries. users per second: 1352.31</pre>"
      ],
      "text/plain": [
       "recommendations finished on 150000/1092096 queries. users per second: 1352.31"
      ]
     },
     "metadata": {},
     "output_type": "display_data"
    },
    {
     "data": {
      "text/html": [
       "<pre>recommendations finished on 151000/1092096 queries. users per second: 1352.83</pre>"
      ],
      "text/plain": [
       "recommendations finished on 151000/1092096 queries. users per second: 1352.83"
      ]
     },
     "metadata": {},
     "output_type": "display_data"
    },
    {
     "data": {
      "text/html": [
       "<pre>recommendations finished on 152000/1092096 queries. users per second: 1352.27</pre>"
      ],
      "text/plain": [
       "recommendations finished on 152000/1092096 queries. users per second: 1352.27"
      ]
     },
     "metadata": {},
     "output_type": "display_data"
    },
    {
     "data": {
      "text/html": [
       "<pre>recommendations finished on 153000/1092096 queries. users per second: 1352.69</pre>"
      ],
      "text/plain": [
       "recommendations finished on 153000/1092096 queries. users per second: 1352.69"
      ]
     },
     "metadata": {},
     "output_type": "display_data"
    },
    {
     "data": {
      "text/html": [
       "<pre>recommendations finished on 154000/1092096 queries. users per second: 1353.36</pre>"
      ],
      "text/plain": [
       "recommendations finished on 154000/1092096 queries. users per second: 1353.36"
      ]
     },
     "metadata": {},
     "output_type": "display_data"
    },
    {
     "data": {
      "text/html": [
       "<pre>recommendations finished on 155000/1092096 queries. users per second: 1353.89</pre>"
      ],
      "text/plain": [
       "recommendations finished on 155000/1092096 queries. users per second: 1353.89"
      ]
     },
     "metadata": {},
     "output_type": "display_data"
    },
    {
     "data": {
      "text/html": [
       "<pre>recommendations finished on 156000/1092096 queries. users per second: 1354.55</pre>"
      ],
      "text/plain": [
       "recommendations finished on 156000/1092096 queries. users per second: 1354.55"
      ]
     },
     "metadata": {},
     "output_type": "display_data"
    },
    {
     "data": {
      "text/html": [
       "<pre>recommendations finished on 157000/1092096 queries. users per second: 1354.94</pre>"
      ],
      "text/plain": [
       "recommendations finished on 157000/1092096 queries. users per second: 1354.94"
      ]
     },
     "metadata": {},
     "output_type": "display_data"
    },
    {
     "data": {
      "text/html": [
       "<pre>recommendations finished on 158000/1092096 queries. users per second: 1355.46</pre>"
      ],
      "text/plain": [
       "recommendations finished on 158000/1092096 queries. users per second: 1355.46"
      ]
     },
     "metadata": {},
     "output_type": "display_data"
    },
    {
     "data": {
      "text/html": [
       "<pre>recommendations finished on 159000/1092096 queries. users per second: 1355.99</pre>"
      ],
      "text/plain": [
       "recommendations finished on 159000/1092096 queries. users per second: 1355.99"
      ]
     },
     "metadata": {},
     "output_type": "display_data"
    },
    {
     "data": {
      "text/html": [
       "<pre>recommendations finished on 160000/1092096 queries. users per second: 1356.48</pre>"
      ],
      "text/plain": [
       "recommendations finished on 160000/1092096 queries. users per second: 1356.48"
      ]
     },
     "metadata": {},
     "output_type": "display_data"
    },
    {
     "data": {
      "text/html": [
       "<pre>recommendations finished on 161000/1092096 queries. users per second: 1357.06</pre>"
      ],
      "text/plain": [
       "recommendations finished on 161000/1092096 queries. users per second: 1357.06"
      ]
     },
     "metadata": {},
     "output_type": "display_data"
    },
    {
     "data": {
      "text/html": [
       "<pre>recommendations finished on 162000/1092096 queries. users per second: 1357.55</pre>"
      ],
      "text/plain": [
       "recommendations finished on 162000/1092096 queries. users per second: 1357.55"
      ]
     },
     "metadata": {},
     "output_type": "display_data"
    },
    {
     "data": {
      "text/html": [
       "<pre>recommendations finished on 163000/1092096 queries. users per second: 1358.19</pre>"
      ],
      "text/plain": [
       "recommendations finished on 163000/1092096 queries. users per second: 1358.19"
      ]
     },
     "metadata": {},
     "output_type": "display_data"
    },
    {
     "data": {
      "text/html": [
       "<pre>recommendations finished on 164000/1092096 queries. users per second: 1358.81</pre>"
      ],
      "text/plain": [
       "recommendations finished on 164000/1092096 queries. users per second: 1358.81"
      ]
     },
     "metadata": {},
     "output_type": "display_data"
    },
    {
     "data": {
      "text/html": [
       "<pre>recommendations finished on 165000/1092096 queries. users per second: 1359.33</pre>"
      ],
      "text/plain": [
       "recommendations finished on 165000/1092096 queries. users per second: 1359.33"
      ]
     },
     "metadata": {},
     "output_type": "display_data"
    },
    {
     "data": {
      "text/html": [
       "<pre>recommendations finished on 166000/1092096 queries. users per second: 1359.98</pre>"
      ],
      "text/plain": [
       "recommendations finished on 166000/1092096 queries. users per second: 1359.98"
      ]
     },
     "metadata": {},
     "output_type": "display_data"
    },
    {
     "data": {
      "text/html": [
       "<pre>recommendations finished on 167000/1092096 queries. users per second: 1360.53</pre>"
      ],
      "text/plain": [
       "recommendations finished on 167000/1092096 queries. users per second: 1360.53"
      ]
     },
     "metadata": {},
     "output_type": "display_data"
    },
    {
     "data": {
      "text/html": [
       "<pre>recommendations finished on 168000/1092096 queries. users per second: 1361.14</pre>"
      ],
      "text/plain": [
       "recommendations finished on 168000/1092096 queries. users per second: 1361.14"
      ]
     },
     "metadata": {},
     "output_type": "display_data"
    },
    {
     "data": {
      "text/html": [
       "<pre>recommendations finished on 169000/1092096 queries. users per second: 1361.72</pre>"
      ],
      "text/plain": [
       "recommendations finished on 169000/1092096 queries. users per second: 1361.72"
      ]
     },
     "metadata": {},
     "output_type": "display_data"
    },
    {
     "data": {
      "text/html": [
       "<pre>recommendations finished on 170000/1092096 queries. users per second: 1362.22</pre>"
      ],
      "text/plain": [
       "recommendations finished on 170000/1092096 queries. users per second: 1362.22"
      ]
     },
     "metadata": {},
     "output_type": "display_data"
    },
    {
     "data": {
      "text/html": [
       "<pre>recommendations finished on 171000/1092096 queries. users per second: 1362.71</pre>"
      ],
      "text/plain": [
       "recommendations finished on 171000/1092096 queries. users per second: 1362.71"
      ]
     },
     "metadata": {},
     "output_type": "display_data"
    },
    {
     "data": {
      "text/html": [
       "<pre>recommendations finished on 172000/1092096 queries. users per second: 1363.23</pre>"
      ],
      "text/plain": [
       "recommendations finished on 172000/1092096 queries. users per second: 1363.23"
      ]
     },
     "metadata": {},
     "output_type": "display_data"
    },
    {
     "data": {
      "text/html": [
       "<pre>recommendations finished on 173000/1092096 queries. users per second: 1363.78</pre>"
      ],
      "text/plain": [
       "recommendations finished on 173000/1092096 queries. users per second: 1363.78"
      ]
     },
     "metadata": {},
     "output_type": "display_data"
    },
    {
     "data": {
      "text/html": [
       "<pre>recommendations finished on 174000/1092096 queries. users per second: 1364.01</pre>"
      ],
      "text/plain": [
       "recommendations finished on 174000/1092096 queries. users per second: 1364.01"
      ]
     },
     "metadata": {},
     "output_type": "display_data"
    },
    {
     "data": {
      "text/html": [
       "<pre>recommendations finished on 175000/1092096 queries. users per second: 1364.18</pre>"
      ],
      "text/plain": [
       "recommendations finished on 175000/1092096 queries. users per second: 1364.18"
      ]
     },
     "metadata": {},
     "output_type": "display_data"
    },
    {
     "data": {
      "text/html": [
       "<pre>recommendations finished on 176000/1092096 queries. users per second: 1364.3</pre>"
      ],
      "text/plain": [
       "recommendations finished on 176000/1092096 queries. users per second: 1364.3"
      ]
     },
     "metadata": {},
     "output_type": "display_data"
    },
    {
     "data": {
      "text/html": [
       "<pre>recommendations finished on 177000/1092096 queries. users per second: 1364.35</pre>"
      ],
      "text/plain": [
       "recommendations finished on 177000/1092096 queries. users per second: 1364.35"
      ]
     },
     "metadata": {},
     "output_type": "display_data"
    },
    {
     "data": {
      "text/html": [
       "<pre>recommendations finished on 178000/1092096 queries. users per second: 1364.66</pre>"
      ],
      "text/plain": [
       "recommendations finished on 178000/1092096 queries. users per second: 1364.66"
      ]
     },
     "metadata": {},
     "output_type": "display_data"
    },
    {
     "data": {
      "text/html": [
       "<pre>recommendations finished on 179000/1092096 queries. users per second: 1364.85</pre>"
      ],
      "text/plain": [
       "recommendations finished on 179000/1092096 queries. users per second: 1364.85"
      ]
     },
     "metadata": {},
     "output_type": "display_data"
    },
    {
     "data": {
      "text/html": [
       "<pre>recommendations finished on 180000/1092096 queries. users per second: 1364.92</pre>"
      ],
      "text/plain": [
       "recommendations finished on 180000/1092096 queries. users per second: 1364.92"
      ]
     },
     "metadata": {},
     "output_type": "display_data"
    },
    {
     "data": {
      "text/html": [
       "<pre>recommendations finished on 181000/1092096 queries. users per second: 1364.92</pre>"
      ],
      "text/plain": [
       "recommendations finished on 181000/1092096 queries. users per second: 1364.92"
      ]
     },
     "metadata": {},
     "output_type": "display_data"
    },
    {
     "data": {
      "text/html": [
       "<pre>recommendations finished on 182000/1092096 queries. users per second: 1365.04</pre>"
      ],
      "text/plain": [
       "recommendations finished on 182000/1092096 queries. users per second: 1365.04"
      ]
     },
     "metadata": {},
     "output_type": "display_data"
    },
    {
     "data": {
      "text/html": [
       "<pre>recommendations finished on 183000/1092096 queries. users per second: 1365.53</pre>"
      ],
      "text/plain": [
       "recommendations finished on 183000/1092096 queries. users per second: 1365.53"
      ]
     },
     "metadata": {},
     "output_type": "display_data"
    },
    {
     "data": {
      "text/html": [
       "<pre>recommendations finished on 184000/1092096 queries. users per second: 1366.09</pre>"
      ],
      "text/plain": [
       "recommendations finished on 184000/1092096 queries. users per second: 1366.09"
      ]
     },
     "metadata": {},
     "output_type": "display_data"
    },
    {
     "data": {
      "text/html": [
       "<pre>recommendations finished on 185000/1092096 queries. users per second: 1365.91</pre>"
      ],
      "text/plain": [
       "recommendations finished on 185000/1092096 queries. users per second: 1365.91"
      ]
     },
     "metadata": {},
     "output_type": "display_data"
    },
    {
     "data": {
      "text/html": [
       "<pre>recommendations finished on 186000/1092096 queries. users per second: 1364.9</pre>"
      ],
      "text/plain": [
       "recommendations finished on 186000/1092096 queries. users per second: 1364.9"
      ]
     },
     "metadata": {},
     "output_type": "display_data"
    },
    {
     "data": {
      "text/html": [
       "<pre>recommendations finished on 187000/1092096 queries. users per second: 1363.78</pre>"
      ],
      "text/plain": [
       "recommendations finished on 187000/1092096 queries. users per second: 1363.78"
      ]
     },
     "metadata": {},
     "output_type": "display_data"
    },
    {
     "data": {
      "text/html": [
       "<pre>recommendations finished on 188000/1092096 queries. users per second: 1362.7</pre>"
      ],
      "text/plain": [
       "recommendations finished on 188000/1092096 queries. users per second: 1362.7"
      ]
     },
     "metadata": {},
     "output_type": "display_data"
    },
    {
     "data": {
      "text/html": [
       "<pre>recommendations finished on 189000/1092096 queries. users per second: 1363.07</pre>"
      ],
      "text/plain": [
       "recommendations finished on 189000/1092096 queries. users per second: 1363.07"
      ]
     },
     "metadata": {},
     "output_type": "display_data"
    },
    {
     "data": {
      "text/html": [
       "<pre>recommendations finished on 190000/1092096 queries. users per second: 1363.11</pre>"
      ],
      "text/plain": [
       "recommendations finished on 190000/1092096 queries. users per second: 1363.11"
      ]
     },
     "metadata": {},
     "output_type": "display_data"
    },
    {
     "data": {
      "text/html": [
       "<pre>recommendations finished on 191000/1092096 queries. users per second: 1363.41</pre>"
      ],
      "text/plain": [
       "recommendations finished on 191000/1092096 queries. users per second: 1363.41"
      ]
     },
     "metadata": {},
     "output_type": "display_data"
    },
    {
     "data": {
      "text/html": [
       "<pre>recommendations finished on 192000/1092096 queries. users per second: 1363.65</pre>"
      ],
      "text/plain": [
       "recommendations finished on 192000/1092096 queries. users per second: 1363.65"
      ]
     },
     "metadata": {},
     "output_type": "display_data"
    },
    {
     "data": {
      "text/html": [
       "<pre>recommendations finished on 193000/1092096 queries. users per second: 1364</pre>"
      ],
      "text/plain": [
       "recommendations finished on 193000/1092096 queries. users per second: 1364"
      ]
     },
     "metadata": {},
     "output_type": "display_data"
    },
    {
     "data": {
      "text/html": [
       "<pre>recommendations finished on 194000/1092096 queries. users per second: 1364.3</pre>"
      ],
      "text/plain": [
       "recommendations finished on 194000/1092096 queries. users per second: 1364.3"
      ]
     },
     "metadata": {},
     "output_type": "display_data"
    },
    {
     "data": {
      "text/html": [
       "<pre>recommendations finished on 195000/1092096 queries. users per second: 1363.9</pre>"
      ],
      "text/plain": [
       "recommendations finished on 195000/1092096 queries. users per second: 1363.9"
      ]
     },
     "metadata": {},
     "output_type": "display_data"
    },
    {
     "data": {
      "text/html": [
       "<pre>recommendations finished on 196000/1092096 queries. users per second: 1364.18</pre>"
      ],
      "text/plain": [
       "recommendations finished on 196000/1092096 queries. users per second: 1364.18"
      ]
     },
     "metadata": {},
     "output_type": "display_data"
    },
    {
     "data": {
      "text/html": [
       "<pre>recommendations finished on 197000/1092096 queries. users per second: 1364.25</pre>"
      ],
      "text/plain": [
       "recommendations finished on 197000/1092096 queries. users per second: 1364.25"
      ]
     },
     "metadata": {},
     "output_type": "display_data"
    },
    {
     "data": {
      "text/html": [
       "<pre>recommendations finished on 198000/1092096 queries. users per second: 1364.39</pre>"
      ],
      "text/plain": [
       "recommendations finished on 198000/1092096 queries. users per second: 1364.39"
      ]
     },
     "metadata": {},
     "output_type": "display_data"
    },
    {
     "data": {
      "text/html": [
       "<pre>recommendations finished on 199000/1092096 queries. users per second: 1364.67</pre>"
      ],
      "text/plain": [
       "recommendations finished on 199000/1092096 queries. users per second: 1364.67"
      ]
     },
     "metadata": {},
     "output_type": "display_data"
    },
    {
     "data": {
      "text/html": [
       "<pre>recommendations finished on 200000/1092096 queries. users per second: 1364.94</pre>"
      ],
      "text/plain": [
       "recommendations finished on 200000/1092096 queries. users per second: 1364.94"
      ]
     },
     "metadata": {},
     "output_type": "display_data"
    },
    {
     "data": {
      "text/html": [
       "<pre>recommendations finished on 201000/1092096 queries. users per second: 1365.32</pre>"
      ],
      "text/plain": [
       "recommendations finished on 201000/1092096 queries. users per second: 1365.32"
      ]
     },
     "metadata": {},
     "output_type": "display_data"
    },
    {
     "data": {
      "text/html": [
       "<pre>recommendations finished on 202000/1092096 queries. users per second: 1365.64</pre>"
      ],
      "text/plain": [
       "recommendations finished on 202000/1092096 queries. users per second: 1365.64"
      ]
     },
     "metadata": {},
     "output_type": "display_data"
    },
    {
     "data": {
      "text/html": [
       "<pre>recommendations finished on 203000/1092096 queries. users per second: 1365.7</pre>"
      ],
      "text/plain": [
       "recommendations finished on 203000/1092096 queries. users per second: 1365.7"
      ]
     },
     "metadata": {},
     "output_type": "display_data"
    },
    {
     "data": {
      "text/html": [
       "<pre>recommendations finished on 204000/1092096 queries. users per second: 1366.01</pre>"
      ],
      "text/plain": [
       "recommendations finished on 204000/1092096 queries. users per second: 1366.01"
      ]
     },
     "metadata": {},
     "output_type": "display_data"
    },
    {
     "data": {
      "text/html": [
       "<pre>recommendations finished on 205000/1092096 queries. users per second: 1366.05</pre>"
      ],
      "text/plain": [
       "recommendations finished on 205000/1092096 queries. users per second: 1366.05"
      ]
     },
     "metadata": {},
     "output_type": "display_data"
    },
    {
     "data": {
      "text/html": [
       "<pre>recommendations finished on 206000/1092096 queries. users per second: 1366</pre>"
      ],
      "text/plain": [
       "recommendations finished on 206000/1092096 queries. users per second: 1366"
      ]
     },
     "metadata": {},
     "output_type": "display_data"
    },
    {
     "data": {
      "text/html": [
       "<pre>recommendations finished on 207000/1092096 queries. users per second: 1366.32</pre>"
      ],
      "text/plain": [
       "recommendations finished on 207000/1092096 queries. users per second: 1366.32"
      ]
     },
     "metadata": {},
     "output_type": "display_data"
    },
    {
     "data": {
      "text/html": [
       "<pre>recommendations finished on 208000/1092096 queries. users per second: 1366.2</pre>"
      ],
      "text/plain": [
       "recommendations finished on 208000/1092096 queries. users per second: 1366.2"
      ]
     },
     "metadata": {},
     "output_type": "display_data"
    },
    {
     "data": {
      "text/html": [
       "<pre>recommendations finished on 209000/1092096 queries. users per second: 1366.33</pre>"
      ],
      "text/plain": [
       "recommendations finished on 209000/1092096 queries. users per second: 1366.33"
      ]
     },
     "metadata": {},
     "output_type": "display_data"
    },
    {
     "data": {
      "text/html": [
       "<pre>recommendations finished on 210000/1092096 queries. users per second: 1366.08</pre>"
      ],
      "text/plain": [
       "recommendations finished on 210000/1092096 queries. users per second: 1366.08"
      ]
     },
     "metadata": {},
     "output_type": "display_data"
    },
    {
     "data": {
      "text/html": [
       "<pre>recommendations finished on 211000/1092096 queries. users per second: 1366.31</pre>"
      ],
      "text/plain": [
       "recommendations finished on 211000/1092096 queries. users per second: 1366.31"
      ]
     },
     "metadata": {},
     "output_type": "display_data"
    },
    {
     "data": {
      "text/html": [
       "<pre>recommendations finished on 212000/1092096 queries. users per second: 1366.68</pre>"
      ],
      "text/plain": [
       "recommendations finished on 212000/1092096 queries. users per second: 1366.68"
      ]
     },
     "metadata": {},
     "output_type": "display_data"
    },
    {
     "data": {
      "text/html": [
       "<pre>recommendations finished on 213000/1092096 queries. users per second: 1367.21</pre>"
      ],
      "text/plain": [
       "recommendations finished on 213000/1092096 queries. users per second: 1367.21"
      ]
     },
     "metadata": {},
     "output_type": "display_data"
    },
    {
     "data": {
      "text/html": [
       "<pre>recommendations finished on 214000/1092096 queries. users per second: 1367.69</pre>"
      ],
      "text/plain": [
       "recommendations finished on 214000/1092096 queries. users per second: 1367.69"
      ]
     },
     "metadata": {},
     "output_type": "display_data"
    },
    {
     "data": {
      "text/html": [
       "<pre>recommendations finished on 215000/1092096 queries. users per second: 1367.84</pre>"
      ],
      "text/plain": [
       "recommendations finished on 215000/1092096 queries. users per second: 1367.84"
      ]
     },
     "metadata": {},
     "output_type": "display_data"
    },
    {
     "data": {
      "text/html": [
       "<pre>recommendations finished on 216000/1092096 queries. users per second: 1367.98</pre>"
      ],
      "text/plain": [
       "recommendations finished on 216000/1092096 queries. users per second: 1367.98"
      ]
     },
     "metadata": {},
     "output_type": "display_data"
    },
    {
     "data": {
      "text/html": [
       "<pre>recommendations finished on 217000/1092096 queries. users per second: 1367.8</pre>"
      ],
      "text/plain": [
       "recommendations finished on 217000/1092096 queries. users per second: 1367.8"
      ]
     },
     "metadata": {},
     "output_type": "display_data"
    },
    {
     "data": {
      "text/html": [
       "<pre>recommendations finished on 218000/1092096 queries. users per second: 1366.7</pre>"
      ],
      "text/plain": [
       "recommendations finished on 218000/1092096 queries. users per second: 1366.7"
      ]
     },
     "metadata": {},
     "output_type": "display_data"
    },
    {
     "data": {
      "text/html": [
       "<pre>recommendations finished on 219000/1092096 queries. users per second: 1365.64</pre>"
      ],
      "text/plain": [
       "recommendations finished on 219000/1092096 queries. users per second: 1365.64"
      ]
     },
     "metadata": {},
     "output_type": "display_data"
    },
    {
     "data": {
      "text/html": [
       "<pre>recommendations finished on 220000/1092096 queries. users per second: 1364.59</pre>"
      ],
      "text/plain": [
       "recommendations finished on 220000/1092096 queries. users per second: 1364.59"
      ]
     },
     "metadata": {},
     "output_type": "display_data"
    },
    {
     "data": {
      "text/html": [
       "<pre>recommendations finished on 221000/1092096 queries. users per second: 1363.67</pre>"
      ],
      "text/plain": [
       "recommendations finished on 221000/1092096 queries. users per second: 1363.67"
      ]
     },
     "metadata": {},
     "output_type": "display_data"
    },
    {
     "data": {
      "text/html": [
       "<pre>recommendations finished on 222000/1092096 queries. users per second: 1362.52</pre>"
      ],
      "text/plain": [
       "recommendations finished on 222000/1092096 queries. users per second: 1362.52"
      ]
     },
     "metadata": {},
     "output_type": "display_data"
    },
    {
     "data": {
      "text/html": [
       "<pre>recommendations finished on 223000/1092096 queries. users per second: 1360.37</pre>"
      ],
      "text/plain": [
       "recommendations finished on 223000/1092096 queries. users per second: 1360.37"
      ]
     },
     "metadata": {},
     "output_type": "display_data"
    },
    {
     "data": {
      "text/html": [
       "<pre>recommendations finished on 224000/1092096 queries. users per second: 1360.05</pre>"
      ],
      "text/plain": [
       "recommendations finished on 224000/1092096 queries. users per second: 1360.05"
      ]
     },
     "metadata": {},
     "output_type": "display_data"
    },
    {
     "data": {
      "text/html": [
       "<pre>recommendations finished on 225000/1092096 queries. users per second: 1360.22</pre>"
      ],
      "text/plain": [
       "recommendations finished on 225000/1092096 queries. users per second: 1360.22"
      ]
     },
     "metadata": {},
     "output_type": "display_data"
    },
    {
     "data": {
      "text/html": [
       "<pre>recommendations finished on 226000/1092096 queries. users per second: 1360.36</pre>"
      ],
      "text/plain": [
       "recommendations finished on 226000/1092096 queries. users per second: 1360.36"
      ]
     },
     "metadata": {},
     "output_type": "display_data"
    },
    {
     "data": {
      "text/html": [
       "<pre>recommendations finished on 227000/1092096 queries. users per second: 1359.17</pre>"
      ],
      "text/plain": [
       "recommendations finished on 227000/1092096 queries. users per second: 1359.17"
      ]
     },
     "metadata": {},
     "output_type": "display_data"
    },
    {
     "data": {
      "text/html": [
       "<pre>recommendations finished on 228000/1092096 queries. users per second: 1359.29</pre>"
      ],
      "text/plain": [
       "recommendations finished on 228000/1092096 queries. users per second: 1359.29"
      ]
     },
     "metadata": {},
     "output_type": "display_data"
    },
    {
     "data": {
      "text/html": [
       "<pre>recommendations finished on 229000/1092096 queries. users per second: 1358.23</pre>"
      ],
      "text/plain": [
       "recommendations finished on 229000/1092096 queries. users per second: 1358.23"
      ]
     },
     "metadata": {},
     "output_type": "display_data"
    },
    {
     "data": {
      "text/html": [
       "<pre>recommendations finished on 230000/1092096 queries. users per second: 1358.42</pre>"
      ],
      "text/plain": [
       "recommendations finished on 230000/1092096 queries. users per second: 1358.42"
      ]
     },
     "metadata": {},
     "output_type": "display_data"
    },
    {
     "data": {
      "text/html": [
       "<pre>recommendations finished on 231000/1092096 queries. users per second: 1358.68</pre>"
      ],
      "text/plain": [
       "recommendations finished on 231000/1092096 queries. users per second: 1358.68"
      ]
     },
     "metadata": {},
     "output_type": "display_data"
    },
    {
     "data": {
      "text/html": [
       "<pre>recommendations finished on 232000/1092096 queries. users per second: 1358.69</pre>"
      ],
      "text/plain": [
       "recommendations finished on 232000/1092096 queries. users per second: 1358.69"
      ]
     },
     "metadata": {},
     "output_type": "display_data"
    },
    {
     "data": {
      "text/html": [
       "<pre>recommendations finished on 233000/1092096 queries. users per second: 1357.95</pre>"
      ],
      "text/plain": [
       "recommendations finished on 233000/1092096 queries. users per second: 1357.95"
      ]
     },
     "metadata": {},
     "output_type": "display_data"
    },
    {
     "data": {
      "text/html": [
       "<pre>recommendations finished on 234000/1092096 queries. users per second: 1357.17</pre>"
      ],
      "text/plain": [
       "recommendations finished on 234000/1092096 queries. users per second: 1357.17"
      ]
     },
     "metadata": {},
     "output_type": "display_data"
    },
    {
     "data": {
      "text/html": [
       "<pre>recommendations finished on 235000/1092096 queries. users per second: 1356.8</pre>"
      ],
      "text/plain": [
       "recommendations finished on 235000/1092096 queries. users per second: 1356.8"
      ]
     },
     "metadata": {},
     "output_type": "display_data"
    },
    {
     "data": {
      "text/html": [
       "<pre>recommendations finished on 236000/1092096 queries. users per second: 1356.19</pre>"
      ],
      "text/plain": [
       "recommendations finished on 236000/1092096 queries. users per second: 1356.19"
      ]
     },
     "metadata": {},
     "output_type": "display_data"
    },
    {
     "data": {
      "text/html": [
       "<pre>recommendations finished on 237000/1092096 queries. users per second: 1354.9</pre>"
      ],
      "text/plain": [
       "recommendations finished on 237000/1092096 queries. users per second: 1354.9"
      ]
     },
     "metadata": {},
     "output_type": "display_data"
    },
    {
     "data": {
      "text/html": [
       "<pre>recommendations finished on 238000/1092096 queries. users per second: 1354.18</pre>"
      ],
      "text/plain": [
       "recommendations finished on 238000/1092096 queries. users per second: 1354.18"
      ]
     },
     "metadata": {},
     "output_type": "display_data"
    },
    {
     "data": {
      "text/html": [
       "<pre>recommendations finished on 239000/1092096 queries. users per second: 1354.5</pre>"
      ],
      "text/plain": [
       "recommendations finished on 239000/1092096 queries. users per second: 1354.5"
      ]
     },
     "metadata": {},
     "output_type": "display_data"
    },
    {
     "data": {
      "text/html": [
       "<pre>recommendations finished on 240000/1092096 queries. users per second: 1354.42</pre>"
      ],
      "text/plain": [
       "recommendations finished on 240000/1092096 queries. users per second: 1354.42"
      ]
     },
     "metadata": {},
     "output_type": "display_data"
    },
    {
     "data": {
      "text/html": [
       "<pre>recommendations finished on 241000/1092096 queries. users per second: 1354.04</pre>"
      ],
      "text/plain": [
       "recommendations finished on 241000/1092096 queries. users per second: 1354.04"
      ]
     },
     "metadata": {},
     "output_type": "display_data"
    },
    {
     "data": {
      "text/html": [
       "<pre>recommendations finished on 242000/1092096 queries. users per second: 1354.22</pre>"
      ],
      "text/plain": [
       "recommendations finished on 242000/1092096 queries. users per second: 1354.22"
      ]
     },
     "metadata": {},
     "output_type": "display_data"
    },
    {
     "data": {
      "text/html": [
       "<pre>recommendations finished on 243000/1092096 queries. users per second: 1352.86</pre>"
      ],
      "text/plain": [
       "recommendations finished on 243000/1092096 queries. users per second: 1352.86"
      ]
     },
     "metadata": {},
     "output_type": "display_data"
    },
    {
     "data": {
      "text/html": [
       "<pre>recommendations finished on 244000/1092096 queries. users per second: 1352.85</pre>"
      ],
      "text/plain": [
       "recommendations finished on 244000/1092096 queries. users per second: 1352.85"
      ]
     },
     "metadata": {},
     "output_type": "display_data"
    },
    {
     "data": {
      "text/html": [
       "<pre>recommendations finished on 245000/1092096 queries. users per second: 1352.57</pre>"
      ],
      "text/plain": [
       "recommendations finished on 245000/1092096 queries. users per second: 1352.57"
      ]
     },
     "metadata": {},
     "output_type": "display_data"
    },
    {
     "data": {
      "text/html": [
       "<pre>recommendations finished on 246000/1092096 queries. users per second: 1352.13</pre>"
      ],
      "text/plain": [
       "recommendations finished on 246000/1092096 queries. users per second: 1352.13"
      ]
     },
     "metadata": {},
     "output_type": "display_data"
    },
    {
     "data": {
      "text/html": [
       "<pre>recommendations finished on 247000/1092096 queries. users per second: 1352.26</pre>"
      ],
      "text/plain": [
       "recommendations finished on 247000/1092096 queries. users per second: 1352.26"
      ]
     },
     "metadata": {},
     "output_type": "display_data"
    },
    {
     "data": {
      "text/html": [
       "<pre>recommendations finished on 248000/1092096 queries. users per second: 1352.61</pre>"
      ],
      "text/plain": [
       "recommendations finished on 248000/1092096 queries. users per second: 1352.61"
      ]
     },
     "metadata": {},
     "output_type": "display_data"
    },
    {
     "data": {
      "text/html": [
       "<pre>recommendations finished on 249000/1092096 queries. users per second: 1352.95</pre>"
      ],
      "text/plain": [
       "recommendations finished on 249000/1092096 queries. users per second: 1352.95"
      ]
     },
     "metadata": {},
     "output_type": "display_data"
    },
    {
     "data": {
      "text/html": [
       "<pre>recommendations finished on 250000/1092096 queries. users per second: 1352.04</pre>"
      ],
      "text/plain": [
       "recommendations finished on 250000/1092096 queries. users per second: 1352.04"
      ]
     },
     "metadata": {},
     "output_type": "display_data"
    },
    {
     "data": {
      "text/html": [
       "<pre>recommendations finished on 251000/1092096 queries. users per second: 1352.08</pre>"
      ],
      "text/plain": [
       "recommendations finished on 251000/1092096 queries. users per second: 1352.08"
      ]
     },
     "metadata": {},
     "output_type": "display_data"
    },
    {
     "data": {
      "text/html": [
       "<pre>recommendations finished on 252000/1092096 queries. users per second: 1350.86</pre>"
      ],
      "text/plain": [
       "recommendations finished on 252000/1092096 queries. users per second: 1350.86"
      ]
     },
     "metadata": {},
     "output_type": "display_data"
    },
    {
     "data": {
      "text/html": [
       "<pre>recommendations finished on 253000/1092096 queries. users per second: 1351.11</pre>"
      ],
      "text/plain": [
       "recommendations finished on 253000/1092096 queries. users per second: 1351.11"
      ]
     },
     "metadata": {},
     "output_type": "display_data"
    },
    {
     "data": {
      "text/html": [
       "<pre>recommendations finished on 254000/1092096 queries. users per second: 1351.48</pre>"
      ],
      "text/plain": [
       "recommendations finished on 254000/1092096 queries. users per second: 1351.48"
      ]
     },
     "metadata": {},
     "output_type": "display_data"
    },
    {
     "data": {
      "text/html": [
       "<pre>recommendations finished on 255000/1092096 queries. users per second: 1351.47</pre>"
      ],
      "text/plain": [
       "recommendations finished on 255000/1092096 queries. users per second: 1351.47"
      ]
     },
     "metadata": {},
     "output_type": "display_data"
    },
    {
     "data": {
      "text/html": [
       "<pre>recommendations finished on 256000/1092096 queries. users per second: 1351</pre>"
      ],
      "text/plain": [
       "recommendations finished on 256000/1092096 queries. users per second: 1351"
      ]
     },
     "metadata": {},
     "output_type": "display_data"
    },
    {
     "data": {
      "text/html": [
       "<pre>recommendations finished on 257000/1092096 queries. users per second: 1351.13</pre>"
      ],
      "text/plain": [
       "recommendations finished on 257000/1092096 queries. users per second: 1351.13"
      ]
     },
     "metadata": {},
     "output_type": "display_data"
    },
    {
     "data": {
      "text/html": [
       "<pre>recommendations finished on 258000/1092096 queries. users per second: 1350.48</pre>"
      ],
      "text/plain": [
       "recommendations finished on 258000/1092096 queries. users per second: 1350.48"
      ]
     },
     "metadata": {},
     "output_type": "display_data"
    },
    {
     "data": {
      "text/html": [
       "<pre>recommendations finished on 259000/1092096 queries. users per second: 1350.76</pre>"
      ],
      "text/plain": [
       "recommendations finished on 259000/1092096 queries. users per second: 1350.76"
      ]
     },
     "metadata": {},
     "output_type": "display_data"
    },
    {
     "data": {
      "text/html": [
       "<pre>recommendations finished on 260000/1092096 queries. users per second: 1351.09</pre>"
      ],
      "text/plain": [
       "recommendations finished on 260000/1092096 queries. users per second: 1351.09"
      ]
     },
     "metadata": {},
     "output_type": "display_data"
    },
    {
     "data": {
      "text/html": [
       "<pre>recommendations finished on 261000/1092096 queries. users per second: 1350</pre>"
      ],
      "text/plain": [
       "recommendations finished on 261000/1092096 queries. users per second: 1350"
      ]
     },
     "metadata": {},
     "output_type": "display_data"
    },
    {
     "data": {
      "text/html": [
       "<pre>recommendations finished on 262000/1092096 queries. users per second: 1349.5</pre>"
      ],
      "text/plain": [
       "recommendations finished on 262000/1092096 queries. users per second: 1349.5"
      ]
     },
     "metadata": {},
     "output_type": "display_data"
    },
    {
     "data": {
      "text/html": [
       "<pre>recommendations finished on 263000/1092096 queries. users per second: 1349.36</pre>"
      ],
      "text/plain": [
       "recommendations finished on 263000/1092096 queries. users per second: 1349.36"
      ]
     },
     "metadata": {},
     "output_type": "display_data"
    },
    {
     "data": {
      "text/html": [
       "<pre>recommendations finished on 264000/1092096 queries. users per second: 1349.64</pre>"
      ],
      "text/plain": [
       "recommendations finished on 264000/1092096 queries. users per second: 1349.64"
      ]
     },
     "metadata": {},
     "output_type": "display_data"
    },
    {
     "data": {
      "text/html": [
       "<pre>recommendations finished on 265000/1092096 queries. users per second: 1349.81</pre>"
      ],
      "text/plain": [
       "recommendations finished on 265000/1092096 queries. users per second: 1349.81"
      ]
     },
     "metadata": {},
     "output_type": "display_data"
    },
    {
     "data": {
      "text/html": [
       "<pre>recommendations finished on 266000/1092096 queries. users per second: 1349.95</pre>"
      ],
      "text/plain": [
       "recommendations finished on 266000/1092096 queries. users per second: 1349.95"
      ]
     },
     "metadata": {},
     "output_type": "display_data"
    },
    {
     "data": {
      "text/html": [
       "<pre>recommendations finished on 267000/1092096 queries. users per second: 1348.9</pre>"
      ],
      "text/plain": [
       "recommendations finished on 267000/1092096 queries. users per second: 1348.9"
      ]
     },
     "metadata": {},
     "output_type": "display_data"
    },
    {
     "data": {
      "text/html": [
       "<pre>recommendations finished on 268000/1092096 queries. users per second: 1348.28</pre>"
      ],
      "text/plain": [
       "recommendations finished on 268000/1092096 queries. users per second: 1348.28"
      ]
     },
     "metadata": {},
     "output_type": "display_data"
    },
    {
     "data": {
      "text/html": [
       "<pre>recommendations finished on 269000/1092096 queries. users per second: 1348.4</pre>"
      ],
      "text/plain": [
       "recommendations finished on 269000/1092096 queries. users per second: 1348.4"
      ]
     },
     "metadata": {},
     "output_type": "display_data"
    },
    {
     "data": {
      "text/html": [
       "<pre>recommendations finished on 270000/1092096 queries. users per second: 1347.76</pre>"
      ],
      "text/plain": [
       "recommendations finished on 270000/1092096 queries. users per second: 1347.76"
      ]
     },
     "metadata": {},
     "output_type": "display_data"
    },
    {
     "data": {
      "text/html": [
       "<pre>recommendations finished on 271000/1092096 queries. users per second: 1346.65</pre>"
      ],
      "text/plain": [
       "recommendations finished on 271000/1092096 queries. users per second: 1346.65"
      ]
     },
     "metadata": {},
     "output_type": "display_data"
    },
    {
     "data": {
      "text/html": [
       "<pre>recommendations finished on 272000/1092096 queries. users per second: 1346.08</pre>"
      ],
      "text/plain": [
       "recommendations finished on 272000/1092096 queries. users per second: 1346.08"
      ]
     },
     "metadata": {},
     "output_type": "display_data"
    },
    {
     "data": {
      "text/html": [
       "<pre>recommendations finished on 273000/1092096 queries. users per second: 1345.8</pre>"
      ],
      "text/plain": [
       "recommendations finished on 273000/1092096 queries. users per second: 1345.8"
      ]
     },
     "metadata": {},
     "output_type": "display_data"
    },
    {
     "data": {
      "text/html": [
       "<pre>recommendations finished on 274000/1092096 queries. users per second: 1345.88</pre>"
      ],
      "text/plain": [
       "recommendations finished on 274000/1092096 queries. users per second: 1345.88"
      ]
     },
     "metadata": {},
     "output_type": "display_data"
    },
    {
     "data": {
      "text/html": [
       "<pre>recommendations finished on 275000/1092096 queries. users per second: 1345.79</pre>"
      ],
      "text/plain": [
       "recommendations finished on 275000/1092096 queries. users per second: 1345.79"
      ]
     },
     "metadata": {},
     "output_type": "display_data"
    },
    {
     "data": {
      "text/html": [
       "<pre>recommendations finished on 276000/1092096 queries. users per second: 1345.85</pre>"
      ],
      "text/plain": [
       "recommendations finished on 276000/1092096 queries. users per second: 1345.85"
      ]
     },
     "metadata": {},
     "output_type": "display_data"
    },
    {
     "data": {
      "text/html": [
       "<pre>recommendations finished on 277000/1092096 queries. users per second: 1345.69</pre>"
      ],
      "text/plain": [
       "recommendations finished on 277000/1092096 queries. users per second: 1345.69"
      ]
     },
     "metadata": {},
     "output_type": "display_data"
    },
    {
     "data": {
      "text/html": [
       "<pre>recommendations finished on 278000/1092096 queries. users per second: 1345.09</pre>"
      ],
      "text/plain": [
       "recommendations finished on 278000/1092096 queries. users per second: 1345.09"
      ]
     },
     "metadata": {},
     "output_type": "display_data"
    },
    {
     "data": {
      "text/html": [
       "<pre>recommendations finished on 279000/1092096 queries. users per second: 1344.85</pre>"
      ],
      "text/plain": [
       "recommendations finished on 279000/1092096 queries. users per second: 1344.85"
      ]
     },
     "metadata": {},
     "output_type": "display_data"
    },
    {
     "data": {
      "text/html": [
       "<pre>recommendations finished on 280000/1092096 queries. users per second: 1344.18</pre>"
      ],
      "text/plain": [
       "recommendations finished on 280000/1092096 queries. users per second: 1344.18"
      ]
     },
     "metadata": {},
     "output_type": "display_data"
    },
    {
     "data": {
      "text/html": [
       "<pre>recommendations finished on 281000/1092096 queries. users per second: 1343.99</pre>"
      ],
      "text/plain": [
       "recommendations finished on 281000/1092096 queries. users per second: 1343.99"
      ]
     },
     "metadata": {},
     "output_type": "display_data"
    },
    {
     "data": {
      "text/html": [
       "<pre>recommendations finished on 282000/1092096 queries. users per second: 1344.02</pre>"
      ],
      "text/plain": [
       "recommendations finished on 282000/1092096 queries. users per second: 1344.02"
      ]
     },
     "metadata": {},
     "output_type": "display_data"
    },
    {
     "data": {
      "text/html": [
       "<pre>recommendations finished on 283000/1092096 queries. users per second: 1343.82</pre>"
      ],
      "text/plain": [
       "recommendations finished on 283000/1092096 queries. users per second: 1343.82"
      ]
     },
     "metadata": {},
     "output_type": "display_data"
    },
    {
     "data": {
      "text/html": [
       "<pre>recommendations finished on 284000/1092096 queries. users per second: 1342.99</pre>"
      ],
      "text/plain": [
       "recommendations finished on 284000/1092096 queries. users per second: 1342.99"
      ]
     },
     "metadata": {},
     "output_type": "display_data"
    },
    {
     "data": {
      "text/html": [
       "<pre>recommendations finished on 285000/1092096 queries. users per second: 1342.46</pre>"
      ],
      "text/plain": [
       "recommendations finished on 285000/1092096 queries. users per second: 1342.46"
      ]
     },
     "metadata": {},
     "output_type": "display_data"
    },
    {
     "data": {
      "text/html": [
       "<pre>recommendations finished on 286000/1092096 queries. users per second: 1342.04</pre>"
      ],
      "text/plain": [
       "recommendations finished on 286000/1092096 queries. users per second: 1342.04"
      ]
     },
     "metadata": {},
     "output_type": "display_data"
    },
    {
     "data": {
      "text/html": [
       "<pre>recommendations finished on 287000/1092096 queries. users per second: 1341.71</pre>"
      ],
      "text/plain": [
       "recommendations finished on 287000/1092096 queries. users per second: 1341.71"
      ]
     },
     "metadata": {},
     "output_type": "display_data"
    },
    {
     "data": {
      "text/html": [
       "<pre>recommendations finished on 288000/1092096 queries. users per second: 1341.42</pre>"
      ],
      "text/plain": [
       "recommendations finished on 288000/1092096 queries. users per second: 1341.42"
      ]
     },
     "metadata": {},
     "output_type": "display_data"
    },
    {
     "data": {
      "text/html": [
       "<pre>recommendations finished on 289000/1092096 queries. users per second: 1340.93</pre>"
      ],
      "text/plain": [
       "recommendations finished on 289000/1092096 queries. users per second: 1340.93"
      ]
     },
     "metadata": {},
     "output_type": "display_data"
    },
    {
     "data": {
      "text/html": [
       "<pre>recommendations finished on 290000/1092096 queries. users per second: 1341.04</pre>"
      ],
      "text/plain": [
       "recommendations finished on 290000/1092096 queries. users per second: 1341.04"
      ]
     },
     "metadata": {},
     "output_type": "display_data"
    },
    {
     "data": {
      "text/html": [
       "<pre>recommendations finished on 291000/1092096 queries. users per second: 1340.68</pre>"
      ],
      "text/plain": [
       "recommendations finished on 291000/1092096 queries. users per second: 1340.68"
      ]
     },
     "metadata": {},
     "output_type": "display_data"
    },
    {
     "data": {
      "text/html": [
       "<pre>recommendations finished on 292000/1092096 queries. users per second: 1340.62</pre>"
      ],
      "text/plain": [
       "recommendations finished on 292000/1092096 queries. users per second: 1340.62"
      ]
     },
     "metadata": {},
     "output_type": "display_data"
    },
    {
     "data": {
      "text/html": [
       "<pre>recommendations finished on 293000/1092096 queries. users per second: 1340.13</pre>"
      ],
      "text/plain": [
       "recommendations finished on 293000/1092096 queries. users per second: 1340.13"
      ]
     },
     "metadata": {},
     "output_type": "display_data"
    },
    {
     "data": {
      "text/html": [
       "<pre>recommendations finished on 294000/1092096 queries. users per second: 1339.91</pre>"
      ],
      "text/plain": [
       "recommendations finished on 294000/1092096 queries. users per second: 1339.91"
      ]
     },
     "metadata": {},
     "output_type": "display_data"
    },
    {
     "data": {
      "text/html": [
       "<pre>recommendations finished on 295000/1092096 queries. users per second: 1339.45</pre>"
      ],
      "text/plain": [
       "recommendations finished on 295000/1092096 queries. users per second: 1339.45"
      ]
     },
     "metadata": {},
     "output_type": "display_data"
    },
    {
     "data": {
      "text/html": [
       "<pre>recommendations finished on 296000/1092096 queries. users per second: 1339.3</pre>"
      ],
      "text/plain": [
       "recommendations finished on 296000/1092096 queries. users per second: 1339.3"
      ]
     },
     "metadata": {},
     "output_type": "display_data"
    },
    {
     "data": {
      "text/html": [
       "<pre>recommendations finished on 297000/1092096 queries. users per second: 1339.49</pre>"
      ],
      "text/plain": [
       "recommendations finished on 297000/1092096 queries. users per second: 1339.49"
      ]
     },
     "metadata": {},
     "output_type": "display_data"
    },
    {
     "data": {
      "text/html": [
       "<pre>recommendations finished on 298000/1092096 queries. users per second: 1339.75</pre>"
      ],
      "text/plain": [
       "recommendations finished on 298000/1092096 queries. users per second: 1339.75"
      ]
     },
     "metadata": {},
     "output_type": "display_data"
    },
    {
     "data": {
      "text/html": [
       "<pre>recommendations finished on 299000/1092096 queries. users per second: 1340.05</pre>"
      ],
      "text/plain": [
       "recommendations finished on 299000/1092096 queries. users per second: 1340.05"
      ]
     },
     "metadata": {},
     "output_type": "display_data"
    },
    {
     "data": {
      "text/html": [
       "<pre>recommendations finished on 300000/1092096 queries. users per second: 1340.07</pre>"
      ],
      "text/plain": [
       "recommendations finished on 300000/1092096 queries. users per second: 1340.07"
      ]
     },
     "metadata": {},
     "output_type": "display_data"
    },
    {
     "data": {
      "text/html": [
       "<pre>recommendations finished on 301000/1092096 queries. users per second: 1340.31</pre>"
      ],
      "text/plain": [
       "recommendations finished on 301000/1092096 queries. users per second: 1340.31"
      ]
     },
     "metadata": {},
     "output_type": "display_data"
    },
    {
     "data": {
      "text/html": [
       "<pre>recommendations finished on 302000/1092096 queries. users per second: 1340.62</pre>"
      ],
      "text/plain": [
       "recommendations finished on 302000/1092096 queries. users per second: 1340.62"
      ]
     },
     "metadata": {},
     "output_type": "display_data"
    },
    {
     "data": {
      "text/html": [
       "<pre>recommendations finished on 303000/1092096 queries. users per second: 1340.83</pre>"
      ],
      "text/plain": [
       "recommendations finished on 303000/1092096 queries. users per second: 1340.83"
      ]
     },
     "metadata": {},
     "output_type": "display_data"
    },
    {
     "data": {
      "text/html": [
       "<pre>recommendations finished on 304000/1092096 queries. users per second: 1341.15</pre>"
      ],
      "text/plain": [
       "recommendations finished on 304000/1092096 queries. users per second: 1341.15"
      ]
     },
     "metadata": {},
     "output_type": "display_data"
    },
    {
     "data": {
      "text/html": [
       "<pre>recommendations finished on 305000/1092096 queries. users per second: 1341.47</pre>"
      ],
      "text/plain": [
       "recommendations finished on 305000/1092096 queries. users per second: 1341.47"
      ]
     },
     "metadata": {},
     "output_type": "display_data"
    },
    {
     "data": {
      "text/html": [
       "<pre>recommendations finished on 306000/1092096 queries. users per second: 1341.79</pre>"
      ],
      "text/plain": [
       "recommendations finished on 306000/1092096 queries. users per second: 1341.79"
      ]
     },
     "metadata": {},
     "output_type": "display_data"
    },
    {
     "data": {
      "text/html": [
       "<pre>recommendations finished on 307000/1092096 queries. users per second: 1342.08</pre>"
      ],
      "text/plain": [
       "recommendations finished on 307000/1092096 queries. users per second: 1342.08"
      ]
     },
     "metadata": {},
     "output_type": "display_data"
    },
    {
     "data": {
      "text/html": [
       "<pre>recommendations finished on 308000/1092096 queries. users per second: 1342.41</pre>"
      ],
      "text/plain": [
       "recommendations finished on 308000/1092096 queries. users per second: 1342.41"
      ]
     },
     "metadata": {},
     "output_type": "display_data"
    },
    {
     "data": {
      "text/html": [
       "<pre>recommendations finished on 309000/1092096 queries. users per second: 1342.76</pre>"
      ],
      "text/plain": [
       "recommendations finished on 309000/1092096 queries. users per second: 1342.76"
      ]
     },
     "metadata": {},
     "output_type": "display_data"
    },
    {
     "data": {
      "text/html": [
       "<pre>recommendations finished on 310000/1092096 queries. users per second: 1343.16</pre>"
      ],
      "text/plain": [
       "recommendations finished on 310000/1092096 queries. users per second: 1343.16"
      ]
     },
     "metadata": {},
     "output_type": "display_data"
    },
    {
     "data": {
      "text/html": [
       "<pre>recommendations finished on 311000/1092096 queries. users per second: 1343.55</pre>"
      ],
      "text/plain": [
       "recommendations finished on 311000/1092096 queries. users per second: 1343.55"
      ]
     },
     "metadata": {},
     "output_type": "display_data"
    },
    {
     "data": {
      "text/html": [
       "<pre>recommendations finished on 312000/1092096 queries. users per second: 1343.94</pre>"
      ],
      "text/plain": [
       "recommendations finished on 312000/1092096 queries. users per second: 1343.94"
      ]
     },
     "metadata": {},
     "output_type": "display_data"
    },
    {
     "data": {
      "text/html": [
       "<pre>recommendations finished on 313000/1092096 queries. users per second: 1344.16</pre>"
      ],
      "text/plain": [
       "recommendations finished on 313000/1092096 queries. users per second: 1344.16"
      ]
     },
     "metadata": {},
     "output_type": "display_data"
    },
    {
     "data": {
      "text/html": [
       "<pre>recommendations finished on 314000/1092096 queries. users per second: 1344.42</pre>"
      ],
      "text/plain": [
       "recommendations finished on 314000/1092096 queries. users per second: 1344.42"
      ]
     },
     "metadata": {},
     "output_type": "display_data"
    },
    {
     "data": {
      "text/html": [
       "<pre>recommendations finished on 315000/1092096 queries. users per second: 1344.55</pre>"
      ],
      "text/plain": [
       "recommendations finished on 315000/1092096 queries. users per second: 1344.55"
      ]
     },
     "metadata": {},
     "output_type": "display_data"
    },
    {
     "data": {
      "text/html": [
       "<pre>recommendations finished on 316000/1092096 queries. users per second: 1344.94</pre>"
      ],
      "text/plain": [
       "recommendations finished on 316000/1092096 queries. users per second: 1344.94"
      ]
     },
     "metadata": {},
     "output_type": "display_data"
    },
    {
     "data": {
      "text/html": [
       "<pre>recommendations finished on 317000/1092096 queries. users per second: 1345.29</pre>"
      ],
      "text/plain": [
       "recommendations finished on 317000/1092096 queries. users per second: 1345.29"
      ]
     },
     "metadata": {},
     "output_type": "display_data"
    },
    {
     "data": {
      "text/html": [
       "<pre>recommendations finished on 318000/1092096 queries. users per second: 1345.66</pre>"
      ],
      "text/plain": [
       "recommendations finished on 318000/1092096 queries. users per second: 1345.66"
      ]
     },
     "metadata": {},
     "output_type": "display_data"
    },
    {
     "data": {
      "text/html": [
       "<pre>recommendations finished on 319000/1092096 queries. users per second: 1346.02</pre>"
      ],
      "text/plain": [
       "recommendations finished on 319000/1092096 queries. users per second: 1346.02"
      ]
     },
     "metadata": {},
     "output_type": "display_data"
    },
    {
     "data": {
      "text/html": [
       "<pre>recommendations finished on 320000/1092096 queries. users per second: 1346.34</pre>"
      ],
      "text/plain": [
       "recommendations finished on 320000/1092096 queries. users per second: 1346.34"
      ]
     },
     "metadata": {},
     "output_type": "display_data"
    },
    {
     "data": {
      "text/html": [
       "<pre>recommendations finished on 321000/1092096 queries. users per second: 1346.73</pre>"
      ],
      "text/plain": [
       "recommendations finished on 321000/1092096 queries. users per second: 1346.73"
      ]
     },
     "metadata": {},
     "output_type": "display_data"
    },
    {
     "data": {
      "text/html": [
       "<pre>recommendations finished on 322000/1092096 queries. users per second: 1346.95</pre>"
      ],
      "text/plain": [
       "recommendations finished on 322000/1092096 queries. users per second: 1346.95"
      ]
     },
     "metadata": {},
     "output_type": "display_data"
    },
    {
     "data": {
      "text/html": [
       "<pre>recommendations finished on 323000/1092096 queries. users per second: 1347.34</pre>"
      ],
      "text/plain": [
       "recommendations finished on 323000/1092096 queries. users per second: 1347.34"
      ]
     },
     "metadata": {},
     "output_type": "display_data"
    },
    {
     "data": {
      "text/html": [
       "<pre>recommendations finished on 324000/1092096 queries. users per second: 1347.76</pre>"
      ],
      "text/plain": [
       "recommendations finished on 324000/1092096 queries. users per second: 1347.76"
      ]
     },
     "metadata": {},
     "output_type": "display_data"
    },
    {
     "data": {
      "text/html": [
       "<pre>recommendations finished on 325000/1092096 queries. users per second: 1348.19</pre>"
      ],
      "text/plain": [
       "recommendations finished on 325000/1092096 queries. users per second: 1348.19"
      ]
     },
     "metadata": {},
     "output_type": "display_data"
    },
    {
     "data": {
      "text/html": [
       "<pre>recommendations finished on 326000/1092096 queries. users per second: 1348.49</pre>"
      ],
      "text/plain": [
       "recommendations finished on 326000/1092096 queries. users per second: 1348.49"
      ]
     },
     "metadata": {},
     "output_type": "display_data"
    },
    {
     "data": {
      "text/html": [
       "<pre>recommendations finished on 327000/1092096 queries. users per second: 1348.75</pre>"
      ],
      "text/plain": [
       "recommendations finished on 327000/1092096 queries. users per second: 1348.75"
      ]
     },
     "metadata": {},
     "output_type": "display_data"
    },
    {
     "data": {
      "text/html": [
       "<pre>recommendations finished on 328000/1092096 queries. users per second: 1349</pre>"
      ],
      "text/plain": [
       "recommendations finished on 328000/1092096 queries. users per second: 1349"
      ]
     },
     "metadata": {},
     "output_type": "display_data"
    },
    {
     "data": {
      "text/html": [
       "<pre>recommendations finished on 329000/1092096 queries. users per second: 1349.27</pre>"
      ],
      "text/plain": [
       "recommendations finished on 329000/1092096 queries. users per second: 1349.27"
      ]
     },
     "metadata": {},
     "output_type": "display_data"
    },
    {
     "data": {
      "text/html": [
       "<pre>recommendations finished on 330000/1092096 queries. users per second: 1349.7</pre>"
      ],
      "text/plain": [
       "recommendations finished on 330000/1092096 queries. users per second: 1349.7"
      ]
     },
     "metadata": {},
     "output_type": "display_data"
    },
    {
     "data": {
      "text/html": [
       "<pre>recommendations finished on 331000/1092096 queries. users per second: 1350.05</pre>"
      ],
      "text/plain": [
       "recommendations finished on 331000/1092096 queries. users per second: 1350.05"
      ]
     },
     "metadata": {},
     "output_type": "display_data"
    },
    {
     "data": {
      "text/html": [
       "<pre>recommendations finished on 332000/1092096 queries. users per second: 1350.45</pre>"
      ],
      "text/plain": [
       "recommendations finished on 332000/1092096 queries. users per second: 1350.45"
      ]
     },
     "metadata": {},
     "output_type": "display_data"
    },
    {
     "data": {
      "text/html": [
       "<pre>recommendations finished on 333000/1092096 queries. users per second: 1350.81</pre>"
      ],
      "text/plain": [
       "recommendations finished on 333000/1092096 queries. users per second: 1350.81"
      ]
     },
     "metadata": {},
     "output_type": "display_data"
    },
    {
     "data": {
      "text/html": [
       "<pre>recommendations finished on 334000/1092096 queries. users per second: 1351.16</pre>"
      ],
      "text/plain": [
       "recommendations finished on 334000/1092096 queries. users per second: 1351.16"
      ]
     },
     "metadata": {},
     "output_type": "display_data"
    },
    {
     "data": {
      "text/html": [
       "<pre>recommendations finished on 335000/1092096 queries. users per second: 1351.51</pre>"
      ],
      "text/plain": [
       "recommendations finished on 335000/1092096 queries. users per second: 1351.51"
      ]
     },
     "metadata": {},
     "output_type": "display_data"
    },
    {
     "data": {
      "text/html": [
       "<pre>recommendations finished on 336000/1092096 queries. users per second: 1351.82</pre>"
      ],
      "text/plain": [
       "recommendations finished on 336000/1092096 queries. users per second: 1351.82"
      ]
     },
     "metadata": {},
     "output_type": "display_data"
    },
    {
     "data": {
      "text/html": [
       "<pre>recommendations finished on 337000/1092096 queries. users per second: 1352.16</pre>"
      ],
      "text/plain": [
       "recommendations finished on 337000/1092096 queries. users per second: 1352.16"
      ]
     },
     "metadata": {},
     "output_type": "display_data"
    },
    {
     "data": {
      "text/html": [
       "<pre>recommendations finished on 338000/1092096 queries. users per second: 1352.48</pre>"
      ],
      "text/plain": [
       "recommendations finished on 338000/1092096 queries. users per second: 1352.48"
      ]
     },
     "metadata": {},
     "output_type": "display_data"
    },
    {
     "data": {
      "text/html": [
       "<pre>recommendations finished on 339000/1092096 queries. users per second: 1352.8</pre>"
      ],
      "text/plain": [
       "recommendations finished on 339000/1092096 queries. users per second: 1352.8"
      ]
     },
     "metadata": {},
     "output_type": "display_data"
    },
    {
     "data": {
      "text/html": [
       "<pre>recommendations finished on 340000/1092096 queries. users per second: 1353.11</pre>"
      ],
      "text/plain": [
       "recommendations finished on 340000/1092096 queries. users per second: 1353.11"
      ]
     },
     "metadata": {},
     "output_type": "display_data"
    },
    {
     "data": {
      "text/html": [
       "<pre>recommendations finished on 341000/1092096 queries. users per second: 1353.38</pre>"
      ],
      "text/plain": [
       "recommendations finished on 341000/1092096 queries. users per second: 1353.38"
      ]
     },
     "metadata": {},
     "output_type": "display_data"
    },
    {
     "data": {
      "text/html": [
       "<pre>recommendations finished on 342000/1092096 queries. users per second: 1353.67</pre>"
      ],
      "text/plain": [
       "recommendations finished on 342000/1092096 queries. users per second: 1353.67"
      ]
     },
     "metadata": {},
     "output_type": "display_data"
    },
    {
     "data": {
      "text/html": [
       "<pre>recommendations finished on 343000/1092096 queries. users per second: 1353.9</pre>"
      ],
      "text/plain": [
       "recommendations finished on 343000/1092096 queries. users per second: 1353.9"
      ]
     },
     "metadata": {},
     "output_type": "display_data"
    },
    {
     "data": {
      "text/html": [
       "<pre>recommendations finished on 344000/1092096 queries. users per second: 1354.2</pre>"
      ],
      "text/plain": [
       "recommendations finished on 344000/1092096 queries. users per second: 1354.2"
      ]
     },
     "metadata": {},
     "output_type": "display_data"
    },
    {
     "data": {
      "text/html": [
       "<pre>recommendations finished on 345000/1092096 queries. users per second: 1354.5</pre>"
      ],
      "text/plain": [
       "recommendations finished on 345000/1092096 queries. users per second: 1354.5"
      ]
     },
     "metadata": {},
     "output_type": "display_data"
    },
    {
     "data": {
      "text/html": [
       "<pre>recommendations finished on 346000/1092096 queries. users per second: 1354.77</pre>"
      ],
      "text/plain": [
       "recommendations finished on 346000/1092096 queries. users per second: 1354.77"
      ]
     },
     "metadata": {},
     "output_type": "display_data"
    },
    {
     "data": {
      "text/html": [
       "<pre>recommendations finished on 347000/1092096 queries. users per second: 1355.07</pre>"
      ],
      "text/plain": [
       "recommendations finished on 347000/1092096 queries. users per second: 1355.07"
      ]
     },
     "metadata": {},
     "output_type": "display_data"
    },
    {
     "data": {
      "text/html": [
       "<pre>recommendations finished on 348000/1092096 queries. users per second: 1355.36</pre>"
      ],
      "text/plain": [
       "recommendations finished on 348000/1092096 queries. users per second: 1355.36"
      ]
     },
     "metadata": {},
     "output_type": "display_data"
    },
    {
     "data": {
      "text/html": [
       "<pre>recommendations finished on 349000/1092096 queries. users per second: 1355.68</pre>"
      ],
      "text/plain": [
       "recommendations finished on 349000/1092096 queries. users per second: 1355.68"
      ]
     },
     "metadata": {},
     "output_type": "display_data"
    },
    {
     "data": {
      "text/html": [
       "<pre>recommendations finished on 350000/1092096 queries. users per second: 1355.99</pre>"
      ],
      "text/plain": [
       "recommendations finished on 350000/1092096 queries. users per second: 1355.99"
      ]
     },
     "metadata": {},
     "output_type": "display_data"
    },
    {
     "data": {
      "text/html": [
       "<pre>recommendations finished on 351000/1092096 queries. users per second: 1356.28</pre>"
      ],
      "text/plain": [
       "recommendations finished on 351000/1092096 queries. users per second: 1356.28"
      ]
     },
     "metadata": {},
     "output_type": "display_data"
    },
    {
     "data": {
      "text/html": [
       "<pre>recommendations finished on 352000/1092096 queries. users per second: 1356.56</pre>"
      ],
      "text/plain": [
       "recommendations finished on 352000/1092096 queries. users per second: 1356.56"
      ]
     },
     "metadata": {},
     "output_type": "display_data"
    },
    {
     "data": {
      "text/html": [
       "<pre>recommendations finished on 353000/1092096 queries. users per second: 1356.81</pre>"
      ],
      "text/plain": [
       "recommendations finished on 353000/1092096 queries. users per second: 1356.81"
      ]
     },
     "metadata": {},
     "output_type": "display_data"
    },
    {
     "data": {
      "text/html": [
       "<pre>recommendations finished on 354000/1092096 queries. users per second: 1357.14</pre>"
      ],
      "text/plain": [
       "recommendations finished on 354000/1092096 queries. users per second: 1357.14"
      ]
     },
     "metadata": {},
     "output_type": "display_data"
    },
    {
     "data": {
      "text/html": [
       "<pre>recommendations finished on 355000/1092096 queries. users per second: 1357.35</pre>"
      ],
      "text/plain": [
       "recommendations finished on 355000/1092096 queries. users per second: 1357.35"
      ]
     },
     "metadata": {},
     "output_type": "display_data"
    },
    {
     "data": {
      "text/html": [
       "<pre>recommendations finished on 356000/1092096 queries. users per second: 1357.61</pre>"
      ],
      "text/plain": [
       "recommendations finished on 356000/1092096 queries. users per second: 1357.61"
      ]
     },
     "metadata": {},
     "output_type": "display_data"
    },
    {
     "data": {
      "text/html": [
       "<pre>recommendations finished on 357000/1092096 queries. users per second: 1357.86</pre>"
      ],
      "text/plain": [
       "recommendations finished on 357000/1092096 queries. users per second: 1357.86"
      ]
     },
     "metadata": {},
     "output_type": "display_data"
    },
    {
     "data": {
      "text/html": [
       "<pre>recommendations finished on 358000/1092096 queries. users per second: 1358.16</pre>"
      ],
      "text/plain": [
       "recommendations finished on 358000/1092096 queries. users per second: 1358.16"
      ]
     },
     "metadata": {},
     "output_type": "display_data"
    },
    {
     "data": {
      "text/html": [
       "<pre>recommendations finished on 359000/1092096 queries. users per second: 1358.44</pre>"
      ],
      "text/plain": [
       "recommendations finished on 359000/1092096 queries. users per second: 1358.44"
      ]
     },
     "metadata": {},
     "output_type": "display_data"
    },
    {
     "data": {
      "text/html": [
       "<pre>recommendations finished on 360000/1092096 queries. users per second: 1358.74</pre>"
      ],
      "text/plain": [
       "recommendations finished on 360000/1092096 queries. users per second: 1358.74"
      ]
     },
     "metadata": {},
     "output_type": "display_data"
    },
    {
     "data": {
      "text/html": [
       "<pre>recommendations finished on 361000/1092096 queries. users per second: 1359.01</pre>"
      ],
      "text/plain": [
       "recommendations finished on 361000/1092096 queries. users per second: 1359.01"
      ]
     },
     "metadata": {},
     "output_type": "display_data"
    },
    {
     "data": {
      "text/html": [
       "<pre>recommendations finished on 362000/1092096 queries. users per second: 1359.28</pre>"
      ],
      "text/plain": [
       "recommendations finished on 362000/1092096 queries. users per second: 1359.28"
      ]
     },
     "metadata": {},
     "output_type": "display_data"
    },
    {
     "data": {
      "text/html": [
       "<pre>recommendations finished on 363000/1092096 queries. users per second: 1359.56</pre>"
      ],
      "text/plain": [
       "recommendations finished on 363000/1092096 queries. users per second: 1359.56"
      ]
     },
     "metadata": {},
     "output_type": "display_data"
    },
    {
     "data": {
      "text/html": [
       "<pre>recommendations finished on 364000/1092096 queries. users per second: 1359.81</pre>"
      ],
      "text/plain": [
       "recommendations finished on 364000/1092096 queries. users per second: 1359.81"
      ]
     },
     "metadata": {},
     "output_type": "display_data"
    },
    {
     "data": {
      "text/html": [
       "<pre>recommendations finished on 365000/1092096 queries. users per second: 1360.09</pre>"
      ],
      "text/plain": [
       "recommendations finished on 365000/1092096 queries. users per second: 1360.09"
      ]
     },
     "metadata": {},
     "output_type": "display_data"
    },
    {
     "data": {
      "text/html": [
       "<pre>recommendations finished on 366000/1092096 queries. users per second: 1360.42</pre>"
      ],
      "text/plain": [
       "recommendations finished on 366000/1092096 queries. users per second: 1360.42"
      ]
     },
     "metadata": {},
     "output_type": "display_data"
    },
    {
     "data": {
      "text/html": [
       "<pre>recommendations finished on 367000/1092096 queries. users per second: 1360.69</pre>"
      ],
      "text/plain": [
       "recommendations finished on 367000/1092096 queries. users per second: 1360.69"
      ]
     },
     "metadata": {},
     "output_type": "display_data"
    },
    {
     "data": {
      "text/html": [
       "<pre>recommendations finished on 368000/1092096 queries. users per second: 1360.96</pre>"
      ],
      "text/plain": [
       "recommendations finished on 368000/1092096 queries. users per second: 1360.96"
      ]
     },
     "metadata": {},
     "output_type": "display_data"
    },
    {
     "data": {
      "text/html": [
       "<pre>recommendations finished on 369000/1092096 queries. users per second: 1361.23</pre>"
      ],
      "text/plain": [
       "recommendations finished on 369000/1092096 queries. users per second: 1361.23"
      ]
     },
     "metadata": {},
     "output_type": "display_data"
    },
    {
     "data": {
      "text/html": [
       "<pre>recommendations finished on 370000/1092096 queries. users per second: 1361.49</pre>"
      ],
      "text/plain": [
       "recommendations finished on 370000/1092096 queries. users per second: 1361.49"
      ]
     },
     "metadata": {},
     "output_type": "display_data"
    },
    {
     "data": {
      "text/html": [
       "<pre>recommendations finished on 371000/1092096 queries. users per second: 1361.73</pre>"
      ],
      "text/plain": [
       "recommendations finished on 371000/1092096 queries. users per second: 1361.73"
      ]
     },
     "metadata": {},
     "output_type": "display_data"
    },
    {
     "data": {
      "text/html": [
       "<pre>recommendations finished on 372000/1092096 queries. users per second: 1361.92</pre>"
      ],
      "text/plain": [
       "recommendations finished on 372000/1092096 queries. users per second: 1361.92"
      ]
     },
     "metadata": {},
     "output_type": "display_data"
    },
    {
     "data": {
      "text/html": [
       "<pre>recommendations finished on 373000/1092096 queries. users per second: 1362.16</pre>"
      ],
      "text/plain": [
       "recommendations finished on 373000/1092096 queries. users per second: 1362.16"
      ]
     },
     "metadata": {},
     "output_type": "display_data"
    },
    {
     "data": {
      "text/html": [
       "<pre>recommendations finished on 374000/1092096 queries. users per second: 1362.39</pre>"
      ],
      "text/plain": [
       "recommendations finished on 374000/1092096 queries. users per second: 1362.39"
      ]
     },
     "metadata": {},
     "output_type": "display_data"
    },
    {
     "data": {
      "text/html": [
       "<pre>recommendations finished on 375000/1092096 queries. users per second: 1362.63</pre>"
      ],
      "text/plain": [
       "recommendations finished on 375000/1092096 queries. users per second: 1362.63"
      ]
     },
     "metadata": {},
     "output_type": "display_data"
    },
    {
     "data": {
      "text/html": [
       "<pre>recommendations finished on 376000/1092096 queries. users per second: 1362.92</pre>"
      ],
      "text/plain": [
       "recommendations finished on 376000/1092096 queries. users per second: 1362.92"
      ]
     },
     "metadata": {},
     "output_type": "display_data"
    },
    {
     "data": {
      "text/html": [
       "<pre>recommendations finished on 377000/1092096 queries. users per second: 1363.19</pre>"
      ],
      "text/plain": [
       "recommendations finished on 377000/1092096 queries. users per second: 1363.19"
      ]
     },
     "metadata": {},
     "output_type": "display_data"
    },
    {
     "data": {
      "text/html": [
       "<pre>recommendations finished on 378000/1092096 queries. users per second: 1363.42</pre>"
      ],
      "text/plain": [
       "recommendations finished on 378000/1092096 queries. users per second: 1363.42"
      ]
     },
     "metadata": {},
     "output_type": "display_data"
    },
    {
     "data": {
      "text/html": [
       "<pre>recommendations finished on 379000/1092096 queries. users per second: 1363.67</pre>"
      ],
      "text/plain": [
       "recommendations finished on 379000/1092096 queries. users per second: 1363.67"
      ]
     },
     "metadata": {},
     "output_type": "display_data"
    },
    {
     "data": {
      "text/html": [
       "<pre>recommendations finished on 380000/1092096 queries. users per second: 1363.87</pre>"
      ],
      "text/plain": [
       "recommendations finished on 380000/1092096 queries. users per second: 1363.87"
      ]
     },
     "metadata": {},
     "output_type": "display_data"
    },
    {
     "data": {
      "text/html": [
       "<pre>recommendations finished on 381000/1092096 queries. users per second: 1364.07</pre>"
      ],
      "text/plain": [
       "recommendations finished on 381000/1092096 queries. users per second: 1364.07"
      ]
     },
     "metadata": {},
     "output_type": "display_data"
    },
    {
     "data": {
      "text/html": [
       "<pre>recommendations finished on 382000/1092096 queries. users per second: 1364.33</pre>"
      ],
      "text/plain": [
       "recommendations finished on 382000/1092096 queries. users per second: 1364.33"
      ]
     },
     "metadata": {},
     "output_type": "display_data"
    },
    {
     "data": {
      "text/html": [
       "<pre>recommendations finished on 383000/1092096 queries. users per second: 1364.58</pre>"
      ],
      "text/plain": [
       "recommendations finished on 383000/1092096 queries. users per second: 1364.58"
      ]
     },
     "metadata": {},
     "output_type": "display_data"
    },
    {
     "data": {
      "text/html": [
       "<pre>recommendations finished on 384000/1092096 queries. users per second: 1364.81</pre>"
      ],
      "text/plain": [
       "recommendations finished on 384000/1092096 queries. users per second: 1364.81"
      ]
     },
     "metadata": {},
     "output_type": "display_data"
    },
    {
     "data": {
      "text/html": [
       "<pre>recommendations finished on 385000/1092096 queries. users per second: 1365.03</pre>"
      ],
      "text/plain": [
       "recommendations finished on 385000/1092096 queries. users per second: 1365.03"
      ]
     },
     "metadata": {},
     "output_type": "display_data"
    },
    {
     "data": {
      "text/html": [
       "<pre>recommendations finished on 386000/1092096 queries. users per second: 1365.27</pre>"
      ],
      "text/plain": [
       "recommendations finished on 386000/1092096 queries. users per second: 1365.27"
      ]
     },
     "metadata": {},
     "output_type": "display_data"
    },
    {
     "data": {
      "text/html": [
       "<pre>recommendations finished on 387000/1092096 queries. users per second: 1365.47</pre>"
      ],
      "text/plain": [
       "recommendations finished on 387000/1092096 queries. users per second: 1365.47"
      ]
     },
     "metadata": {},
     "output_type": "display_data"
    },
    {
     "data": {
      "text/html": [
       "<pre>recommendations finished on 388000/1092096 queries. users per second: 1365.67</pre>"
      ],
      "text/plain": [
       "recommendations finished on 388000/1092096 queries. users per second: 1365.67"
      ]
     },
     "metadata": {},
     "output_type": "display_data"
    },
    {
     "data": {
      "text/html": [
       "<pre>recommendations finished on 389000/1092096 queries. users per second: 1365.87</pre>"
      ],
      "text/plain": [
       "recommendations finished on 389000/1092096 queries. users per second: 1365.87"
      ]
     },
     "metadata": {},
     "output_type": "display_data"
    },
    {
     "data": {
      "text/html": [
       "<pre>recommendations finished on 390000/1092096 queries. users per second: 1366.07</pre>"
      ],
      "text/plain": [
       "recommendations finished on 390000/1092096 queries. users per second: 1366.07"
      ]
     },
     "metadata": {},
     "output_type": "display_data"
    },
    {
     "data": {
      "text/html": [
       "<pre>recommendations finished on 391000/1092096 queries. users per second: 1366.32</pre>"
      ],
      "text/plain": [
       "recommendations finished on 391000/1092096 queries. users per second: 1366.32"
      ]
     },
     "metadata": {},
     "output_type": "display_data"
    },
    {
     "data": {
      "text/html": [
       "<pre>recommendations finished on 392000/1092096 queries. users per second: 1366.59</pre>"
      ],
      "text/plain": [
       "recommendations finished on 392000/1092096 queries. users per second: 1366.59"
      ]
     },
     "metadata": {},
     "output_type": "display_data"
    },
    {
     "data": {
      "text/html": [
       "<pre>recommendations finished on 393000/1092096 queries. users per second: 1366.81</pre>"
      ],
      "text/plain": [
       "recommendations finished on 393000/1092096 queries. users per second: 1366.81"
      ]
     },
     "metadata": {},
     "output_type": "display_data"
    },
    {
     "data": {
      "text/html": [
       "<pre>recommendations finished on 394000/1092096 queries. users per second: 1367.06</pre>"
      ],
      "text/plain": [
       "recommendations finished on 394000/1092096 queries. users per second: 1367.06"
      ]
     },
     "metadata": {},
     "output_type": "display_data"
    },
    {
     "data": {
      "text/html": [
       "<pre>recommendations finished on 395000/1092096 queries. users per second: 1367.3</pre>"
      ],
      "text/plain": [
       "recommendations finished on 395000/1092096 queries. users per second: 1367.3"
      ]
     },
     "metadata": {},
     "output_type": "display_data"
    },
    {
     "data": {
      "text/html": [
       "<pre>recommendations finished on 396000/1092096 queries. users per second: 1367.54</pre>"
      ],
      "text/plain": [
       "recommendations finished on 396000/1092096 queries. users per second: 1367.54"
      ]
     },
     "metadata": {},
     "output_type": "display_data"
    },
    {
     "data": {
      "text/html": [
       "<pre>recommendations finished on 397000/1092096 queries. users per second: 1367.76</pre>"
      ],
      "text/plain": [
       "recommendations finished on 397000/1092096 queries. users per second: 1367.76"
      ]
     },
     "metadata": {},
     "output_type": "display_data"
    },
    {
     "data": {
      "text/html": [
       "<pre>recommendations finished on 398000/1092096 queries. users per second: 1368</pre>"
      ],
      "text/plain": [
       "recommendations finished on 398000/1092096 queries. users per second: 1368"
      ]
     },
     "metadata": {},
     "output_type": "display_data"
    },
    {
     "data": {
      "text/html": [
       "<pre>recommendations finished on 399000/1092096 queries. users per second: 1368.18</pre>"
      ],
      "text/plain": [
       "recommendations finished on 399000/1092096 queries. users per second: 1368.18"
      ]
     },
     "metadata": {},
     "output_type": "display_data"
    },
    {
     "data": {
      "text/html": [
       "<pre>recommendations finished on 400000/1092096 queries. users per second: 1368.36</pre>"
      ],
      "text/plain": [
       "recommendations finished on 400000/1092096 queries. users per second: 1368.36"
      ]
     },
     "metadata": {},
     "output_type": "display_data"
    },
    {
     "data": {
      "text/html": [
       "<pre>recommendations finished on 401000/1092096 queries. users per second: 1368.58</pre>"
      ],
      "text/plain": [
       "recommendations finished on 401000/1092096 queries. users per second: 1368.58"
      ]
     },
     "metadata": {},
     "output_type": "display_data"
    },
    {
     "data": {
      "text/html": [
       "<pre>recommendations finished on 402000/1092096 queries. users per second: 1368.79</pre>"
      ],
      "text/plain": [
       "recommendations finished on 402000/1092096 queries. users per second: 1368.79"
      ]
     },
     "metadata": {},
     "output_type": "display_data"
    },
    {
     "data": {
      "text/html": [
       "<pre>recommendations finished on 403000/1092096 queries. users per second: 1369.03</pre>"
      ],
      "text/plain": [
       "recommendations finished on 403000/1092096 queries. users per second: 1369.03"
      ]
     },
     "metadata": {},
     "output_type": "display_data"
    },
    {
     "data": {
      "text/html": [
       "<pre>recommendations finished on 404000/1092096 queries. users per second: 1369.25</pre>"
      ],
      "text/plain": [
       "recommendations finished on 404000/1092096 queries. users per second: 1369.25"
      ]
     },
     "metadata": {},
     "output_type": "display_data"
    },
    {
     "data": {
      "text/html": [
       "<pre>recommendations finished on 405000/1092096 queries. users per second: 1369.4</pre>"
      ],
      "text/plain": [
       "recommendations finished on 405000/1092096 queries. users per second: 1369.4"
      ]
     },
     "metadata": {},
     "output_type": "display_data"
    },
    {
     "data": {
      "text/html": [
       "<pre>recommendations finished on 406000/1092096 queries. users per second: 1369.68</pre>"
      ],
      "text/plain": [
       "recommendations finished on 406000/1092096 queries. users per second: 1369.68"
      ]
     },
     "metadata": {},
     "output_type": "display_data"
    },
    {
     "data": {
      "text/html": [
       "<pre>recommendations finished on 407000/1092096 queries. users per second: 1369.9</pre>"
      ],
      "text/plain": [
       "recommendations finished on 407000/1092096 queries. users per second: 1369.9"
      ]
     },
     "metadata": {},
     "output_type": "display_data"
    },
    {
     "data": {
      "text/html": [
       "<pre>recommendations finished on 408000/1092096 queries. users per second: 1370.1</pre>"
      ],
      "text/plain": [
       "recommendations finished on 408000/1092096 queries. users per second: 1370.1"
      ]
     },
     "metadata": {},
     "output_type": "display_data"
    },
    {
     "data": {
      "text/html": [
       "<pre>recommendations finished on 409000/1092096 queries. users per second: 1370.28</pre>"
      ],
      "text/plain": [
       "recommendations finished on 409000/1092096 queries. users per second: 1370.28"
      ]
     },
     "metadata": {},
     "output_type": "display_data"
    },
    {
     "data": {
      "text/html": [
       "<pre>recommendations finished on 410000/1092096 queries. users per second: 1370.52</pre>"
      ],
      "text/plain": [
       "recommendations finished on 410000/1092096 queries. users per second: 1370.52"
      ]
     },
     "metadata": {},
     "output_type": "display_data"
    },
    {
     "data": {
      "text/html": [
       "<pre>recommendations finished on 411000/1092096 queries. users per second: 1370.71</pre>"
      ],
      "text/plain": [
       "recommendations finished on 411000/1092096 queries. users per second: 1370.71"
      ]
     },
     "metadata": {},
     "output_type": "display_data"
    },
    {
     "data": {
      "text/html": [
       "<pre>recommendations finished on 412000/1092096 queries. users per second: 1370.95</pre>"
      ],
      "text/plain": [
       "recommendations finished on 412000/1092096 queries. users per second: 1370.95"
      ]
     },
     "metadata": {},
     "output_type": "display_data"
    },
    {
     "data": {
      "text/html": [
       "<pre>recommendations finished on 413000/1092096 queries. users per second: 1371.17</pre>"
      ],
      "text/plain": [
       "recommendations finished on 413000/1092096 queries. users per second: 1371.17"
      ]
     },
     "metadata": {},
     "output_type": "display_data"
    },
    {
     "data": {
      "text/html": [
       "<pre>recommendations finished on 414000/1092096 queries. users per second: 1371.37</pre>"
      ],
      "text/plain": [
       "recommendations finished on 414000/1092096 queries. users per second: 1371.37"
      ]
     },
     "metadata": {},
     "output_type": "display_data"
    },
    {
     "data": {
      "text/html": [
       "<pre>recommendations finished on 415000/1092096 queries. users per second: 1371.54</pre>"
      ],
      "text/plain": [
       "recommendations finished on 415000/1092096 queries. users per second: 1371.54"
      ]
     },
     "metadata": {},
     "output_type": "display_data"
    },
    {
     "data": {
      "text/html": [
       "<pre>recommendations finished on 416000/1092096 queries. users per second: 1371.72</pre>"
      ],
      "text/plain": [
       "recommendations finished on 416000/1092096 queries. users per second: 1371.72"
      ]
     },
     "metadata": {},
     "output_type": "display_data"
    },
    {
     "data": {
      "text/html": [
       "<pre>recommendations finished on 417000/1092096 queries. users per second: 1371.92</pre>"
      ],
      "text/plain": [
       "recommendations finished on 417000/1092096 queries. users per second: 1371.92"
      ]
     },
     "metadata": {},
     "output_type": "display_data"
    },
    {
     "data": {
      "text/html": [
       "<pre>recommendations finished on 418000/1092096 queries. users per second: 1372.11</pre>"
      ],
      "text/plain": [
       "recommendations finished on 418000/1092096 queries. users per second: 1372.11"
      ]
     },
     "metadata": {},
     "output_type": "display_data"
    },
    {
     "data": {
      "text/html": [
       "<pre>recommendations finished on 419000/1092096 queries. users per second: 1372.3</pre>"
      ],
      "text/plain": [
       "recommendations finished on 419000/1092096 queries. users per second: 1372.3"
      ]
     },
     "metadata": {},
     "output_type": "display_data"
    },
    {
     "data": {
      "text/html": [
       "<pre>recommendations finished on 420000/1092096 queries. users per second: 1372.53</pre>"
      ],
      "text/plain": [
       "recommendations finished on 420000/1092096 queries. users per second: 1372.53"
      ]
     },
     "metadata": {},
     "output_type": "display_data"
    },
    {
     "data": {
      "text/html": [
       "<pre>recommendations finished on 421000/1092096 queries. users per second: 1372.73</pre>"
      ],
      "text/plain": [
       "recommendations finished on 421000/1092096 queries. users per second: 1372.73"
      ]
     },
     "metadata": {},
     "output_type": "display_data"
    },
    {
     "data": {
      "text/html": [
       "<pre>recommendations finished on 422000/1092096 queries. users per second: 1372.91</pre>"
      ],
      "text/plain": [
       "recommendations finished on 422000/1092096 queries. users per second: 1372.91"
      ]
     },
     "metadata": {},
     "output_type": "display_data"
    },
    {
     "data": {
      "text/html": [
       "<pre>recommendations finished on 423000/1092096 queries. users per second: 1373.1</pre>"
      ],
      "text/plain": [
       "recommendations finished on 423000/1092096 queries. users per second: 1373.1"
      ]
     },
     "metadata": {},
     "output_type": "display_data"
    },
    {
     "data": {
      "text/html": [
       "<pre>recommendations finished on 424000/1092096 queries. users per second: 1373.29</pre>"
      ],
      "text/plain": [
       "recommendations finished on 424000/1092096 queries. users per second: 1373.29"
      ]
     },
     "metadata": {},
     "output_type": "display_data"
    },
    {
     "data": {
      "text/html": [
       "<pre>recommendations finished on 425000/1092096 queries. users per second: 1373.29</pre>"
      ],
      "text/plain": [
       "recommendations finished on 425000/1092096 queries. users per second: 1373.29"
      ]
     },
     "metadata": {},
     "output_type": "display_data"
    },
    {
     "data": {
      "text/html": [
       "<pre>recommendations finished on 426000/1092096 queries. users per second: 1373.45</pre>"
      ],
      "text/plain": [
       "recommendations finished on 426000/1092096 queries. users per second: 1373.45"
      ]
     },
     "metadata": {},
     "output_type": "display_data"
    },
    {
     "data": {
      "text/html": [
       "<pre>recommendations finished on 427000/1092096 queries. users per second: 1373.62</pre>"
      ],
      "text/plain": [
       "recommendations finished on 427000/1092096 queries. users per second: 1373.62"
      ]
     },
     "metadata": {},
     "output_type": "display_data"
    },
    {
     "data": {
      "text/html": [
       "<pre>recommendations finished on 428000/1092096 queries. users per second: 1373.79</pre>"
      ],
      "text/plain": [
       "recommendations finished on 428000/1092096 queries. users per second: 1373.79"
      ]
     },
     "metadata": {},
     "output_type": "display_data"
    },
    {
     "data": {
      "text/html": [
       "<pre>recommendations finished on 429000/1092096 queries. users per second: 1373.96</pre>"
      ],
      "text/plain": [
       "recommendations finished on 429000/1092096 queries. users per second: 1373.96"
      ]
     },
     "metadata": {},
     "output_type": "display_data"
    },
    {
     "data": {
      "text/html": [
       "<pre>recommendations finished on 430000/1092096 queries. users per second: 1374.2</pre>"
      ],
      "text/plain": [
       "recommendations finished on 430000/1092096 queries. users per second: 1374.2"
      ]
     },
     "metadata": {},
     "output_type": "display_data"
    },
    {
     "data": {
      "text/html": [
       "<pre>recommendations finished on 431000/1092096 queries. users per second: 1374.32</pre>"
      ],
      "text/plain": [
       "recommendations finished on 431000/1092096 queries. users per second: 1374.32"
      ]
     },
     "metadata": {},
     "output_type": "display_data"
    },
    {
     "data": {
      "text/html": [
       "<pre>recommendations finished on 432000/1092096 queries. users per second: 1374.45</pre>"
      ],
      "text/plain": [
       "recommendations finished on 432000/1092096 queries. users per second: 1374.45"
      ]
     },
     "metadata": {},
     "output_type": "display_data"
    },
    {
     "data": {
      "text/html": [
       "<pre>recommendations finished on 433000/1092096 queries. users per second: 1374.61</pre>"
      ],
      "text/plain": [
       "recommendations finished on 433000/1092096 queries. users per second: 1374.61"
      ]
     },
     "metadata": {},
     "output_type": "display_data"
    },
    {
     "data": {
      "text/html": [
       "<pre>recommendations finished on 434000/1092096 queries. users per second: 1374.8</pre>"
      ],
      "text/plain": [
       "recommendations finished on 434000/1092096 queries. users per second: 1374.8"
      ]
     },
     "metadata": {},
     "output_type": "display_data"
    },
    {
     "data": {
      "text/html": [
       "<pre>recommendations finished on 435000/1092096 queries. users per second: 1375</pre>"
      ],
      "text/plain": [
       "recommendations finished on 435000/1092096 queries. users per second: 1375"
      ]
     },
     "metadata": {},
     "output_type": "display_data"
    },
    {
     "data": {
      "text/html": [
       "<pre>recommendations finished on 436000/1092096 queries. users per second: 1375.16</pre>"
      ],
      "text/plain": [
       "recommendations finished on 436000/1092096 queries. users per second: 1375.16"
      ]
     },
     "metadata": {},
     "output_type": "display_data"
    },
    {
     "data": {
      "text/html": [
       "<pre>recommendations finished on 437000/1092096 queries. users per second: 1375.31</pre>"
      ],
      "text/plain": [
       "recommendations finished on 437000/1092096 queries. users per second: 1375.31"
      ]
     },
     "metadata": {},
     "output_type": "display_data"
    },
    {
     "data": {
      "text/html": [
       "<pre>recommendations finished on 438000/1092096 queries. users per second: 1375.48</pre>"
      ],
      "text/plain": [
       "recommendations finished on 438000/1092096 queries. users per second: 1375.48"
      ]
     },
     "metadata": {},
     "output_type": "display_data"
    },
    {
     "data": {
      "text/html": [
       "<pre>recommendations finished on 439000/1092096 queries. users per second: 1375.65</pre>"
      ],
      "text/plain": [
       "recommendations finished on 439000/1092096 queries. users per second: 1375.65"
      ]
     },
     "metadata": {},
     "output_type": "display_data"
    },
    {
     "data": {
      "text/html": [
       "<pre>recommendations finished on 440000/1092096 queries. users per second: 1375.78</pre>"
      ],
      "text/plain": [
       "recommendations finished on 440000/1092096 queries. users per second: 1375.78"
      ]
     },
     "metadata": {},
     "output_type": "display_data"
    },
    {
     "data": {
      "text/html": [
       "<pre>recommendations finished on 441000/1092096 queries. users per second: 1375.98</pre>"
      ],
      "text/plain": [
       "recommendations finished on 441000/1092096 queries. users per second: 1375.98"
      ]
     },
     "metadata": {},
     "output_type": "display_data"
    },
    {
     "data": {
      "text/html": [
       "<pre>recommendations finished on 442000/1092096 queries. users per second: 1376.14</pre>"
      ],
      "text/plain": [
       "recommendations finished on 442000/1092096 queries. users per second: 1376.14"
      ]
     },
     "metadata": {},
     "output_type": "display_data"
    },
    {
     "data": {
      "text/html": [
       "<pre>recommendations finished on 443000/1092096 queries. users per second: 1376.29</pre>"
      ],
      "text/plain": [
       "recommendations finished on 443000/1092096 queries. users per second: 1376.29"
      ]
     },
     "metadata": {},
     "output_type": "display_data"
    },
    {
     "data": {
      "text/html": [
       "<pre>recommendations finished on 444000/1092096 queries. users per second: 1376.47</pre>"
      ],
      "text/plain": [
       "recommendations finished on 444000/1092096 queries. users per second: 1376.47"
      ]
     },
     "metadata": {},
     "output_type": "display_data"
    },
    {
     "data": {
      "text/html": [
       "<pre>recommendations finished on 445000/1092096 queries. users per second: 1376.55</pre>"
      ],
      "text/plain": [
       "recommendations finished on 445000/1092096 queries. users per second: 1376.55"
      ]
     },
     "metadata": {},
     "output_type": "display_data"
    },
    {
     "data": {
      "text/html": [
       "<pre>recommendations finished on 446000/1092096 queries. users per second: 1376.72</pre>"
      ],
      "text/plain": [
       "recommendations finished on 446000/1092096 queries. users per second: 1376.72"
      ]
     },
     "metadata": {},
     "output_type": "display_data"
    },
    {
     "data": {
      "text/html": [
       "<pre>recommendations finished on 447000/1092096 queries. users per second: 1376.9</pre>"
      ],
      "text/plain": [
       "recommendations finished on 447000/1092096 queries. users per second: 1376.9"
      ]
     },
     "metadata": {},
     "output_type": "display_data"
    },
    {
     "data": {
      "text/html": [
       "<pre>recommendations finished on 448000/1092096 queries. users per second: 1377.08</pre>"
      ],
      "text/plain": [
       "recommendations finished on 448000/1092096 queries. users per second: 1377.08"
      ]
     },
     "metadata": {},
     "output_type": "display_data"
    },
    {
     "data": {
      "text/html": [
       "<pre>recommendations finished on 449000/1092096 queries. users per second: 1377.31</pre>"
      ],
      "text/plain": [
       "recommendations finished on 449000/1092096 queries. users per second: 1377.31"
      ]
     },
     "metadata": {},
     "output_type": "display_data"
    },
    {
     "data": {
      "text/html": [
       "<pre>recommendations finished on 450000/1092096 queries. users per second: 1377.51</pre>"
      ],
      "text/plain": [
       "recommendations finished on 450000/1092096 queries. users per second: 1377.51"
      ]
     },
     "metadata": {},
     "output_type": "display_data"
    },
    {
     "data": {
      "text/html": [
       "<pre>recommendations finished on 451000/1092096 queries. users per second: 1377.65</pre>"
      ],
      "text/plain": [
       "recommendations finished on 451000/1092096 queries. users per second: 1377.65"
      ]
     },
     "metadata": {},
     "output_type": "display_data"
    },
    {
     "data": {
      "text/html": [
       "<pre>recommendations finished on 452000/1092096 queries. users per second: 1377.75</pre>"
      ],
      "text/plain": [
       "recommendations finished on 452000/1092096 queries. users per second: 1377.75"
      ]
     },
     "metadata": {},
     "output_type": "display_data"
    },
    {
     "data": {
      "text/html": [
       "<pre>recommendations finished on 453000/1092096 queries. users per second: 1377.87</pre>"
      ],
      "text/plain": [
       "recommendations finished on 453000/1092096 queries. users per second: 1377.87"
      ]
     },
     "metadata": {},
     "output_type": "display_data"
    },
    {
     "data": {
      "text/html": [
       "<pre>recommendations finished on 454000/1092096 queries. users per second: 1378.05</pre>"
      ],
      "text/plain": [
       "recommendations finished on 454000/1092096 queries. users per second: 1378.05"
      ]
     },
     "metadata": {},
     "output_type": "display_data"
    },
    {
     "data": {
      "text/html": [
       "<pre>recommendations finished on 455000/1092096 queries. users per second: 1378.21</pre>"
      ],
      "text/plain": [
       "recommendations finished on 455000/1092096 queries. users per second: 1378.21"
      ]
     },
     "metadata": {},
     "output_type": "display_data"
    },
    {
     "data": {
      "text/html": [
       "<pre>recommendations finished on 456000/1092096 queries. users per second: 1378.39</pre>"
      ],
      "text/plain": [
       "recommendations finished on 456000/1092096 queries. users per second: 1378.39"
      ]
     },
     "metadata": {},
     "output_type": "display_data"
    },
    {
     "data": {
      "text/html": [
       "<pre>recommendations finished on 457000/1092096 queries. users per second: 1378.56</pre>"
      ],
      "text/plain": [
       "recommendations finished on 457000/1092096 queries. users per second: 1378.56"
      ]
     },
     "metadata": {},
     "output_type": "display_data"
    },
    {
     "data": {
      "text/html": [
       "<pre>recommendations finished on 458000/1092096 queries. users per second: 1378.75</pre>"
      ],
      "text/plain": [
       "recommendations finished on 458000/1092096 queries. users per second: 1378.75"
      ]
     },
     "metadata": {},
     "output_type": "display_data"
    },
    {
     "data": {
      "text/html": [
       "<pre>recommendations finished on 459000/1092096 queries. users per second: 1378.93</pre>"
      ],
      "text/plain": [
       "recommendations finished on 459000/1092096 queries. users per second: 1378.93"
      ]
     },
     "metadata": {},
     "output_type": "display_data"
    },
    {
     "data": {
      "text/html": [
       "<pre>recommendations finished on 460000/1092096 queries. users per second: 1379.11</pre>"
      ],
      "text/plain": [
       "recommendations finished on 460000/1092096 queries. users per second: 1379.11"
      ]
     },
     "metadata": {},
     "output_type": "display_data"
    },
    {
     "data": {
      "text/html": [
       "<pre>recommendations finished on 461000/1092096 queries. users per second: 1379.24</pre>"
      ],
      "text/plain": [
       "recommendations finished on 461000/1092096 queries. users per second: 1379.24"
      ]
     },
     "metadata": {},
     "output_type": "display_data"
    },
    {
     "data": {
      "text/html": [
       "<pre>recommendations finished on 462000/1092096 queries. users per second: 1379.43</pre>"
      ],
      "text/plain": [
       "recommendations finished on 462000/1092096 queries. users per second: 1379.43"
      ]
     },
     "metadata": {},
     "output_type": "display_data"
    },
    {
     "data": {
      "text/html": [
       "<pre>recommendations finished on 463000/1092096 queries. users per second: 1379.6</pre>"
      ],
      "text/plain": [
       "recommendations finished on 463000/1092096 queries. users per second: 1379.6"
      ]
     },
     "metadata": {},
     "output_type": "display_data"
    },
    {
     "data": {
      "text/html": [
       "<pre>recommendations finished on 464000/1092096 queries. users per second: 1379.79</pre>"
      ],
      "text/plain": [
       "recommendations finished on 464000/1092096 queries. users per second: 1379.79"
      ]
     },
     "metadata": {},
     "output_type": "display_data"
    },
    {
     "data": {
      "text/html": [
       "<pre>recommendations finished on 465000/1092096 queries. users per second: 1379.97</pre>"
      ],
      "text/plain": [
       "recommendations finished on 465000/1092096 queries. users per second: 1379.97"
      ]
     },
     "metadata": {},
     "output_type": "display_data"
    },
    {
     "data": {
      "text/html": [
       "<pre>recommendations finished on 466000/1092096 queries. users per second: 1380.16</pre>"
      ],
      "text/plain": [
       "recommendations finished on 466000/1092096 queries. users per second: 1380.16"
      ]
     },
     "metadata": {},
     "output_type": "display_data"
    },
    {
     "data": {
      "text/html": [
       "<pre>recommendations finished on 467000/1092096 queries. users per second: 1380.31</pre>"
      ],
      "text/plain": [
       "recommendations finished on 467000/1092096 queries. users per second: 1380.31"
      ]
     },
     "metadata": {},
     "output_type": "display_data"
    },
    {
     "data": {
      "text/html": [
       "<pre>recommendations finished on 468000/1092096 queries. users per second: 1380.49</pre>"
      ],
      "text/plain": [
       "recommendations finished on 468000/1092096 queries. users per second: 1380.49"
      ]
     },
     "metadata": {},
     "output_type": "display_data"
    },
    {
     "data": {
      "text/html": [
       "<pre>recommendations finished on 469000/1092096 queries. users per second: 1380.66</pre>"
      ],
      "text/plain": [
       "recommendations finished on 469000/1092096 queries. users per second: 1380.66"
      ]
     },
     "metadata": {},
     "output_type": "display_data"
    },
    {
     "data": {
      "text/html": [
       "<pre>recommendations finished on 470000/1092096 queries. users per second: 1380.84</pre>"
      ],
      "text/plain": [
       "recommendations finished on 470000/1092096 queries. users per second: 1380.84"
      ]
     },
     "metadata": {},
     "output_type": "display_data"
    },
    {
     "data": {
      "text/html": [
       "<pre>recommendations finished on 471000/1092096 queries. users per second: 1381.06</pre>"
      ],
      "text/plain": [
       "recommendations finished on 471000/1092096 queries. users per second: 1381.06"
      ]
     },
     "metadata": {},
     "output_type": "display_data"
    },
    {
     "data": {
      "text/html": [
       "<pre>recommendations finished on 472000/1092096 queries. users per second: 1381.13</pre>"
      ],
      "text/plain": [
       "recommendations finished on 472000/1092096 queries. users per second: 1381.13"
      ]
     },
     "metadata": {},
     "output_type": "display_data"
    },
    {
     "data": {
      "text/html": [
       "<pre>recommendations finished on 473000/1092096 queries. users per second: 1380.86</pre>"
      ],
      "text/plain": [
       "recommendations finished on 473000/1092096 queries. users per second: 1380.86"
      ]
     },
     "metadata": {},
     "output_type": "display_data"
    },
    {
     "data": {
      "text/html": [
       "<pre>recommendations finished on 474000/1092096 queries. users per second: 1380.62</pre>"
      ],
      "text/plain": [
       "recommendations finished on 474000/1092096 queries. users per second: 1380.62"
      ]
     },
     "metadata": {},
     "output_type": "display_data"
    },
    {
     "data": {
      "text/html": [
       "<pre>recommendations finished on 475000/1092096 queries. users per second: 1380.65</pre>"
      ],
      "text/plain": [
       "recommendations finished on 475000/1092096 queries. users per second: 1380.65"
      ]
     },
     "metadata": {},
     "output_type": "display_data"
    },
    {
     "data": {
      "text/html": [
       "<pre>recommendations finished on 476000/1092096 queries. users per second: 1380.78</pre>"
      ],
      "text/plain": [
       "recommendations finished on 476000/1092096 queries. users per second: 1380.78"
      ]
     },
     "metadata": {},
     "output_type": "display_data"
    },
    {
     "data": {
      "text/html": [
       "<pre>recommendations finished on 477000/1092096 queries. users per second: 1380.93</pre>"
      ],
      "text/plain": [
       "recommendations finished on 477000/1092096 queries. users per second: 1380.93"
      ]
     },
     "metadata": {},
     "output_type": "display_data"
    },
    {
     "data": {
      "text/html": [
       "<pre>recommendations finished on 478000/1092096 queries. users per second: 1381.07</pre>"
      ],
      "text/plain": [
       "recommendations finished on 478000/1092096 queries. users per second: 1381.07"
      ]
     },
     "metadata": {},
     "output_type": "display_data"
    },
    {
     "data": {
      "text/html": [
       "<pre>recommendations finished on 479000/1092096 queries. users per second: 1380.99</pre>"
      ],
      "text/plain": [
       "recommendations finished on 479000/1092096 queries. users per second: 1380.99"
      ]
     },
     "metadata": {},
     "output_type": "display_data"
    },
    {
     "data": {
      "text/html": [
       "<pre>recommendations finished on 480000/1092096 queries. users per second: 1380.65</pre>"
      ],
      "text/plain": [
       "recommendations finished on 480000/1092096 queries. users per second: 1380.65"
      ]
     },
     "metadata": {},
     "output_type": "display_data"
    },
    {
     "data": {
      "text/html": [
       "<pre>recommendations finished on 481000/1092096 queries. users per second: 1380.36</pre>"
      ],
      "text/plain": [
       "recommendations finished on 481000/1092096 queries. users per second: 1380.36"
      ]
     },
     "metadata": {},
     "output_type": "display_data"
    },
    {
     "data": {
      "text/html": [
       "<pre>recommendations finished on 482000/1092096 queries. users per second: 1380.24</pre>"
      ],
      "text/plain": [
       "recommendations finished on 482000/1092096 queries. users per second: 1380.24"
      ]
     },
     "metadata": {},
     "output_type": "display_data"
    },
    {
     "data": {
      "text/html": [
       "<pre>recommendations finished on 483000/1092096 queries. users per second: 1380.27</pre>"
      ],
      "text/plain": [
       "recommendations finished on 483000/1092096 queries. users per second: 1380.27"
      ]
     },
     "metadata": {},
     "output_type": "display_data"
    },
    {
     "data": {
      "text/html": [
       "<pre>recommendations finished on 484000/1092096 queries. users per second: 1379.51</pre>"
      ],
      "text/plain": [
       "recommendations finished on 484000/1092096 queries. users per second: 1379.51"
      ]
     },
     "metadata": {},
     "output_type": "display_data"
    },
    {
     "data": {
      "text/html": [
       "<pre>recommendations finished on 485000/1092096 queries. users per second: 1379.33</pre>"
      ],
      "text/plain": [
       "recommendations finished on 485000/1092096 queries. users per second: 1379.33"
      ]
     },
     "metadata": {},
     "output_type": "display_data"
    },
    {
     "data": {
      "text/html": [
       "<pre>recommendations finished on 486000/1092096 queries. users per second: 1379.03</pre>"
      ],
      "text/plain": [
       "recommendations finished on 486000/1092096 queries. users per second: 1379.03"
      ]
     },
     "metadata": {},
     "output_type": "display_data"
    },
    {
     "data": {
      "text/html": [
       "<pre>recommendations finished on 487000/1092096 queries. users per second: 1378.69</pre>"
      ],
      "text/plain": [
       "recommendations finished on 487000/1092096 queries. users per second: 1378.69"
      ]
     },
     "metadata": {},
     "output_type": "display_data"
    },
    {
     "data": {
      "text/html": [
       "<pre>recommendations finished on 488000/1092096 queries. users per second: 1378.28</pre>"
      ],
      "text/plain": [
       "recommendations finished on 488000/1092096 queries. users per second: 1378.28"
      ]
     },
     "metadata": {},
     "output_type": "display_data"
    },
    {
     "data": {
      "text/html": [
       "<pre>recommendations finished on 489000/1092096 queries. users per second: 1378.22</pre>"
      ],
      "text/plain": [
       "recommendations finished on 489000/1092096 queries. users per second: 1378.22"
      ]
     },
     "metadata": {},
     "output_type": "display_data"
    },
    {
     "data": {
      "text/html": [
       "<pre>recommendations finished on 490000/1092096 queries. users per second: 1377.87</pre>"
      ],
      "text/plain": [
       "recommendations finished on 490000/1092096 queries. users per second: 1377.87"
      ]
     },
     "metadata": {},
     "output_type": "display_data"
    },
    {
     "data": {
      "text/html": [
       "<pre>recommendations finished on 491000/1092096 queries. users per second: 1377.68</pre>"
      ],
      "text/plain": [
       "recommendations finished on 491000/1092096 queries. users per second: 1377.68"
      ]
     },
     "metadata": {},
     "output_type": "display_data"
    },
    {
     "data": {
      "text/html": [
       "<pre>recommendations finished on 492000/1092096 queries. users per second: 1377.46</pre>"
      ],
      "text/plain": [
       "recommendations finished on 492000/1092096 queries. users per second: 1377.46"
      ]
     },
     "metadata": {},
     "output_type": "display_data"
    },
    {
     "data": {
      "text/html": [
       "<pre>recommendations finished on 493000/1092096 queries. users per second: 1377.42</pre>"
      ],
      "text/plain": [
       "recommendations finished on 493000/1092096 queries. users per second: 1377.42"
      ]
     },
     "metadata": {},
     "output_type": "display_data"
    },
    {
     "data": {
      "text/html": [
       "<pre>recommendations finished on 494000/1092096 queries. users per second: 1377.55</pre>"
      ],
      "text/plain": [
       "recommendations finished on 494000/1092096 queries. users per second: 1377.55"
      ]
     },
     "metadata": {},
     "output_type": "display_data"
    },
    {
     "data": {
      "text/html": [
       "<pre>recommendations finished on 495000/1092096 queries. users per second: 1377.72</pre>"
      ],
      "text/plain": [
       "recommendations finished on 495000/1092096 queries. users per second: 1377.72"
      ]
     },
     "metadata": {},
     "output_type": "display_data"
    },
    {
     "data": {
      "text/html": [
       "<pre>recommendations finished on 496000/1092096 queries. users per second: 1377.92</pre>"
      ],
      "text/plain": [
       "recommendations finished on 496000/1092096 queries. users per second: 1377.92"
      ]
     },
     "metadata": {},
     "output_type": "display_data"
    },
    {
     "data": {
      "text/html": [
       "<pre>recommendations finished on 497000/1092096 queries. users per second: 1377.96</pre>"
      ],
      "text/plain": [
       "recommendations finished on 497000/1092096 queries. users per second: 1377.96"
      ]
     },
     "metadata": {},
     "output_type": "display_data"
    },
    {
     "data": {
      "text/html": [
       "<pre>recommendations finished on 498000/1092096 queries. users per second: 1377.55</pre>"
      ],
      "text/plain": [
       "recommendations finished on 498000/1092096 queries. users per second: 1377.55"
      ]
     },
     "metadata": {},
     "output_type": "display_data"
    },
    {
     "data": {
      "text/html": [
       "<pre>recommendations finished on 499000/1092096 queries. users per second: 1377.3</pre>"
      ],
      "text/plain": [
       "recommendations finished on 499000/1092096 queries. users per second: 1377.3"
      ]
     },
     "metadata": {},
     "output_type": "display_data"
    },
    {
     "data": {
      "text/html": [
       "<pre>recommendations finished on 500000/1092096 queries. users per second: 1376.66</pre>"
      ],
      "text/plain": [
       "recommendations finished on 500000/1092096 queries. users per second: 1376.66"
      ]
     },
     "metadata": {},
     "output_type": "display_data"
    },
    {
     "data": {
      "text/html": [
       "<pre>recommendations finished on 501000/1092096 queries. users per second: 1376.53</pre>"
      ],
      "text/plain": [
       "recommendations finished on 501000/1092096 queries. users per second: 1376.53"
      ]
     },
     "metadata": {},
     "output_type": "display_data"
    },
    {
     "data": {
      "text/html": [
       "<pre>recommendations finished on 502000/1092096 queries. users per second: 1376.5</pre>"
      ],
      "text/plain": [
       "recommendations finished on 502000/1092096 queries. users per second: 1376.5"
      ]
     },
     "metadata": {},
     "output_type": "display_data"
    },
    {
     "data": {
      "text/html": [
       "<pre>recommendations finished on 503000/1092096 queries. users per second: 1376.6</pre>"
      ],
      "text/plain": [
       "recommendations finished on 503000/1092096 queries. users per second: 1376.6"
      ]
     },
     "metadata": {},
     "output_type": "display_data"
    },
    {
     "data": {
      "text/html": [
       "<pre>recommendations finished on 504000/1092096 queries. users per second: 1376.7</pre>"
      ],
      "text/plain": [
       "recommendations finished on 504000/1092096 queries. users per second: 1376.7"
      ]
     },
     "metadata": {},
     "output_type": "display_data"
    },
    {
     "data": {
      "text/html": [
       "<pre>recommendations finished on 505000/1092096 queries. users per second: 1376.84</pre>"
      ],
      "text/plain": [
       "recommendations finished on 505000/1092096 queries. users per second: 1376.84"
      ]
     },
     "metadata": {},
     "output_type": "display_data"
    },
    {
     "data": {
      "text/html": [
       "<pre>recommendations finished on 506000/1092096 queries. users per second: 1376.86</pre>"
      ],
      "text/plain": [
       "recommendations finished on 506000/1092096 queries. users per second: 1376.86"
      ]
     },
     "metadata": {},
     "output_type": "display_data"
    },
    {
     "data": {
      "text/html": [
       "<pre>recommendations finished on 507000/1092096 queries. users per second: 1376.96</pre>"
      ],
      "text/plain": [
       "recommendations finished on 507000/1092096 queries. users per second: 1376.96"
      ]
     },
     "metadata": {},
     "output_type": "display_data"
    },
    {
     "data": {
      "text/html": [
       "<pre>recommendations finished on 508000/1092096 queries. users per second: 1377.11</pre>"
      ],
      "text/plain": [
       "recommendations finished on 508000/1092096 queries. users per second: 1377.11"
      ]
     },
     "metadata": {},
     "output_type": "display_data"
    },
    {
     "data": {
      "text/html": [
       "<pre>recommendations finished on 509000/1092096 queries. users per second: 1377.17</pre>"
      ],
      "text/plain": [
       "recommendations finished on 509000/1092096 queries. users per second: 1377.17"
      ]
     },
     "metadata": {},
     "output_type": "display_data"
    },
    {
     "data": {
      "text/html": [
       "<pre>recommendations finished on 510000/1092096 queries. users per second: 1377.15</pre>"
      ],
      "text/plain": [
       "recommendations finished on 510000/1092096 queries. users per second: 1377.15"
      ]
     },
     "metadata": {},
     "output_type": "display_data"
    },
    {
     "data": {
      "text/html": [
       "<pre>recommendations finished on 511000/1092096 queries. users per second: 1377.06</pre>"
      ],
      "text/plain": [
       "recommendations finished on 511000/1092096 queries. users per second: 1377.06"
      ]
     },
     "metadata": {},
     "output_type": "display_data"
    },
    {
     "data": {
      "text/html": [
       "<pre>recommendations finished on 512000/1092096 queries. users per second: 1376.98</pre>"
      ],
      "text/plain": [
       "recommendations finished on 512000/1092096 queries. users per second: 1376.98"
      ]
     },
     "metadata": {},
     "output_type": "display_data"
    },
    {
     "data": {
      "text/html": [
       "<pre>recommendations finished on 513000/1092096 queries. users per second: 1377.05</pre>"
      ],
      "text/plain": [
       "recommendations finished on 513000/1092096 queries. users per second: 1377.05"
      ]
     },
     "metadata": {},
     "output_type": "display_data"
    },
    {
     "data": {
      "text/html": [
       "<pre>recommendations finished on 514000/1092096 queries. users per second: 1377.16</pre>"
      ],
      "text/plain": [
       "recommendations finished on 514000/1092096 queries. users per second: 1377.16"
      ]
     },
     "metadata": {},
     "output_type": "display_data"
    },
    {
     "data": {
      "text/html": [
       "<pre>recommendations finished on 515000/1092096 queries. users per second: 1377.11</pre>"
      ],
      "text/plain": [
       "recommendations finished on 515000/1092096 queries. users per second: 1377.11"
      ]
     },
     "metadata": {},
     "output_type": "display_data"
    },
    {
     "data": {
      "text/html": [
       "<pre>recommendations finished on 516000/1092096 queries. users per second: 1377.02</pre>"
      ],
      "text/plain": [
       "recommendations finished on 516000/1092096 queries. users per second: 1377.02"
      ]
     },
     "metadata": {},
     "output_type": "display_data"
    },
    {
     "data": {
      "text/html": [
       "<pre>recommendations finished on 517000/1092096 queries. users per second: 1377.14</pre>"
      ],
      "text/plain": [
       "recommendations finished on 517000/1092096 queries. users per second: 1377.14"
      ]
     },
     "metadata": {},
     "output_type": "display_data"
    },
    {
     "data": {
      "text/html": [
       "<pre>recommendations finished on 518000/1092096 queries. users per second: 1377.3</pre>"
      ],
      "text/plain": [
       "recommendations finished on 518000/1092096 queries. users per second: 1377.3"
      ]
     },
     "metadata": {},
     "output_type": "display_data"
    },
    {
     "data": {
      "text/html": [
       "<pre>recommendations finished on 519000/1092096 queries. users per second: 1377.41</pre>"
      ],
      "text/plain": [
       "recommendations finished on 519000/1092096 queries. users per second: 1377.41"
      ]
     },
     "metadata": {},
     "output_type": "display_data"
    },
    {
     "data": {
      "text/html": [
       "<pre>recommendations finished on 520000/1092096 queries. users per second: 1377.57</pre>"
      ],
      "text/plain": [
       "recommendations finished on 520000/1092096 queries. users per second: 1377.57"
      ]
     },
     "metadata": {},
     "output_type": "display_data"
    },
    {
     "data": {
      "text/html": [
       "<pre>recommendations finished on 521000/1092096 queries. users per second: 1377.68</pre>"
      ],
      "text/plain": [
       "recommendations finished on 521000/1092096 queries. users per second: 1377.68"
      ]
     },
     "metadata": {},
     "output_type": "display_data"
    },
    {
     "data": {
      "text/html": [
       "<pre>recommendations finished on 522000/1092096 queries. users per second: 1377.77</pre>"
      ],
      "text/plain": [
       "recommendations finished on 522000/1092096 queries. users per second: 1377.77"
      ]
     },
     "metadata": {},
     "output_type": "display_data"
    },
    {
     "data": {
      "text/html": [
       "<pre>recommendations finished on 523000/1092096 queries. users per second: 1377.83</pre>"
      ],
      "text/plain": [
       "recommendations finished on 523000/1092096 queries. users per second: 1377.83"
      ]
     },
     "metadata": {},
     "output_type": "display_data"
    },
    {
     "data": {
      "text/html": [
       "<pre>recommendations finished on 524000/1092096 queries. users per second: 1377.93</pre>"
      ],
      "text/plain": [
       "recommendations finished on 524000/1092096 queries. users per second: 1377.93"
      ]
     },
     "metadata": {},
     "output_type": "display_data"
    },
    {
     "data": {
      "text/html": [
       "<pre>recommendations finished on 525000/1092096 queries. users per second: 1378.06</pre>"
      ],
      "text/plain": [
       "recommendations finished on 525000/1092096 queries. users per second: 1378.06"
      ]
     },
     "metadata": {},
     "output_type": "display_data"
    },
    {
     "data": {
      "text/html": [
       "<pre>recommendations finished on 526000/1092096 queries. users per second: 1378.19</pre>"
      ],
      "text/plain": [
       "recommendations finished on 526000/1092096 queries. users per second: 1378.19"
      ]
     },
     "metadata": {},
     "output_type": "display_data"
    },
    {
     "data": {
      "text/html": [
       "<pre>recommendations finished on 527000/1092096 queries. users per second: 1378.31</pre>"
      ],
      "text/plain": [
       "recommendations finished on 527000/1092096 queries. users per second: 1378.31"
      ]
     },
     "metadata": {},
     "output_type": "display_data"
    },
    {
     "data": {
      "text/html": [
       "<pre>recommendations finished on 528000/1092096 queries. users per second: 1378.44</pre>"
      ],
      "text/plain": [
       "recommendations finished on 528000/1092096 queries. users per second: 1378.44"
      ]
     },
     "metadata": {},
     "output_type": "display_data"
    },
    {
     "data": {
      "text/html": [
       "<pre>recommendations finished on 529000/1092096 queries. users per second: 1378.57</pre>"
      ],
      "text/plain": [
       "recommendations finished on 529000/1092096 queries. users per second: 1378.57"
      ]
     },
     "metadata": {},
     "output_type": "display_data"
    },
    {
     "data": {
      "text/html": [
       "<pre>recommendations finished on 530000/1092096 queries. users per second: 1378.71</pre>"
      ],
      "text/plain": [
       "recommendations finished on 530000/1092096 queries. users per second: 1378.71"
      ]
     },
     "metadata": {},
     "output_type": "display_data"
    },
    {
     "data": {
      "text/html": [
       "<pre>recommendations finished on 531000/1092096 queries. users per second: 1378.78</pre>"
      ],
      "text/plain": [
       "recommendations finished on 531000/1092096 queries. users per second: 1378.78"
      ]
     },
     "metadata": {},
     "output_type": "display_data"
    },
    {
     "data": {
      "text/html": [
       "<pre>recommendations finished on 532000/1092096 queries. users per second: 1378.9</pre>"
      ],
      "text/plain": [
       "recommendations finished on 532000/1092096 queries. users per second: 1378.9"
      ]
     },
     "metadata": {},
     "output_type": "display_data"
    },
    {
     "data": {
      "text/html": [
       "<pre>recommendations finished on 533000/1092096 queries. users per second: 1379.03</pre>"
      ],
      "text/plain": [
       "recommendations finished on 533000/1092096 queries. users per second: 1379.03"
      ]
     },
     "metadata": {},
     "output_type": "display_data"
    },
    {
     "data": {
      "text/html": [
       "<pre>recommendations finished on 534000/1092096 queries. users per second: 1379.17</pre>"
      ],
      "text/plain": [
       "recommendations finished on 534000/1092096 queries. users per second: 1379.17"
      ]
     },
     "metadata": {},
     "output_type": "display_data"
    },
    {
     "data": {
      "text/html": [
       "<pre>recommendations finished on 535000/1092096 queries. users per second: 1379.3</pre>"
      ],
      "text/plain": [
       "recommendations finished on 535000/1092096 queries. users per second: 1379.3"
      ]
     },
     "metadata": {},
     "output_type": "display_data"
    },
    {
     "data": {
      "text/html": [
       "<pre>recommendations finished on 536000/1092096 queries. users per second: 1379.43</pre>"
      ],
      "text/plain": [
       "recommendations finished on 536000/1092096 queries. users per second: 1379.43"
      ]
     },
     "metadata": {},
     "output_type": "display_data"
    },
    {
     "data": {
      "text/html": [
       "<pre>recommendations finished on 537000/1092096 queries. users per second: 1379.55</pre>"
      ],
      "text/plain": [
       "recommendations finished on 537000/1092096 queries. users per second: 1379.55"
      ]
     },
     "metadata": {},
     "output_type": "display_data"
    },
    {
     "data": {
      "text/html": [
       "<pre>recommendations finished on 538000/1092096 queries. users per second: 1379.62</pre>"
      ],
      "text/plain": [
       "recommendations finished on 538000/1092096 queries. users per second: 1379.62"
      ]
     },
     "metadata": {},
     "output_type": "display_data"
    },
    {
     "data": {
      "text/html": [
       "<pre>recommendations finished on 539000/1092096 queries. users per second: 1379.5</pre>"
      ],
      "text/plain": [
       "recommendations finished on 539000/1092096 queries. users per second: 1379.5"
      ]
     },
     "metadata": {},
     "output_type": "display_data"
    },
    {
     "data": {
      "text/html": [
       "<pre>recommendations finished on 540000/1092096 queries. users per second: 1379.38</pre>"
      ],
      "text/plain": [
       "recommendations finished on 540000/1092096 queries. users per second: 1379.38"
      ]
     },
     "metadata": {},
     "output_type": "display_data"
    },
    {
     "data": {
      "text/html": [
       "<pre>recommendations finished on 541000/1092096 queries. users per second: 1379.14</pre>"
      ],
      "text/plain": [
       "recommendations finished on 541000/1092096 queries. users per second: 1379.14"
      ]
     },
     "metadata": {},
     "output_type": "display_data"
    },
    {
     "data": {
      "text/html": [
       "<pre>recommendations finished on 542000/1092096 queries. users per second: 1378.97</pre>"
      ],
      "text/plain": [
       "recommendations finished on 542000/1092096 queries. users per second: 1378.97"
      ]
     },
     "metadata": {},
     "output_type": "display_data"
    },
    {
     "data": {
      "text/html": [
       "<pre>recommendations finished on 543000/1092096 queries. users per second: 1378.61</pre>"
      ],
      "text/plain": [
       "recommendations finished on 543000/1092096 queries. users per second: 1378.61"
      ]
     },
     "metadata": {},
     "output_type": "display_data"
    },
    {
     "data": {
      "text/html": [
       "<pre>recommendations finished on 544000/1092096 queries. users per second: 1378.35</pre>"
      ],
      "text/plain": [
       "recommendations finished on 544000/1092096 queries. users per second: 1378.35"
      ]
     },
     "metadata": {},
     "output_type": "display_data"
    },
    {
     "data": {
      "text/html": [
       "<pre>recommendations finished on 545000/1092096 queries. users per second: 1377.89</pre>"
      ],
      "text/plain": [
       "recommendations finished on 545000/1092096 queries. users per second: 1377.89"
      ]
     },
     "metadata": {},
     "output_type": "display_data"
    },
    {
     "data": {
      "text/html": [
       "<pre>recommendations finished on 546000/1092096 queries. users per second: 1377.48</pre>"
      ],
      "text/plain": [
       "recommendations finished on 546000/1092096 queries. users per second: 1377.48"
      ]
     },
     "metadata": {},
     "output_type": "display_data"
    },
    {
     "data": {
      "text/html": [
       "<pre>recommendations finished on 547000/1092096 queries. users per second: 1377.14</pre>"
      ],
      "text/plain": [
       "recommendations finished on 547000/1092096 queries. users per second: 1377.14"
      ]
     },
     "metadata": {},
     "output_type": "display_data"
    },
    {
     "data": {
      "text/html": [
       "<pre>recommendations finished on 548000/1092096 queries. users per second: 1376.91</pre>"
      ],
      "text/plain": [
       "recommendations finished on 548000/1092096 queries. users per second: 1376.91"
      ]
     },
     "metadata": {},
     "output_type": "display_data"
    },
    {
     "data": {
      "text/html": [
       "<pre>recommendations finished on 549000/1092096 queries. users per second: 1376.95</pre>"
      ],
      "text/plain": [
       "recommendations finished on 549000/1092096 queries. users per second: 1376.95"
      ]
     },
     "metadata": {},
     "output_type": "display_data"
    },
    {
     "data": {
      "text/html": [
       "<pre>recommendations finished on 550000/1092096 queries. users per second: 1376.81</pre>"
      ],
      "text/plain": [
       "recommendations finished on 550000/1092096 queries. users per second: 1376.81"
      ]
     },
     "metadata": {},
     "output_type": "display_data"
    },
    {
     "data": {
      "text/html": [
       "<pre>recommendations finished on 551000/1092096 queries. users per second: 1376.52</pre>"
      ],
      "text/plain": [
       "recommendations finished on 551000/1092096 queries. users per second: 1376.52"
      ]
     },
     "metadata": {},
     "output_type": "display_data"
    },
    {
     "data": {
      "text/html": [
       "<pre>recommendations finished on 552000/1092096 queries. users per second: 1376.5</pre>"
      ],
      "text/plain": [
       "recommendations finished on 552000/1092096 queries. users per second: 1376.5"
      ]
     },
     "metadata": {},
     "output_type": "display_data"
    },
    {
     "data": {
      "text/html": [
       "<pre>recommendations finished on 553000/1092096 queries. users per second: 1376.43</pre>"
      ],
      "text/plain": [
       "recommendations finished on 553000/1092096 queries. users per second: 1376.43"
      ]
     },
     "metadata": {},
     "output_type": "display_data"
    },
    {
     "data": {
      "text/html": [
       "<pre>recommendations finished on 554000/1092096 queries. users per second: 1376.46</pre>"
      ],
      "text/plain": [
       "recommendations finished on 554000/1092096 queries. users per second: 1376.46"
      ]
     },
     "metadata": {},
     "output_type": "display_data"
    },
    {
     "data": {
      "text/html": [
       "<pre>recommendations finished on 555000/1092096 queries. users per second: 1376.23</pre>"
      ],
      "text/plain": [
       "recommendations finished on 555000/1092096 queries. users per second: 1376.23"
      ]
     },
     "metadata": {},
     "output_type": "display_data"
    },
    {
     "data": {
      "text/html": [
       "<pre>recommendations finished on 556000/1092096 queries. users per second: 1375.88</pre>"
      ],
      "text/plain": [
       "recommendations finished on 556000/1092096 queries. users per second: 1375.88"
      ]
     },
     "metadata": {},
     "output_type": "display_data"
    },
    {
     "data": {
      "text/html": [
       "<pre>recommendations finished on 557000/1092096 queries. users per second: 1375.88</pre>"
      ],
      "text/plain": [
       "recommendations finished on 557000/1092096 queries. users per second: 1375.88"
      ]
     },
     "metadata": {},
     "output_type": "display_data"
    },
    {
     "data": {
      "text/html": [
       "<pre>recommendations finished on 558000/1092096 queries. users per second: 1375.89</pre>"
      ],
      "text/plain": [
       "recommendations finished on 558000/1092096 queries. users per second: 1375.89"
      ]
     },
     "metadata": {},
     "output_type": "display_data"
    },
    {
     "data": {
      "text/html": [
       "<pre>recommendations finished on 559000/1092096 queries. users per second: 1375.95</pre>"
      ],
      "text/plain": [
       "recommendations finished on 559000/1092096 queries. users per second: 1375.95"
      ]
     },
     "metadata": {},
     "output_type": "display_data"
    },
    {
     "data": {
      "text/html": [
       "<pre>recommendations finished on 560000/1092096 queries. users per second: 1376.02</pre>"
      ],
      "text/plain": [
       "recommendations finished on 560000/1092096 queries. users per second: 1376.02"
      ]
     },
     "metadata": {},
     "output_type": "display_data"
    },
    {
     "data": {
      "text/html": [
       "<pre>recommendations finished on 561000/1092096 queries. users per second: 1376.08</pre>"
      ],
      "text/plain": [
       "recommendations finished on 561000/1092096 queries. users per second: 1376.08"
      ]
     },
     "metadata": {},
     "output_type": "display_data"
    },
    {
     "data": {
      "text/html": [
       "<pre>recommendations finished on 562000/1092096 queries. users per second: 1376.15</pre>"
      ],
      "text/plain": [
       "recommendations finished on 562000/1092096 queries. users per second: 1376.15"
      ]
     },
     "metadata": {},
     "output_type": "display_data"
    },
    {
     "data": {
      "text/html": [
       "<pre>recommendations finished on 563000/1092096 queries. users per second: 1376.21</pre>"
      ],
      "text/plain": [
       "recommendations finished on 563000/1092096 queries. users per second: 1376.21"
      ]
     },
     "metadata": {},
     "output_type": "display_data"
    },
    {
     "data": {
      "text/html": [
       "<pre>recommendations finished on 564000/1092096 queries. users per second: 1376.36</pre>"
      ],
      "text/plain": [
       "recommendations finished on 564000/1092096 queries. users per second: 1376.36"
      ]
     },
     "metadata": {},
     "output_type": "display_data"
    },
    {
     "data": {
      "text/html": [
       "<pre>recommendations finished on 565000/1092096 queries. users per second: 1376.48</pre>"
      ],
      "text/plain": [
       "recommendations finished on 565000/1092096 queries. users per second: 1376.48"
      ]
     },
     "metadata": {},
     "output_type": "display_data"
    },
    {
     "data": {
      "text/html": [
       "<pre>recommendations finished on 566000/1092096 queries. users per second: 1376.59</pre>"
      ],
      "text/plain": [
       "recommendations finished on 566000/1092096 queries. users per second: 1376.59"
      ]
     },
     "metadata": {},
     "output_type": "display_data"
    },
    {
     "data": {
      "text/html": [
       "<pre>recommendations finished on 567000/1092096 queries. users per second: 1376.72</pre>"
      ],
      "text/plain": [
       "recommendations finished on 567000/1092096 queries. users per second: 1376.72"
      ]
     },
     "metadata": {},
     "output_type": "display_data"
    },
    {
     "data": {
      "text/html": [
       "<pre>recommendations finished on 568000/1092096 queries. users per second: 1376.82</pre>"
      ],
      "text/plain": [
       "recommendations finished on 568000/1092096 queries. users per second: 1376.82"
      ]
     },
     "metadata": {},
     "output_type": "display_data"
    },
    {
     "data": {
      "text/html": [
       "<pre>recommendations finished on 569000/1092096 queries. users per second: 1376.94</pre>"
      ],
      "text/plain": [
       "recommendations finished on 569000/1092096 queries. users per second: 1376.94"
      ]
     },
     "metadata": {},
     "output_type": "display_data"
    },
    {
     "data": {
      "text/html": [
       "<pre>recommendations finished on 570000/1092096 queries. users per second: 1377.04</pre>"
      ],
      "text/plain": [
       "recommendations finished on 570000/1092096 queries. users per second: 1377.04"
      ]
     },
     "metadata": {},
     "output_type": "display_data"
    },
    {
     "data": {
      "text/html": [
       "<pre>recommendations finished on 571000/1092096 queries. users per second: 1377.16</pre>"
      ],
      "text/plain": [
       "recommendations finished on 571000/1092096 queries. users per second: 1377.16"
      ]
     },
     "metadata": {},
     "output_type": "display_data"
    },
    {
     "data": {
      "text/html": [
       "<pre>recommendations finished on 572000/1092096 queries. users per second: 1377.28</pre>"
      ],
      "text/plain": [
       "recommendations finished on 572000/1092096 queries. users per second: 1377.28"
      ]
     },
     "metadata": {},
     "output_type": "display_data"
    },
    {
     "data": {
      "text/html": [
       "<pre>recommendations finished on 573000/1092096 queries. users per second: 1377.41</pre>"
      ],
      "text/plain": [
       "recommendations finished on 573000/1092096 queries. users per second: 1377.41"
      ]
     },
     "metadata": {},
     "output_type": "display_data"
    },
    {
     "data": {
      "text/html": [
       "<pre>recommendations finished on 574000/1092096 queries. users per second: 1377.55</pre>"
      ],
      "text/plain": [
       "recommendations finished on 574000/1092096 queries. users per second: 1377.55"
      ]
     },
     "metadata": {},
     "output_type": "display_data"
    },
    {
     "data": {
      "text/html": [
       "<pre>recommendations finished on 575000/1092096 queries. users per second: 1377.66</pre>"
      ],
      "text/plain": [
       "recommendations finished on 575000/1092096 queries. users per second: 1377.66"
      ]
     },
     "metadata": {},
     "output_type": "display_data"
    },
    {
     "data": {
      "text/html": [
       "<pre>recommendations finished on 576000/1092096 queries. users per second: 1377.78</pre>"
      ],
      "text/plain": [
       "recommendations finished on 576000/1092096 queries. users per second: 1377.78"
      ]
     },
     "metadata": {},
     "output_type": "display_data"
    },
    {
     "data": {
      "text/html": [
       "<pre>recommendations finished on 577000/1092096 queries. users per second: 1377.92</pre>"
      ],
      "text/plain": [
       "recommendations finished on 577000/1092096 queries. users per second: 1377.92"
      ]
     },
     "metadata": {},
     "output_type": "display_data"
    },
    {
     "data": {
      "text/html": [
       "<pre>recommendations finished on 578000/1092096 queries. users per second: 1378.05</pre>"
      ],
      "text/plain": [
       "recommendations finished on 578000/1092096 queries. users per second: 1378.05"
      ]
     },
     "metadata": {},
     "output_type": "display_data"
    },
    {
     "data": {
      "text/html": [
       "<pre>recommendations finished on 579000/1092096 queries. users per second: 1378.2</pre>"
      ],
      "text/plain": [
       "recommendations finished on 579000/1092096 queries. users per second: 1378.2"
      ]
     },
     "metadata": {},
     "output_type": "display_data"
    },
    {
     "data": {
      "text/html": [
       "<pre>recommendations finished on 580000/1092096 queries. users per second: 1378.35</pre>"
      ],
      "text/plain": [
       "recommendations finished on 580000/1092096 queries. users per second: 1378.35"
      ]
     },
     "metadata": {},
     "output_type": "display_data"
    },
    {
     "data": {
      "text/html": [
       "<pre>recommendations finished on 581000/1092096 queries. users per second: 1378.5</pre>"
      ],
      "text/plain": [
       "recommendations finished on 581000/1092096 queries. users per second: 1378.5"
      ]
     },
     "metadata": {},
     "output_type": "display_data"
    },
    {
     "data": {
      "text/html": [
       "<pre>recommendations finished on 582000/1092096 queries. users per second: 1378.64</pre>"
      ],
      "text/plain": [
       "recommendations finished on 582000/1092096 queries. users per second: 1378.64"
      ]
     },
     "metadata": {},
     "output_type": "display_data"
    },
    {
     "data": {
      "text/html": [
       "<pre>recommendations finished on 583000/1092096 queries. users per second: 1378.81</pre>"
      ],
      "text/plain": [
       "recommendations finished on 583000/1092096 queries. users per second: 1378.81"
      ]
     },
     "metadata": {},
     "output_type": "display_data"
    },
    {
     "data": {
      "text/html": [
       "<pre>recommendations finished on 584000/1092096 queries. users per second: 1378.97</pre>"
      ],
      "text/plain": [
       "recommendations finished on 584000/1092096 queries. users per second: 1378.97"
      ]
     },
     "metadata": {},
     "output_type": "display_data"
    },
    {
     "data": {
      "text/html": [
       "<pre>recommendations finished on 585000/1092096 queries. users per second: 1379.1</pre>"
      ],
      "text/plain": [
       "recommendations finished on 585000/1092096 queries. users per second: 1379.1"
      ]
     },
     "metadata": {},
     "output_type": "display_data"
    },
    {
     "data": {
      "text/html": [
       "<pre>recommendations finished on 586000/1092096 queries. users per second: 1379.23</pre>"
      ],
      "text/plain": [
       "recommendations finished on 586000/1092096 queries. users per second: 1379.23"
      ]
     },
     "metadata": {},
     "output_type": "display_data"
    },
    {
     "data": {
      "text/html": [
       "<pre>recommendations finished on 587000/1092096 queries. users per second: 1379.36</pre>"
      ],
      "text/plain": [
       "recommendations finished on 587000/1092096 queries. users per second: 1379.36"
      ]
     },
     "metadata": {},
     "output_type": "display_data"
    },
    {
     "data": {
      "text/html": [
       "<pre>recommendations finished on 588000/1092096 queries. users per second: 1379.46</pre>"
      ],
      "text/plain": [
       "recommendations finished on 588000/1092096 queries. users per second: 1379.46"
      ]
     },
     "metadata": {},
     "output_type": "display_data"
    },
    {
     "data": {
      "text/html": [
       "<pre>recommendations finished on 589000/1092096 queries. users per second: 1379.59</pre>"
      ],
      "text/plain": [
       "recommendations finished on 589000/1092096 queries. users per second: 1379.59"
      ]
     },
     "metadata": {},
     "output_type": "display_data"
    },
    {
     "data": {
      "text/html": [
       "<pre>recommendations finished on 590000/1092096 queries. users per second: 1379.72</pre>"
      ],
      "text/plain": [
       "recommendations finished on 590000/1092096 queries. users per second: 1379.72"
      ]
     },
     "metadata": {},
     "output_type": "display_data"
    },
    {
     "data": {
      "text/html": [
       "<pre>recommendations finished on 591000/1092096 queries. users per second: 1379.87</pre>"
      ],
      "text/plain": [
       "recommendations finished on 591000/1092096 queries. users per second: 1379.87"
      ]
     },
     "metadata": {},
     "output_type": "display_data"
    },
    {
     "data": {
      "text/html": [
       "<pre>recommendations finished on 592000/1092096 queries. users per second: 1380</pre>"
      ],
      "text/plain": [
       "recommendations finished on 592000/1092096 queries. users per second: 1380"
      ]
     },
     "metadata": {},
     "output_type": "display_data"
    },
    {
     "data": {
      "text/html": [
       "<pre>recommendations finished on 593000/1092096 queries. users per second: 1380.12</pre>"
      ],
      "text/plain": [
       "recommendations finished on 593000/1092096 queries. users per second: 1380.12"
      ]
     },
     "metadata": {},
     "output_type": "display_data"
    },
    {
     "data": {
      "text/html": [
       "<pre>recommendations finished on 594000/1092096 queries. users per second: 1380.23</pre>"
      ],
      "text/plain": [
       "recommendations finished on 594000/1092096 queries. users per second: 1380.23"
      ]
     },
     "metadata": {},
     "output_type": "display_data"
    },
    {
     "data": {
      "text/html": [
       "<pre>recommendations finished on 595000/1092096 queries. users per second: 1380.36</pre>"
      ],
      "text/plain": [
       "recommendations finished on 595000/1092096 queries. users per second: 1380.36"
      ]
     },
     "metadata": {},
     "output_type": "display_data"
    },
    {
     "data": {
      "text/html": [
       "<pre>recommendations finished on 596000/1092096 queries. users per second: 1380.49</pre>"
      ],
      "text/plain": [
       "recommendations finished on 596000/1092096 queries. users per second: 1380.49"
      ]
     },
     "metadata": {},
     "output_type": "display_data"
    },
    {
     "data": {
      "text/html": [
       "<pre>recommendations finished on 597000/1092096 queries. users per second: 1380.6</pre>"
      ],
      "text/plain": [
       "recommendations finished on 597000/1092096 queries. users per second: 1380.6"
      ]
     },
     "metadata": {},
     "output_type": "display_data"
    },
    {
     "data": {
      "text/html": [
       "<pre>recommendations finished on 598000/1092096 queries. users per second: 1380.74</pre>"
      ],
      "text/plain": [
       "recommendations finished on 598000/1092096 queries. users per second: 1380.74"
      ]
     },
     "metadata": {},
     "output_type": "display_data"
    },
    {
     "data": {
      "text/html": [
       "<pre>recommendations finished on 599000/1092096 queries. users per second: 1380.87</pre>"
      ],
      "text/plain": [
       "recommendations finished on 599000/1092096 queries. users per second: 1380.87"
      ]
     },
     "metadata": {},
     "output_type": "display_data"
    },
    {
     "data": {
      "text/html": [
       "<pre>recommendations finished on 600000/1092096 queries. users per second: 1380.97</pre>"
      ],
      "text/plain": [
       "recommendations finished on 600000/1092096 queries. users per second: 1380.97"
      ]
     },
     "metadata": {},
     "output_type": "display_data"
    },
    {
     "data": {
      "text/html": [
       "<pre>recommendations finished on 601000/1092096 queries. users per second: 1381.09</pre>"
      ],
      "text/plain": [
       "recommendations finished on 601000/1092096 queries. users per second: 1381.09"
      ]
     },
     "metadata": {},
     "output_type": "display_data"
    },
    {
     "data": {
      "text/html": [
       "<pre>recommendations finished on 602000/1092096 queries. users per second: 1381.23</pre>"
      ],
      "text/plain": [
       "recommendations finished on 602000/1092096 queries. users per second: 1381.23"
      ]
     },
     "metadata": {},
     "output_type": "display_data"
    },
    {
     "data": {
      "text/html": [
       "<pre>recommendations finished on 603000/1092096 queries. users per second: 1381.39</pre>"
      ],
      "text/plain": [
       "recommendations finished on 603000/1092096 queries. users per second: 1381.39"
      ]
     },
     "metadata": {},
     "output_type": "display_data"
    },
    {
     "data": {
      "text/html": [
       "<pre>recommendations finished on 604000/1092096 queries. users per second: 1381.51</pre>"
      ],
      "text/plain": [
       "recommendations finished on 604000/1092096 queries. users per second: 1381.51"
      ]
     },
     "metadata": {},
     "output_type": "display_data"
    },
    {
     "data": {
      "text/html": [
       "<pre>recommendations finished on 605000/1092096 queries. users per second: 1381.66</pre>"
      ],
      "text/plain": [
       "recommendations finished on 605000/1092096 queries. users per second: 1381.66"
      ]
     },
     "metadata": {},
     "output_type": "display_data"
    },
    {
     "data": {
      "text/html": [
       "<pre>recommendations finished on 606000/1092096 queries. users per second: 1381.77</pre>"
      ],
      "text/plain": [
       "recommendations finished on 606000/1092096 queries. users per second: 1381.77"
      ]
     },
     "metadata": {},
     "output_type": "display_data"
    },
    {
     "data": {
      "text/html": [
       "<pre>recommendations finished on 607000/1092096 queries. users per second: 1381.91</pre>"
      ],
      "text/plain": [
       "recommendations finished on 607000/1092096 queries. users per second: 1381.91"
      ]
     },
     "metadata": {},
     "output_type": "display_data"
    },
    {
     "data": {
      "text/html": [
       "<pre>recommendations finished on 608000/1092096 queries. users per second: 1382.08</pre>"
      ],
      "text/plain": [
       "recommendations finished on 608000/1092096 queries. users per second: 1382.08"
      ]
     },
     "metadata": {},
     "output_type": "display_data"
    },
    {
     "data": {
      "text/html": [
       "<pre>recommendations finished on 609000/1092096 queries. users per second: 1382.23</pre>"
      ],
      "text/plain": [
       "recommendations finished on 609000/1092096 queries. users per second: 1382.23"
      ]
     },
     "metadata": {},
     "output_type": "display_data"
    },
    {
     "data": {
      "text/html": [
       "<pre>recommendations finished on 610000/1092096 queries. users per second: 1382.37</pre>"
      ],
      "text/plain": [
       "recommendations finished on 610000/1092096 queries. users per second: 1382.37"
      ]
     },
     "metadata": {},
     "output_type": "display_data"
    },
    {
     "data": {
      "text/html": [
       "<pre>recommendations finished on 611000/1092096 queries. users per second: 1382.5</pre>"
      ],
      "text/plain": [
       "recommendations finished on 611000/1092096 queries. users per second: 1382.5"
      ]
     },
     "metadata": {},
     "output_type": "display_data"
    },
    {
     "data": {
      "text/html": [
       "<pre>recommendations finished on 612000/1092096 queries. users per second: 1382.61</pre>"
      ],
      "text/plain": [
       "recommendations finished on 612000/1092096 queries. users per second: 1382.61"
      ]
     },
     "metadata": {},
     "output_type": "display_data"
    },
    {
     "data": {
      "text/html": [
       "<pre>recommendations finished on 613000/1092096 queries. users per second: 1382.72</pre>"
      ],
      "text/plain": [
       "recommendations finished on 613000/1092096 queries. users per second: 1382.72"
      ]
     },
     "metadata": {},
     "output_type": "display_data"
    },
    {
     "data": {
      "text/html": [
       "<pre>recommendations finished on 614000/1092096 queries. users per second: 1382.87</pre>"
      ],
      "text/plain": [
       "recommendations finished on 614000/1092096 queries. users per second: 1382.87"
      ]
     },
     "metadata": {},
     "output_type": "display_data"
    },
    {
     "data": {
      "text/html": [
       "<pre>recommendations finished on 615000/1092096 queries. users per second: 1382.98</pre>"
      ],
      "text/plain": [
       "recommendations finished on 615000/1092096 queries. users per second: 1382.98"
      ]
     },
     "metadata": {},
     "output_type": "display_data"
    },
    {
     "data": {
      "text/html": [
       "<pre>recommendations finished on 616000/1092096 queries. users per second: 1383.1</pre>"
      ],
      "text/plain": [
       "recommendations finished on 616000/1092096 queries. users per second: 1383.1"
      ]
     },
     "metadata": {},
     "output_type": "display_data"
    },
    {
     "data": {
      "text/html": [
       "<pre>recommendations finished on 617000/1092096 queries. users per second: 1383.24</pre>"
      ],
      "text/plain": [
       "recommendations finished on 617000/1092096 queries. users per second: 1383.24"
      ]
     },
     "metadata": {},
     "output_type": "display_data"
    },
    {
     "data": {
      "text/html": [
       "<pre>recommendations finished on 618000/1092096 queries. users per second: 1383.36</pre>"
      ],
      "text/plain": [
       "recommendations finished on 618000/1092096 queries. users per second: 1383.36"
      ]
     },
     "metadata": {},
     "output_type": "display_data"
    },
    {
     "data": {
      "text/html": [
       "<pre>recommendations finished on 619000/1092096 queries. users per second: 1383.44</pre>"
      ],
      "text/plain": [
       "recommendations finished on 619000/1092096 queries. users per second: 1383.44"
      ]
     },
     "metadata": {},
     "output_type": "display_data"
    },
    {
     "data": {
      "text/html": [
       "<pre>recommendations finished on 620000/1092096 queries. users per second: 1383.56</pre>"
      ],
      "text/plain": [
       "recommendations finished on 620000/1092096 queries. users per second: 1383.56"
      ]
     },
     "metadata": {},
     "output_type": "display_data"
    },
    {
     "data": {
      "text/html": [
       "<pre>recommendations finished on 621000/1092096 queries. users per second: 1383.64</pre>"
      ],
      "text/plain": [
       "recommendations finished on 621000/1092096 queries. users per second: 1383.64"
      ]
     },
     "metadata": {},
     "output_type": "display_data"
    },
    {
     "data": {
      "text/html": [
       "<pre>recommendations finished on 622000/1092096 queries. users per second: 1383.75</pre>"
      ],
      "text/plain": [
       "recommendations finished on 622000/1092096 queries. users per second: 1383.75"
      ]
     },
     "metadata": {},
     "output_type": "display_data"
    },
    {
     "data": {
      "text/html": [
       "<pre>recommendations finished on 623000/1092096 queries. users per second: 1383.88</pre>"
      ],
      "text/plain": [
       "recommendations finished on 623000/1092096 queries. users per second: 1383.88"
      ]
     },
     "metadata": {},
     "output_type": "display_data"
    },
    {
     "data": {
      "text/html": [
       "<pre>recommendations finished on 624000/1092096 queries. users per second: 1383.96</pre>"
      ],
      "text/plain": [
       "recommendations finished on 624000/1092096 queries. users per second: 1383.96"
      ]
     },
     "metadata": {},
     "output_type": "display_data"
    },
    {
     "data": {
      "text/html": [
       "<pre>recommendations finished on 625000/1092096 queries. users per second: 1384.06</pre>"
      ],
      "text/plain": [
       "recommendations finished on 625000/1092096 queries. users per second: 1384.06"
      ]
     },
     "metadata": {},
     "output_type": "display_data"
    },
    {
     "data": {
      "text/html": [
       "<pre>recommendations finished on 626000/1092096 queries. users per second: 1384.14</pre>"
      ],
      "text/plain": [
       "recommendations finished on 626000/1092096 queries. users per second: 1384.14"
      ]
     },
     "metadata": {},
     "output_type": "display_data"
    },
    {
     "data": {
      "text/html": [
       "<pre>recommendations finished on 627000/1092096 queries. users per second: 1384.26</pre>"
      ],
      "text/plain": [
       "recommendations finished on 627000/1092096 queries. users per second: 1384.26"
      ]
     },
     "metadata": {},
     "output_type": "display_data"
    },
    {
     "data": {
      "text/html": [
       "<pre>recommendations finished on 628000/1092096 queries. users per second: 1384.37</pre>"
      ],
      "text/plain": [
       "recommendations finished on 628000/1092096 queries. users per second: 1384.37"
      ]
     },
     "metadata": {},
     "output_type": "display_data"
    },
    {
     "data": {
      "text/html": [
       "<pre>recommendations finished on 629000/1092096 queries. users per second: 1384.47</pre>"
      ],
      "text/plain": [
       "recommendations finished on 629000/1092096 queries. users per second: 1384.47"
      ]
     },
     "metadata": {},
     "output_type": "display_data"
    },
    {
     "data": {
      "text/html": [
       "<pre>recommendations finished on 630000/1092096 queries. users per second: 1384.59</pre>"
      ],
      "text/plain": [
       "recommendations finished on 630000/1092096 queries. users per second: 1384.59"
      ]
     },
     "metadata": {},
     "output_type": "display_data"
    },
    {
     "data": {
      "text/html": [
       "<pre>recommendations finished on 631000/1092096 queries. users per second: 1384.67</pre>"
      ],
      "text/plain": [
       "recommendations finished on 631000/1092096 queries. users per second: 1384.67"
      ]
     },
     "metadata": {},
     "output_type": "display_data"
    },
    {
     "data": {
      "text/html": [
       "<pre>recommendations finished on 632000/1092096 queries. users per second: 1384.79</pre>"
      ],
      "text/plain": [
       "recommendations finished on 632000/1092096 queries. users per second: 1384.79"
      ]
     },
     "metadata": {},
     "output_type": "display_data"
    },
    {
     "data": {
      "text/html": [
       "<pre>recommendations finished on 633000/1092096 queries. users per second: 1384.94</pre>"
      ],
      "text/plain": [
       "recommendations finished on 633000/1092096 queries. users per second: 1384.94"
      ]
     },
     "metadata": {},
     "output_type": "display_data"
    },
    {
     "data": {
      "text/html": [
       "<pre>recommendations finished on 634000/1092096 queries. users per second: 1385.05</pre>"
      ],
      "text/plain": [
       "recommendations finished on 634000/1092096 queries. users per second: 1385.05"
      ]
     },
     "metadata": {},
     "output_type": "display_data"
    },
    {
     "data": {
      "text/html": [
       "<pre>recommendations finished on 635000/1092096 queries. users per second: 1385.19</pre>"
      ],
      "text/plain": [
       "recommendations finished on 635000/1092096 queries. users per second: 1385.19"
      ]
     },
     "metadata": {},
     "output_type": "display_data"
    },
    {
     "data": {
      "text/html": [
       "<pre>recommendations finished on 636000/1092096 queries. users per second: 1385.31</pre>"
      ],
      "text/plain": [
       "recommendations finished on 636000/1092096 queries. users per second: 1385.31"
      ]
     },
     "metadata": {},
     "output_type": "display_data"
    },
    {
     "data": {
      "text/html": [
       "<pre>recommendations finished on 637000/1092096 queries. users per second: 1385.39</pre>"
      ],
      "text/plain": [
       "recommendations finished on 637000/1092096 queries. users per second: 1385.39"
      ]
     },
     "metadata": {},
     "output_type": "display_data"
    },
    {
     "data": {
      "text/html": [
       "<pre>recommendations finished on 638000/1092096 queries. users per second: 1385.42</pre>"
      ],
      "text/plain": [
       "recommendations finished on 638000/1092096 queries. users per second: 1385.42"
      ]
     },
     "metadata": {},
     "output_type": "display_data"
    },
    {
     "data": {
      "text/html": [
       "<pre>recommendations finished on 639000/1092096 queries. users per second: 1385.43</pre>"
      ],
      "text/plain": [
       "recommendations finished on 639000/1092096 queries. users per second: 1385.43"
      ]
     },
     "metadata": {},
     "output_type": "display_data"
    },
    {
     "data": {
      "text/html": [
       "<pre>recommendations finished on 640000/1092096 queries. users per second: 1385.48</pre>"
      ],
      "text/plain": [
       "recommendations finished on 640000/1092096 queries. users per second: 1385.48"
      ]
     },
     "metadata": {},
     "output_type": "display_data"
    },
    {
     "data": {
      "text/html": [
       "<pre>recommendations finished on 641000/1092096 queries. users per second: 1385.58</pre>"
      ],
      "text/plain": [
       "recommendations finished on 641000/1092096 queries. users per second: 1385.58"
      ]
     },
     "metadata": {},
     "output_type": "display_data"
    },
    {
     "data": {
      "text/html": [
       "<pre>recommendations finished on 642000/1092096 queries. users per second: 1385.71</pre>"
      ],
      "text/plain": [
       "recommendations finished on 642000/1092096 queries. users per second: 1385.71"
      ]
     },
     "metadata": {},
     "output_type": "display_data"
    },
    {
     "data": {
      "text/html": [
       "<pre>recommendations finished on 643000/1092096 queries. users per second: 1385.84</pre>"
      ],
      "text/plain": [
       "recommendations finished on 643000/1092096 queries. users per second: 1385.84"
      ]
     },
     "metadata": {},
     "output_type": "display_data"
    },
    {
     "data": {
      "text/html": [
       "<pre>recommendations finished on 644000/1092096 queries. users per second: 1385.91</pre>"
      ],
      "text/plain": [
       "recommendations finished on 644000/1092096 queries. users per second: 1385.91"
      ]
     },
     "metadata": {},
     "output_type": "display_data"
    },
    {
     "data": {
      "text/html": [
       "<pre>recommendations finished on 645000/1092096 queries. users per second: 1385.98</pre>"
      ],
      "text/plain": [
       "recommendations finished on 645000/1092096 queries. users per second: 1385.98"
      ]
     },
     "metadata": {},
     "output_type": "display_data"
    },
    {
     "data": {
      "text/html": [
       "<pre>recommendations finished on 646000/1092096 queries. users per second: 1386.07</pre>"
      ],
      "text/plain": [
       "recommendations finished on 646000/1092096 queries. users per second: 1386.07"
      ]
     },
     "metadata": {},
     "output_type": "display_data"
    },
    {
     "data": {
      "text/html": [
       "<pre>recommendations finished on 647000/1092096 queries. users per second: 1386.16</pre>"
      ],
      "text/plain": [
       "recommendations finished on 647000/1092096 queries. users per second: 1386.16"
      ]
     },
     "metadata": {},
     "output_type": "display_data"
    },
    {
     "data": {
      "text/html": [
       "<pre>recommendations finished on 648000/1092096 queries. users per second: 1386.18</pre>"
      ],
      "text/plain": [
       "recommendations finished on 648000/1092096 queries. users per second: 1386.18"
      ]
     },
     "metadata": {},
     "output_type": "display_data"
    },
    {
     "data": {
      "text/html": [
       "<pre>recommendations finished on 649000/1092096 queries. users per second: 1386.24</pre>"
      ],
      "text/plain": [
       "recommendations finished on 649000/1092096 queries. users per second: 1386.24"
      ]
     },
     "metadata": {},
     "output_type": "display_data"
    },
    {
     "data": {
      "text/html": [
       "<pre>recommendations finished on 650000/1092096 queries. users per second: 1386.3</pre>"
      ],
      "text/plain": [
       "recommendations finished on 650000/1092096 queries. users per second: 1386.3"
      ]
     },
     "metadata": {},
     "output_type": "display_data"
    },
    {
     "data": {
      "text/html": [
       "<pre>recommendations finished on 651000/1092096 queries. users per second: 1386.37</pre>"
      ],
      "text/plain": [
       "recommendations finished on 651000/1092096 queries. users per second: 1386.37"
      ]
     },
     "metadata": {},
     "output_type": "display_data"
    },
    {
     "data": {
      "text/html": [
       "<pre>recommendations finished on 652000/1092096 queries. users per second: 1386.47</pre>"
      ],
      "text/plain": [
       "recommendations finished on 652000/1092096 queries. users per second: 1386.47"
      ]
     },
     "metadata": {},
     "output_type": "display_data"
    },
    {
     "data": {
      "text/html": [
       "<pre>recommendations finished on 653000/1092096 queries. users per second: 1386.55</pre>"
      ],
      "text/plain": [
       "recommendations finished on 653000/1092096 queries. users per second: 1386.55"
      ]
     },
     "metadata": {},
     "output_type": "display_data"
    },
    {
     "data": {
      "text/html": [
       "<pre>recommendations finished on 654000/1092096 queries. users per second: 1386.66</pre>"
      ],
      "text/plain": [
       "recommendations finished on 654000/1092096 queries. users per second: 1386.66"
      ]
     },
     "metadata": {},
     "output_type": "display_data"
    },
    {
     "data": {
      "text/html": [
       "<pre>recommendations finished on 655000/1092096 queries. users per second: 1386.79</pre>"
      ],
      "text/plain": [
       "recommendations finished on 655000/1092096 queries. users per second: 1386.79"
      ]
     },
     "metadata": {},
     "output_type": "display_data"
    },
    {
     "data": {
      "text/html": [
       "<pre>recommendations finished on 656000/1092096 queries. users per second: 1386.88</pre>"
      ],
      "text/plain": [
       "recommendations finished on 656000/1092096 queries. users per second: 1386.88"
      ]
     },
     "metadata": {},
     "output_type": "display_data"
    },
    {
     "data": {
      "text/html": [
       "<pre>recommendations finished on 657000/1092096 queries. users per second: 1386.99</pre>"
      ],
      "text/plain": [
       "recommendations finished on 657000/1092096 queries. users per second: 1386.99"
      ]
     },
     "metadata": {},
     "output_type": "display_data"
    },
    {
     "data": {
      "text/html": [
       "<pre>recommendations finished on 658000/1092096 queries. users per second: 1387.1</pre>"
      ],
      "text/plain": [
       "recommendations finished on 658000/1092096 queries. users per second: 1387.1"
      ]
     },
     "metadata": {},
     "output_type": "display_data"
    },
    {
     "data": {
      "text/html": [
       "<pre>recommendations finished on 659000/1092096 queries. users per second: 1387.2</pre>"
      ],
      "text/plain": [
       "recommendations finished on 659000/1092096 queries. users per second: 1387.2"
      ]
     },
     "metadata": {},
     "output_type": "display_data"
    },
    {
     "data": {
      "text/html": [
       "<pre>recommendations finished on 660000/1092096 queries. users per second: 1387.33</pre>"
      ],
      "text/plain": [
       "recommendations finished on 660000/1092096 queries. users per second: 1387.33"
      ]
     },
     "metadata": {},
     "output_type": "display_data"
    },
    {
     "data": {
      "text/html": [
       "<pre>recommendations finished on 661000/1092096 queries. users per second: 1387.41</pre>"
      ],
      "text/plain": [
       "recommendations finished on 661000/1092096 queries. users per second: 1387.41"
      ]
     },
     "metadata": {},
     "output_type": "display_data"
    },
    {
     "data": {
      "text/html": [
       "<pre>recommendations finished on 662000/1092096 queries. users per second: 1387.54</pre>"
      ],
      "text/plain": [
       "recommendations finished on 662000/1092096 queries. users per second: 1387.54"
      ]
     },
     "metadata": {},
     "output_type": "display_data"
    },
    {
     "data": {
      "text/html": [
       "<pre>recommendations finished on 663000/1092096 queries. users per second: 1387.62</pre>"
      ],
      "text/plain": [
       "recommendations finished on 663000/1092096 queries. users per second: 1387.62"
      ]
     },
     "metadata": {},
     "output_type": "display_data"
    },
    {
     "data": {
      "text/html": [
       "<pre>recommendations finished on 664000/1092096 queries. users per second: 1387.73</pre>"
      ],
      "text/plain": [
       "recommendations finished on 664000/1092096 queries. users per second: 1387.73"
      ]
     },
     "metadata": {},
     "output_type": "display_data"
    },
    {
     "data": {
      "text/html": [
       "<pre>recommendations finished on 665000/1092096 queries. users per second: 1387.8</pre>"
      ],
      "text/plain": [
       "recommendations finished on 665000/1092096 queries. users per second: 1387.8"
      ]
     },
     "metadata": {},
     "output_type": "display_data"
    },
    {
     "data": {
      "text/html": [
       "<pre>recommendations finished on 666000/1092096 queries. users per second: 1387.92</pre>"
      ],
      "text/plain": [
       "recommendations finished on 666000/1092096 queries. users per second: 1387.92"
      ]
     },
     "metadata": {},
     "output_type": "display_data"
    },
    {
     "data": {
      "text/html": [
       "<pre>recommendations finished on 667000/1092096 queries. users per second: 1388.03</pre>"
      ],
      "text/plain": [
       "recommendations finished on 667000/1092096 queries. users per second: 1388.03"
      ]
     },
     "metadata": {},
     "output_type": "display_data"
    },
    {
     "data": {
      "text/html": [
       "<pre>recommendations finished on 668000/1092096 queries. users per second: 1388.13</pre>"
      ],
      "text/plain": [
       "recommendations finished on 668000/1092096 queries. users per second: 1388.13"
      ]
     },
     "metadata": {},
     "output_type": "display_data"
    },
    {
     "data": {
      "text/html": [
       "<pre>recommendations finished on 669000/1092096 queries. users per second: 1388.2</pre>"
      ],
      "text/plain": [
       "recommendations finished on 669000/1092096 queries. users per second: 1388.2"
      ]
     },
     "metadata": {},
     "output_type": "display_data"
    },
    {
     "data": {
      "text/html": [
       "<pre>recommendations finished on 670000/1092096 queries. users per second: 1388.33</pre>"
      ],
      "text/plain": [
       "recommendations finished on 670000/1092096 queries. users per second: 1388.33"
      ]
     },
     "metadata": {},
     "output_type": "display_data"
    },
    {
     "data": {
      "text/html": [
       "<pre>recommendations finished on 671000/1092096 queries. users per second: 1388.47</pre>"
      ],
      "text/plain": [
       "recommendations finished on 671000/1092096 queries. users per second: 1388.47"
      ]
     },
     "metadata": {},
     "output_type": "display_data"
    },
    {
     "data": {
      "text/html": [
       "<pre>recommendations finished on 672000/1092096 queries. users per second: 1388.6</pre>"
      ],
      "text/plain": [
       "recommendations finished on 672000/1092096 queries. users per second: 1388.6"
      ]
     },
     "metadata": {},
     "output_type": "display_data"
    },
    {
     "data": {
      "text/html": [
       "<pre>recommendations finished on 673000/1092096 queries. users per second: 1388.72</pre>"
      ],
      "text/plain": [
       "recommendations finished on 673000/1092096 queries. users per second: 1388.72"
      ]
     },
     "metadata": {},
     "output_type": "display_data"
    },
    {
     "data": {
      "text/html": [
       "<pre>recommendations finished on 674000/1092096 queries. users per second: 1388.85</pre>"
      ],
      "text/plain": [
       "recommendations finished on 674000/1092096 queries. users per second: 1388.85"
      ]
     },
     "metadata": {},
     "output_type": "display_data"
    },
    {
     "data": {
      "text/html": [
       "<pre>recommendations finished on 675000/1092096 queries. users per second: 1388.97</pre>"
      ],
      "text/plain": [
       "recommendations finished on 675000/1092096 queries. users per second: 1388.97"
      ]
     },
     "metadata": {},
     "output_type": "display_data"
    },
    {
     "data": {
      "text/html": [
       "<pre>recommendations finished on 676000/1092096 queries. users per second: 1389.07</pre>"
      ],
      "text/plain": [
       "recommendations finished on 676000/1092096 queries. users per second: 1389.07"
      ]
     },
     "metadata": {},
     "output_type": "display_data"
    },
    {
     "data": {
      "text/html": [
       "<pre>recommendations finished on 677000/1092096 queries. users per second: 1389.13</pre>"
      ],
      "text/plain": [
       "recommendations finished on 677000/1092096 queries. users per second: 1389.13"
      ]
     },
     "metadata": {},
     "output_type": "display_data"
    },
    {
     "data": {
      "text/html": [
       "<pre>recommendations finished on 678000/1092096 queries. users per second: 1389.19</pre>"
      ],
      "text/plain": [
       "recommendations finished on 678000/1092096 queries. users per second: 1389.19"
      ]
     },
     "metadata": {},
     "output_type": "display_data"
    },
    {
     "data": {
      "text/html": [
       "<pre>recommendations finished on 679000/1092096 queries. users per second: 1389.29</pre>"
      ],
      "text/plain": [
       "recommendations finished on 679000/1092096 queries. users per second: 1389.29"
      ]
     },
     "metadata": {},
     "output_type": "display_data"
    },
    {
     "data": {
      "text/html": [
       "<pre>recommendations finished on 680000/1092096 queries. users per second: 1389.2</pre>"
      ],
      "text/plain": [
       "recommendations finished on 680000/1092096 queries. users per second: 1389.2"
      ]
     },
     "metadata": {},
     "output_type": "display_data"
    },
    {
     "data": {
      "text/html": [
       "<pre>recommendations finished on 681000/1092096 queries. users per second: 1389.16</pre>"
      ],
      "text/plain": [
       "recommendations finished on 681000/1092096 queries. users per second: 1389.16"
      ]
     },
     "metadata": {},
     "output_type": "display_data"
    },
    {
     "data": {
      "text/html": [
       "<pre>recommendations finished on 682000/1092096 queries. users per second: 1389</pre>"
      ],
      "text/plain": [
       "recommendations finished on 682000/1092096 queries. users per second: 1389"
      ]
     },
     "metadata": {},
     "output_type": "display_data"
    },
    {
     "data": {
      "text/html": [
       "<pre>recommendations finished on 683000/1092096 queries. users per second: 1388.78</pre>"
      ],
      "text/plain": [
       "recommendations finished on 683000/1092096 queries. users per second: 1388.78"
      ]
     },
     "metadata": {},
     "output_type": "display_data"
    },
    {
     "data": {
      "text/html": [
       "<pre>recommendations finished on 684000/1092096 queries. users per second: 1388.79</pre>"
      ],
      "text/plain": [
       "recommendations finished on 684000/1092096 queries. users per second: 1388.79"
      ]
     },
     "metadata": {},
     "output_type": "display_data"
    },
    {
     "data": {
      "text/html": [
       "<pre>recommendations finished on 685000/1092096 queries. users per second: 1388.67</pre>"
      ],
      "text/plain": [
       "recommendations finished on 685000/1092096 queries. users per second: 1388.67"
      ]
     },
     "metadata": {},
     "output_type": "display_data"
    },
    {
     "data": {
      "text/html": [
       "<pre>recommendations finished on 686000/1092096 queries. users per second: 1388.71</pre>"
      ],
      "text/plain": [
       "recommendations finished on 686000/1092096 queries. users per second: 1388.71"
      ]
     },
     "metadata": {},
     "output_type": "display_data"
    },
    {
     "data": {
      "text/html": [
       "<pre>recommendations finished on 687000/1092096 queries. users per second: 1388.69</pre>"
      ],
      "text/plain": [
       "recommendations finished on 687000/1092096 queries. users per second: 1388.69"
      ]
     },
     "metadata": {},
     "output_type": "display_data"
    },
    {
     "data": {
      "text/html": [
       "<pre>recommendations finished on 688000/1092096 queries. users per second: 1388.75</pre>"
      ],
      "text/plain": [
       "recommendations finished on 688000/1092096 queries. users per second: 1388.75"
      ]
     },
     "metadata": {},
     "output_type": "display_data"
    },
    {
     "data": {
      "text/html": [
       "<pre>recommendations finished on 689000/1092096 queries. users per second: 1388.79</pre>"
      ],
      "text/plain": [
       "recommendations finished on 689000/1092096 queries. users per second: 1388.79"
      ]
     },
     "metadata": {},
     "output_type": "display_data"
    },
    {
     "data": {
      "text/html": [
       "<pre>recommendations finished on 690000/1092096 queries. users per second: 1388.88</pre>"
      ],
      "text/plain": [
       "recommendations finished on 690000/1092096 queries. users per second: 1388.88"
      ]
     },
     "metadata": {},
     "output_type": "display_data"
    },
    {
     "data": {
      "text/html": [
       "<pre>recommendations finished on 691000/1092096 queries. users per second: 1388.98</pre>"
      ],
      "text/plain": [
       "recommendations finished on 691000/1092096 queries. users per second: 1388.98"
      ]
     },
     "metadata": {},
     "output_type": "display_data"
    },
    {
     "data": {
      "text/html": [
       "<pre>recommendations finished on 692000/1092096 queries. users per second: 1389.07</pre>"
      ],
      "text/plain": [
       "recommendations finished on 692000/1092096 queries. users per second: 1389.07"
      ]
     },
     "metadata": {},
     "output_type": "display_data"
    },
    {
     "data": {
      "text/html": [
       "<pre>recommendations finished on 693000/1092096 queries. users per second: 1389.18</pre>"
      ],
      "text/plain": [
       "recommendations finished on 693000/1092096 queries. users per second: 1389.18"
      ]
     },
     "metadata": {},
     "output_type": "display_data"
    },
    {
     "data": {
      "text/html": [
       "<pre>recommendations finished on 694000/1092096 queries. users per second: 1389.29</pre>"
      ],
      "text/plain": [
       "recommendations finished on 694000/1092096 queries. users per second: 1389.29"
      ]
     },
     "metadata": {},
     "output_type": "display_data"
    },
    {
     "data": {
      "text/html": [
       "<pre>recommendations finished on 695000/1092096 queries. users per second: 1389.4</pre>"
      ],
      "text/plain": [
       "recommendations finished on 695000/1092096 queries. users per second: 1389.4"
      ]
     },
     "metadata": {},
     "output_type": "display_data"
    },
    {
     "data": {
      "text/html": [
       "<pre>recommendations finished on 696000/1092096 queries. users per second: 1389.51</pre>"
      ],
      "text/plain": [
       "recommendations finished on 696000/1092096 queries. users per second: 1389.51"
      ]
     },
     "metadata": {},
     "output_type": "display_data"
    },
    {
     "data": {
      "text/html": [
       "<pre>recommendations finished on 697000/1092096 queries. users per second: 1389.63</pre>"
      ],
      "text/plain": [
       "recommendations finished on 697000/1092096 queries. users per second: 1389.63"
      ]
     },
     "metadata": {},
     "output_type": "display_data"
    },
    {
     "data": {
      "text/html": [
       "<pre>recommendations finished on 698000/1092096 queries. users per second: 1389.7</pre>"
      ],
      "text/plain": [
       "recommendations finished on 698000/1092096 queries. users per second: 1389.7"
      ]
     },
     "metadata": {},
     "output_type": "display_data"
    },
    {
     "data": {
      "text/html": [
       "<pre>recommendations finished on 699000/1092096 queries. users per second: 1389.82</pre>"
      ],
      "text/plain": [
       "recommendations finished on 699000/1092096 queries. users per second: 1389.82"
      ]
     },
     "metadata": {},
     "output_type": "display_data"
    },
    {
     "data": {
      "text/html": [
       "<pre>recommendations finished on 700000/1092096 queries. users per second: 1389.93</pre>"
      ],
      "text/plain": [
       "recommendations finished on 700000/1092096 queries. users per second: 1389.93"
      ]
     },
     "metadata": {},
     "output_type": "display_data"
    },
    {
     "data": {
      "text/html": [
       "<pre>recommendations finished on 701000/1092096 queries. users per second: 1390.01</pre>"
      ],
      "text/plain": [
       "recommendations finished on 701000/1092096 queries. users per second: 1390.01"
      ]
     },
     "metadata": {},
     "output_type": "display_data"
    },
    {
     "data": {
      "text/html": [
       "<pre>recommendations finished on 702000/1092096 queries. users per second: 1390.12</pre>"
      ],
      "text/plain": [
       "recommendations finished on 702000/1092096 queries. users per second: 1390.12"
      ]
     },
     "metadata": {},
     "output_type": "display_data"
    },
    {
     "data": {
      "text/html": [
       "<pre>recommendations finished on 703000/1092096 queries. users per second: 1390.22</pre>"
      ],
      "text/plain": [
       "recommendations finished on 703000/1092096 queries. users per second: 1390.22"
      ]
     },
     "metadata": {},
     "output_type": "display_data"
    },
    {
     "data": {
      "text/html": [
       "<pre>recommendations finished on 704000/1092096 queries. users per second: 1390.32</pre>"
      ],
      "text/plain": [
       "recommendations finished on 704000/1092096 queries. users per second: 1390.32"
      ]
     },
     "metadata": {},
     "output_type": "display_data"
    },
    {
     "data": {
      "text/html": [
       "<pre>recommendations finished on 705000/1092096 queries. users per second: 1390.41</pre>"
      ],
      "text/plain": [
       "recommendations finished on 705000/1092096 queries. users per second: 1390.41"
      ]
     },
     "metadata": {},
     "output_type": "display_data"
    },
    {
     "data": {
      "text/html": [
       "<pre>recommendations finished on 706000/1092096 queries. users per second: 1390.54</pre>"
      ],
      "text/plain": [
       "recommendations finished on 706000/1092096 queries. users per second: 1390.54"
      ]
     },
     "metadata": {},
     "output_type": "display_data"
    },
    {
     "data": {
      "text/html": [
       "<pre>recommendations finished on 707000/1092096 queries. users per second: 1390.63</pre>"
      ],
      "text/plain": [
       "recommendations finished on 707000/1092096 queries. users per second: 1390.63"
      ]
     },
     "metadata": {},
     "output_type": "display_data"
    },
    {
     "data": {
      "text/html": [
       "<pre>recommendations finished on 708000/1092096 queries. users per second: 1390.74</pre>"
      ],
      "text/plain": [
       "recommendations finished on 708000/1092096 queries. users per second: 1390.74"
      ]
     },
     "metadata": {},
     "output_type": "display_data"
    },
    {
     "data": {
      "text/html": [
       "<pre>recommendations finished on 709000/1092096 queries. users per second: 1390.83</pre>"
      ],
      "text/plain": [
       "recommendations finished on 709000/1092096 queries. users per second: 1390.83"
      ]
     },
     "metadata": {},
     "output_type": "display_data"
    },
    {
     "data": {
      "text/html": [
       "<pre>recommendations finished on 710000/1092096 queries. users per second: 1390.89</pre>"
      ],
      "text/plain": [
       "recommendations finished on 710000/1092096 queries. users per second: 1390.89"
      ]
     },
     "metadata": {},
     "output_type": "display_data"
    },
    {
     "data": {
      "text/html": [
       "<pre>recommendations finished on 711000/1092096 queries. users per second: 1390.97</pre>"
      ],
      "text/plain": [
       "recommendations finished on 711000/1092096 queries. users per second: 1390.97"
      ]
     },
     "metadata": {},
     "output_type": "display_data"
    },
    {
     "data": {
      "text/html": [
       "<pre>recommendations finished on 712000/1092096 queries. users per second: 1390.85</pre>"
      ],
      "text/plain": [
       "recommendations finished on 712000/1092096 queries. users per second: 1390.85"
      ]
     },
     "metadata": {},
     "output_type": "display_data"
    },
    {
     "data": {
      "text/html": [
       "<pre>recommendations finished on 713000/1092096 queries. users per second: 1390.63</pre>"
      ],
      "text/plain": [
       "recommendations finished on 713000/1092096 queries. users per second: 1390.63"
      ]
     },
     "metadata": {},
     "output_type": "display_data"
    },
    {
     "data": {
      "text/html": [
       "<pre>recommendations finished on 714000/1092096 queries. users per second: 1390.65</pre>"
      ],
      "text/plain": [
       "recommendations finished on 714000/1092096 queries. users per second: 1390.65"
      ]
     },
     "metadata": {},
     "output_type": "display_data"
    },
    {
     "data": {
      "text/html": [
       "<pre>recommendations finished on 715000/1092096 queries. users per second: 1390.73</pre>"
      ],
      "text/plain": [
       "recommendations finished on 715000/1092096 queries. users per second: 1390.73"
      ]
     },
     "metadata": {},
     "output_type": "display_data"
    },
    {
     "data": {
      "text/html": [
       "<pre>recommendations finished on 716000/1092096 queries. users per second: 1390.93</pre>"
      ],
      "text/plain": [
       "recommendations finished on 716000/1092096 queries. users per second: 1390.93"
      ]
     },
     "metadata": {},
     "output_type": "display_data"
    },
    {
     "data": {
      "text/html": [
       "<pre>recommendations finished on 717000/1092096 queries. users per second: 1391.11</pre>"
      ],
      "text/plain": [
       "recommendations finished on 717000/1092096 queries. users per second: 1391.11"
      ]
     },
     "metadata": {},
     "output_type": "display_data"
    },
    {
     "data": {
      "text/html": [
       "<pre>recommendations finished on 718000/1092096 queries. users per second: 1391.31</pre>"
      ],
      "text/plain": [
       "recommendations finished on 718000/1092096 queries. users per second: 1391.31"
      ]
     },
     "metadata": {},
     "output_type": "display_data"
    },
    {
     "data": {
      "text/html": [
       "<pre>recommendations finished on 719000/1092096 queries. users per second: 1391.53</pre>"
      ],
      "text/plain": [
       "recommendations finished on 719000/1092096 queries. users per second: 1391.53"
      ]
     },
     "metadata": {},
     "output_type": "display_data"
    },
    {
     "data": {
      "text/html": [
       "<pre>recommendations finished on 720000/1092096 queries. users per second: 1391.71</pre>"
      ],
      "text/plain": [
       "recommendations finished on 720000/1092096 queries. users per second: 1391.71"
      ]
     },
     "metadata": {},
     "output_type": "display_data"
    },
    {
     "data": {
      "text/html": [
       "<pre>recommendations finished on 721000/1092096 queries. users per second: 1391.89</pre>"
      ],
      "text/plain": [
       "recommendations finished on 721000/1092096 queries. users per second: 1391.89"
      ]
     },
     "metadata": {},
     "output_type": "display_data"
    },
    {
     "data": {
      "text/html": [
       "<pre>recommendations finished on 722000/1092096 queries. users per second: 1392.08</pre>"
      ],
      "text/plain": [
       "recommendations finished on 722000/1092096 queries. users per second: 1392.08"
      ]
     },
     "metadata": {},
     "output_type": "display_data"
    },
    {
     "data": {
      "text/html": [
       "<pre>recommendations finished on 723000/1092096 queries. users per second: 1392.28</pre>"
      ],
      "text/plain": [
       "recommendations finished on 723000/1092096 queries. users per second: 1392.28"
      ]
     },
     "metadata": {},
     "output_type": "display_data"
    },
    {
     "data": {
      "text/html": [
       "<pre>recommendations finished on 724000/1092096 queries. users per second: 1392.5</pre>"
      ],
      "text/plain": [
       "recommendations finished on 724000/1092096 queries. users per second: 1392.5"
      ]
     },
     "metadata": {},
     "output_type": "display_data"
    },
    {
     "data": {
      "text/html": [
       "<pre>recommendations finished on 725000/1092096 queries. users per second: 1392.72</pre>"
      ],
      "text/plain": [
       "recommendations finished on 725000/1092096 queries. users per second: 1392.72"
      ]
     },
     "metadata": {},
     "output_type": "display_data"
    },
    {
     "data": {
      "text/html": [
       "<pre>recommendations finished on 726000/1092096 queries. users per second: 1392.94</pre>"
      ],
      "text/plain": [
       "recommendations finished on 726000/1092096 queries. users per second: 1392.94"
      ]
     },
     "metadata": {},
     "output_type": "display_data"
    },
    {
     "data": {
      "text/html": [
       "<pre>recommendations finished on 727000/1092096 queries. users per second: 1393.13</pre>"
      ],
      "text/plain": [
       "recommendations finished on 727000/1092096 queries. users per second: 1393.13"
      ]
     },
     "metadata": {},
     "output_type": "display_data"
    },
    {
     "data": {
      "text/html": [
       "<pre>recommendations finished on 728000/1092096 queries. users per second: 1393.35</pre>"
      ],
      "text/plain": [
       "recommendations finished on 728000/1092096 queries. users per second: 1393.35"
      ]
     },
     "metadata": {},
     "output_type": "display_data"
    },
    {
     "data": {
      "text/html": [
       "<pre>recommendations finished on 729000/1092096 queries. users per second: 1393.53</pre>"
      ],
      "text/plain": [
       "recommendations finished on 729000/1092096 queries. users per second: 1393.53"
      ]
     },
     "metadata": {},
     "output_type": "display_data"
    },
    {
     "data": {
      "text/html": [
       "<pre>recommendations finished on 730000/1092096 queries. users per second: 1393.74</pre>"
      ],
      "text/plain": [
       "recommendations finished on 730000/1092096 queries. users per second: 1393.74"
      ]
     },
     "metadata": {},
     "output_type": "display_data"
    },
    {
     "data": {
      "text/html": [
       "<pre>recommendations finished on 731000/1092096 queries. users per second: 1393.96</pre>"
      ],
      "text/plain": [
       "recommendations finished on 731000/1092096 queries. users per second: 1393.96"
      ]
     },
     "metadata": {},
     "output_type": "display_data"
    },
    {
     "data": {
      "text/html": [
       "<pre>recommendations finished on 732000/1092096 queries. users per second: 1394.16</pre>"
      ],
      "text/plain": [
       "recommendations finished on 732000/1092096 queries. users per second: 1394.16"
      ]
     },
     "metadata": {},
     "output_type": "display_data"
    },
    {
     "data": {
      "text/html": [
       "<pre>recommendations finished on 733000/1092096 queries. users per second: 1394.38</pre>"
      ],
      "text/plain": [
       "recommendations finished on 733000/1092096 queries. users per second: 1394.38"
      ]
     },
     "metadata": {},
     "output_type": "display_data"
    },
    {
     "data": {
      "text/html": [
       "<pre>recommendations finished on 734000/1092096 queries. users per second: 1394.57</pre>"
      ],
      "text/plain": [
       "recommendations finished on 734000/1092096 queries. users per second: 1394.57"
      ]
     },
     "metadata": {},
     "output_type": "display_data"
    },
    {
     "data": {
      "text/html": [
       "<pre>recommendations finished on 735000/1092096 queries. users per second: 1394.75</pre>"
      ],
      "text/plain": [
       "recommendations finished on 735000/1092096 queries. users per second: 1394.75"
      ]
     },
     "metadata": {},
     "output_type": "display_data"
    },
    {
     "data": {
      "text/html": [
       "<pre>recommendations finished on 736000/1092096 queries. users per second: 1394.92</pre>"
      ],
      "text/plain": [
       "recommendations finished on 736000/1092096 queries. users per second: 1394.92"
      ]
     },
     "metadata": {},
     "output_type": "display_data"
    },
    {
     "data": {
      "text/html": [
       "<pre>recommendations finished on 737000/1092096 queries. users per second: 1395.13</pre>"
      ],
      "text/plain": [
       "recommendations finished on 737000/1092096 queries. users per second: 1395.13"
      ]
     },
     "metadata": {},
     "output_type": "display_data"
    },
    {
     "data": {
      "text/html": [
       "<pre>recommendations finished on 738000/1092096 queries. users per second: 1395.26</pre>"
      ],
      "text/plain": [
       "recommendations finished on 738000/1092096 queries. users per second: 1395.26"
      ]
     },
     "metadata": {},
     "output_type": "display_data"
    },
    {
     "data": {
      "text/html": [
       "<pre>recommendations finished on 739000/1092096 queries. users per second: 1395.45</pre>"
      ],
      "text/plain": [
       "recommendations finished on 739000/1092096 queries. users per second: 1395.45"
      ]
     },
     "metadata": {},
     "output_type": "display_data"
    },
    {
     "data": {
      "text/html": [
       "<pre>recommendations finished on 740000/1092096 queries. users per second: 1395.64</pre>"
      ],
      "text/plain": [
       "recommendations finished on 740000/1092096 queries. users per second: 1395.64"
      ]
     },
     "metadata": {},
     "output_type": "display_data"
    },
    {
     "data": {
      "text/html": [
       "<pre>recommendations finished on 741000/1092096 queries. users per second: 1395.85</pre>"
      ],
      "text/plain": [
       "recommendations finished on 741000/1092096 queries. users per second: 1395.85"
      ]
     },
     "metadata": {},
     "output_type": "display_data"
    },
    {
     "data": {
      "text/html": [
       "<pre>recommendations finished on 742000/1092096 queries. users per second: 1396.06</pre>"
      ],
      "text/plain": [
       "recommendations finished on 742000/1092096 queries. users per second: 1396.06"
      ]
     },
     "metadata": {},
     "output_type": "display_data"
    },
    {
     "data": {
      "text/html": [
       "<pre>recommendations finished on 743000/1092096 queries. users per second: 1396.25</pre>"
      ],
      "text/plain": [
       "recommendations finished on 743000/1092096 queries. users per second: 1396.25"
      ]
     },
     "metadata": {},
     "output_type": "display_data"
    },
    {
     "data": {
      "text/html": [
       "<pre>recommendations finished on 744000/1092096 queries. users per second: 1396.45</pre>"
      ],
      "text/plain": [
       "recommendations finished on 744000/1092096 queries. users per second: 1396.45"
      ]
     },
     "metadata": {},
     "output_type": "display_data"
    },
    {
     "data": {
      "text/html": [
       "<pre>recommendations finished on 745000/1092096 queries. users per second: 1396.63</pre>"
      ],
      "text/plain": [
       "recommendations finished on 745000/1092096 queries. users per second: 1396.63"
      ]
     },
     "metadata": {},
     "output_type": "display_data"
    },
    {
     "data": {
      "text/html": [
       "<pre>recommendations finished on 746000/1092096 queries. users per second: 1396.84</pre>"
      ],
      "text/plain": [
       "recommendations finished on 746000/1092096 queries. users per second: 1396.84"
      ]
     },
     "metadata": {},
     "output_type": "display_data"
    },
    {
     "data": {
      "text/html": [
       "<pre>recommendations finished on 747000/1092096 queries. users per second: 1397.02</pre>"
      ],
      "text/plain": [
       "recommendations finished on 747000/1092096 queries. users per second: 1397.02"
      ]
     },
     "metadata": {},
     "output_type": "display_data"
    },
    {
     "data": {
      "text/html": [
       "<pre>recommendations finished on 748000/1092096 queries. users per second: 1397.2</pre>"
      ],
      "text/plain": [
       "recommendations finished on 748000/1092096 queries. users per second: 1397.2"
      ]
     },
     "metadata": {},
     "output_type": "display_data"
    },
    {
     "data": {
      "text/html": [
       "<pre>recommendations finished on 749000/1092096 queries. users per second: 1397.39</pre>"
      ],
      "text/plain": [
       "recommendations finished on 749000/1092096 queries. users per second: 1397.39"
      ]
     },
     "metadata": {},
     "output_type": "display_data"
    },
    {
     "data": {
      "text/html": [
       "<pre>recommendations finished on 750000/1092096 queries. users per second: 1397.58</pre>"
      ],
      "text/plain": [
       "recommendations finished on 750000/1092096 queries. users per second: 1397.58"
      ]
     },
     "metadata": {},
     "output_type": "display_data"
    },
    {
     "data": {
      "text/html": [
       "<pre>recommendations finished on 751000/1092096 queries. users per second: 1397.78</pre>"
      ],
      "text/plain": [
       "recommendations finished on 751000/1092096 queries. users per second: 1397.78"
      ]
     },
     "metadata": {},
     "output_type": "display_data"
    },
    {
     "data": {
      "text/html": [
       "<pre>recommendations finished on 752000/1092096 queries. users per second: 1397.98</pre>"
      ],
      "text/plain": [
       "recommendations finished on 752000/1092096 queries. users per second: 1397.98"
      ]
     },
     "metadata": {},
     "output_type": "display_data"
    },
    {
     "data": {
      "text/html": [
       "<pre>recommendations finished on 753000/1092096 queries. users per second: 1398.17</pre>"
      ],
      "text/plain": [
       "recommendations finished on 753000/1092096 queries. users per second: 1398.17"
      ]
     },
     "metadata": {},
     "output_type": "display_data"
    },
    {
     "data": {
      "text/html": [
       "<pre>recommendations finished on 754000/1092096 queries. users per second: 1398.37</pre>"
      ],
      "text/plain": [
       "recommendations finished on 754000/1092096 queries. users per second: 1398.37"
      ]
     },
     "metadata": {},
     "output_type": "display_data"
    },
    {
     "data": {
      "text/html": [
       "<pre>recommendations finished on 755000/1092096 queries. users per second: 1398.53</pre>"
      ],
      "text/plain": [
       "recommendations finished on 755000/1092096 queries. users per second: 1398.53"
      ]
     },
     "metadata": {},
     "output_type": "display_data"
    },
    {
     "data": {
      "text/html": [
       "<pre>recommendations finished on 756000/1092096 queries. users per second: 1398.68</pre>"
      ],
      "text/plain": [
       "recommendations finished on 756000/1092096 queries. users per second: 1398.68"
      ]
     },
     "metadata": {},
     "output_type": "display_data"
    },
    {
     "data": {
      "text/html": [
       "<pre>recommendations finished on 757000/1092096 queries. users per second: 1398.84</pre>"
      ],
      "text/plain": [
       "recommendations finished on 757000/1092096 queries. users per second: 1398.84"
      ]
     },
     "metadata": {},
     "output_type": "display_data"
    },
    {
     "data": {
      "text/html": [
       "<pre>recommendations finished on 758000/1092096 queries. users per second: 1398.99</pre>"
      ],
      "text/plain": [
       "recommendations finished on 758000/1092096 queries. users per second: 1398.99"
      ]
     },
     "metadata": {},
     "output_type": "display_data"
    },
    {
     "data": {
      "text/html": [
       "<pre>recommendations finished on 759000/1092096 queries. users per second: 1399.16</pre>"
      ],
      "text/plain": [
       "recommendations finished on 759000/1092096 queries. users per second: 1399.16"
      ]
     },
     "metadata": {},
     "output_type": "display_data"
    },
    {
     "data": {
      "text/html": [
       "<pre>recommendations finished on 760000/1092096 queries. users per second: 1399.32</pre>"
      ],
      "text/plain": [
       "recommendations finished on 760000/1092096 queries. users per second: 1399.32"
      ]
     },
     "metadata": {},
     "output_type": "display_data"
    },
    {
     "data": {
      "text/html": [
       "<pre>recommendations finished on 761000/1092096 queries. users per second: 1399.48</pre>"
      ],
      "text/plain": [
       "recommendations finished on 761000/1092096 queries. users per second: 1399.48"
      ]
     },
     "metadata": {},
     "output_type": "display_data"
    },
    {
     "data": {
      "text/html": [
       "<pre>recommendations finished on 762000/1092096 queries. users per second: 1399.64</pre>"
      ],
      "text/plain": [
       "recommendations finished on 762000/1092096 queries. users per second: 1399.64"
      ]
     },
     "metadata": {},
     "output_type": "display_data"
    },
    {
     "data": {
      "text/html": [
       "<pre>recommendations finished on 763000/1092096 queries. users per second: 1399.83</pre>"
      ],
      "text/plain": [
       "recommendations finished on 763000/1092096 queries. users per second: 1399.83"
      ]
     },
     "metadata": {},
     "output_type": "display_data"
    },
    {
     "data": {
      "text/html": [
       "<pre>recommendations finished on 764000/1092096 queries. users per second: 1400</pre>"
      ],
      "text/plain": [
       "recommendations finished on 764000/1092096 queries. users per second: 1400"
      ]
     },
     "metadata": {},
     "output_type": "display_data"
    },
    {
     "data": {
      "text/html": [
       "<pre>recommendations finished on 765000/1092096 queries. users per second: 1400.15</pre>"
      ],
      "text/plain": [
       "recommendations finished on 765000/1092096 queries. users per second: 1400.15"
      ]
     },
     "metadata": {},
     "output_type": "display_data"
    },
    {
     "data": {
      "text/html": [
       "<pre>recommendations finished on 766000/1092096 queries. users per second: 1400.31</pre>"
      ],
      "text/plain": [
       "recommendations finished on 766000/1092096 queries. users per second: 1400.31"
      ]
     },
     "metadata": {},
     "output_type": "display_data"
    },
    {
     "data": {
      "text/html": [
       "<pre>recommendations finished on 767000/1092096 queries. users per second: 1400.46</pre>"
      ],
      "text/plain": [
       "recommendations finished on 767000/1092096 queries. users per second: 1400.46"
      ]
     },
     "metadata": {},
     "output_type": "display_data"
    },
    {
     "data": {
      "text/html": [
       "<pre>recommendations finished on 768000/1092096 queries. users per second: 1400.62</pre>"
      ],
      "text/plain": [
       "recommendations finished on 768000/1092096 queries. users per second: 1400.62"
      ]
     },
     "metadata": {},
     "output_type": "display_data"
    },
    {
     "data": {
      "text/html": [
       "<pre>recommendations finished on 769000/1092096 queries. users per second: 1400.8</pre>"
      ],
      "text/plain": [
       "recommendations finished on 769000/1092096 queries. users per second: 1400.8"
      ]
     },
     "metadata": {},
     "output_type": "display_data"
    },
    {
     "data": {
      "text/html": [
       "<pre>recommendations finished on 770000/1092096 queries. users per second: 1400.98</pre>"
      ],
      "text/plain": [
       "recommendations finished on 770000/1092096 queries. users per second: 1400.98"
      ]
     },
     "metadata": {},
     "output_type": "display_data"
    },
    {
     "data": {
      "text/html": [
       "<pre>recommendations finished on 771000/1092096 queries. users per second: 1401.15</pre>"
      ],
      "text/plain": [
       "recommendations finished on 771000/1092096 queries. users per second: 1401.15"
      ]
     },
     "metadata": {},
     "output_type": "display_data"
    },
    {
     "data": {
      "text/html": [
       "<pre>recommendations finished on 772000/1092096 queries. users per second: 1401.34</pre>"
      ],
      "text/plain": [
       "recommendations finished on 772000/1092096 queries. users per second: 1401.34"
      ]
     },
     "metadata": {},
     "output_type": "display_data"
    },
    {
     "data": {
      "text/html": [
       "<pre>recommendations finished on 773000/1092096 queries. users per second: 1401.52</pre>"
      ],
      "text/plain": [
       "recommendations finished on 773000/1092096 queries. users per second: 1401.52"
      ]
     },
     "metadata": {},
     "output_type": "display_data"
    },
    {
     "data": {
      "text/html": [
       "<pre>recommendations finished on 774000/1092096 queries. users per second: 1401.71</pre>"
      ],
      "text/plain": [
       "recommendations finished on 774000/1092096 queries. users per second: 1401.71"
      ]
     },
     "metadata": {},
     "output_type": "display_data"
    },
    {
     "data": {
      "text/html": [
       "<pre>recommendations finished on 775000/1092096 queries. users per second: 1401.87</pre>"
      ],
      "text/plain": [
       "recommendations finished on 775000/1092096 queries. users per second: 1401.87"
      ]
     },
     "metadata": {},
     "output_type": "display_data"
    },
    {
     "data": {
      "text/html": [
       "<pre>recommendations finished on 776000/1092096 queries. users per second: 1402.03</pre>"
      ],
      "text/plain": [
       "recommendations finished on 776000/1092096 queries. users per second: 1402.03"
      ]
     },
     "metadata": {},
     "output_type": "display_data"
    },
    {
     "data": {
      "text/html": [
       "<pre>recommendations finished on 777000/1092096 queries. users per second: 1402.18</pre>"
      ],
      "text/plain": [
       "recommendations finished on 777000/1092096 queries. users per second: 1402.18"
      ]
     },
     "metadata": {},
     "output_type": "display_data"
    },
    {
     "data": {
      "text/html": [
       "<pre>recommendations finished on 778000/1092096 queries. users per second: 1402.36</pre>"
      ],
      "text/plain": [
       "recommendations finished on 778000/1092096 queries. users per second: 1402.36"
      ]
     },
     "metadata": {},
     "output_type": "display_data"
    },
    {
     "data": {
      "text/html": [
       "<pre>recommendations finished on 779000/1092096 queries. users per second: 1402.52</pre>"
      ],
      "text/plain": [
       "recommendations finished on 779000/1092096 queries. users per second: 1402.52"
      ]
     },
     "metadata": {},
     "output_type": "display_data"
    },
    {
     "data": {
      "text/html": [
       "<pre>recommendations finished on 780000/1092096 queries. users per second: 1402.64</pre>"
      ],
      "text/plain": [
       "recommendations finished on 780000/1092096 queries. users per second: 1402.64"
      ]
     },
     "metadata": {},
     "output_type": "display_data"
    },
    {
     "data": {
      "text/html": [
       "<pre>recommendations finished on 781000/1092096 queries. users per second: 1402.81</pre>"
      ],
      "text/plain": [
       "recommendations finished on 781000/1092096 queries. users per second: 1402.81"
      ]
     },
     "metadata": {},
     "output_type": "display_data"
    },
    {
     "data": {
      "text/html": [
       "<pre>recommendations finished on 782000/1092096 queries. users per second: 1402.98</pre>"
      ],
      "text/plain": [
       "recommendations finished on 782000/1092096 queries. users per second: 1402.98"
      ]
     },
     "metadata": {},
     "output_type": "display_data"
    },
    {
     "data": {
      "text/html": [
       "<pre>recommendations finished on 783000/1092096 queries. users per second: 1403.13</pre>"
      ],
      "text/plain": [
       "recommendations finished on 783000/1092096 queries. users per second: 1403.13"
      ]
     },
     "metadata": {},
     "output_type": "display_data"
    },
    {
     "data": {
      "text/html": [
       "<pre>recommendations finished on 784000/1092096 queries. users per second: 1403.32</pre>"
      ],
      "text/plain": [
       "recommendations finished on 784000/1092096 queries. users per second: 1403.32"
      ]
     },
     "metadata": {},
     "output_type": "display_data"
    },
    {
     "data": {
      "text/html": [
       "<pre>recommendations finished on 785000/1092096 queries. users per second: 1403.53</pre>"
      ],
      "text/plain": [
       "recommendations finished on 785000/1092096 queries. users per second: 1403.53"
      ]
     },
     "metadata": {},
     "output_type": "display_data"
    },
    {
     "data": {
      "text/html": [
       "<pre>recommendations finished on 786000/1092096 queries. users per second: 1403.68</pre>"
      ],
      "text/plain": [
       "recommendations finished on 786000/1092096 queries. users per second: 1403.68"
      ]
     },
     "metadata": {},
     "output_type": "display_data"
    },
    {
     "data": {
      "text/html": [
       "<pre>recommendations finished on 787000/1092096 queries. users per second: 1403.83</pre>"
      ],
      "text/plain": [
       "recommendations finished on 787000/1092096 queries. users per second: 1403.83"
      ]
     },
     "metadata": {},
     "output_type": "display_data"
    },
    {
     "data": {
      "text/html": [
       "<pre>recommendations finished on 788000/1092096 queries. users per second: 1404</pre>"
      ],
      "text/plain": [
       "recommendations finished on 788000/1092096 queries. users per second: 1404"
      ]
     },
     "metadata": {},
     "output_type": "display_data"
    },
    {
     "data": {
      "text/html": [
       "<pre>recommendations finished on 789000/1092096 queries. users per second: 1404.16</pre>"
      ],
      "text/plain": [
       "recommendations finished on 789000/1092096 queries. users per second: 1404.16"
      ]
     },
     "metadata": {},
     "output_type": "display_data"
    },
    {
     "data": {
      "text/html": [
       "<pre>recommendations finished on 790000/1092096 queries. users per second: 1404.35</pre>"
      ],
      "text/plain": [
       "recommendations finished on 790000/1092096 queries. users per second: 1404.35"
      ]
     },
     "metadata": {},
     "output_type": "display_data"
    },
    {
     "data": {
      "text/html": [
       "<pre>recommendations finished on 791000/1092096 queries. users per second: 1404.48</pre>"
      ],
      "text/plain": [
       "recommendations finished on 791000/1092096 queries. users per second: 1404.48"
      ]
     },
     "metadata": {},
     "output_type": "display_data"
    },
    {
     "data": {
      "text/html": [
       "<pre>recommendations finished on 792000/1092096 queries. users per second: 1404.68</pre>"
      ],
      "text/plain": [
       "recommendations finished on 792000/1092096 queries. users per second: 1404.68"
      ]
     },
     "metadata": {},
     "output_type": "display_data"
    },
    {
     "data": {
      "text/html": [
       "<pre>recommendations finished on 793000/1092096 queries. users per second: 1404.84</pre>"
      ],
      "text/plain": [
       "recommendations finished on 793000/1092096 queries. users per second: 1404.84"
      ]
     },
     "metadata": {},
     "output_type": "display_data"
    },
    {
     "data": {
      "text/html": [
       "<pre>recommendations finished on 794000/1092096 queries. users per second: 1404.98</pre>"
      ],
      "text/plain": [
       "recommendations finished on 794000/1092096 queries. users per second: 1404.98"
      ]
     },
     "metadata": {},
     "output_type": "display_data"
    },
    {
     "data": {
      "text/html": [
       "<pre>recommendations finished on 795000/1092096 queries. users per second: 1405.15</pre>"
      ],
      "text/plain": [
       "recommendations finished on 795000/1092096 queries. users per second: 1405.15"
      ]
     },
     "metadata": {},
     "output_type": "display_data"
    },
    {
     "data": {
      "text/html": [
       "<pre>recommendations finished on 796000/1092096 queries. users per second: 1405.27</pre>"
      ],
      "text/plain": [
       "recommendations finished on 796000/1092096 queries. users per second: 1405.27"
      ]
     },
     "metadata": {},
     "output_type": "display_data"
    },
    {
     "data": {
      "text/html": [
       "<pre>recommendations finished on 797000/1092096 queries. users per second: 1405.41</pre>"
      ],
      "text/plain": [
       "recommendations finished on 797000/1092096 queries. users per second: 1405.41"
      ]
     },
     "metadata": {},
     "output_type": "display_data"
    },
    {
     "data": {
      "text/html": [
       "<pre>recommendations finished on 798000/1092096 queries. users per second: 1405.57</pre>"
      ],
      "text/plain": [
       "recommendations finished on 798000/1092096 queries. users per second: 1405.57"
      ]
     },
     "metadata": {},
     "output_type": "display_data"
    },
    {
     "data": {
      "text/html": [
       "<pre>recommendations finished on 799000/1092096 queries. users per second: 1405.67</pre>"
      ],
      "text/plain": [
       "recommendations finished on 799000/1092096 queries. users per second: 1405.67"
      ]
     },
     "metadata": {},
     "output_type": "display_data"
    },
    {
     "data": {
      "text/html": [
       "<pre>recommendations finished on 800000/1092096 queries. users per second: 1405.78</pre>"
      ],
      "text/plain": [
       "recommendations finished on 800000/1092096 queries. users per second: 1405.78"
      ]
     },
     "metadata": {},
     "output_type": "display_data"
    },
    {
     "data": {
      "text/html": [
       "<pre>recommendations finished on 801000/1092096 queries. users per second: 1405.85</pre>"
      ],
      "text/plain": [
       "recommendations finished on 801000/1092096 queries. users per second: 1405.85"
      ]
     },
     "metadata": {},
     "output_type": "display_data"
    },
    {
     "data": {
      "text/html": [
       "<pre>recommendations finished on 802000/1092096 queries. users per second: 1405.98</pre>"
      ],
      "text/plain": [
       "recommendations finished on 802000/1092096 queries. users per second: 1405.98"
      ]
     },
     "metadata": {},
     "output_type": "display_data"
    },
    {
     "data": {
      "text/html": [
       "<pre>recommendations finished on 803000/1092096 queries. users per second: 1406.07</pre>"
      ],
      "text/plain": [
       "recommendations finished on 803000/1092096 queries. users per second: 1406.07"
      ]
     },
     "metadata": {},
     "output_type": "display_data"
    },
    {
     "data": {
      "text/html": [
       "<pre>recommendations finished on 804000/1092096 queries. users per second: 1406.15</pre>"
      ],
      "text/plain": [
       "recommendations finished on 804000/1092096 queries. users per second: 1406.15"
      ]
     },
     "metadata": {},
     "output_type": "display_data"
    },
    {
     "data": {
      "text/html": [
       "<pre>recommendations finished on 805000/1092096 queries. users per second: 1406.3</pre>"
      ],
      "text/plain": [
       "recommendations finished on 805000/1092096 queries. users per second: 1406.3"
      ]
     },
     "metadata": {},
     "output_type": "display_data"
    },
    {
     "data": {
      "text/html": [
       "<pre>recommendations finished on 806000/1092096 queries. users per second: 1406.43</pre>"
      ],
      "text/plain": [
       "recommendations finished on 806000/1092096 queries. users per second: 1406.43"
      ]
     },
     "metadata": {},
     "output_type": "display_data"
    },
    {
     "data": {
      "text/html": [
       "<pre>recommendations finished on 807000/1092096 queries. users per second: 1406.58</pre>"
      ],
      "text/plain": [
       "recommendations finished on 807000/1092096 queries. users per second: 1406.58"
      ]
     },
     "metadata": {},
     "output_type": "display_data"
    },
    {
     "data": {
      "text/html": [
       "<pre>recommendations finished on 808000/1092096 queries. users per second: 1406.71</pre>"
      ],
      "text/plain": [
       "recommendations finished on 808000/1092096 queries. users per second: 1406.71"
      ]
     },
     "metadata": {},
     "output_type": "display_data"
    },
    {
     "data": {
      "text/html": [
       "<pre>recommendations finished on 809000/1092096 queries. users per second: 1406.91</pre>"
      ],
      "text/plain": [
       "recommendations finished on 809000/1092096 queries. users per second: 1406.91"
      ]
     },
     "metadata": {},
     "output_type": "display_data"
    },
    {
     "data": {
      "text/html": [
       "<pre>recommendations finished on 810000/1092096 queries. users per second: 1407.06</pre>"
      ],
      "text/plain": [
       "recommendations finished on 810000/1092096 queries. users per second: 1407.06"
      ]
     },
     "metadata": {},
     "output_type": "display_data"
    },
    {
     "data": {
      "text/html": [
       "<pre>recommendations finished on 811000/1092096 queries. users per second: 1407.22</pre>"
      ],
      "text/plain": [
       "recommendations finished on 811000/1092096 queries. users per second: 1407.22"
      ]
     },
     "metadata": {},
     "output_type": "display_data"
    },
    {
     "data": {
      "text/html": [
       "<pre>recommendations finished on 812000/1092096 queries. users per second: 1407.39</pre>"
      ],
      "text/plain": [
       "recommendations finished on 812000/1092096 queries. users per second: 1407.39"
      ]
     },
     "metadata": {},
     "output_type": "display_data"
    },
    {
     "data": {
      "text/html": [
       "<pre>recommendations finished on 813000/1092096 queries. users per second: 1407.57</pre>"
      ],
      "text/plain": [
       "recommendations finished on 813000/1092096 queries. users per second: 1407.57"
      ]
     },
     "metadata": {},
     "output_type": "display_data"
    },
    {
     "data": {
      "text/html": [
       "<pre>recommendations finished on 814000/1092096 queries. users per second: 1407.75</pre>"
      ],
      "text/plain": [
       "recommendations finished on 814000/1092096 queries. users per second: 1407.75"
      ]
     },
     "metadata": {},
     "output_type": "display_data"
    },
    {
     "data": {
      "text/html": [
       "<pre>recommendations finished on 815000/1092096 queries. users per second: 1407.89</pre>"
      ],
      "text/plain": [
       "recommendations finished on 815000/1092096 queries. users per second: 1407.89"
      ]
     },
     "metadata": {},
     "output_type": "display_data"
    },
    {
     "data": {
      "text/html": [
       "<pre>recommendations finished on 816000/1092096 queries. users per second: 1408.06</pre>"
      ],
      "text/plain": [
       "recommendations finished on 816000/1092096 queries. users per second: 1408.06"
      ]
     },
     "metadata": {},
     "output_type": "display_data"
    },
    {
     "data": {
      "text/html": [
       "<pre>recommendations finished on 817000/1092096 queries. users per second: 1408.22</pre>"
      ],
      "text/plain": [
       "recommendations finished on 817000/1092096 queries. users per second: 1408.22"
      ]
     },
     "metadata": {},
     "output_type": "display_data"
    },
    {
     "data": {
      "text/html": [
       "<pre>recommendations finished on 818000/1092096 queries. users per second: 1408.38</pre>"
      ],
      "text/plain": [
       "recommendations finished on 818000/1092096 queries. users per second: 1408.38"
      ]
     },
     "metadata": {},
     "output_type": "display_data"
    },
    {
     "data": {
      "text/html": [
       "<pre>recommendations finished on 819000/1092096 queries. users per second: 1408.52</pre>"
      ],
      "text/plain": [
       "recommendations finished on 819000/1092096 queries. users per second: 1408.52"
      ]
     },
     "metadata": {},
     "output_type": "display_data"
    },
    {
     "data": {
      "text/html": [
       "<pre>recommendations finished on 820000/1092096 queries. users per second: 1408.67</pre>"
      ],
      "text/plain": [
       "recommendations finished on 820000/1092096 queries. users per second: 1408.67"
      ]
     },
     "metadata": {},
     "output_type": "display_data"
    },
    {
     "data": {
      "text/html": [
       "<pre>recommendations finished on 821000/1092096 queries. users per second: 1408.85</pre>"
      ],
      "text/plain": [
       "recommendations finished on 821000/1092096 queries. users per second: 1408.85"
      ]
     },
     "metadata": {},
     "output_type": "display_data"
    },
    {
     "data": {
      "text/html": [
       "<pre>recommendations finished on 822000/1092096 queries. users per second: 1408.97</pre>"
      ],
      "text/plain": [
       "recommendations finished on 822000/1092096 queries. users per second: 1408.97"
      ]
     },
     "metadata": {},
     "output_type": "display_data"
    },
    {
     "data": {
      "text/html": [
       "<pre>recommendations finished on 823000/1092096 queries. users per second: 1409.12</pre>"
      ],
      "text/plain": [
       "recommendations finished on 823000/1092096 queries. users per second: 1409.12"
      ]
     },
     "metadata": {},
     "output_type": "display_data"
    },
    {
     "data": {
      "text/html": [
       "<pre>recommendations finished on 824000/1092096 queries. users per second: 1409.28</pre>"
      ],
      "text/plain": [
       "recommendations finished on 824000/1092096 queries. users per second: 1409.28"
      ]
     },
     "metadata": {},
     "output_type": "display_data"
    },
    {
     "data": {
      "text/html": [
       "<pre>recommendations finished on 825000/1092096 queries. users per second: 1409.43</pre>"
      ],
      "text/plain": [
       "recommendations finished on 825000/1092096 queries. users per second: 1409.43"
      ]
     },
     "metadata": {},
     "output_type": "display_data"
    },
    {
     "data": {
      "text/html": [
       "<pre>recommendations finished on 826000/1092096 queries. users per second: 1409.58</pre>"
      ],
      "text/plain": [
       "recommendations finished on 826000/1092096 queries. users per second: 1409.58"
      ]
     },
     "metadata": {},
     "output_type": "display_data"
    },
    {
     "data": {
      "text/html": [
       "<pre>recommendations finished on 827000/1092096 queries. users per second: 1409.74</pre>"
      ],
      "text/plain": [
       "recommendations finished on 827000/1092096 queries. users per second: 1409.74"
      ]
     },
     "metadata": {},
     "output_type": "display_data"
    },
    {
     "data": {
      "text/html": [
       "<pre>recommendations finished on 828000/1092096 queries. users per second: 1409.91</pre>"
      ],
      "text/plain": [
       "recommendations finished on 828000/1092096 queries. users per second: 1409.91"
      ]
     },
     "metadata": {},
     "output_type": "display_data"
    },
    {
     "data": {
      "text/html": [
       "<pre>recommendations finished on 829000/1092096 queries. users per second: 1410.07</pre>"
      ],
      "text/plain": [
       "recommendations finished on 829000/1092096 queries. users per second: 1410.07"
      ]
     },
     "metadata": {},
     "output_type": "display_data"
    },
    {
     "data": {
      "text/html": [
       "<pre>recommendations finished on 830000/1092096 queries. users per second: 1410.19</pre>"
      ],
      "text/plain": [
       "recommendations finished on 830000/1092096 queries. users per second: 1410.19"
      ]
     },
     "metadata": {},
     "output_type": "display_data"
    },
    {
     "data": {
      "text/html": [
       "<pre>recommendations finished on 831000/1092096 queries. users per second: 1410.34</pre>"
      ],
      "text/plain": [
       "recommendations finished on 831000/1092096 queries. users per second: 1410.34"
      ]
     },
     "metadata": {},
     "output_type": "display_data"
    },
    {
     "data": {
      "text/html": [
       "<pre>recommendations finished on 832000/1092096 queries. users per second: 1410.5</pre>"
      ],
      "text/plain": [
       "recommendations finished on 832000/1092096 queries. users per second: 1410.5"
      ]
     },
     "metadata": {},
     "output_type": "display_data"
    },
    {
     "data": {
      "text/html": [
       "<pre>recommendations finished on 833000/1092096 queries. users per second: 1410.7</pre>"
      ],
      "text/plain": [
       "recommendations finished on 833000/1092096 queries. users per second: 1410.7"
      ]
     },
     "metadata": {},
     "output_type": "display_data"
    },
    {
     "data": {
      "text/html": [
       "<pre>recommendations finished on 834000/1092096 queries. users per second: 1410.86</pre>"
      ],
      "text/plain": [
       "recommendations finished on 834000/1092096 queries. users per second: 1410.86"
      ]
     },
     "metadata": {},
     "output_type": "display_data"
    },
    {
     "data": {
      "text/html": [
       "<pre>recommendations finished on 835000/1092096 queries. users per second: 1411.02</pre>"
      ],
      "text/plain": [
       "recommendations finished on 835000/1092096 queries. users per second: 1411.02"
      ]
     },
     "metadata": {},
     "output_type": "display_data"
    },
    {
     "data": {
      "text/html": [
       "<pre>recommendations finished on 836000/1092096 queries. users per second: 1411.19</pre>"
      ],
      "text/plain": [
       "recommendations finished on 836000/1092096 queries. users per second: 1411.19"
      ]
     },
     "metadata": {},
     "output_type": "display_data"
    },
    {
     "data": {
      "text/html": [
       "<pre>recommendations finished on 837000/1092096 queries. users per second: 1411.35</pre>"
      ],
      "text/plain": [
       "recommendations finished on 837000/1092096 queries. users per second: 1411.35"
      ]
     },
     "metadata": {},
     "output_type": "display_data"
    },
    {
     "data": {
      "text/html": [
       "<pre>recommendations finished on 838000/1092096 queries. users per second: 1411.51</pre>"
      ],
      "text/plain": [
       "recommendations finished on 838000/1092096 queries. users per second: 1411.51"
      ]
     },
     "metadata": {},
     "output_type": "display_data"
    },
    {
     "data": {
      "text/html": [
       "<pre>recommendations finished on 839000/1092096 queries. users per second: 1411.65</pre>"
      ],
      "text/plain": [
       "recommendations finished on 839000/1092096 queries. users per second: 1411.65"
      ]
     },
     "metadata": {},
     "output_type": "display_data"
    },
    {
     "data": {
      "text/html": [
       "<pre>recommendations finished on 840000/1092096 queries. users per second: 1411.8</pre>"
      ],
      "text/plain": [
       "recommendations finished on 840000/1092096 queries. users per second: 1411.8"
      ]
     },
     "metadata": {},
     "output_type": "display_data"
    },
    {
     "data": {
      "text/html": [
       "<pre>recommendations finished on 841000/1092096 queries. users per second: 1411.9</pre>"
      ],
      "text/plain": [
       "recommendations finished on 841000/1092096 queries. users per second: 1411.9"
      ]
     },
     "metadata": {},
     "output_type": "display_data"
    },
    {
     "data": {
      "text/html": [
       "<pre>recommendations finished on 842000/1092096 queries. users per second: 1412.05</pre>"
      ],
      "text/plain": [
       "recommendations finished on 842000/1092096 queries. users per second: 1412.05"
      ]
     },
     "metadata": {},
     "output_type": "display_data"
    },
    {
     "data": {
      "text/html": [
       "<pre>recommendations finished on 843000/1092096 queries. users per second: 1412.22</pre>"
      ],
      "text/plain": [
       "recommendations finished on 843000/1092096 queries. users per second: 1412.22"
      ]
     },
     "metadata": {},
     "output_type": "display_data"
    },
    {
     "data": {
      "text/html": [
       "<pre>recommendations finished on 844000/1092096 queries. users per second: 1412.35</pre>"
      ],
      "text/plain": [
       "recommendations finished on 844000/1092096 queries. users per second: 1412.35"
      ]
     },
     "metadata": {},
     "output_type": "display_data"
    },
    {
     "data": {
      "text/html": [
       "<pre>recommendations finished on 845000/1092096 queries. users per second: 1412.51</pre>"
      ],
      "text/plain": [
       "recommendations finished on 845000/1092096 queries. users per second: 1412.51"
      ]
     },
     "metadata": {},
     "output_type": "display_data"
    },
    {
     "data": {
      "text/html": [
       "<pre>recommendations finished on 846000/1092096 queries. users per second: 1412.68</pre>"
      ],
      "text/plain": [
       "recommendations finished on 846000/1092096 queries. users per second: 1412.68"
      ]
     },
     "metadata": {},
     "output_type": "display_data"
    },
    {
     "data": {
      "text/html": [
       "<pre>recommendations finished on 847000/1092096 queries. users per second: 1412.81</pre>"
      ],
      "text/plain": [
       "recommendations finished on 847000/1092096 queries. users per second: 1412.81"
      ]
     },
     "metadata": {},
     "output_type": "display_data"
    },
    {
     "data": {
      "text/html": [
       "<pre>recommendations finished on 848000/1092096 queries. users per second: 1412.65</pre>"
      ],
      "text/plain": [
       "recommendations finished on 848000/1092096 queries. users per second: 1412.65"
      ]
     },
     "metadata": {},
     "output_type": "display_data"
    },
    {
     "data": {
      "text/html": [
       "<pre>recommendations finished on 849000/1092096 queries. users per second: 1412.73</pre>"
      ],
      "text/plain": [
       "recommendations finished on 849000/1092096 queries. users per second: 1412.73"
      ]
     },
     "metadata": {},
     "output_type": "display_data"
    },
    {
     "data": {
      "text/html": [
       "<pre>recommendations finished on 850000/1092096 queries. users per second: 1412.78</pre>"
      ],
      "text/plain": [
       "recommendations finished on 850000/1092096 queries. users per second: 1412.78"
      ]
     },
     "metadata": {},
     "output_type": "display_data"
    },
    {
     "data": {
      "text/html": [
       "<pre>recommendations finished on 851000/1092096 queries. users per second: 1412.87</pre>"
      ],
      "text/plain": [
       "recommendations finished on 851000/1092096 queries. users per second: 1412.87"
      ]
     },
     "metadata": {},
     "output_type": "display_data"
    },
    {
     "data": {
      "text/html": [
       "<pre>recommendations finished on 852000/1092096 queries. users per second: 1412.95</pre>"
      ],
      "text/plain": [
       "recommendations finished on 852000/1092096 queries. users per second: 1412.95"
      ]
     },
     "metadata": {},
     "output_type": "display_data"
    },
    {
     "data": {
      "text/html": [
       "<pre>recommendations finished on 853000/1092096 queries. users per second: 1412.98</pre>"
      ],
      "text/plain": [
       "recommendations finished on 853000/1092096 queries. users per second: 1412.98"
      ]
     },
     "metadata": {},
     "output_type": "display_data"
    },
    {
     "data": {
      "text/html": [
       "<pre>recommendations finished on 854000/1092096 queries. users per second: 1413.06</pre>"
      ],
      "text/plain": [
       "recommendations finished on 854000/1092096 queries. users per second: 1413.06"
      ]
     },
     "metadata": {},
     "output_type": "display_data"
    },
    {
     "data": {
      "text/html": [
       "<pre>recommendations finished on 855000/1092096 queries. users per second: 1413.13</pre>"
      ],
      "text/plain": [
       "recommendations finished on 855000/1092096 queries. users per second: 1413.13"
      ]
     },
     "metadata": {},
     "output_type": "display_data"
    },
    {
     "data": {
      "text/html": [
       "<pre>recommendations finished on 856000/1092096 queries. users per second: 1413.22</pre>"
      ],
      "text/plain": [
       "recommendations finished on 856000/1092096 queries. users per second: 1413.22"
      ]
     },
     "metadata": {},
     "output_type": "display_data"
    },
    {
     "data": {
      "text/html": [
       "<pre>recommendations finished on 857000/1092096 queries. users per second: 1413.19</pre>"
      ],
      "text/plain": [
       "recommendations finished on 857000/1092096 queries. users per second: 1413.19"
      ]
     },
     "metadata": {},
     "output_type": "display_data"
    },
    {
     "data": {
      "text/html": [
       "<pre>recommendations finished on 858000/1092096 queries. users per second: 1413.19</pre>"
      ],
      "text/plain": [
       "recommendations finished on 858000/1092096 queries. users per second: 1413.19"
      ]
     },
     "metadata": {},
     "output_type": "display_data"
    },
    {
     "data": {
      "text/html": [
       "<pre>recommendations finished on 859000/1092096 queries. users per second: 1413.32</pre>"
      ],
      "text/plain": [
       "recommendations finished on 859000/1092096 queries. users per second: 1413.32"
      ]
     },
     "metadata": {},
     "output_type": "display_data"
    },
    {
     "data": {
      "text/html": [
       "<pre>recommendations finished on 860000/1092096 queries. users per second: 1413.44</pre>"
      ],
      "text/plain": [
       "recommendations finished on 860000/1092096 queries. users per second: 1413.44"
      ]
     },
     "metadata": {},
     "output_type": "display_data"
    },
    {
     "data": {
      "text/html": [
       "<pre>recommendations finished on 861000/1092096 queries. users per second: 1413.6</pre>"
      ],
      "text/plain": [
       "recommendations finished on 861000/1092096 queries. users per second: 1413.6"
      ]
     },
     "metadata": {},
     "output_type": "display_data"
    },
    {
     "data": {
      "text/html": [
       "<pre>recommendations finished on 862000/1092096 queries. users per second: 1413.76</pre>"
      ],
      "text/plain": [
       "recommendations finished on 862000/1092096 queries. users per second: 1413.76"
      ]
     },
     "metadata": {},
     "output_type": "display_data"
    },
    {
     "data": {
      "text/html": [
       "<pre>recommendations finished on 863000/1092096 queries. users per second: 1413.93</pre>"
      ],
      "text/plain": [
       "recommendations finished on 863000/1092096 queries. users per second: 1413.93"
      ]
     },
     "metadata": {},
     "output_type": "display_data"
    },
    {
     "data": {
      "text/html": [
       "<pre>recommendations finished on 864000/1092096 queries. users per second: 1414.11</pre>"
      ],
      "text/plain": [
       "recommendations finished on 864000/1092096 queries. users per second: 1414.11"
      ]
     },
     "metadata": {},
     "output_type": "display_data"
    },
    {
     "data": {
      "text/html": [
       "<pre>recommendations finished on 865000/1092096 queries. users per second: 1414.25</pre>"
      ],
      "text/plain": [
       "recommendations finished on 865000/1092096 queries. users per second: 1414.25"
      ]
     },
     "metadata": {},
     "output_type": "display_data"
    },
    {
     "data": {
      "text/html": [
       "<pre>recommendations finished on 866000/1092096 queries. users per second: 1414.15</pre>"
      ],
      "text/plain": [
       "recommendations finished on 866000/1092096 queries. users per second: 1414.15"
      ]
     },
     "metadata": {},
     "output_type": "display_data"
    },
    {
     "data": {
      "text/html": [
       "<pre>recommendations finished on 867000/1092096 queries. users per second: 1414.17</pre>"
      ],
      "text/plain": [
       "recommendations finished on 867000/1092096 queries. users per second: 1414.17"
      ]
     },
     "metadata": {},
     "output_type": "display_data"
    },
    {
     "data": {
      "text/html": [
       "<pre>recommendations finished on 868000/1092096 queries. users per second: 1414.19</pre>"
      ],
      "text/plain": [
       "recommendations finished on 868000/1092096 queries. users per second: 1414.19"
      ]
     },
     "metadata": {},
     "output_type": "display_data"
    },
    {
     "data": {
      "text/html": [
       "<pre>recommendations finished on 869000/1092096 queries. users per second: 1414.33</pre>"
      ],
      "text/plain": [
       "recommendations finished on 869000/1092096 queries. users per second: 1414.33"
      ]
     },
     "metadata": {},
     "output_type": "display_data"
    },
    {
     "data": {
      "text/html": [
       "<pre>recommendations finished on 870000/1092096 queries. users per second: 1414.51</pre>"
      ],
      "text/plain": [
       "recommendations finished on 870000/1092096 queries. users per second: 1414.51"
      ]
     },
     "metadata": {},
     "output_type": "display_data"
    },
    {
     "data": {
      "text/html": [
       "<pre>recommendations finished on 871000/1092096 queries. users per second: 1414.64</pre>"
      ],
      "text/plain": [
       "recommendations finished on 871000/1092096 queries. users per second: 1414.64"
      ]
     },
     "metadata": {},
     "output_type": "display_data"
    },
    {
     "data": {
      "text/html": [
       "<pre>recommendations finished on 872000/1092096 queries. users per second: 1414.79</pre>"
      ],
      "text/plain": [
       "recommendations finished on 872000/1092096 queries. users per second: 1414.79"
      ]
     },
     "metadata": {},
     "output_type": "display_data"
    },
    {
     "data": {
      "text/html": [
       "<pre>recommendations finished on 873000/1092096 queries. users per second: 1414.86</pre>"
      ],
      "text/plain": [
       "recommendations finished on 873000/1092096 queries. users per second: 1414.86"
      ]
     },
     "metadata": {},
     "output_type": "display_data"
    },
    {
     "data": {
      "text/html": [
       "<pre>recommendations finished on 874000/1092096 queries. users per second: 1414.94</pre>"
      ],
      "text/plain": [
       "recommendations finished on 874000/1092096 queries. users per second: 1414.94"
      ]
     },
     "metadata": {},
     "output_type": "display_data"
    },
    {
     "data": {
      "text/html": [
       "<pre>recommendations finished on 875000/1092096 queries. users per second: 1415.02</pre>"
      ],
      "text/plain": [
       "recommendations finished on 875000/1092096 queries. users per second: 1415.02"
      ]
     },
     "metadata": {},
     "output_type": "display_data"
    },
    {
     "data": {
      "text/html": [
       "<pre>recommendations finished on 876000/1092096 queries. users per second: 1415.14</pre>"
      ],
      "text/plain": [
       "recommendations finished on 876000/1092096 queries. users per second: 1415.14"
      ]
     },
     "metadata": {},
     "output_type": "display_data"
    },
    {
     "data": {
      "text/html": [
       "<pre>recommendations finished on 877000/1092096 queries. users per second: 1415.21</pre>"
      ],
      "text/plain": [
       "recommendations finished on 877000/1092096 queries. users per second: 1415.21"
      ]
     },
     "metadata": {},
     "output_type": "display_data"
    },
    {
     "data": {
      "text/html": [
       "<pre>recommendations finished on 878000/1092096 queries. users per second: 1415.31</pre>"
      ],
      "text/plain": [
       "recommendations finished on 878000/1092096 queries. users per second: 1415.31"
      ]
     },
     "metadata": {},
     "output_type": "display_data"
    },
    {
     "data": {
      "text/html": [
       "<pre>recommendations finished on 879000/1092096 queries. users per second: 1415.4</pre>"
      ],
      "text/plain": [
       "recommendations finished on 879000/1092096 queries. users per second: 1415.4"
      ]
     },
     "metadata": {},
     "output_type": "display_data"
    },
    {
     "data": {
      "text/html": [
       "<pre>recommendations finished on 880000/1092096 queries. users per second: 1415.5</pre>"
      ],
      "text/plain": [
       "recommendations finished on 880000/1092096 queries. users per second: 1415.5"
      ]
     },
     "metadata": {},
     "output_type": "display_data"
    },
    {
     "data": {
      "text/html": [
       "<pre>recommendations finished on 881000/1092096 queries. users per second: 1415.62</pre>"
      ],
      "text/plain": [
       "recommendations finished on 881000/1092096 queries. users per second: 1415.62"
      ]
     },
     "metadata": {},
     "output_type": "display_data"
    },
    {
     "data": {
      "text/html": [
       "<pre>recommendations finished on 882000/1092096 queries. users per second: 1415.78</pre>"
      ],
      "text/plain": [
       "recommendations finished on 882000/1092096 queries. users per second: 1415.78"
      ]
     },
     "metadata": {},
     "output_type": "display_data"
    },
    {
     "data": {
      "text/html": [
       "<pre>recommendations finished on 883000/1092096 queries. users per second: 1415.95</pre>"
      ],
      "text/plain": [
       "recommendations finished on 883000/1092096 queries. users per second: 1415.95"
      ]
     },
     "metadata": {},
     "output_type": "display_data"
    },
    {
     "data": {
      "text/html": [
       "<pre>recommendations finished on 884000/1092096 queries. users per second: 1416.11</pre>"
      ],
      "text/plain": [
       "recommendations finished on 884000/1092096 queries. users per second: 1416.11"
      ]
     },
     "metadata": {},
     "output_type": "display_data"
    },
    {
     "data": {
      "text/html": [
       "<pre>recommendations finished on 885000/1092096 queries. users per second: 1416.28</pre>"
      ],
      "text/plain": [
       "recommendations finished on 885000/1092096 queries. users per second: 1416.28"
      ]
     },
     "metadata": {},
     "output_type": "display_data"
    },
    {
     "data": {
      "text/html": [
       "<pre>recommendations finished on 886000/1092096 queries. users per second: 1416.46</pre>"
      ],
      "text/plain": [
       "recommendations finished on 886000/1092096 queries. users per second: 1416.46"
      ]
     },
     "metadata": {},
     "output_type": "display_data"
    },
    {
     "data": {
      "text/html": [
       "<pre>recommendations finished on 887000/1092096 queries. users per second: 1416.62</pre>"
      ],
      "text/plain": [
       "recommendations finished on 887000/1092096 queries. users per second: 1416.62"
      ]
     },
     "metadata": {},
     "output_type": "display_data"
    },
    {
     "data": {
      "text/html": [
       "<pre>recommendations finished on 888000/1092096 queries. users per second: 1416.79</pre>"
      ],
      "text/plain": [
       "recommendations finished on 888000/1092096 queries. users per second: 1416.79"
      ]
     },
     "metadata": {},
     "output_type": "display_data"
    },
    {
     "data": {
      "text/html": [
       "<pre>recommendations finished on 889000/1092096 queries. users per second: 1416.94</pre>"
      ],
      "text/plain": [
       "recommendations finished on 889000/1092096 queries. users per second: 1416.94"
      ]
     },
     "metadata": {},
     "output_type": "display_data"
    },
    {
     "data": {
      "text/html": [
       "<pre>recommendations finished on 890000/1092096 queries. users per second: 1417.08</pre>"
      ],
      "text/plain": [
       "recommendations finished on 890000/1092096 queries. users per second: 1417.08"
      ]
     },
     "metadata": {},
     "output_type": "display_data"
    },
    {
     "data": {
      "text/html": [
       "<pre>recommendations finished on 891000/1092096 queries. users per second: 1417.21</pre>"
      ],
      "text/plain": [
       "recommendations finished on 891000/1092096 queries. users per second: 1417.21"
      ]
     },
     "metadata": {},
     "output_type": "display_data"
    },
    {
     "data": {
      "text/html": [
       "<pre>recommendations finished on 892000/1092096 queries. users per second: 1417.33</pre>"
      ],
      "text/plain": [
       "recommendations finished on 892000/1092096 queries. users per second: 1417.33"
      ]
     },
     "metadata": {},
     "output_type": "display_data"
    },
    {
     "data": {
      "text/html": [
       "<pre>recommendations finished on 893000/1092096 queries. users per second: 1417.49</pre>"
      ],
      "text/plain": [
       "recommendations finished on 893000/1092096 queries. users per second: 1417.49"
      ]
     },
     "metadata": {},
     "output_type": "display_data"
    },
    {
     "data": {
      "text/html": [
       "<pre>recommendations finished on 894000/1092096 queries. users per second: 1417.66</pre>"
      ],
      "text/plain": [
       "recommendations finished on 894000/1092096 queries. users per second: 1417.66"
      ]
     },
     "metadata": {},
     "output_type": "display_data"
    },
    {
     "data": {
      "text/html": [
       "<pre>recommendations finished on 895000/1092096 queries. users per second: 1417.8</pre>"
      ],
      "text/plain": [
       "recommendations finished on 895000/1092096 queries. users per second: 1417.8"
      ]
     },
     "metadata": {},
     "output_type": "display_data"
    },
    {
     "data": {
      "text/html": [
       "<pre>recommendations finished on 896000/1092096 queries. users per second: 1417.96</pre>"
      ],
      "text/plain": [
       "recommendations finished on 896000/1092096 queries. users per second: 1417.96"
      ]
     },
     "metadata": {},
     "output_type": "display_data"
    },
    {
     "data": {
      "text/html": [
       "<pre>recommendations finished on 897000/1092096 queries. users per second: 1418.09</pre>"
      ],
      "text/plain": [
       "recommendations finished on 897000/1092096 queries. users per second: 1418.09"
      ]
     },
     "metadata": {},
     "output_type": "display_data"
    },
    {
     "data": {
      "text/html": [
       "<pre>recommendations finished on 898000/1092096 queries. users per second: 1418.25</pre>"
      ],
      "text/plain": [
       "recommendations finished on 898000/1092096 queries. users per second: 1418.25"
      ]
     },
     "metadata": {},
     "output_type": "display_data"
    },
    {
     "data": {
      "text/html": [
       "<pre>recommendations finished on 899000/1092096 queries. users per second: 1418.4</pre>"
      ],
      "text/plain": [
       "recommendations finished on 899000/1092096 queries. users per second: 1418.4"
      ]
     },
     "metadata": {},
     "output_type": "display_data"
    },
    {
     "data": {
      "text/html": [
       "<pre>recommendations finished on 900000/1092096 queries. users per second: 1418.54</pre>"
      ],
      "text/plain": [
       "recommendations finished on 900000/1092096 queries. users per second: 1418.54"
      ]
     },
     "metadata": {},
     "output_type": "display_data"
    },
    {
     "data": {
      "text/html": [
       "<pre>recommendations finished on 901000/1092096 queries. users per second: 1418.69</pre>"
      ],
      "text/plain": [
       "recommendations finished on 901000/1092096 queries. users per second: 1418.69"
      ]
     },
     "metadata": {},
     "output_type": "display_data"
    },
    {
     "data": {
      "text/html": [
       "<pre>recommendations finished on 902000/1092096 queries. users per second: 1418.83</pre>"
      ],
      "text/plain": [
       "recommendations finished on 902000/1092096 queries. users per second: 1418.83"
      ]
     },
     "metadata": {},
     "output_type": "display_data"
    },
    {
     "data": {
      "text/html": [
       "<pre>recommendations finished on 903000/1092096 queries. users per second: 1419</pre>"
      ],
      "text/plain": [
       "recommendations finished on 903000/1092096 queries. users per second: 1419"
      ]
     },
     "metadata": {},
     "output_type": "display_data"
    },
    {
     "data": {
      "text/html": [
       "<pre>recommendations finished on 904000/1092096 queries. users per second: 1419.16</pre>"
      ],
      "text/plain": [
       "recommendations finished on 904000/1092096 queries. users per second: 1419.16"
      ]
     },
     "metadata": {},
     "output_type": "display_data"
    },
    {
     "data": {
      "text/html": [
       "<pre>recommendations finished on 905000/1092096 queries. users per second: 1419.3</pre>"
      ],
      "text/plain": [
       "recommendations finished on 905000/1092096 queries. users per second: 1419.3"
      ]
     },
     "metadata": {},
     "output_type": "display_data"
    },
    {
     "data": {
      "text/html": [
       "<pre>recommendations finished on 906000/1092096 queries. users per second: 1419.43</pre>"
      ],
      "text/plain": [
       "recommendations finished on 906000/1092096 queries. users per second: 1419.43"
      ]
     },
     "metadata": {},
     "output_type": "display_data"
    },
    {
     "data": {
      "text/html": [
       "<pre>recommendations finished on 907000/1092096 queries. users per second: 1419.6</pre>"
      ],
      "text/plain": [
       "recommendations finished on 907000/1092096 queries. users per second: 1419.6"
      ]
     },
     "metadata": {},
     "output_type": "display_data"
    },
    {
     "data": {
      "text/html": [
       "<pre>recommendations finished on 908000/1092096 queries. users per second: 1419.75</pre>"
      ],
      "text/plain": [
       "recommendations finished on 908000/1092096 queries. users per second: 1419.75"
      ]
     },
     "metadata": {},
     "output_type": "display_data"
    },
    {
     "data": {
      "text/html": [
       "<pre>recommendations finished on 909000/1092096 queries. users per second: 1419.88</pre>"
      ],
      "text/plain": [
       "recommendations finished on 909000/1092096 queries. users per second: 1419.88"
      ]
     },
     "metadata": {},
     "output_type": "display_data"
    },
    {
     "data": {
      "text/html": [
       "<pre>recommendations finished on 910000/1092096 queries. users per second: 1420.05</pre>"
      ],
      "text/plain": [
       "recommendations finished on 910000/1092096 queries. users per second: 1420.05"
      ]
     },
     "metadata": {},
     "output_type": "display_data"
    },
    {
     "data": {
      "text/html": [
       "<pre>recommendations finished on 911000/1092096 queries. users per second: 1420.2</pre>"
      ],
      "text/plain": [
       "recommendations finished on 911000/1092096 queries. users per second: 1420.2"
      ]
     },
     "metadata": {},
     "output_type": "display_data"
    },
    {
     "data": {
      "text/html": [
       "<pre>recommendations finished on 912000/1092096 queries. users per second: 1420.37</pre>"
      ],
      "text/plain": [
       "recommendations finished on 912000/1092096 queries. users per second: 1420.37"
      ]
     },
     "metadata": {},
     "output_type": "display_data"
    },
    {
     "data": {
      "text/html": [
       "<pre>recommendations finished on 913000/1092096 queries. users per second: 1420.53</pre>"
      ],
      "text/plain": [
       "recommendations finished on 913000/1092096 queries. users per second: 1420.53"
      ]
     },
     "metadata": {},
     "output_type": "display_data"
    },
    {
     "data": {
      "text/html": [
       "<pre>recommendations finished on 914000/1092096 queries. users per second: 1420.68</pre>"
      ],
      "text/plain": [
       "recommendations finished on 914000/1092096 queries. users per second: 1420.68"
      ]
     },
     "metadata": {},
     "output_type": "display_data"
    },
    {
     "data": {
      "text/html": [
       "<pre>recommendations finished on 915000/1092096 queries. users per second: 1420.87</pre>"
      ],
      "text/plain": [
       "recommendations finished on 915000/1092096 queries. users per second: 1420.87"
      ]
     },
     "metadata": {},
     "output_type": "display_data"
    },
    {
     "data": {
      "text/html": [
       "<pre>recommendations finished on 916000/1092096 queries. users per second: 1421.02</pre>"
      ],
      "text/plain": [
       "recommendations finished on 916000/1092096 queries. users per second: 1421.02"
      ]
     },
     "metadata": {},
     "output_type": "display_data"
    },
    {
     "data": {
      "text/html": [
       "<pre>recommendations finished on 917000/1092096 queries. users per second: 1421.15</pre>"
      ],
      "text/plain": [
       "recommendations finished on 917000/1092096 queries. users per second: 1421.15"
      ]
     },
     "metadata": {},
     "output_type": "display_data"
    },
    {
     "data": {
      "text/html": [
       "<pre>recommendations finished on 918000/1092096 queries. users per second: 1421.32</pre>"
      ],
      "text/plain": [
       "recommendations finished on 918000/1092096 queries. users per second: 1421.32"
      ]
     },
     "metadata": {},
     "output_type": "display_data"
    },
    {
     "data": {
      "text/html": [
       "<pre>recommendations finished on 919000/1092096 queries. users per second: 1421.47</pre>"
      ],
      "text/plain": [
       "recommendations finished on 919000/1092096 queries. users per second: 1421.47"
      ]
     },
     "metadata": {},
     "output_type": "display_data"
    },
    {
     "data": {
      "text/html": [
       "<pre>recommendations finished on 920000/1092096 queries. users per second: 1421.61</pre>"
      ],
      "text/plain": [
       "recommendations finished on 920000/1092096 queries. users per second: 1421.61"
      ]
     },
     "metadata": {},
     "output_type": "display_data"
    },
    {
     "data": {
      "text/html": [
       "<pre>recommendations finished on 921000/1092096 queries. users per second: 1421.74</pre>"
      ],
      "text/plain": [
       "recommendations finished on 921000/1092096 queries. users per second: 1421.74"
      ]
     },
     "metadata": {},
     "output_type": "display_data"
    },
    {
     "data": {
      "text/html": [
       "<pre>recommendations finished on 922000/1092096 queries. users per second: 1421.9</pre>"
      ],
      "text/plain": [
       "recommendations finished on 922000/1092096 queries. users per second: 1421.9"
      ]
     },
     "metadata": {},
     "output_type": "display_data"
    },
    {
     "data": {
      "text/html": [
       "<pre>recommendations finished on 923000/1092096 queries. users per second: 1422.05</pre>"
      ],
      "text/plain": [
       "recommendations finished on 923000/1092096 queries. users per second: 1422.05"
      ]
     },
     "metadata": {},
     "output_type": "display_data"
    },
    {
     "data": {
      "text/html": [
       "<pre>recommendations finished on 924000/1092096 queries. users per second: 1422.21</pre>"
      ],
      "text/plain": [
       "recommendations finished on 924000/1092096 queries. users per second: 1422.21"
      ]
     },
     "metadata": {},
     "output_type": "display_data"
    },
    {
     "data": {
      "text/html": [
       "<pre>recommendations finished on 925000/1092096 queries. users per second: 1422.35</pre>"
      ],
      "text/plain": [
       "recommendations finished on 925000/1092096 queries. users per second: 1422.35"
      ]
     },
     "metadata": {},
     "output_type": "display_data"
    },
    {
     "data": {
      "text/html": [
       "<pre>recommendations finished on 926000/1092096 queries. users per second: 1422.5</pre>"
      ],
      "text/plain": [
       "recommendations finished on 926000/1092096 queries. users per second: 1422.5"
      ]
     },
     "metadata": {},
     "output_type": "display_data"
    },
    {
     "data": {
      "text/html": [
       "<pre>recommendations finished on 927000/1092096 queries. users per second: 1422.68</pre>"
      ],
      "text/plain": [
       "recommendations finished on 927000/1092096 queries. users per second: 1422.68"
      ]
     },
     "metadata": {},
     "output_type": "display_data"
    },
    {
     "data": {
      "text/html": [
       "<pre>recommendations finished on 928000/1092096 queries. users per second: 1422.81</pre>"
      ],
      "text/plain": [
       "recommendations finished on 928000/1092096 queries. users per second: 1422.81"
      ]
     },
     "metadata": {},
     "output_type": "display_data"
    },
    {
     "data": {
      "text/html": [
       "<pre>recommendations finished on 929000/1092096 queries. users per second: 1422.96</pre>"
      ],
      "text/plain": [
       "recommendations finished on 929000/1092096 queries. users per second: 1422.96"
      ]
     },
     "metadata": {},
     "output_type": "display_data"
    },
    {
     "data": {
      "text/html": [
       "<pre>recommendations finished on 930000/1092096 queries. users per second: 1423.1</pre>"
      ],
      "text/plain": [
       "recommendations finished on 930000/1092096 queries. users per second: 1423.1"
      ]
     },
     "metadata": {},
     "output_type": "display_data"
    },
    {
     "data": {
      "text/html": [
       "<pre>recommendations finished on 931000/1092096 queries. users per second: 1423.25</pre>"
      ],
      "text/plain": [
       "recommendations finished on 931000/1092096 queries. users per second: 1423.25"
      ]
     },
     "metadata": {},
     "output_type": "display_data"
    },
    {
     "data": {
      "text/html": [
       "<pre>recommendations finished on 932000/1092096 queries. users per second: 1423.39</pre>"
      ],
      "text/plain": [
       "recommendations finished on 932000/1092096 queries. users per second: 1423.39"
      ]
     },
     "metadata": {},
     "output_type": "display_data"
    },
    {
     "data": {
      "text/html": [
       "<pre>recommendations finished on 933000/1092096 queries. users per second: 1423.52</pre>"
      ],
      "text/plain": [
       "recommendations finished on 933000/1092096 queries. users per second: 1423.52"
      ]
     },
     "metadata": {},
     "output_type": "display_data"
    },
    {
     "data": {
      "text/html": [
       "<pre>recommendations finished on 934000/1092096 queries. users per second: 1423.59</pre>"
      ],
      "text/plain": [
       "recommendations finished on 934000/1092096 queries. users per second: 1423.59"
      ]
     },
     "metadata": {},
     "output_type": "display_data"
    },
    {
     "data": {
      "text/html": [
       "<pre>recommendations finished on 935000/1092096 queries. users per second: 1423.73</pre>"
      ],
      "text/plain": [
       "recommendations finished on 935000/1092096 queries. users per second: 1423.73"
      ]
     },
     "metadata": {},
     "output_type": "display_data"
    },
    {
     "data": {
      "text/html": [
       "<pre>recommendations finished on 936000/1092096 queries. users per second: 1423.87</pre>"
      ],
      "text/plain": [
       "recommendations finished on 936000/1092096 queries. users per second: 1423.87"
      ]
     },
     "metadata": {},
     "output_type": "display_data"
    },
    {
     "data": {
      "text/html": [
       "<pre>recommendations finished on 937000/1092096 queries. users per second: 1424.01</pre>"
      ],
      "text/plain": [
       "recommendations finished on 937000/1092096 queries. users per second: 1424.01"
      ]
     },
     "metadata": {},
     "output_type": "display_data"
    },
    {
     "data": {
      "text/html": [
       "<pre>recommendations finished on 938000/1092096 queries. users per second: 1424.15</pre>"
      ],
      "text/plain": [
       "recommendations finished on 938000/1092096 queries. users per second: 1424.15"
      ]
     },
     "metadata": {},
     "output_type": "display_data"
    },
    {
     "data": {
      "text/html": [
       "<pre>recommendations finished on 939000/1092096 queries. users per second: 1424.31</pre>"
      ],
      "text/plain": [
       "recommendations finished on 939000/1092096 queries. users per second: 1424.31"
      ]
     },
     "metadata": {},
     "output_type": "display_data"
    },
    {
     "data": {
      "text/html": [
       "<pre>recommendations finished on 940000/1092096 queries. users per second: 1424.47</pre>"
      ],
      "text/plain": [
       "recommendations finished on 940000/1092096 queries. users per second: 1424.47"
      ]
     },
     "metadata": {},
     "output_type": "display_data"
    },
    {
     "data": {
      "text/html": [
       "<pre>recommendations finished on 941000/1092096 queries. users per second: 1424.61</pre>"
      ],
      "text/plain": [
       "recommendations finished on 941000/1092096 queries. users per second: 1424.61"
      ]
     },
     "metadata": {},
     "output_type": "display_data"
    },
    {
     "data": {
      "text/html": [
       "<pre>recommendations finished on 942000/1092096 queries. users per second: 1424.74</pre>"
      ],
      "text/plain": [
       "recommendations finished on 942000/1092096 queries. users per second: 1424.74"
      ]
     },
     "metadata": {},
     "output_type": "display_data"
    },
    {
     "data": {
      "text/html": [
       "<pre>recommendations finished on 943000/1092096 queries. users per second: 1424.83</pre>"
      ],
      "text/plain": [
       "recommendations finished on 943000/1092096 queries. users per second: 1424.83"
      ]
     },
     "metadata": {},
     "output_type": "display_data"
    },
    {
     "data": {
      "text/html": [
       "<pre>recommendations finished on 944000/1092096 queries. users per second: 1424.9</pre>"
      ],
      "text/plain": [
       "recommendations finished on 944000/1092096 queries. users per second: 1424.9"
      ]
     },
     "metadata": {},
     "output_type": "display_data"
    },
    {
     "data": {
      "text/html": [
       "<pre>recommendations finished on 945000/1092096 queries. users per second: 1425.06</pre>"
      ],
      "text/plain": [
       "recommendations finished on 945000/1092096 queries. users per second: 1425.06"
      ]
     },
     "metadata": {},
     "output_type": "display_data"
    },
    {
     "data": {
      "text/html": [
       "<pre>recommendations finished on 946000/1092096 queries. users per second: 1425.24</pre>"
      ],
      "text/plain": [
       "recommendations finished on 946000/1092096 queries. users per second: 1425.24"
      ]
     },
     "metadata": {},
     "output_type": "display_data"
    },
    {
     "data": {
      "text/html": [
       "<pre>recommendations finished on 947000/1092096 queries. users per second: 1425.38</pre>"
      ],
      "text/plain": [
       "recommendations finished on 947000/1092096 queries. users per second: 1425.38"
      ]
     },
     "metadata": {},
     "output_type": "display_data"
    },
    {
     "data": {
      "text/html": [
       "<pre>recommendations finished on 948000/1092096 queries. users per second: 1425.53</pre>"
      ],
      "text/plain": [
       "recommendations finished on 948000/1092096 queries. users per second: 1425.53"
      ]
     },
     "metadata": {},
     "output_type": "display_data"
    },
    {
     "data": {
      "text/html": [
       "<pre>recommendations finished on 949000/1092096 queries. users per second: 1425.66</pre>"
      ],
      "text/plain": [
       "recommendations finished on 949000/1092096 queries. users per second: 1425.66"
      ]
     },
     "metadata": {},
     "output_type": "display_data"
    },
    {
     "data": {
      "text/html": [
       "<pre>recommendations finished on 950000/1092096 queries. users per second: 1425.81</pre>"
      ],
      "text/plain": [
       "recommendations finished on 950000/1092096 queries. users per second: 1425.81"
      ]
     },
     "metadata": {},
     "output_type": "display_data"
    },
    {
     "data": {
      "text/html": [
       "<pre>recommendations finished on 951000/1092096 queries. users per second: 1425.96</pre>"
      ],
      "text/plain": [
       "recommendations finished on 951000/1092096 queries. users per second: 1425.96"
      ]
     },
     "metadata": {},
     "output_type": "display_data"
    },
    {
     "data": {
      "text/html": [
       "<pre>recommendations finished on 952000/1092096 queries. users per second: 1426.08</pre>"
      ],
      "text/plain": [
       "recommendations finished on 952000/1092096 queries. users per second: 1426.08"
      ]
     },
     "metadata": {},
     "output_type": "display_data"
    },
    {
     "data": {
      "text/html": [
       "<pre>recommendations finished on 953000/1092096 queries. users per second: 1426.17</pre>"
      ],
      "text/plain": [
       "recommendations finished on 953000/1092096 queries. users per second: 1426.17"
      ]
     },
     "metadata": {},
     "output_type": "display_data"
    },
    {
     "data": {
      "text/html": [
       "<pre>recommendations finished on 954000/1092096 queries. users per second: 1426.28</pre>"
      ],
      "text/plain": [
       "recommendations finished on 954000/1092096 queries. users per second: 1426.28"
      ]
     },
     "metadata": {},
     "output_type": "display_data"
    },
    {
     "data": {
      "text/html": [
       "<pre>recommendations finished on 955000/1092096 queries. users per second: 1426.4</pre>"
      ],
      "text/plain": [
       "recommendations finished on 955000/1092096 queries. users per second: 1426.4"
      ]
     },
     "metadata": {},
     "output_type": "display_data"
    },
    {
     "data": {
      "text/html": [
       "<pre>recommendations finished on 956000/1092096 queries. users per second: 1426.54</pre>"
      ],
      "text/plain": [
       "recommendations finished on 956000/1092096 queries. users per second: 1426.54"
      ]
     },
     "metadata": {},
     "output_type": "display_data"
    },
    {
     "data": {
      "text/html": [
       "<pre>recommendations finished on 957000/1092096 queries. users per second: 1426.69</pre>"
      ],
      "text/plain": [
       "recommendations finished on 957000/1092096 queries. users per second: 1426.69"
      ]
     },
     "metadata": {},
     "output_type": "display_data"
    },
    {
     "data": {
      "text/html": [
       "<pre>recommendations finished on 958000/1092096 queries. users per second: 1426.82</pre>"
      ],
      "text/plain": [
       "recommendations finished on 958000/1092096 queries. users per second: 1426.82"
      ]
     },
     "metadata": {},
     "output_type": "display_data"
    },
    {
     "data": {
      "text/html": [
       "<pre>recommendations finished on 959000/1092096 queries. users per second: 1426.97</pre>"
      ],
      "text/plain": [
       "recommendations finished on 959000/1092096 queries. users per second: 1426.97"
      ]
     },
     "metadata": {},
     "output_type": "display_data"
    },
    {
     "data": {
      "text/html": [
       "<pre>recommendations finished on 960000/1092096 queries. users per second: 1427.11</pre>"
      ],
      "text/plain": [
       "recommendations finished on 960000/1092096 queries. users per second: 1427.11"
      ]
     },
     "metadata": {},
     "output_type": "display_data"
    },
    {
     "data": {
      "text/html": [
       "<pre>recommendations finished on 961000/1092096 queries. users per second: 1427.26</pre>"
      ],
      "text/plain": [
       "recommendations finished on 961000/1092096 queries. users per second: 1427.26"
      ]
     },
     "metadata": {},
     "output_type": "display_data"
    },
    {
     "data": {
      "text/html": [
       "<pre>recommendations finished on 962000/1092096 queries. users per second: 1427.41</pre>"
      ],
      "text/plain": [
       "recommendations finished on 962000/1092096 queries. users per second: 1427.41"
      ]
     },
     "metadata": {},
     "output_type": "display_data"
    },
    {
     "data": {
      "text/html": [
       "<pre>recommendations finished on 963000/1092096 queries. users per second: 1427.55</pre>"
      ],
      "text/plain": [
       "recommendations finished on 963000/1092096 queries. users per second: 1427.55"
      ]
     },
     "metadata": {},
     "output_type": "display_data"
    },
    {
     "data": {
      "text/html": [
       "<pre>recommendations finished on 964000/1092096 queries. users per second: 1427.68</pre>"
      ],
      "text/plain": [
       "recommendations finished on 964000/1092096 queries. users per second: 1427.68"
      ]
     },
     "metadata": {},
     "output_type": "display_data"
    },
    {
     "data": {
      "text/html": [
       "<pre>recommendations finished on 965000/1092096 queries. users per second: 1427.81</pre>"
      ],
      "text/plain": [
       "recommendations finished on 965000/1092096 queries. users per second: 1427.81"
      ]
     },
     "metadata": {},
     "output_type": "display_data"
    },
    {
     "data": {
      "text/html": [
       "<pre>recommendations finished on 966000/1092096 queries. users per second: 1427.98</pre>"
      ],
      "text/plain": [
       "recommendations finished on 966000/1092096 queries. users per second: 1427.98"
      ]
     },
     "metadata": {},
     "output_type": "display_data"
    },
    {
     "data": {
      "text/html": [
       "<pre>recommendations finished on 967000/1092096 queries. users per second: 1428.12</pre>"
      ],
      "text/plain": [
       "recommendations finished on 967000/1092096 queries. users per second: 1428.12"
      ]
     },
     "metadata": {},
     "output_type": "display_data"
    },
    {
     "data": {
      "text/html": [
       "<pre>recommendations finished on 968000/1092096 queries. users per second: 1428.28</pre>"
      ],
      "text/plain": [
       "recommendations finished on 968000/1092096 queries. users per second: 1428.28"
      ]
     },
     "metadata": {},
     "output_type": "display_data"
    },
    {
     "data": {
      "text/html": [
       "<pre>recommendations finished on 969000/1092096 queries. users per second: 1428.41</pre>"
      ],
      "text/plain": [
       "recommendations finished on 969000/1092096 queries. users per second: 1428.41"
      ]
     },
     "metadata": {},
     "output_type": "display_data"
    },
    {
     "data": {
      "text/html": [
       "<pre>recommendations finished on 970000/1092096 queries. users per second: 1428.55</pre>"
      ],
      "text/plain": [
       "recommendations finished on 970000/1092096 queries. users per second: 1428.55"
      ]
     },
     "metadata": {},
     "output_type": "display_data"
    },
    {
     "data": {
      "text/html": [
       "<pre>recommendations finished on 971000/1092096 queries. users per second: 1428.69</pre>"
      ],
      "text/plain": [
       "recommendations finished on 971000/1092096 queries. users per second: 1428.69"
      ]
     },
     "metadata": {},
     "output_type": "display_data"
    },
    {
     "data": {
      "text/html": [
       "<pre>recommendations finished on 972000/1092096 queries. users per second: 1428.85</pre>"
      ],
      "text/plain": [
       "recommendations finished on 972000/1092096 queries. users per second: 1428.85"
      ]
     },
     "metadata": {},
     "output_type": "display_data"
    },
    {
     "data": {
      "text/html": [
       "<pre>recommendations finished on 973000/1092096 queries. users per second: 1428.98</pre>"
      ],
      "text/plain": [
       "recommendations finished on 973000/1092096 queries. users per second: 1428.98"
      ]
     },
     "metadata": {},
     "output_type": "display_data"
    },
    {
     "data": {
      "text/html": [
       "<pre>recommendations finished on 974000/1092096 queries. users per second: 1429.15</pre>"
      ],
      "text/plain": [
       "recommendations finished on 974000/1092096 queries. users per second: 1429.15"
      ]
     },
     "metadata": {},
     "output_type": "display_data"
    },
    {
     "data": {
      "text/html": [
       "<pre>recommendations finished on 975000/1092096 queries. users per second: 1429.3</pre>"
      ],
      "text/plain": [
       "recommendations finished on 975000/1092096 queries. users per second: 1429.3"
      ]
     },
     "metadata": {},
     "output_type": "display_data"
    },
    {
     "data": {
      "text/html": [
       "<pre>recommendations finished on 976000/1092096 queries. users per second: 1429.41</pre>"
      ],
      "text/plain": [
       "recommendations finished on 976000/1092096 queries. users per second: 1429.41"
      ]
     },
     "metadata": {},
     "output_type": "display_data"
    },
    {
     "data": {
      "text/html": [
       "<pre>recommendations finished on 977000/1092096 queries. users per second: 1429.55</pre>"
      ],
      "text/plain": [
       "recommendations finished on 977000/1092096 queries. users per second: 1429.55"
      ]
     },
     "metadata": {},
     "output_type": "display_data"
    },
    {
     "data": {
      "text/html": [
       "<pre>recommendations finished on 978000/1092096 queries. users per second: 1429.69</pre>"
      ],
      "text/plain": [
       "recommendations finished on 978000/1092096 queries. users per second: 1429.69"
      ]
     },
     "metadata": {},
     "output_type": "display_data"
    },
    {
     "data": {
      "text/html": [
       "<pre>recommendations finished on 979000/1092096 queries. users per second: 1429.85</pre>"
      ],
      "text/plain": [
       "recommendations finished on 979000/1092096 queries. users per second: 1429.85"
      ]
     },
     "metadata": {},
     "output_type": "display_data"
    },
    {
     "data": {
      "text/html": [
       "<pre>recommendations finished on 980000/1092096 queries. users per second: 1429.96</pre>"
      ],
      "text/plain": [
       "recommendations finished on 980000/1092096 queries. users per second: 1429.96"
      ]
     },
     "metadata": {},
     "output_type": "display_data"
    },
    {
     "data": {
      "text/html": [
       "<pre>recommendations finished on 981000/1092096 queries. users per second: 1430.1</pre>"
      ],
      "text/plain": [
       "recommendations finished on 981000/1092096 queries. users per second: 1430.1"
      ]
     },
     "metadata": {},
     "output_type": "display_data"
    },
    {
     "data": {
      "text/html": [
       "<pre>recommendations finished on 982000/1092096 queries. users per second: 1430.23</pre>"
      ],
      "text/plain": [
       "recommendations finished on 982000/1092096 queries. users per second: 1430.23"
      ]
     },
     "metadata": {},
     "output_type": "display_data"
    },
    {
     "data": {
      "text/html": [
       "<pre>recommendations finished on 983000/1092096 queries. users per second: 1430.37</pre>"
      ],
      "text/plain": [
       "recommendations finished on 983000/1092096 queries. users per second: 1430.37"
      ]
     },
     "metadata": {},
     "output_type": "display_data"
    },
    {
     "data": {
      "text/html": [
       "<pre>recommendations finished on 984000/1092096 queries. users per second: 1430.51</pre>"
      ],
      "text/plain": [
       "recommendations finished on 984000/1092096 queries. users per second: 1430.51"
      ]
     },
     "metadata": {},
     "output_type": "display_data"
    },
    {
     "data": {
      "text/html": [
       "<pre>recommendations finished on 985000/1092096 queries. users per second: 1430.41</pre>"
      ],
      "text/plain": [
       "recommendations finished on 985000/1092096 queries. users per second: 1430.41"
      ]
     },
     "metadata": {},
     "output_type": "display_data"
    },
    {
     "data": {
      "text/html": [
       "<pre>recommendations finished on 986000/1092096 queries. users per second: 1430.29</pre>"
      ],
      "text/plain": [
       "recommendations finished on 986000/1092096 queries. users per second: 1430.29"
      ]
     },
     "metadata": {},
     "output_type": "display_data"
    },
    {
     "data": {
      "text/html": [
       "<pre>recommendations finished on 987000/1092096 queries. users per second: 1430.36</pre>"
      ],
      "text/plain": [
       "recommendations finished on 987000/1092096 queries. users per second: 1430.36"
      ]
     },
     "metadata": {},
     "output_type": "display_data"
    },
    {
     "data": {
      "text/html": [
       "<pre>recommendations finished on 988000/1092096 queries. users per second: 1430.44</pre>"
      ],
      "text/plain": [
       "recommendations finished on 988000/1092096 queries. users per second: 1430.44"
      ]
     },
     "metadata": {},
     "output_type": "display_data"
    },
    {
     "data": {
      "text/html": [
       "<pre>recommendations finished on 989000/1092096 queries. users per second: 1430.39</pre>"
      ],
      "text/plain": [
       "recommendations finished on 989000/1092096 queries. users per second: 1430.39"
      ]
     },
     "metadata": {},
     "output_type": "display_data"
    },
    {
     "data": {
      "text/html": [
       "<pre>recommendations finished on 990000/1092096 queries. users per second: 1430.51</pre>"
      ],
      "text/plain": [
       "recommendations finished on 990000/1092096 queries. users per second: 1430.51"
      ]
     },
     "metadata": {},
     "output_type": "display_data"
    },
    {
     "data": {
      "text/html": [
       "<pre>recommendations finished on 991000/1092096 queries. users per second: 1430.53</pre>"
      ],
      "text/plain": [
       "recommendations finished on 991000/1092096 queries. users per second: 1430.53"
      ]
     },
     "metadata": {},
     "output_type": "display_data"
    },
    {
     "data": {
      "text/html": [
       "<pre>recommendations finished on 992000/1092096 queries. users per second: 1430.42</pre>"
      ],
      "text/plain": [
       "recommendations finished on 992000/1092096 queries. users per second: 1430.42"
      ]
     },
     "metadata": {},
     "output_type": "display_data"
    },
    {
     "data": {
      "text/html": [
       "<pre>recommendations finished on 993000/1092096 queries. users per second: 1430.26</pre>"
      ],
      "text/plain": [
       "recommendations finished on 993000/1092096 queries. users per second: 1430.26"
      ]
     },
     "metadata": {},
     "output_type": "display_data"
    },
    {
     "data": {
      "text/html": [
       "<pre>recommendations finished on 994000/1092096 queries. users per second: 1430.39</pre>"
      ],
      "text/plain": [
       "recommendations finished on 994000/1092096 queries. users per second: 1430.39"
      ]
     },
     "metadata": {},
     "output_type": "display_data"
    },
    {
     "data": {
      "text/html": [
       "<pre>recommendations finished on 995000/1092096 queries. users per second: 1430.51</pre>"
      ],
      "text/plain": [
       "recommendations finished on 995000/1092096 queries. users per second: 1430.51"
      ]
     },
     "metadata": {},
     "output_type": "display_data"
    },
    {
     "data": {
      "text/html": [
       "<pre>recommendations finished on 996000/1092096 queries. users per second: 1430.61</pre>"
      ],
      "text/plain": [
       "recommendations finished on 996000/1092096 queries. users per second: 1430.61"
      ]
     },
     "metadata": {},
     "output_type": "display_data"
    },
    {
     "data": {
      "text/html": [
       "<pre>recommendations finished on 997000/1092096 queries. users per second: 1430.75</pre>"
      ],
      "text/plain": [
       "recommendations finished on 997000/1092096 queries. users per second: 1430.75"
      ]
     },
     "metadata": {},
     "output_type": "display_data"
    },
    {
     "data": {
      "text/html": [
       "<pre>recommendations finished on 998000/1092096 queries. users per second: 1430.88</pre>"
      ],
      "text/plain": [
       "recommendations finished on 998000/1092096 queries. users per second: 1430.88"
      ]
     },
     "metadata": {},
     "output_type": "display_data"
    },
    {
     "data": {
      "text/html": [
       "<pre>recommendations finished on 999000/1092096 queries. users per second: 1431.01</pre>"
      ],
      "text/plain": [
       "recommendations finished on 999000/1092096 queries. users per second: 1431.01"
      ]
     },
     "metadata": {},
     "output_type": "display_data"
    },
    {
     "data": {
      "text/html": [
       "<pre>recommendations finished on 1000000/1092096 queries. users per second: 1431.15</pre>"
      ],
      "text/plain": [
       "recommendations finished on 1000000/1092096 queries. users per second: 1431.15"
      ]
     },
     "metadata": {},
     "output_type": "display_data"
    },
    {
     "data": {
      "text/html": [
       "<pre>recommendations finished on 1001000/1092096 queries. users per second: 1431.07</pre>"
      ],
      "text/plain": [
       "recommendations finished on 1001000/1092096 queries. users per second: 1431.07"
      ]
     },
     "metadata": {},
     "output_type": "display_data"
    },
    {
     "data": {
      "text/html": [
       "<pre>recommendations finished on 1002000/1092096 queries. users per second: 1431.03</pre>"
      ],
      "text/plain": [
       "recommendations finished on 1002000/1092096 queries. users per second: 1431.03"
      ]
     },
     "metadata": {},
     "output_type": "display_data"
    },
    {
     "data": {
      "text/html": [
       "<pre>recommendations finished on 1003000/1092096 queries. users per second: 1430.94</pre>"
      ],
      "text/plain": [
       "recommendations finished on 1003000/1092096 queries. users per second: 1430.94"
      ]
     },
     "metadata": {},
     "output_type": "display_data"
    },
    {
     "data": {
      "text/html": [
       "<pre>recommendations finished on 1004000/1092096 queries. users per second: 1430.84</pre>"
      ],
      "text/plain": [
       "recommendations finished on 1004000/1092096 queries. users per second: 1430.84"
      ]
     },
     "metadata": {},
     "output_type": "display_data"
    },
    {
     "data": {
      "text/html": [
       "<pre>recommendations finished on 1005000/1092096 queries. users per second: 1430.88</pre>"
      ],
      "text/plain": [
       "recommendations finished on 1005000/1092096 queries. users per second: 1430.88"
      ]
     },
     "metadata": {},
     "output_type": "display_data"
    },
    {
     "data": {
      "text/html": [
       "<pre>recommendations finished on 1006000/1092096 queries. users per second: 1430.9</pre>"
      ],
      "text/plain": [
       "recommendations finished on 1006000/1092096 queries. users per second: 1430.9"
      ]
     },
     "metadata": {},
     "output_type": "display_data"
    },
    {
     "data": {
      "text/html": [
       "<pre>recommendations finished on 1007000/1092096 queries. users per second: 1430.99</pre>"
      ],
      "text/plain": [
       "recommendations finished on 1007000/1092096 queries. users per second: 1430.99"
      ]
     },
     "metadata": {},
     "output_type": "display_data"
    },
    {
     "data": {
      "text/html": [
       "<pre>recommendations finished on 1008000/1092096 queries. users per second: 1431.08</pre>"
      ],
      "text/plain": [
       "recommendations finished on 1008000/1092096 queries. users per second: 1431.08"
      ]
     },
     "metadata": {},
     "output_type": "display_data"
    },
    {
     "data": {
      "text/html": [
       "<pre>recommendations finished on 1009000/1092096 queries. users per second: 1431.17</pre>"
      ],
      "text/plain": [
       "recommendations finished on 1009000/1092096 queries. users per second: 1431.17"
      ]
     },
     "metadata": {},
     "output_type": "display_data"
    },
    {
     "data": {
      "text/html": [
       "<pre>recommendations finished on 1010000/1092096 queries. users per second: 1431.26</pre>"
      ],
      "text/plain": [
       "recommendations finished on 1010000/1092096 queries. users per second: 1431.26"
      ]
     },
     "metadata": {},
     "output_type": "display_data"
    },
    {
     "data": {
      "text/html": [
       "<pre>recommendations finished on 1011000/1092096 queries. users per second: 1431.35</pre>"
      ],
      "text/plain": [
       "recommendations finished on 1011000/1092096 queries. users per second: 1431.35"
      ]
     },
     "metadata": {},
     "output_type": "display_data"
    },
    {
     "data": {
      "text/html": [
       "<pre>recommendations finished on 1012000/1092096 queries. users per second: 1431.45</pre>"
      ],
      "text/plain": [
       "recommendations finished on 1012000/1092096 queries. users per second: 1431.45"
      ]
     },
     "metadata": {},
     "output_type": "display_data"
    },
    {
     "data": {
      "text/html": [
       "<pre>recommendations finished on 1013000/1092096 queries. users per second: 1431.56</pre>"
      ],
      "text/plain": [
       "recommendations finished on 1013000/1092096 queries. users per second: 1431.56"
      ]
     },
     "metadata": {},
     "output_type": "display_data"
    },
    {
     "data": {
      "text/html": [
       "<pre>recommendations finished on 1014000/1092096 queries. users per second: 1431.66</pre>"
      ],
      "text/plain": [
       "recommendations finished on 1014000/1092096 queries. users per second: 1431.66"
      ]
     },
     "metadata": {},
     "output_type": "display_data"
    },
    {
     "data": {
      "text/html": [
       "<pre>recommendations finished on 1015000/1092096 queries. users per second: 1431.76</pre>"
      ],
      "text/plain": [
       "recommendations finished on 1015000/1092096 queries. users per second: 1431.76"
      ]
     },
     "metadata": {},
     "output_type": "display_data"
    },
    {
     "data": {
      "text/html": [
       "<pre>recommendations finished on 1016000/1092096 queries. users per second: 1431.87</pre>"
      ],
      "text/plain": [
       "recommendations finished on 1016000/1092096 queries. users per second: 1431.87"
      ]
     },
     "metadata": {},
     "output_type": "display_data"
    },
    {
     "data": {
      "text/html": [
       "<pre>recommendations finished on 1017000/1092096 queries. users per second: 1431.98</pre>"
      ],
      "text/plain": [
       "recommendations finished on 1017000/1092096 queries. users per second: 1431.98"
      ]
     },
     "metadata": {},
     "output_type": "display_data"
    },
    {
     "data": {
      "text/html": [
       "<pre>recommendations finished on 1018000/1092096 queries. users per second: 1432.09</pre>"
      ],
      "text/plain": [
       "recommendations finished on 1018000/1092096 queries. users per second: 1432.09"
      ]
     },
     "metadata": {},
     "output_type": "display_data"
    },
    {
     "data": {
      "text/html": [
       "<pre>recommendations finished on 1019000/1092096 queries. users per second: 1432.19</pre>"
      ],
      "text/plain": [
       "recommendations finished on 1019000/1092096 queries. users per second: 1432.19"
      ]
     },
     "metadata": {},
     "output_type": "display_data"
    },
    {
     "data": {
      "text/html": [
       "<pre>recommendations finished on 1020000/1092096 queries. users per second: 1432.27</pre>"
      ],
      "text/plain": [
       "recommendations finished on 1020000/1092096 queries. users per second: 1432.27"
      ]
     },
     "metadata": {},
     "output_type": "display_data"
    },
    {
     "data": {
      "text/html": [
       "<pre>recommendations finished on 1021000/1092096 queries. users per second: 1432.38</pre>"
      ],
      "text/plain": [
       "recommendations finished on 1021000/1092096 queries. users per second: 1432.38"
      ]
     },
     "metadata": {},
     "output_type": "display_data"
    },
    {
     "data": {
      "text/html": [
       "<pre>recommendations finished on 1022000/1092096 queries. users per second: 1432.49</pre>"
      ],
      "text/plain": [
       "recommendations finished on 1022000/1092096 queries. users per second: 1432.49"
      ]
     },
     "metadata": {},
     "output_type": "display_data"
    },
    {
     "data": {
      "text/html": [
       "<pre>recommendations finished on 1023000/1092096 queries. users per second: 1432.61</pre>"
      ],
      "text/plain": [
       "recommendations finished on 1023000/1092096 queries. users per second: 1432.61"
      ]
     },
     "metadata": {},
     "output_type": "display_data"
    },
    {
     "data": {
      "text/html": [
       "<pre>recommendations finished on 1024000/1092096 queries. users per second: 1432.72</pre>"
      ],
      "text/plain": [
       "recommendations finished on 1024000/1092096 queries. users per second: 1432.72"
      ]
     },
     "metadata": {},
     "output_type": "display_data"
    },
    {
     "data": {
      "text/html": [
       "<pre>recommendations finished on 1025000/1092096 queries. users per second: 1432.8</pre>"
      ],
      "text/plain": [
       "recommendations finished on 1025000/1092096 queries. users per second: 1432.8"
      ]
     },
     "metadata": {},
     "output_type": "display_data"
    },
    {
     "data": {
      "text/html": [
       "<pre>recommendations finished on 1026000/1092096 queries. users per second: 1432.9</pre>"
      ],
      "text/plain": [
       "recommendations finished on 1026000/1092096 queries. users per second: 1432.9"
      ]
     },
     "metadata": {},
     "output_type": "display_data"
    },
    {
     "data": {
      "text/html": [
       "<pre>recommendations finished on 1027000/1092096 queries. users per second: 1433.01</pre>"
      ],
      "text/plain": [
       "recommendations finished on 1027000/1092096 queries. users per second: 1433.01"
      ]
     },
     "metadata": {},
     "output_type": "display_data"
    },
    {
     "data": {
      "text/html": [
       "<pre>recommendations finished on 1028000/1092096 queries. users per second: 1433.1</pre>"
      ],
      "text/plain": [
       "recommendations finished on 1028000/1092096 queries. users per second: 1433.1"
      ]
     },
     "metadata": {},
     "output_type": "display_data"
    },
    {
     "data": {
      "text/html": [
       "<pre>recommendations finished on 1029000/1092096 queries. users per second: 1433.21</pre>"
      ],
      "text/plain": [
       "recommendations finished on 1029000/1092096 queries. users per second: 1433.21"
      ]
     },
     "metadata": {},
     "output_type": "display_data"
    },
    {
     "data": {
      "text/html": [
       "<pre>recommendations finished on 1030000/1092096 queries. users per second: 1433.32</pre>"
      ],
      "text/plain": [
       "recommendations finished on 1030000/1092096 queries. users per second: 1433.32"
      ]
     },
     "metadata": {},
     "output_type": "display_data"
    },
    {
     "data": {
      "text/html": [
       "<pre>recommendations finished on 1031000/1092096 queries. users per second: 1433.42</pre>"
      ],
      "text/plain": [
       "recommendations finished on 1031000/1092096 queries. users per second: 1433.42"
      ]
     },
     "metadata": {},
     "output_type": "display_data"
    },
    {
     "data": {
      "text/html": [
       "<pre>recommendations finished on 1032000/1092096 queries. users per second: 1433.54</pre>"
      ],
      "text/plain": [
       "recommendations finished on 1032000/1092096 queries. users per second: 1433.54"
      ]
     },
     "metadata": {},
     "output_type": "display_data"
    },
    {
     "data": {
      "text/html": [
       "<pre>recommendations finished on 1033000/1092096 queries. users per second: 1433.64</pre>"
      ],
      "text/plain": [
       "recommendations finished on 1033000/1092096 queries. users per second: 1433.64"
      ]
     },
     "metadata": {},
     "output_type": "display_data"
    },
    {
     "data": {
      "text/html": [
       "<pre>recommendations finished on 1034000/1092096 queries. users per second: 1433.72</pre>"
      ],
      "text/plain": [
       "recommendations finished on 1034000/1092096 queries. users per second: 1433.72"
      ]
     },
     "metadata": {},
     "output_type": "display_data"
    },
    {
     "data": {
      "text/html": [
       "<pre>recommendations finished on 1035000/1092096 queries. users per second: 1433.84</pre>"
      ],
      "text/plain": [
       "recommendations finished on 1035000/1092096 queries. users per second: 1433.84"
      ]
     },
     "metadata": {},
     "output_type": "display_data"
    },
    {
     "data": {
      "text/html": [
       "<pre>recommendations finished on 1036000/1092096 queries. users per second: 1433.94</pre>"
      ],
      "text/plain": [
       "recommendations finished on 1036000/1092096 queries. users per second: 1433.94"
      ]
     },
     "metadata": {},
     "output_type": "display_data"
    },
    {
     "data": {
      "text/html": [
       "<pre>recommendations finished on 1037000/1092096 queries. users per second: 1434.05</pre>"
      ],
      "text/plain": [
       "recommendations finished on 1037000/1092096 queries. users per second: 1434.05"
      ]
     },
     "metadata": {},
     "output_type": "display_data"
    },
    {
     "data": {
      "text/html": [
       "<pre>recommendations finished on 1038000/1092096 queries. users per second: 1434.15</pre>"
      ],
      "text/plain": [
       "recommendations finished on 1038000/1092096 queries. users per second: 1434.15"
      ]
     },
     "metadata": {},
     "output_type": "display_data"
    },
    {
     "data": {
      "text/html": [
       "<pre>recommendations finished on 1039000/1092096 queries. users per second: 1434.24</pre>"
      ],
      "text/plain": [
       "recommendations finished on 1039000/1092096 queries. users per second: 1434.24"
      ]
     },
     "metadata": {},
     "output_type": "display_data"
    },
    {
     "data": {
      "text/html": [
       "<pre>recommendations finished on 1040000/1092096 queries. users per second: 1434.35</pre>"
      ],
      "text/plain": [
       "recommendations finished on 1040000/1092096 queries. users per second: 1434.35"
      ]
     },
     "metadata": {},
     "output_type": "display_data"
    },
    {
     "data": {
      "text/html": [
       "<pre>recommendations finished on 1041000/1092096 queries. users per second: 1434.45</pre>"
      ],
      "text/plain": [
       "recommendations finished on 1041000/1092096 queries. users per second: 1434.45"
      ]
     },
     "metadata": {},
     "output_type": "display_data"
    },
    {
     "data": {
      "text/html": [
       "<pre>recommendations finished on 1042000/1092096 queries. users per second: 1434.56</pre>"
      ],
      "text/plain": [
       "recommendations finished on 1042000/1092096 queries. users per second: 1434.56"
      ]
     },
     "metadata": {},
     "output_type": "display_data"
    },
    {
     "data": {
      "text/html": [
       "<pre>recommendations finished on 1043000/1092096 queries. users per second: 1434.66</pre>"
      ],
      "text/plain": [
       "recommendations finished on 1043000/1092096 queries. users per second: 1434.66"
      ]
     },
     "metadata": {},
     "output_type": "display_data"
    },
    {
     "data": {
      "text/html": [
       "<pre>recommendations finished on 1044000/1092096 queries. users per second: 1434.77</pre>"
      ],
      "text/plain": [
       "recommendations finished on 1044000/1092096 queries. users per second: 1434.77"
      ]
     },
     "metadata": {},
     "output_type": "display_data"
    },
    {
     "data": {
      "text/html": [
       "<pre>recommendations finished on 1045000/1092096 queries. users per second: 1434.87</pre>"
      ],
      "text/plain": [
       "recommendations finished on 1045000/1092096 queries. users per second: 1434.87"
      ]
     },
     "metadata": {},
     "output_type": "display_data"
    },
    {
     "data": {
      "text/html": [
       "<pre>recommendations finished on 1046000/1092096 queries. users per second: 1434.96</pre>"
      ],
      "text/plain": [
       "recommendations finished on 1046000/1092096 queries. users per second: 1434.96"
      ]
     },
     "metadata": {},
     "output_type": "display_data"
    },
    {
     "data": {
      "text/html": [
       "<pre>recommendations finished on 1047000/1092096 queries. users per second: 1435.05</pre>"
      ],
      "text/plain": [
       "recommendations finished on 1047000/1092096 queries. users per second: 1435.05"
      ]
     },
     "metadata": {},
     "output_type": "display_data"
    },
    {
     "data": {
      "text/html": [
       "<pre>recommendations finished on 1048000/1092096 queries. users per second: 1435.14</pre>"
      ],
      "text/plain": [
       "recommendations finished on 1048000/1092096 queries. users per second: 1435.14"
      ]
     },
     "metadata": {},
     "output_type": "display_data"
    },
    {
     "data": {
      "text/html": [
       "<pre>recommendations finished on 1049000/1092096 queries. users per second: 1435.23</pre>"
      ],
      "text/plain": [
       "recommendations finished on 1049000/1092096 queries. users per second: 1435.23"
      ]
     },
     "metadata": {},
     "output_type": "display_data"
    },
    {
     "data": {
      "text/html": [
       "<pre>recommendations finished on 1050000/1092096 queries. users per second: 1435.32</pre>"
      ],
      "text/plain": [
       "recommendations finished on 1050000/1092096 queries. users per second: 1435.32"
      ]
     },
     "metadata": {},
     "output_type": "display_data"
    },
    {
     "data": {
      "text/html": [
       "<pre>recommendations finished on 1051000/1092096 queries. users per second: 1435.41</pre>"
      ],
      "text/plain": [
       "recommendations finished on 1051000/1092096 queries. users per second: 1435.41"
      ]
     },
     "metadata": {},
     "output_type": "display_data"
    },
    {
     "data": {
      "text/html": [
       "<pre>recommendations finished on 1052000/1092096 queries. users per second: 1435.49</pre>"
      ],
      "text/plain": [
       "recommendations finished on 1052000/1092096 queries. users per second: 1435.49"
      ]
     },
     "metadata": {},
     "output_type": "display_data"
    },
    {
     "data": {
      "text/html": [
       "<pre>recommendations finished on 1053000/1092096 queries. users per second: 1435.58</pre>"
      ],
      "text/plain": [
       "recommendations finished on 1053000/1092096 queries. users per second: 1435.58"
      ]
     },
     "metadata": {},
     "output_type": "display_data"
    },
    {
     "data": {
      "text/html": [
       "<pre>recommendations finished on 1054000/1092096 queries. users per second: 1435.68</pre>"
      ],
      "text/plain": [
       "recommendations finished on 1054000/1092096 queries. users per second: 1435.68"
      ]
     },
     "metadata": {},
     "output_type": "display_data"
    },
    {
     "data": {
      "text/html": [
       "<pre>recommendations finished on 1055000/1092096 queries. users per second: 1435.78</pre>"
      ],
      "text/plain": [
       "recommendations finished on 1055000/1092096 queries. users per second: 1435.78"
      ]
     },
     "metadata": {},
     "output_type": "display_data"
    },
    {
     "data": {
      "text/html": [
       "<pre>recommendations finished on 1056000/1092096 queries. users per second: 1435.86</pre>"
      ],
      "text/plain": [
       "recommendations finished on 1056000/1092096 queries. users per second: 1435.86"
      ]
     },
     "metadata": {},
     "output_type": "display_data"
    },
    {
     "data": {
      "text/html": [
       "<pre>recommendations finished on 1057000/1092096 queries. users per second: 1435.96</pre>"
      ],
      "text/plain": [
       "recommendations finished on 1057000/1092096 queries. users per second: 1435.96"
      ]
     },
     "metadata": {},
     "output_type": "display_data"
    },
    {
     "data": {
      "text/html": [
       "<pre>recommendations finished on 1058000/1092096 queries. users per second: 1436.05</pre>"
      ],
      "text/plain": [
       "recommendations finished on 1058000/1092096 queries. users per second: 1436.05"
      ]
     },
     "metadata": {},
     "output_type": "display_data"
    },
    {
     "data": {
      "text/html": [
       "<pre>recommendations finished on 1059000/1092096 queries. users per second: 1436.15</pre>"
      ],
      "text/plain": [
       "recommendations finished on 1059000/1092096 queries. users per second: 1436.15"
      ]
     },
     "metadata": {},
     "output_type": "display_data"
    },
    {
     "data": {
      "text/html": [
       "<pre>recommendations finished on 1060000/1092096 queries. users per second: 1436.25</pre>"
      ],
      "text/plain": [
       "recommendations finished on 1060000/1092096 queries. users per second: 1436.25"
      ]
     },
     "metadata": {},
     "output_type": "display_data"
    },
    {
     "data": {
      "text/html": [
       "<pre>recommendations finished on 1061000/1092096 queries. users per second: 1436.33</pre>"
      ],
      "text/plain": [
       "recommendations finished on 1061000/1092096 queries. users per second: 1436.33"
      ]
     },
     "metadata": {},
     "output_type": "display_data"
    },
    {
     "data": {
      "text/html": [
       "<pre>recommendations finished on 1062000/1092096 queries. users per second: 1436.42</pre>"
      ],
      "text/plain": [
       "recommendations finished on 1062000/1092096 queries. users per second: 1436.42"
      ]
     },
     "metadata": {},
     "output_type": "display_data"
    },
    {
     "data": {
      "text/html": [
       "<pre>recommendations finished on 1063000/1092096 queries. users per second: 1436.5</pre>"
      ],
      "text/plain": [
       "recommendations finished on 1063000/1092096 queries. users per second: 1436.5"
      ]
     },
     "metadata": {},
     "output_type": "display_data"
    },
    {
     "data": {
      "text/html": [
       "<pre>recommendations finished on 1064000/1092096 queries. users per second: 1436.59</pre>"
      ],
      "text/plain": [
       "recommendations finished on 1064000/1092096 queries. users per second: 1436.59"
      ]
     },
     "metadata": {},
     "output_type": "display_data"
    },
    {
     "data": {
      "text/html": [
       "<pre>recommendations finished on 1065000/1092096 queries. users per second: 1436.66</pre>"
      ],
      "text/plain": [
       "recommendations finished on 1065000/1092096 queries. users per second: 1436.66"
      ]
     },
     "metadata": {},
     "output_type": "display_data"
    },
    {
     "data": {
      "text/html": [
       "<pre>recommendations finished on 1066000/1092096 queries. users per second: 1436.76</pre>"
      ],
      "text/plain": [
       "recommendations finished on 1066000/1092096 queries. users per second: 1436.76"
      ]
     },
     "metadata": {},
     "output_type": "display_data"
    },
    {
     "data": {
      "text/html": [
       "<pre>recommendations finished on 1067000/1092096 queries. users per second: 1436.85</pre>"
      ],
      "text/plain": [
       "recommendations finished on 1067000/1092096 queries. users per second: 1436.85"
      ]
     },
     "metadata": {},
     "output_type": "display_data"
    },
    {
     "data": {
      "text/html": [
       "<pre>recommendations finished on 1068000/1092096 queries. users per second: 1436.93</pre>"
      ],
      "text/plain": [
       "recommendations finished on 1068000/1092096 queries. users per second: 1436.93"
      ]
     },
     "metadata": {},
     "output_type": "display_data"
    },
    {
     "data": {
      "text/html": [
       "<pre>recommendations finished on 1069000/1092096 queries. users per second: 1437.04</pre>"
      ],
      "text/plain": [
       "recommendations finished on 1069000/1092096 queries. users per second: 1437.04"
      ]
     },
     "metadata": {},
     "output_type": "display_data"
    },
    {
     "data": {
      "text/html": [
       "<pre>recommendations finished on 1070000/1092096 queries. users per second: 1437.12</pre>"
      ],
      "text/plain": [
       "recommendations finished on 1070000/1092096 queries. users per second: 1437.12"
      ]
     },
     "metadata": {},
     "output_type": "display_data"
    },
    {
     "data": {
      "text/html": [
       "<pre>recommendations finished on 1071000/1092096 queries. users per second: 1437.22</pre>"
      ],
      "text/plain": [
       "recommendations finished on 1071000/1092096 queries. users per second: 1437.22"
      ]
     },
     "metadata": {},
     "output_type": "display_data"
    },
    {
     "data": {
      "text/html": [
       "<pre>recommendations finished on 1072000/1092096 queries. users per second: 1437.31</pre>"
      ],
      "text/plain": [
       "recommendations finished on 1072000/1092096 queries. users per second: 1437.31"
      ]
     },
     "metadata": {},
     "output_type": "display_data"
    },
    {
     "data": {
      "text/html": [
       "<pre>recommendations finished on 1073000/1092096 queries. users per second: 1437.36</pre>"
      ],
      "text/plain": [
       "recommendations finished on 1073000/1092096 queries. users per second: 1437.36"
      ]
     },
     "metadata": {},
     "output_type": "display_data"
    },
    {
     "data": {
      "text/html": [
       "<pre>recommendations finished on 1074000/1092096 queries. users per second: 1437.42</pre>"
      ],
      "text/plain": [
       "recommendations finished on 1074000/1092096 queries. users per second: 1437.42"
      ]
     },
     "metadata": {},
     "output_type": "display_data"
    },
    {
     "data": {
      "text/html": [
       "<pre>recommendations finished on 1075000/1092096 queries. users per second: 1437.48</pre>"
      ],
      "text/plain": [
       "recommendations finished on 1075000/1092096 queries. users per second: 1437.48"
      ]
     },
     "metadata": {},
     "output_type": "display_data"
    },
    {
     "data": {
      "text/html": [
       "<pre>recommendations finished on 1076000/1092096 queries. users per second: 1437.56</pre>"
      ],
      "text/plain": [
       "recommendations finished on 1076000/1092096 queries. users per second: 1437.56"
      ]
     },
     "metadata": {},
     "output_type": "display_data"
    },
    {
     "data": {
      "text/html": [
       "<pre>recommendations finished on 1077000/1092096 queries. users per second: 1437.64</pre>"
      ],
      "text/plain": [
       "recommendations finished on 1077000/1092096 queries. users per second: 1437.64"
      ]
     },
     "metadata": {},
     "output_type": "display_data"
    },
    {
     "data": {
      "text/html": [
       "<pre>recommendations finished on 1078000/1092096 queries. users per second: 1437.71</pre>"
      ],
      "text/plain": [
       "recommendations finished on 1078000/1092096 queries. users per second: 1437.71"
      ]
     },
     "metadata": {},
     "output_type": "display_data"
    },
    {
     "data": {
      "text/html": [
       "<pre>recommendations finished on 1079000/1092096 queries. users per second: 1437.8</pre>"
      ],
      "text/plain": [
       "recommendations finished on 1079000/1092096 queries. users per second: 1437.8"
      ]
     },
     "metadata": {},
     "output_type": "display_data"
    },
    {
     "data": {
      "text/html": [
       "<pre>recommendations finished on 1080000/1092096 queries. users per second: 1437.87</pre>"
      ],
      "text/plain": [
       "recommendations finished on 1080000/1092096 queries. users per second: 1437.87"
      ]
     },
     "metadata": {},
     "output_type": "display_data"
    },
    {
     "data": {
      "text/html": [
       "<pre>recommendations finished on 1081000/1092096 queries. users per second: 1437.95</pre>"
      ],
      "text/plain": [
       "recommendations finished on 1081000/1092096 queries. users per second: 1437.95"
      ]
     },
     "metadata": {},
     "output_type": "display_data"
    },
    {
     "data": {
      "text/html": [
       "<pre>recommendations finished on 1082000/1092096 queries. users per second: 1438.04</pre>"
      ],
      "text/plain": [
       "recommendations finished on 1082000/1092096 queries. users per second: 1438.04"
      ]
     },
     "metadata": {},
     "output_type": "display_data"
    },
    {
     "data": {
      "text/html": [
       "<pre>recommendations finished on 1083000/1092096 queries. users per second: 1438.14</pre>"
      ],
      "text/plain": [
       "recommendations finished on 1083000/1092096 queries. users per second: 1438.14"
      ]
     },
     "metadata": {},
     "output_type": "display_data"
    },
    {
     "data": {
      "text/html": [
       "<pre>recommendations finished on 1084000/1092096 queries. users per second: 1438.25</pre>"
      ],
      "text/plain": [
       "recommendations finished on 1084000/1092096 queries. users per second: 1438.25"
      ]
     },
     "metadata": {},
     "output_type": "display_data"
    },
    {
     "data": {
      "text/html": [
       "<pre>recommendations finished on 1085000/1092096 queries. users per second: 1438.25</pre>"
      ],
      "text/plain": [
       "recommendations finished on 1085000/1092096 queries. users per second: 1438.25"
      ]
     },
     "metadata": {},
     "output_type": "display_data"
    },
    {
     "data": {
      "text/html": [
       "<pre>recommendations finished on 1086000/1092096 queries. users per second: 1438.22</pre>"
      ],
      "text/plain": [
       "recommendations finished on 1086000/1092096 queries. users per second: 1438.22"
      ]
     },
     "metadata": {},
     "output_type": "display_data"
    },
    {
     "data": {
      "text/html": [
       "<pre>recommendations finished on 1087000/1092096 queries. users per second: 1438.22</pre>"
      ],
      "text/plain": [
       "recommendations finished on 1087000/1092096 queries. users per second: 1438.22"
      ]
     },
     "metadata": {},
     "output_type": "display_data"
    },
    {
     "data": {
      "text/html": [
       "<pre>recommendations finished on 1088000/1092096 queries. users per second: 1438.2</pre>"
      ],
      "text/plain": [
       "recommendations finished on 1088000/1092096 queries. users per second: 1438.2"
      ]
     },
     "metadata": {},
     "output_type": "display_data"
    },
    {
     "data": {
      "text/html": [
       "<pre>recommendations finished on 1089000/1092096 queries. users per second: 1438.18</pre>"
      ],
      "text/plain": [
       "recommendations finished on 1089000/1092096 queries. users per second: 1438.18"
      ]
     },
     "metadata": {},
     "output_type": "display_data"
    },
    {
     "data": {
      "text/html": [
       "<pre>recommendations finished on 1090000/1092096 queries. users per second: 1438.18</pre>"
      ],
      "text/plain": [
       "recommendations finished on 1090000/1092096 queries. users per second: 1438.18"
      ]
     },
     "metadata": {},
     "output_type": "display_data"
    },
    {
     "data": {
      "text/html": [
       "<pre>recommendations finished on 1091000/1092096 queries. users per second: 1438.17</pre>"
      ],
      "text/plain": [
       "recommendations finished on 1091000/1092096 queries. users per second: 1438.17"
      ]
     },
     "metadata": {},
     "output_type": "display_data"
    },
    {
     "data": {
      "text/html": [
       "<pre>recommendations finished on 1092000/1092096 queries. users per second: 1438.11</pre>"
      ],
      "text/plain": [
       "recommendations finished on 1092000/1092096 queries. users per second: 1438.11"
      ]
     },
     "metadata": {},
     "output_type": "display_data"
    },
    {
     "name": "stdout",
     "output_type": "stream",
     "text": [
      "Done\n"
     ]
    }
   ],
   "source": [
    "#Make Recommendations:\n",
    "ID_list=list(pd.unique(test_jobs_applied.UserID))\n",
    "#item_sim_recomm = item_sim_model.recommend(users=ID_list[0:5],k=15)\n",
    "item_sim_recomm = item_sim_model.recommend(items =ID_list[0:5],k=15)\n",
    "print(\"Done\")"
   ]
  },
  {
   "cell_type": "code",
   "execution_count": 7,
   "metadata": {
    "collapsed": false
   },
   "outputs": [
    {
     "data": {
      "text/html": [
       "<div style=\"max-height:1000px;max-width:1500px;overflow:auto;\"><table frame=\"box\" rules=\"cols\">\n",
       "    <tr>\n",
       "        <th style=\"padding-left: 1em; padding-right: 1em; text-align: center\">UserID</th>\n",
       "        <th style=\"padding-left: 1em; padding-right: 1em; text-align: center\">cutoff</th>\n",
       "        <th style=\"padding-left: 1em; padding-right: 1em; text-align: center\">precision</th>\n",
       "        <th style=\"padding-left: 1em; padding-right: 1em; text-align: center\">recall</th>\n",
       "        <th style=\"padding-left: 1em; padding-right: 1em; text-align: center\">count</th>\n",
       "    </tr>\n",
       "    <tr>\n",
       "        <td style=\"padding-left: 1em; padding-right: 1em; text-align: center; vertical-align: top\">920606</td>\n",
       "        <td style=\"padding-left: 1em; padding-right: 1em; text-align: center; vertical-align: top\">5</td>\n",
       "        <td style=\"padding-left: 1em; padding-right: 1em; text-align: center; vertical-align: top\">0.0</td>\n",
       "        <td style=\"padding-left: 1em; padding-right: 1em; text-align: center; vertical-align: top\">0.0</td>\n",
       "        <td style=\"padding-left: 1em; padding-right: 1em; text-align: center; vertical-align: top\">4</td>\n",
       "    </tr>\n",
       "    <tr>\n",
       "        <td style=\"padding-left: 1em; padding-right: 1em; text-align: center; vertical-align: top\">920606</td>\n",
       "        <td style=\"padding-left: 1em; padding-right: 1em; text-align: center; vertical-align: top\">10</td>\n",
       "        <td style=\"padding-left: 1em; padding-right: 1em; text-align: center; vertical-align: top\">0.0</td>\n",
       "        <td style=\"padding-left: 1em; padding-right: 1em; text-align: center; vertical-align: top\">0.0</td>\n",
       "        <td style=\"padding-left: 1em; padding-right: 1em; text-align: center; vertical-align: top\">4</td>\n",
       "    </tr>\n",
       "    <tr>\n",
       "        <td style=\"padding-left: 1em; padding-right: 1em; text-align: center; vertical-align: top\">920616</td>\n",
       "        <td style=\"padding-left: 1em; padding-right: 1em; text-align: center; vertical-align: top\">5</td>\n",
       "        <td style=\"padding-left: 1em; padding-right: 1em; text-align: center; vertical-align: top\">0.0</td>\n",
       "        <td style=\"padding-left: 1em; padding-right: 1em; text-align: center; vertical-align: top\">0.0</td>\n",
       "        <td style=\"padding-left: 1em; padding-right: 1em; text-align: center; vertical-align: top\">1</td>\n",
       "    </tr>\n",
       "    <tr>\n",
       "        <td style=\"padding-left: 1em; padding-right: 1em; text-align: center; vertical-align: top\">920616</td>\n",
       "        <td style=\"padding-left: 1em; padding-right: 1em; text-align: center; vertical-align: top\">10</td>\n",
       "        <td style=\"padding-left: 1em; padding-right: 1em; text-align: center; vertical-align: top\">0.0</td>\n",
       "        <td style=\"padding-left: 1em; padding-right: 1em; text-align: center; vertical-align: top\">0.0</td>\n",
       "        <td style=\"padding-left: 1em; padding-right: 1em; text-align: center; vertical-align: top\">1</td>\n",
       "    </tr>\n",
       "    <tr>\n",
       "        <td style=\"padding-left: 1em; padding-right: 1em; text-align: center; vertical-align: top\">920617</td>\n",
       "        <td style=\"padding-left: 1em; padding-right: 1em; text-align: center; vertical-align: top\">5</td>\n",
       "        <td style=\"padding-left: 1em; padding-right: 1em; text-align: center; vertical-align: top\">0.0</td>\n",
       "        <td style=\"padding-left: 1em; padding-right: 1em; text-align: center; vertical-align: top\">0.0</td>\n",
       "        <td style=\"padding-left: 1em; padding-right: 1em; text-align: center; vertical-align: top\">10</td>\n",
       "    </tr>\n",
       "    <tr>\n",
       "        <td style=\"padding-left: 1em; padding-right: 1em; text-align: center; vertical-align: top\">920617</td>\n",
       "        <td style=\"padding-left: 1em; padding-right: 1em; text-align: center; vertical-align: top\">10</td>\n",
       "        <td style=\"padding-left: 1em; padding-right: 1em; text-align: center; vertical-align: top\">0.0</td>\n",
       "        <td style=\"padding-left: 1em; padding-right: 1em; text-align: center; vertical-align: top\">0.0</td>\n",
       "        <td style=\"padding-left: 1em; padding-right: 1em; text-align: center; vertical-align: top\">10</td>\n",
       "    </tr>\n",
       "    <tr>\n",
       "        <td style=\"padding-left: 1em; padding-right: 1em; text-align: center; vertical-align: top\">920623</td>\n",
       "        <td style=\"padding-left: 1em; padding-right: 1em; text-align: center; vertical-align: top\">5</td>\n",
       "        <td style=\"padding-left: 1em; padding-right: 1em; text-align: center; vertical-align: top\">0.0</td>\n",
       "        <td style=\"padding-left: 1em; padding-right: 1em; text-align: center; vertical-align: top\">0.0</td>\n",
       "        <td style=\"padding-left: 1em; padding-right: 1em; text-align: center; vertical-align: top\">5</td>\n",
       "    </tr>\n",
       "    <tr>\n",
       "        <td style=\"padding-left: 1em; padding-right: 1em; text-align: center; vertical-align: top\">920623</td>\n",
       "        <td style=\"padding-left: 1em; padding-right: 1em; text-align: center; vertical-align: top\">10</td>\n",
       "        <td style=\"padding-left: 1em; padding-right: 1em; text-align: center; vertical-align: top\">0.0</td>\n",
       "        <td style=\"padding-left: 1em; padding-right: 1em; text-align: center; vertical-align: top\">0.0</td>\n",
       "        <td style=\"padding-left: 1em; padding-right: 1em; text-align: center; vertical-align: top\">5</td>\n",
       "    </tr>\n",
       "    <tr>\n",
       "        <td style=\"padding-left: 1em; padding-right: 1em; text-align: center; vertical-align: top\">920636</td>\n",
       "        <td style=\"padding-left: 1em; padding-right: 1em; text-align: center; vertical-align: top\">5</td>\n",
       "        <td style=\"padding-left: 1em; padding-right: 1em; text-align: center; vertical-align: top\">0.0</td>\n",
       "        <td style=\"padding-left: 1em; padding-right: 1em; text-align: center; vertical-align: top\">0.0</td>\n",
       "        <td style=\"padding-left: 1em; padding-right: 1em; text-align: center; vertical-align: top\">1</td>\n",
       "    </tr>\n",
       "    <tr>\n",
       "        <td style=\"padding-left: 1em; padding-right: 1em; text-align: center; vertical-align: top\">920636</td>\n",
       "        <td style=\"padding-left: 1em; padding-right: 1em; text-align: center; vertical-align: top\">10</td>\n",
       "        <td style=\"padding-left: 1em; padding-right: 1em; text-align: center; vertical-align: top\">0.0</td>\n",
       "        <td style=\"padding-left: 1em; padding-right: 1em; text-align: center; vertical-align: top\">0.0</td>\n",
       "        <td style=\"padding-left: 1em; padding-right: 1em; text-align: center; vertical-align: top\">1</td>\n",
       "    </tr>\n",
       "</table>\n",
       "[10 rows x 5 columns]<br/>\n",
       "</div>"
      ],
      "text/plain": [
       "Columns:\n",
       "\tUserID\tint\n",
       "\tcutoff\tint\n",
       "\tprecision\tfloat\n",
       "\trecall\tfloat\n",
       "\tcount\tint\n",
       "\n",
       "Rows: 10\n",
       "\n",
       "Data:\n",
       "+--------+--------+-----------+--------+-------+\n",
       "| UserID | cutoff | precision | recall | count |\n",
       "+--------+--------+-----------+--------+-------+\n",
       "| 920606 |   5    |    0.0    |  0.0   |   4   |\n",
       "| 920606 |   10   |    0.0    |  0.0   |   4   |\n",
       "| 920616 |   5    |    0.0    |  0.0   |   1   |\n",
       "| 920616 |   10   |    0.0    |  0.0   |   1   |\n",
       "| 920617 |   5    |    0.0    |  0.0   |   10  |\n",
       "| 920617 |   10   |    0.0    |  0.0   |   10  |\n",
       "| 920623 |   5    |    0.0    |  0.0   |   5   |\n",
       "| 920623 |   10   |    0.0    |  0.0   |   5   |\n",
       "| 920636 |   5    |    0.0    |  0.0   |   1   |\n",
       "| 920636 |   10   |    0.0    |  0.0   |   1   |\n",
       "+--------+--------+-----------+--------+-------+\n",
       "[10 rows x 5 columns]"
      ]
     },
     "execution_count": 7,
     "metadata": {},
     "output_type": "execute_result"
    }
   ],
   "source": [
    "#Evaluting Results\n",
    "from graphlab.toolkits.recommender.util import precision_recall_by_user\n",
    "\n",
    "results=precision_recall_by_user(test_data[\"UserID\",\"JobID\"], item_sim_recomm[[\"UserID\",\"JobID\"]],cutoffs=[5,10])\n",
    "results.head()"
   ]
  },
  {
   "cell_type": "code",
   "execution_count": 100,
   "metadata": {
    "collapsed": false
   },
   "outputs": [
    {
     "data": {
      "text/html": [
       "<div style=\"max-height:1000px;max-width:1500px;overflow:auto;\"><table frame=\"box\" rules=\"cols\">\n",
       "    <tr>\n",
       "        <th style=\"padding-left: 1em; padding-right: 1em; text-align: center\">UserID</th>\n",
       "        <th style=\"padding-left: 1em; padding-right: 1em; text-align: center\">JobID</th>\n",
       "    </tr>\n",
       "    <tr>\n",
       "        <td style=\"padding-left: 1em; padding-right: 1em; text-align: center; vertical-align: top\">321330</td>\n",
       "        <td style=\"padding-left: 1em; padding-right: 1em; text-align: center; vertical-align: top\">919902</td>\n",
       "    </tr>\n",
       "    <tr>\n",
       "        <td style=\"padding-left: 1em; padding-right: 1em; text-align: center; vertical-align: top\">321330</td>\n",
       "        <td style=\"padding-left: 1em; padding-right: 1em; text-align: center; vertical-align: top\">139994</td>\n",
       "    </tr>\n",
       "    <tr>\n",
       "        <td style=\"padding-left: 1em; padding-right: 1em; text-align: center; vertical-align: top\">321330</td>\n",
       "        <td style=\"padding-left: 1em; padding-right: 1em; text-align: center; vertical-align: top\">674290</td>\n",
       "    </tr>\n",
       "    <tr>\n",
       "        <td style=\"padding-left: 1em; padding-right: 1em; text-align: center; vertical-align: top\">422602</td>\n",
       "        <td style=\"padding-left: 1em; padding-right: 1em; text-align: center; vertical-align: top\">1092958</td>\n",
       "    </tr>\n",
       "    <tr>\n",
       "        <td style=\"padding-left: 1em; padding-right: 1em; text-align: center; vertical-align: top\">422602</td>\n",
       "        <td style=\"padding-left: 1em; padding-right: 1em; text-align: center; vertical-align: top\">338107</td>\n",
       "    </tr>\n",
       "    <tr>\n",
       "        <td style=\"padding-left: 1em; padding-right: 1em; text-align: center; vertical-align: top\">422602</td>\n",
       "        <td style=\"padding-left: 1em; padding-right: 1em; text-align: center; vertical-align: top\">887338</td>\n",
       "    </tr>\n",
       "    <tr>\n",
       "        <td style=\"padding-left: 1em; padding-right: 1em; text-align: center; vertical-align: top\">296002</td>\n",
       "        <td style=\"padding-left: 1em; padding-right: 1em; text-align: center; vertical-align: top\">1092958</td>\n",
       "    </tr>\n",
       "    <tr>\n",
       "        <td style=\"padding-left: 1em; padding-right: 1em; text-align: center; vertical-align: top\">296002</td>\n",
       "        <td style=\"padding-left: 1em; padding-right: 1em; text-align: center; vertical-align: top\">338107</td>\n",
       "    </tr>\n",
       "    <tr>\n",
       "        <td style=\"padding-left: 1em; padding-right: 1em; text-align: center; vertical-align: top\">296002</td>\n",
       "        <td style=\"padding-left: 1em; padding-right: 1em; text-align: center; vertical-align: top\">887338</td>\n",
       "    </tr>\n",
       "    <tr>\n",
       "        <td style=\"padding-left: 1em; padding-right: 1em; text-align: center; vertical-align: top\">160710</td>\n",
       "        <td style=\"padding-left: 1em; padding-right: 1em; text-align: center; vertical-align: top\">1092958</td>\n",
       "    </tr>\n",
       "</table>\n",
       "[10 rows x 2 columns]<br/>\n",
       "</div>"
      ],
      "text/plain": [
       "Columns:\n",
       "\tUserID\tint\n",
       "\tJobID\tint\n",
       "\n",
       "Rows: 10\n",
       "\n",
       "Data:\n",
       "+--------+---------+\n",
       "| UserID |  JobID  |\n",
       "+--------+---------+\n",
       "| 321330 |  919902 |\n",
       "| 321330 |  139994 |\n",
       "| 321330 |  674290 |\n",
       "| 422602 | 1092958 |\n",
       "| 422602 |  338107 |\n",
       "| 422602 |  887338 |\n",
       "| 296002 | 1092958 |\n",
       "| 296002 |  338107 |\n",
       "| 296002 |  887338 |\n",
       "| 160710 | 1092958 |\n",
       "+--------+---------+\n",
       "[10 rows x 2 columns]"
      ]
     },
     "execution_count": 100,
     "metadata": {},
     "output_type": "execute_result"
    }
   ],
   "source": [
    "item_sim_recomm[[\"UserID\",\"JobID\"]].head()"
   ]
  },
  {
   "cell_type": "code",
   "execution_count": 2,
   "metadata": {
    "collapsed": false
   },
   "outputs": [
    {
     "name": "stdout",
     "output_type": "stream",
     "text": [
      "Done\n"
     ]
    }
   ],
   "source": [
    "users_CA=users[(users['State']==\"CA\") & (users['WindowID']==1)]\n",
    "jobs_CA=jobs[(jobs['State']==\"CA\") & (jobs['WindowID']==1)]\n",
    "print(\"Done\")"
   ]
  },
  {
   "cell_type": "code",
   "execution_count": 3,
   "metadata": {
    "collapsed": false
   },
   "outputs": [
    {
     "name": "stdout",
     "output_type": "stream",
     "text": [
      "Done\n"
     ]
    }
   ],
   "source": [
    "jobs_applied_u = pd.merge(left=jobs_applied,right=users[['UserID','State']], how='left', left_on='UserID', right_on='UserID')\n",
    "jobs_applied_u=jobs_applied_u.rename(columns={'State':'User_State','WindowID':'User_WindowID'})\n",
    "jobs_applied_u = pd.merge(left=jobs_applied_u,right=jobs[['JobID','State','WindowID']], how='left', left_on='JobID', right_on='JobID')\n",
    "jobs_applied_u=jobs_applied_u.rename(columns={'State':'Job_State','WindowID':'Job_WindowID'})\n",
    "print(\"Done\")"
   ]
  },
  {
   "cell_type": "code",
   "execution_count": 4,
   "metadata": {
    "collapsed": false
   },
   "outputs": [
    {
     "data": {
      "text/html": [
       "<div>\n",
       "<table border=\"1\" class=\"dataframe\">\n",
       "  <thead>\n",
       "    <tr style=\"text-align: right;\">\n",
       "      <th></th>\n",
       "      <th>UserID</th>\n",
       "      <th>User_WindowID</th>\n",
       "      <th>Split</th>\n",
       "      <th>ApplicationDate</th>\n",
       "      <th>JobID</th>\n",
       "      <th>User_State</th>\n",
       "      <th>Job_State</th>\n",
       "      <th>Job_WindowID</th>\n",
       "    </tr>\n",
       "  </thead>\n",
       "  <tbody>\n",
       "    <tr>\n",
       "      <th>0</th>\n",
       "      <td>47</td>\n",
       "      <td>1</td>\n",
       "      <td>Train</td>\n",
       "      <td>2012-04-04 15:56:23.537</td>\n",
       "      <td>169528</td>\n",
       "      <td>CA</td>\n",
       "      <td>CA</td>\n",
       "      <td>1</td>\n",
       "    </tr>\n",
       "    <tr>\n",
       "      <th>1</th>\n",
       "      <td>47</td>\n",
       "      <td>1</td>\n",
       "      <td>Train</td>\n",
       "      <td>2012-04-06 01:03:00.003</td>\n",
       "      <td>284009</td>\n",
       "      <td>CA</td>\n",
       "      <td>CA</td>\n",
       "      <td>1</td>\n",
       "    </tr>\n",
       "    <tr>\n",
       "      <th>2</th>\n",
       "      <td>47</td>\n",
       "      <td>1</td>\n",
       "      <td>Train</td>\n",
       "      <td>2012-04-05 02:40:27.753</td>\n",
       "      <td>2121</td>\n",
       "      <td>CA</td>\n",
       "      <td>CA</td>\n",
       "      <td>1</td>\n",
       "    </tr>\n",
       "    <tr>\n",
       "      <th>3</th>\n",
       "      <td>47</td>\n",
       "      <td>1</td>\n",
       "      <td>Train</td>\n",
       "      <td>2012-04-05 02:37:02.673</td>\n",
       "      <td>848187</td>\n",
       "      <td>CA</td>\n",
       "      <td>CA</td>\n",
       "      <td>1</td>\n",
       "    </tr>\n",
       "    <tr>\n",
       "      <th>4</th>\n",
       "      <td>47</td>\n",
       "      <td>1</td>\n",
       "      <td>Train</td>\n",
       "      <td>2012-04-05 22:44:06.653</td>\n",
       "      <td>733748</td>\n",
       "      <td>CA</td>\n",
       "      <td>CA</td>\n",
       "      <td>1</td>\n",
       "    </tr>\n",
       "  </tbody>\n",
       "</table>\n",
       "</div>"
      ],
      "text/plain": [
       "   UserID  User_WindowID  Split          ApplicationDate   JobID User_State  \\\n",
       "0      47              1  Train  2012-04-04 15:56:23.537  169528         CA   \n",
       "1      47              1  Train  2012-04-06 01:03:00.003  284009         CA   \n",
       "2      47              1  Train  2012-04-05 02:40:27.753    2121         CA   \n",
       "3      47              1  Train  2012-04-05 02:37:02.673  848187         CA   \n",
       "4      47              1  Train  2012-04-05 22:44:06.653  733748         CA   \n",
       "\n",
       "  Job_State  Job_WindowID  \n",
       "0        CA             1  \n",
       "1        CA             1  \n",
       "2        CA             1  \n",
       "3        CA             1  \n",
       "4        CA             1  "
      ]
     },
     "execution_count": 4,
     "metadata": {},
     "output_type": "execute_result"
    }
   ],
   "source": [
    "jobs_applied_u.head()"
   ]
  },
  {
   "cell_type": "code",
   "execution_count": 5,
   "metadata": {
    "collapsed": false
   },
   "outputs": [
    {
     "data": {
      "text/plain": [
       "24043"
      ]
     },
     "execution_count": 5,
     "metadata": {},
     "output_type": "execute_result"
    }
   ],
   "source": [
    "jobs_applied_u_CA=jobs_applied_u[(jobs_applied_u['User_State']==\"CA\") & (jobs_applied_u['User_WindowID']==1) & (jobs_applied_u['Job_State']==\"CA\") & (jobs_applied_u['Job_WindowID']==1)]\n",
    "len(jobs_applied_u_CA)"
   ]
  },
  {
   "cell_type": "code",
   "execution_count": 24,
   "metadata": {
    "collapsed": false
   },
   "outputs": [
    {
     "name": "stdout",
     "output_type": "stream",
     "text": [
      "('Train shape :', (12021, 8))\n",
      "('Test shape :', (12022, 8))\n"
     ]
    },
    {
     "name": "stderr",
     "output_type": "stream",
     "text": [
      "C:\\Anaconda3\\envs\\gl-env\\lib\\site-packages\\ipykernel\\__main__.py:12: SettingWithCopyWarning: \n",
      "A value is trying to be set on a copy of a slice from a DataFrame.\n",
      "Try using .loc[row_indexer,col_indexer] = value instead\n",
      "\n",
      "See the caveats in the documentation: http://pandas.pydata.org/pandas-docs/stable/indexing.html#indexing-view-versus-copy\n",
      "C:\\Anaconda3\\envs\\gl-env\\lib\\site-packages\\ipykernel\\__main__.py:13: SettingWithCopyWarning: \n",
      "A value is trying to be set on a copy of a slice from a DataFrame.\n",
      "Try using .loc[row_indexer,col_indexer] = value instead\n",
      "\n",
      "See the caveats in the documentation: http://pandas.pydata.org/pandas-docs/stable/indexing.html#indexing-view-versus-copy\n",
      "C:\\Anaconda3\\envs\\gl-env\\lib\\site-packages\\ipykernel\\__main__.py:15: SettingWithCopyWarning: \n",
      "A value is trying to be set on a copy of a slice from a DataFrame.\n",
      "Try using .loc[row_indexer,col_indexer] = value instead\n",
      "\n",
      "See the caveats in the documentation: http://pandas.pydata.org/pandas-docs/stable/indexing.html#indexing-view-versus-copy\n",
      "C:\\Anaconda3\\envs\\gl-env\\lib\\site-packages\\ipykernel\\__main__.py:20: SettingWithCopyWarning: \n",
      "A value is trying to be set on a copy of a slice from a DataFrame.\n",
      "Try using .loc[row_indexer,col_indexer] = value instead\n",
      "\n",
      "See the caveats in the documentation: http://pandas.pydata.org/pandas-docs/stable/indexing.html#indexing-view-versus-copy\n",
      "C:\\Anaconda3\\envs\\gl-env\\lib\\site-packages\\ipykernel\\__main__.py:21: SettingWithCopyWarning: \n",
      "A value is trying to be set on a copy of a slice from a DataFrame.\n",
      "Try using .loc[row_indexer,col_indexer] = value instead\n",
      "\n",
      "See the caveats in the documentation: http://pandas.pydata.org/pandas-docs/stable/indexing.html#indexing-view-versus-copy\n",
      "C:\\Anaconda3\\envs\\gl-env\\lib\\site-packages\\ipykernel\\__main__.py:23: SettingWithCopyWarning: \n",
      "A value is trying to be set on a copy of a slice from a DataFrame.\n",
      "Try using .loc[row_indexer,col_indexer] = value instead\n",
      "\n",
      "See the caveats in the documentation: http://pandas.pydata.org/pandas-docs/stable/indexing.html#indexing-view-versus-copy\n",
      "C:\\Anaconda3\\envs\\gl-env\\lib\\site-packages\\ipykernel\\__main__.py:24: SettingWithCopyWarning: \n",
      "A value is trying to be set on a copy of a slice from a DataFrame.\n",
      "Try using .loc[row_indexer,col_indexer] = value instead\n",
      "\n",
      "See the caveats in the documentation: http://pandas.pydata.org/pandas-docs/stable/indexing.html#indexing-view-versus-copy\n"
     ]
    },
    {
     "name": "stdout",
     "output_type": "stream",
     "text": [
      "Done\n",
      "Done\n"
     ]
    },
    {
     "data": {
      "text/html": [
       "<pre>Recsys training: model = item_similarity</pre>"
      ],
      "text/plain": [
       "Recsys training: model = item_similarity"
      ]
     },
     "metadata": {},
     "output_type": "display_data"
    },
    {
     "data": {
      "text/html": [
       "<pre>Warning: Ignoring columns User_WindowID, Split, ApplicationDate, User_State, Job_State, Job_WindowID;</pre>"
      ],
      "text/plain": [
       "Warning: Ignoring columns User_WindowID, Split, ApplicationDate, User_State, Job_State, Job_WindowID;"
      ]
     },
     "metadata": {},
     "output_type": "display_data"
    },
    {
     "data": {
      "text/html": [
       "<pre>    To use one of these as a target column, set target = <column_name></pre>"
      ],
      "text/plain": [
       "    To use one of these as a target column, set target = <column_name>"
      ]
     },
     "metadata": {},
     "output_type": "display_data"
    },
    {
     "data": {
      "text/html": [
       "<pre>    and use a method that allows the use of a target.</pre>"
      ],
      "text/plain": [
       "    and use a method that allows the use of a target."
      ]
     },
     "metadata": {},
     "output_type": "display_data"
    },
    {
     "data": {
      "text/html": [
       "<pre>Preparing data set.</pre>"
      ],
      "text/plain": [
       "Preparing data set."
      ]
     },
     "metadata": {},
     "output_type": "display_data"
    },
    {
     "data": {
      "text/html": [
       "<pre>    Data has 12021 observations with 28096 users and 6272 items.</pre>"
      ],
      "text/plain": [
       "    Data has 12021 observations with 28096 users and 6272 items."
      ]
     },
     "metadata": {},
     "output_type": "display_data"
    },
    {
     "data": {
      "text/html": [
       "<pre>    Data prepared in: 0.106561s</pre>"
      ],
      "text/plain": [
       "    Data prepared in: 0.106561s"
      ]
     },
     "metadata": {},
     "output_type": "display_data"
    },
    {
     "data": {
      "text/html": [
       "<pre>Training model from provided data.</pre>"
      ],
      "text/plain": [
       "Training model from provided data."
      ]
     },
     "metadata": {},
     "output_type": "display_data"
    },
    {
     "data": {
      "text/html": [
       "<pre>Gathering per-item and per-user statistics.</pre>"
      ],
      "text/plain": [
       "Gathering per-item and per-user statistics."
      ]
     },
     "metadata": {},
     "output_type": "display_data"
    },
    {
     "data": {
      "text/html": [
       "<pre>+--------------------------------+------------+</pre>"
      ],
      "text/plain": [
       "+--------------------------------+------------+"
      ]
     },
     "metadata": {},
     "output_type": "display_data"
    },
    {
     "data": {
      "text/html": [
       "<pre>| Elapsed Time (Item Statistics) | % Complete |</pre>"
      ],
      "text/plain": [
       "| Elapsed Time (Item Statistics) | % Complete |"
      ]
     },
     "metadata": {},
     "output_type": "display_data"
    },
    {
     "data": {
      "text/html": [
       "<pre>+--------------------------------+------------+</pre>"
      ],
      "text/plain": [
       "+--------------------------------+------------+"
      ]
     },
     "metadata": {},
     "output_type": "display_data"
    },
    {
     "data": {
      "text/html": [
       "<pre>| 983us                          | 3.5        |</pre>"
      ],
      "text/plain": [
       "| 983us                          | 3.5        |"
      ]
     },
     "metadata": {},
     "output_type": "display_data"
    },
    {
     "data": {
      "text/html": [
       "<pre>| 3.91ms                         | 100        |</pre>"
      ],
      "text/plain": [
       "| 3.91ms                         | 100        |"
      ]
     },
     "metadata": {},
     "output_type": "display_data"
    },
    {
     "data": {
      "text/html": [
       "<pre>+--------------------------------+------------+</pre>"
      ],
      "text/plain": [
       "+--------------------------------+------------+"
      ]
     },
     "metadata": {},
     "output_type": "display_data"
    },
    {
     "data": {
      "text/html": [
       "<pre>Setting up lookup tables.</pre>"
      ],
      "text/plain": [
       "Setting up lookup tables."
      ]
     },
     "metadata": {},
     "output_type": "display_data"
    },
    {
     "data": {
      "text/html": [
       "<pre>Processing data in one pass using dense lookup tables.</pre>"
      ],
      "text/plain": [
       "Processing data in one pass using dense lookup tables."
      ]
     },
     "metadata": {},
     "output_type": "display_data"
    },
    {
     "data": {
      "text/html": [
       "<pre>+-------------------------------------+------------------+-----------------+</pre>"
      ],
      "text/plain": [
       "+-------------------------------------+------------------+-----------------+"
      ]
     },
     "metadata": {},
     "output_type": "display_data"
    },
    {
     "data": {
      "text/html": [
       "<pre>| Elapsed Time (Constructing Lookups) | Total % Complete | Items Processed |</pre>"
      ],
      "text/plain": [
       "| Elapsed Time (Constructing Lookups) | Total % Complete | Items Processed |"
      ]
     },
     "metadata": {},
     "output_type": "display_data"
    },
    {
     "data": {
      "text/html": [
       "<pre>+-------------------------------------+------------------+-----------------+</pre>"
      ],
      "text/plain": [
       "+-------------------------------------+------------------+-----------------+"
      ]
     },
     "metadata": {},
     "output_type": "display_data"
    },
    {
     "data": {
      "text/html": [
       "<pre>| 141.754ms                           | 0.75             | 50              |</pre>"
      ],
      "text/plain": [
       "| 141.754ms                           | 0.75             | 50              |"
      ]
     },
     "metadata": {},
     "output_type": "display_data"
    },
    {
     "data": {
      "text/html": [
       "<pre>| 558.219ms                           | 100              | 6272            |</pre>"
      ],
      "text/plain": [
       "| 558.219ms                           | 100              | 6272            |"
      ]
     },
     "metadata": {},
     "output_type": "display_data"
    },
    {
     "data": {
      "text/html": [
       "<pre>+-------------------------------------+------------------+-----------------+</pre>"
      ],
      "text/plain": [
       "+-------------------------------------+------------------+-----------------+"
      ]
     },
     "metadata": {},
     "output_type": "display_data"
    },
    {
     "data": {
      "text/html": [
       "<pre>Finalizing lookup tables.</pre>"
      ],
      "text/plain": [
       "Finalizing lookup tables."
      ]
     },
     "metadata": {},
     "output_type": "display_data"
    },
    {
     "name": "stdout",
     "output_type": "stream",
     "text": [
      "Done\n"
     ]
    },
    {
     "data": {
      "text/html": [
       "<pre>Generating candidate set for working with new users.</pre>"
      ],
      "text/plain": [
       "Generating candidate set for working with new users."
      ]
     },
     "metadata": {},
     "output_type": "display_data"
    },
    {
     "data": {
      "text/html": [
       "<pre>Finished training in 0.566041s</pre>"
      ],
      "text/plain": [
       "Finished training in 0.566041s"
      ]
     },
     "metadata": {},
     "output_type": "display_data"
    }
   ],
   "source": [
    "jobs_applied_u_CA=jobs_applied_u_CA.sort_values(\"UserID\",ascending=1)\n",
    "train_jobs_applied_u_CA=jobs_applied_u_CA[0:12021]\n",
    "test_jobs_applied_u_CA=jobs_applied_u_CA[12021:]\n",
    "print(\"Train shape :\",train_jobs_applied_u_CA.shape)\n",
    "print(\"Test shape :\",test_jobs_applied_u_CA.shape)\n",
    "\n",
    "\n",
    "#Converting data in numeric\n",
    "\n",
    "##users_CA\n",
    "for col in ['Split','City','State','Country','ZipCode','DegreeType','Major','WorkHistoryCount','TotalYearsExperience','CurrentlyEmployed','ManagedOthers','ManagedHowMany']:\n",
    "    users_CA[col]=pd.Categorical(users_CA[col])\n",
    "    users_CA[col]=users_CA[col].cat.codes\n",
    "\n",
    "users_CA['GraduationDate']=pd.to_numeric(pd.to_datetime(users_CA['GraduationDate']))\n",
    "\n",
    "\n",
    "###Jobs\n",
    "for col in ['Title','City','State','Country','Zip5','StartDate','EndDate']:\n",
    "    jobs_CA[col]=pd.Categorical(jobs_CA[col])\n",
    "    jobs_CA[col]=jobs_CA[col].cat.codes\n",
    "\n",
    "jobs_CA['StartDate']=pd.to_numeric(pd.to_datetime(jobs_CA['StartDate']))\n",
    "jobs_CA['GraduationDate']=pd.to_numeric(pd.to_datetime(jobs_CA['EndDate']))\n",
    "\n",
    "\n",
    "print(\"Done\")\n",
    "\n",
    "\n",
    "# Since we’ll be using GraphLab, we have to convert dataframe into SFrames.\n",
    "import graphlab\n",
    "\n",
    "train_data_CA=graphlab.SFrame(train_jobs_applied_u_CA)\n",
    "test_data_CA=graphlab.SFrame(test_jobs_applied_u_CA)\n",
    "\n",
    "users_CA_sframe=graphlab.SFrame(users_CA)\n",
    "jobs_CA_sframe=graphlab.SFrame(jobs_CA[['JobID','WindowID','Title','City','State','Country','Zip5','StartDate','EndDate']])\n",
    "print(\"Done\")\n",
    "\n",
    "\n",
    "#Training Model\n",
    "#item_sim_model=graphlab.item_similarity_recommender.create(train_data,user_id=\"UserID\",user_data=users_CA_sframe,item_id=\"JobID\",item_data=jobs_sframe,similarity_type=\"jaccard\")\n",
    "item_sim_model_CA=graphlab.item_similarity_recommender.create(train_data_CA,user_id=\"JobID\",user_data=jobs_CA_sframe,\n",
    "                                                           item_id=\"UserID\",item_data=users_CA_sframe,similarity_type=\"jaccard\")\n",
    "print(\"Done\")\n"
   ]
  },
  {
   "cell_type": "code",
   "execution_count": 25,
   "metadata": {
    "collapsed": false
   },
   "outputs": [
    {
     "data": {
      "text/html": [
       "<pre>recommendations finished on 1000/28096 queries. users per second: 32997.9</pre>"
      ],
      "text/plain": [
       "recommendations finished on 1000/28096 queries. users per second: 32997.9"
      ]
     },
     "metadata": {},
     "output_type": "display_data"
    },
    {
     "data": {
      "text/html": [
       "<pre>recommendations finished on 2000/28096 queries. users per second: 30085.6</pre>"
      ],
      "text/plain": [
       "recommendations finished on 2000/28096 queries. users per second: 30085.6"
      ]
     },
     "metadata": {},
     "output_type": "display_data"
    },
    {
     "data": {
      "text/html": [
       "<pre>recommendations finished on 3000/28096 queries. users per second: 28153.2</pre>"
      ],
      "text/plain": [
       "recommendations finished on 3000/28096 queries. users per second: 28153.2"
      ]
     },
     "metadata": {},
     "output_type": "display_data"
    },
    {
     "data": {
      "text/html": [
       "<pre>recommendations finished on 4000/28096 queries. users per second: 27096.8</pre>"
      ],
      "text/plain": [
       "recommendations finished on 4000/28096 queries. users per second: 27096.8"
      ]
     },
     "metadata": {},
     "output_type": "display_data"
    },
    {
     "data": {
      "text/html": [
       "<pre>recommendations finished on 5000/28096 queries. users per second: 26094.4</pre>"
      ],
      "text/plain": [
       "recommendations finished on 5000/28096 queries. users per second: 26094.4"
      ]
     },
     "metadata": {},
     "output_type": "display_data"
    },
    {
     "data": {
      "text/html": [
       "<pre>recommendations finished on 6000/28096 queries. users per second: 25679.4</pre>"
      ],
      "text/plain": [
       "recommendations finished on 6000/28096 queries. users per second: 25679.4"
      ]
     },
     "metadata": {},
     "output_type": "display_data"
    },
    {
     "data": {
      "text/html": [
       "<pre>recommendations finished on 7000/28096 queries. users per second: 24862.1</pre>"
      ],
      "text/plain": [
       "recommendations finished on 7000/28096 queries. users per second: 24862.1"
      ]
     },
     "metadata": {},
     "output_type": "display_data"
    },
    {
     "data": {
      "text/html": [
       "<pre>recommendations finished on 8000/28096 queries. users per second: 24797.4</pre>"
      ],
      "text/plain": [
       "recommendations finished on 8000/28096 queries. users per second: 24797.4"
      ]
     },
     "metadata": {},
     "output_type": "display_data"
    },
    {
     "data": {
      "text/html": [
       "<pre>recommendations finished on 9000/28096 queries. users per second: 23425.1</pre>"
      ],
      "text/plain": [
       "recommendations finished on 9000/28096 queries. users per second: 23425.1"
      ]
     },
     "metadata": {},
     "output_type": "display_data"
    },
    {
     "data": {
      "text/html": [
       "<pre>recommendations finished on 10000/28096 queries. users per second: 22680.6</pre>"
      ],
      "text/plain": [
       "recommendations finished on 10000/28096 queries. users per second: 22680.6"
      ]
     },
     "metadata": {},
     "output_type": "display_data"
    },
    {
     "data": {
      "text/html": [
       "<pre>recommendations finished on 11000/28096 queries. users per second: 21976.3</pre>"
      ],
      "text/plain": [
       "recommendations finished on 11000/28096 queries. users per second: 21976.3"
      ]
     },
     "metadata": {},
     "output_type": "display_data"
    },
    {
     "data": {
      "text/html": [
       "<pre>recommendations finished on 12000/28096 queries. users per second: 21880.1</pre>"
      ],
      "text/plain": [
       "recommendations finished on 12000/28096 queries. users per second: 21880.1"
      ]
     },
     "metadata": {},
     "output_type": "display_data"
    },
    {
     "data": {
      "text/html": [
       "<pre>recommendations finished on 13000/28096 queries. users per second: 21587.1</pre>"
      ],
      "text/plain": [
       "recommendations finished on 13000/28096 queries. users per second: 21587.1"
      ]
     },
     "metadata": {},
     "output_type": "display_data"
    },
    {
     "data": {
      "text/html": [
       "<pre>recommendations finished on 14000/28096 queries. users per second: 21665</pre>"
      ],
      "text/plain": [
       "recommendations finished on 14000/28096 queries. users per second: 21665"
      ]
     },
     "metadata": {},
     "output_type": "display_data"
    },
    {
     "data": {
      "text/html": [
       "<pre>recommendations finished on 15000/28096 queries. users per second: 21429.4</pre>"
      ],
      "text/plain": [
       "recommendations finished on 15000/28096 queries. users per second: 21429.4"
      ]
     },
     "metadata": {},
     "output_type": "display_data"
    },
    {
     "data": {
      "text/html": [
       "<pre>recommendations finished on 16000/28096 queries. users per second: 21310.3</pre>"
      ],
      "text/plain": [
       "recommendations finished on 16000/28096 queries. users per second: 21310.3"
      ]
     },
     "metadata": {},
     "output_type": "display_data"
    },
    {
     "data": {
      "text/html": [
       "<pre>recommendations finished on 17000/28096 queries. users per second: 21001.5</pre>"
      ],
      "text/plain": [
       "recommendations finished on 17000/28096 queries. users per second: 21001.5"
      ]
     },
     "metadata": {},
     "output_type": "display_data"
    },
    {
     "data": {
      "text/html": [
       "<pre>recommendations finished on 18000/28096 queries. users per second: 20922.9</pre>"
      ],
      "text/plain": [
       "recommendations finished on 18000/28096 queries. users per second: 20922.9"
      ]
     },
     "metadata": {},
     "output_type": "display_data"
    },
    {
     "data": {
      "text/html": [
       "<pre>recommendations finished on 19000/28096 queries. users per second: 20522.7</pre>"
      ],
      "text/plain": [
       "recommendations finished on 19000/28096 queries. users per second: 20522.7"
      ]
     },
     "metadata": {},
     "output_type": "display_data"
    },
    {
     "data": {
      "text/html": [
       "<pre>recommendations finished on 20000/28096 queries. users per second: 20195.3</pre>"
      ],
      "text/plain": [
       "recommendations finished on 20000/28096 queries. users per second: 20195.3"
      ]
     },
     "metadata": {},
     "output_type": "display_data"
    },
    {
     "data": {
      "text/html": [
       "<pre>recommendations finished on 21000/28096 queries. users per second: 19945</pre>"
      ],
      "text/plain": [
       "recommendations finished on 21000/28096 queries. users per second: 19945"
      ]
     },
     "metadata": {},
     "output_type": "display_data"
    },
    {
     "data": {
      "text/html": [
       "<pre>recommendations finished on 22000/28096 queries. users per second: 19879.6</pre>"
      ],
      "text/plain": [
       "recommendations finished on 22000/28096 queries. users per second: 19879.6"
      ]
     },
     "metadata": {},
     "output_type": "display_data"
    },
    {
     "data": {
      "text/html": [
       "<pre>recommendations finished on 23000/28096 queries. users per second: 19524.1</pre>"
      ],
      "text/plain": [
       "recommendations finished on 23000/28096 queries. users per second: 19524.1"
      ]
     },
     "metadata": {},
     "output_type": "display_data"
    },
    {
     "data": {
      "text/html": [
       "<pre>recommendations finished on 24000/28096 queries. users per second: 19483.7</pre>"
      ],
      "text/plain": [
       "recommendations finished on 24000/28096 queries. users per second: 19483.7"
      ]
     },
     "metadata": {},
     "output_type": "display_data"
    },
    {
     "data": {
      "text/html": [
       "<pre>recommendations finished on 25000/28096 queries. users per second: 19387.7</pre>"
      ],
      "text/plain": [
       "recommendations finished on 25000/28096 queries. users per second: 19387.7"
      ]
     },
     "metadata": {},
     "output_type": "display_data"
    },
    {
     "data": {
      "text/html": [
       "<pre>recommendations finished on 26000/28096 queries. users per second: 19327.9</pre>"
      ],
      "text/plain": [
       "recommendations finished on 26000/28096 queries. users per second: 19327.9"
      ]
     },
     "metadata": {},
     "output_type": "display_data"
    },
    {
     "data": {
      "text/html": [
       "<pre>recommendations finished on 27000/28096 queries. users per second: 19259.5</pre>"
      ],
      "text/plain": [
       "recommendations finished on 27000/28096 queries. users per second: 19259.5"
      ]
     },
     "metadata": {},
     "output_type": "display_data"
    },
    {
     "data": {
      "text/html": [
       "<pre>recommendations finished on 28000/28096 queries. users per second: 19119.5</pre>"
      ],
      "text/plain": [
       "recommendations finished on 28000/28096 queries. users per second: 19119.5"
      ]
     },
     "metadata": {},
     "output_type": "display_data"
    },
    {
     "name": "stdout",
     "output_type": "stream",
     "text": [
      "Done\n"
     ]
    },
    {
     "data": {
      "text/html": [
       "<div style=\"max-height:1000px;max-width:1500px;overflow:auto;\"><table frame=\"box\" rules=\"cols\">\n",
       "    <tr>\n",
       "        <th style=\"padding-left: 1em; padding-right: 1em; text-align: center\">UserID</th>\n",
       "        <th style=\"padding-left: 1em; padding-right: 1em; text-align: center\">cutoff</th>\n",
       "        <th style=\"padding-left: 1em; padding-right: 1em; text-align: center\">precision</th>\n",
       "        <th style=\"padding-left: 1em; padding-right: 1em; text-align: center\">recall</th>\n",
       "        <th style=\"padding-left: 1em; padding-right: 1em; text-align: center\">count</th>\n",
       "    </tr>\n",
       "    <tr>\n",
       "        <td style=\"padding-left: 1em; padding-right: 1em; text-align: center; vertical-align: top\">782256</td>\n",
       "        <td style=\"padding-left: 1em; padding-right: 1em; text-align: center; vertical-align: top\">10</td>\n",
       "        <td style=\"padding-left: 1em; padding-right: 1em; text-align: center; vertical-align: top\">0.0</td>\n",
       "        <td style=\"padding-left: 1em; padding-right: 1em; text-align: center; vertical-align: top\">0.0</td>\n",
       "        <td style=\"padding-left: 1em; padding-right: 1em; text-align: center; vertical-align: top\">4</td>\n",
       "    </tr>\n",
       "    <tr>\n",
       "        <td style=\"padding-left: 1em; padding-right: 1em; text-align: center; vertical-align: top\">782317</td>\n",
       "        <td style=\"padding-left: 1em; padding-right: 1em; text-align: center; vertical-align: top\">10</td>\n",
       "        <td style=\"padding-left: 1em; padding-right: 1em; text-align: center; vertical-align: top\">0.0</td>\n",
       "        <td style=\"padding-left: 1em; padding-right: 1em; text-align: center; vertical-align: top\">0.0</td>\n",
       "        <td style=\"padding-left: 1em; padding-right: 1em; text-align: center; vertical-align: top\">7</td>\n",
       "    </tr>\n",
       "    <tr>\n",
       "        <td style=\"padding-left: 1em; padding-right: 1em; text-align: center; vertical-align: top\">782435</td>\n",
       "        <td style=\"padding-left: 1em; padding-right: 1em; text-align: center; vertical-align: top\">10</td>\n",
       "        <td style=\"padding-left: 1em; padding-right: 1em; text-align: center; vertical-align: top\">0.0</td>\n",
       "        <td style=\"padding-left: 1em; padding-right: 1em; text-align: center; vertical-align: top\">0.0</td>\n",
       "        <td style=\"padding-left: 1em; padding-right: 1em; text-align: center; vertical-align: top\">1</td>\n",
       "    </tr>\n",
       "    <tr>\n",
       "        <td style=\"padding-left: 1em; padding-right: 1em; text-align: center; vertical-align: top\">782527</td>\n",
       "        <td style=\"padding-left: 1em; padding-right: 1em; text-align: center; vertical-align: top\">10</td>\n",
       "        <td style=\"padding-left: 1em; padding-right: 1em; text-align: center; vertical-align: top\">0.0</td>\n",
       "        <td style=\"padding-left: 1em; padding-right: 1em; text-align: center; vertical-align: top\">0.0</td>\n",
       "        <td style=\"padding-left: 1em; padding-right: 1em; text-align: center; vertical-align: top\">13</td>\n",
       "    </tr>\n",
       "    <tr>\n",
       "        <td style=\"padding-left: 1em; padding-right: 1em; text-align: center; vertical-align: top\">782863</td>\n",
       "        <td style=\"padding-left: 1em; padding-right: 1em; text-align: center; vertical-align: top\">10</td>\n",
       "        <td style=\"padding-left: 1em; padding-right: 1em; text-align: center; vertical-align: top\">0.0</td>\n",
       "        <td style=\"padding-left: 1em; padding-right: 1em; text-align: center; vertical-align: top\">0.0</td>\n",
       "        <td style=\"padding-left: 1em; padding-right: 1em; text-align: center; vertical-align: top\">2</td>\n",
       "    </tr>\n",
       "    <tr>\n",
       "        <td style=\"padding-left: 1em; padding-right: 1em; text-align: center; vertical-align: top\">782998</td>\n",
       "        <td style=\"padding-left: 1em; padding-right: 1em; text-align: center; vertical-align: top\">10</td>\n",
       "        <td style=\"padding-left: 1em; padding-right: 1em; text-align: center; vertical-align: top\">0.0</td>\n",
       "        <td style=\"padding-left: 1em; padding-right: 1em; text-align: center; vertical-align: top\">0.0</td>\n",
       "        <td style=\"padding-left: 1em; padding-right: 1em; text-align: center; vertical-align: top\">2</td>\n",
       "    </tr>\n",
       "    <tr>\n",
       "        <td style=\"padding-left: 1em; padding-right: 1em; text-align: center; vertical-align: top\">783357</td>\n",
       "        <td style=\"padding-left: 1em; padding-right: 1em; text-align: center; vertical-align: top\">10</td>\n",
       "        <td style=\"padding-left: 1em; padding-right: 1em; text-align: center; vertical-align: top\">0.0</td>\n",
       "        <td style=\"padding-left: 1em; padding-right: 1em; text-align: center; vertical-align: top\">0.0</td>\n",
       "        <td style=\"padding-left: 1em; padding-right: 1em; text-align: center; vertical-align: top\">5</td>\n",
       "    </tr>\n",
       "    <tr>\n",
       "        <td style=\"padding-left: 1em; padding-right: 1em; text-align: center; vertical-align: top\">783527</td>\n",
       "        <td style=\"padding-left: 1em; padding-right: 1em; text-align: center; vertical-align: top\">10</td>\n",
       "        <td style=\"padding-left: 1em; padding-right: 1em; text-align: center; vertical-align: top\">0.0</td>\n",
       "        <td style=\"padding-left: 1em; padding-right: 1em; text-align: center; vertical-align: top\">0.0</td>\n",
       "        <td style=\"padding-left: 1em; padding-right: 1em; text-align: center; vertical-align: top\">6</td>\n",
       "    </tr>\n",
       "    <tr>\n",
       "        <td style=\"padding-left: 1em; padding-right: 1em; text-align: center; vertical-align: top\">783708</td>\n",
       "        <td style=\"padding-left: 1em; padding-right: 1em; text-align: center; vertical-align: top\">10</td>\n",
       "        <td style=\"padding-left: 1em; padding-right: 1em; text-align: center; vertical-align: top\">0.0</td>\n",
       "        <td style=\"padding-left: 1em; padding-right: 1em; text-align: center; vertical-align: top\">0.0</td>\n",
       "        <td style=\"padding-left: 1em; padding-right: 1em; text-align: center; vertical-align: top\">3</td>\n",
       "    </tr>\n",
       "    <tr>\n",
       "        <td style=\"padding-left: 1em; padding-right: 1em; text-align: center; vertical-align: top\">783793</td>\n",
       "        <td style=\"padding-left: 1em; padding-right: 1em; text-align: center; vertical-align: top\">10</td>\n",
       "        <td style=\"padding-left: 1em; padding-right: 1em; text-align: center; vertical-align: top\">0.0</td>\n",
       "        <td style=\"padding-left: 1em; padding-right: 1em; text-align: center; vertical-align: top\">0.0</td>\n",
       "        <td style=\"padding-left: 1em; padding-right: 1em; text-align: center; vertical-align: top\">25</td>\n",
       "    </tr>\n",
       "</table>\n",
       "[10 rows x 5 columns]<br/>\n",
       "</div>"
      ],
      "text/plain": [
       "Columns:\n",
       "\tUserID\tint\n",
       "\tcutoff\tint\n",
       "\tprecision\tfloat\n",
       "\trecall\tfloat\n",
       "\tcount\tint\n",
       "\n",
       "Rows: 10\n",
       "\n",
       "Data:\n",
       "+--------+--------+-----------+--------+-------+\n",
       "| UserID | cutoff | precision | recall | count |\n",
       "+--------+--------+-----------+--------+-------+\n",
       "| 782256 |   10   |    0.0    |  0.0   |   4   |\n",
       "| 782317 |   10   |    0.0    |  0.0   |   7   |\n",
       "| 782435 |   10   |    0.0    |  0.0   |   1   |\n",
       "| 782527 |   10   |    0.0    |  0.0   |   13  |\n",
       "| 782863 |   10   |    0.0    |  0.0   |   2   |\n",
       "| 782998 |   10   |    0.0    |  0.0   |   2   |\n",
       "| 783357 |   10   |    0.0    |  0.0   |   5   |\n",
       "| 783527 |   10   |    0.0    |  0.0   |   6   |\n",
       "| 783708 |   10   |    0.0    |  0.0   |   3   |\n",
       "| 783793 |   10   |    0.0    |  0.0   |   25  |\n",
       "+--------+--------+-----------+--------+-------+\n",
       "[10 rows x 5 columns]"
      ]
     },
     "execution_count": 25,
     "metadata": {},
     "output_type": "execute_result"
    }
   ],
   "source": [
    "\n",
    "#Make Recommendations:\n",
    "ID_list=list(pd.unique(test_jobs_applied_u_CA.UserID))\n",
    "#item_sim_recomm = item_sim_model.recommend(users_CA=ID_list[0:5],k=15)\n",
    "item_sim_recomm_CA = item_sim_model_CA.recommend(items =ID_list,k=15)\n",
    "print(\"Done\")\n",
    "\n",
    "#Evaluting Results\n",
    "from graphlab.toolkits.recommender.util import precision_recall_by_user\n",
    "\n",
    "results_CA=precision_recall_by_user(test_data_CA[\"UserID\",\"JobID\"], item_sim_recomm_CA[[\"UserID\",\"JobID\"]])\n",
    "results_CA.head()"
   ]
  },
  {
   "cell_type": "code",
   "execution_count": 26,
   "metadata": {
    "collapsed": false
   },
   "outputs": [],
   "source": [
    "results_CA_df=results_CA.to_dataframe()\n",
    "results_CA_df.to_csv(\"results_CA.csv\")"
   ]
  }
 ],
 "metadata": {
  "anaconda-cloud": {},
  "kernelspec": {
   "display_name": "Python 2",
   "language": "python",
   "name": "python2"
  },
  "language_info": {
   "codemirror_mode": {
    "name": "ipython",
    "version": 2
   },
   "file_extension": ".py",
   "mimetype": "text/x-python",
   "name": "python",
   "nbconvert_exporter": "python",
   "pygments_lexer": "ipython2",
   "version": "2.7.11"
  }
 },
 "nbformat": 4,
 "nbformat_minor": 0
}
